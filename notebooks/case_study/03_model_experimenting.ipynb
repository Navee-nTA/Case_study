{
 "cells": [
  {
   "cell_type": "markdown",
   "metadata": {},
   "source": [
    "# Model Experimentation\n",
    "\n",
    "Experiment and finalize the model. It covers EDA, outlier treatment, transformation, training, model evaluation, and comparison across models."
   ]
  },
  {
   "cell_type": "markdown",
   "metadata": {},
   "source": [
    "## Imports, Configuration, and Initialization"
   ]
  },
  {
   "cell_type": "code",
   "execution_count": 10,
   "metadata": {},
   "outputs": [
    {
     "name": "stdout",
     "output_type": "stream",
     "text": [
      "The autoreload extension is already loaded. To reload it, use:\n",
      "  %reload_ext autoreload\n"
     ]
    }
   ],
   "source": [
    "%load_ext autoreload\n",
    "%autoreload 2"
   ]
  },
  {
   "cell_type": "code",
   "execution_count": 11,
   "metadata": {},
   "outputs": [],
   "source": [
    "import os\n",
    "import os.path as op\n",
    "import shutil\n",
    "import warnings\n",
    "\n",
    "import numpy as np\n",
    "import pandas as pd\n",
    "from category_encoders import TargetEncoder\n",
    "from matplotlib import pyplot as plt\n",
    "from sklearn.base import BaseEstimator, TransformerMixin\n",
    "from sklearn.compose import ColumnTransformer\n",
    "from sklearn.experimental import enable_iterative_imputer  # noqa\n",
    "from sklearn.feature_selection import SelectFromModel\n",
    "from sklearn.impute import IterativeImputer, KNNImputer, SimpleImputer\n",
    "from sklearn.linear_model import LinearRegression\n",
    "from sklearn.metrics import mean_squared_error, mean_absolute_error, r2_score\n",
    "from sklearn.model_selection import GridSearchCV\n",
    "from sklearn.pipeline import Pipeline\n",
    "from sklearn.preprocessing import (FunctionTransformer, OneHotEncoder,\n",
    "                                   StandardScaler)\n",
    "from sklearn.tree import DecisionTreeRegressor\n",
    "from sklearn.utils.estimator_checks import check_estimator\n",
    "\n",
    "import ta_lib.eda.api as eda\n",
    "import ta_lib.reports.api as reports\n",
    "\n",
    "from ta_lib.core.api import (DEFAULT_ARTIFACTS_PATH, create_context,\n",
    "                             display_as_tabs, get_dataframe,\n",
    "                             get_feature_names_from_column_transformer,\n",
    "                             get_package_path, initialize_environment,\n",
    "                             list_datasets, load_dataset, load_pipeline,\n",
    "                             save_dataset, save_pipeline, string_cleaning)\n",
    "from ta_lib.data_processing.api import Outlier\n",
    "from ta_lib.regression.api import (RegressionComparison, RegressionReport,\n",
    "                                   SKLStatsmodelOLS)\n",
    "\n",
    "from xgboost import XGBRegressor\n",
    "\n",
    "\n",
    "warnings.filterwarnings(\n",
    "    'ignore',\n",
    "    message=\"pandas.Int64Index is deprecated and will be removed from pandas \\\n",
    "in a future version. Use pandas.Index with the appropriate dtype instead.\",\n",
    "    category=FutureWarning\n",
    ")\n",
    "\n",
    "warnings.filterwarnings(\n",
    "    'ignore',\n",
    "    message=\"pandas.Float64Index is deprecated and will be removed from \\\n",
    "pandas in a future version. Use pandas.Index with the appropriate \\\n",
    "dtype instead.\",\n",
    "    category=FutureWarning\n",
    ")"
   ]
  },
  {
   "cell_type": "code",
   "execution_count": 12,
   "metadata": {},
   "outputs": [],
   "source": [
    "initialize_environment(debug=False, hide_warnings=True)"
   ]
  },
  {
   "cell_type": "markdown",
   "metadata": {},
   "source": [
    "## 0. Initialization"
   ]
  },
  {
   "cell_type": "code",
   "execution_count": 13,
   "metadata": {},
   "outputs": [
    {
     "data": {
      "text/plain": [
       "'/home/naveen/module5/case-study/src/../artifacts'"
      ]
     },
     "execution_count": 13,
     "metadata": {},
     "output_type": "execute_result"
    }
   ],
   "source": [
    "artifacts_folder = DEFAULT_ARTIFACTS_PATH\n",
    "\n",
    "artifacts_folder"
   ]
  },
  {
   "cell_type": "code",
   "execution_count": 14,
   "metadata": {},
   "outputs": [
    {
     "data": {
      "text/plain": [
       "['/raw/google_search',\n",
       " '/raw/product_manufacturer',\n",
       " '/raw/sales',\n",
       " '/raw/social_media',\n",
       " '/raw/theme',\n",
       " '/raw/theme_product',\n",
       " '/cleaned/google_search',\n",
       " '/cleaned/product_manufacturer',\n",
       " '/cleaned/sales',\n",
       " '/cleaned/social_media',\n",
       " '/cleaned/theme',\n",
       " '/cleaned/theme_product',\n",
       " '/cleaned/final_cleaned_merged_data',\n",
       " '/processed/sales',\n",
       " '/train/sales/features',\n",
       " '/train/sales/target',\n",
       " '/test/sales/features',\n",
       " '/test/sales/target',\n",
       " '/score/sales/output']"
      ]
     },
     "execution_count": 14,
     "metadata": {},
     "output_type": "execute_result"
    }
   ],
   "source": [
    "config_path = op.join('conf', 'config.yml')\n",
    "context = create_context(config_path)\n",
    "\n",
    "list_datasets(context)"
   ]
  },
  {
   "cell_type": "markdown",
   "metadata": {},
   "source": [
    "## 1. Feature Engineering"
   ]
  },
  {
   "cell_type": "markdown",
   "metadata": {},
   "source": [
    "The focus here is the `Pipeline` and not the model. Though the model would inform the pipeline that is needed to train the model, our focus is to set it up in such a way that it can be saved/loaded, tweaked for different model choices, and so on."
   ]
  },
  {
   "cell_type": "markdown",
   "metadata": {},
   "source": [
    "### 1.1 Read Train and Test Data"
   ]
  },
  {
   "cell_type": "code",
   "execution_count": 15,
   "metadata": {},
   "outputs": [
    {
     "name": "stdout",
     "output_type": "stream",
     "text": [
      "['/home/naveen/module5/case-study/src/../data/train/sales/features.parquet']\n",
      "['/home/naveen/module5/case-study/src/../data/train/sales/target.parquet']\n",
      "TRAIN: (2095, 10) (2095, 1)\n",
      "['/home/naveen/module5/case-study/src/../data/test/sales/features.parquet']\n",
      "['/home/naveen/module5/case-study/src/../data/test/sales/target.parquet']\n",
      "TEST: (524, 10) (524, 1)\n"
     ]
    }
   ],
   "source": [
    "X_train = load_dataset(context, 'train/sales/features')\n",
    "y_train = load_dataset(context, 'train/sales/target')\n",
    "print(\"TRAIN:\", X_train.shape, y_train.shape)\n",
    "\n",
    "X_test = load_dataset(context, 'test/sales/features')\n",
    "y_test = load_dataset(context, 'test/sales/target')\n",
    "print(\"TEST:\", X_test.shape, y_test.shape)"
   ]
  },
  {
   "cell_type": "code",
   "execution_count": 16,
   "metadata": {},
   "outputs": [
    {
     "data": {
      "text/plain": [
       "Index(['theme_id', 'total_post', 'search_volume', 'sales_date',\n",
       "       'sales_units_value', 'sales_lbs_value', 'theme_name', 'competitor_list',\n",
       "       'competitor_share', 'competitors_count'],\n",
       "      dtype='object')"
      ]
     },
     "execution_count": 16,
     "metadata": {},
     "output_type": "execute_result"
    }
   ],
   "source": [
    "X_train.columns"
   ]
  },
  {
   "cell_type": "code",
   "execution_count": 17,
   "metadata": {},
   "outputs": [
    {
     "data": {
      "text/plain": [
       "(Index(['total_post', 'search_volume', 'theme_name', 'competitor_share',\n",
       "        'competitors_count'],\n",
       "       dtype='object'),\n",
       " Index(['total_post', 'search_volume', 'theme_name', 'competitor_share',\n",
       "        'competitors_count'],\n",
       "       dtype='object'))"
      ]
     },
     "execution_count": 17,
     "metadata": {},
     "output_type": "execute_result"
    }
   ],
   "source": [
    "X_train_mod = X_train.copy().drop(\n",
    "    columns=[\n",
    "        \"sales_date\",\n",
    "        \"theme_id\",\n",
    "        \"competitor_list\",\n",
    "        \"sales_lbs_value\",\n",
    "        \"sales_units_value\",\n",
    "    ],\n",
    "    axis=1\n",
    ")\n",
    "X_test_mod = X_test.copy().drop(\n",
    "    columns=[\n",
    "        \"sales_date\",\n",
    "        \"theme_id\",\n",
    "        \"competitor_list\",\n",
    "        \"sales_lbs_value\",\n",
    "        \"sales_units_value\",\n",
    "    ],\n",
    "    axis=1\n",
    ")\n",
    "\n",
    "X_train_mod.columns, X_test_mod.columns"
   ]
  },
  {
   "cell_type": "code",
   "execution_count": 18,
   "metadata": {},
   "outputs": [
    {
     "data": {
      "text/html": [
       "<div>\n",
       "<style scoped>\n",
       "    .dataframe tbody tr th:only-of-type {\n",
       "        vertical-align: middle;\n",
       "    }\n",
       "\n",
       "    .dataframe tbody tr th {\n",
       "        vertical-align: top;\n",
       "    }\n",
       "\n",
       "    .dataframe thead th {\n",
       "        text-align: right;\n",
       "    }\n",
       "</style>\n",
       "<table border=\"1\" class=\"dataframe\">\n",
       "  <thead>\n",
       "    <tr style=\"text-align: right;\">\n",
       "      <th></th>\n",
       "      <th>total_post</th>\n",
       "      <th>search_volume</th>\n",
       "      <th>competitor_share</th>\n",
       "      <th>competitors_count</th>\n",
       "    </tr>\n",
       "  </thead>\n",
       "  <tbody>\n",
       "    <tr>\n",
       "      <th>count</th>\n",
       "      <td>2095.000000</td>\n",
       "      <td>2095.000000</td>\n",
       "      <td>2095.000000</td>\n",
       "      <td>2095.000000</td>\n",
       "    </tr>\n",
       "    <tr>\n",
       "      <th>mean</th>\n",
       "      <td>713.903580</td>\n",
       "      <td>25657.512172</td>\n",
       "      <td>0.170991</td>\n",
       "      <td>1.622912</td>\n",
       "    </tr>\n",
       "    <tr>\n",
       "      <th>std</th>\n",
       "      <td>1143.347441</td>\n",
       "      <td>33909.530563</td>\n",
       "      <td>0.193288</td>\n",
       "      <td>1.306091</td>\n",
       "    </tr>\n",
       "    <tr>\n",
       "      <th>min</th>\n",
       "      <td>0.000000</td>\n",
       "      <td>2.000000</td>\n",
       "      <td>0.000000</td>\n",
       "      <td>0.000000</td>\n",
       "    </tr>\n",
       "    <tr>\n",
       "      <th>25%</th>\n",
       "      <td>87.000000</td>\n",
       "      <td>4036.000000</td>\n",
       "      <td>0.063550</td>\n",
       "      <td>1.000000</td>\n",
       "    </tr>\n",
       "    <tr>\n",
       "      <th>50%</th>\n",
       "      <td>311.000000</td>\n",
       "      <td>11661.000000</td>\n",
       "      <td>0.112253</td>\n",
       "      <td>1.000000</td>\n",
       "    </tr>\n",
       "    <tr>\n",
       "      <th>75%</th>\n",
       "      <td>781.500000</td>\n",
       "      <td>38391.500000</td>\n",
       "      <td>0.206332</td>\n",
       "      <td>2.000000</td>\n",
       "    </tr>\n",
       "    <tr>\n",
       "      <th>max</th>\n",
       "      <td>14129.000000</td>\n",
       "      <td>526199.000000</td>\n",
       "      <td>0.941436</td>\n",
       "      <td>4.000000</td>\n",
       "    </tr>\n",
       "  </tbody>\n",
       "</table>\n",
       "</div>"
      ],
      "text/plain": [
       "         total_post  search_volume  competitor_share  competitors_count\n",
       "count   2095.000000    2095.000000       2095.000000        2095.000000\n",
       "mean     713.903580   25657.512172          0.170991           1.622912\n",
       "std     1143.347441   33909.530563          0.193288           1.306091\n",
       "min        0.000000       2.000000          0.000000           0.000000\n",
       "25%       87.000000    4036.000000          0.063550           1.000000\n",
       "50%      311.000000   11661.000000          0.112253           1.000000\n",
       "75%      781.500000   38391.500000          0.206332           2.000000\n",
       "max    14129.000000  526199.000000          0.941436           4.000000"
      ]
     },
     "execution_count": 18,
     "metadata": {},
     "output_type": "execute_result"
    }
   ],
   "source": [
    "X_train_mod.describe()"
   ]
  },
  {
   "cell_type": "markdown",
   "metadata": {},
   "source": [
    "### 1.2 Feature Engineering Pipelines"
   ]
  },
  {
   "cell_type": "markdown",
   "metadata": {},
   "source": [
    "General Steps in the Feature Transformation are as follows:\n",
    "- Outlier Treatment\n",
    "- Encoding of Categorical Columns\n",
    "- Missing Values Imputation\n",
    "- Any other engineering steps come here\n",
    "\n",
    "For Feature Engineering and Model Building `sklearn.pipeline.Pipeline` is leveraged."
   ]
  },
  {
   "cell_type": "code",
   "execution_count": 19,
   "metadata": {},
   "outputs": [
    {
     "data": {
      "text/plain": [
       "(Index(['theme_name'], dtype='object'),\n",
       " Index(['total_post', 'search_volume', 'competitor_share', 'competitors_count'], dtype='object'))"
      ]
     },
     "execution_count": 19,
     "metadata": {},
     "output_type": "execute_result"
    }
   ],
   "source": [
    "# Collecting different types of columns for transformations\n",
    "cat_columns = X_train_mod.select_dtypes('object').columns\n",
    "num_columns = X_train_mod.select_dtypes('number').columns\n",
    "\n",
    "cat_columns, num_columns"
   ]
  },
  {
   "cell_type": "markdown",
   "metadata": {},
   "source": [
    "#### 1.2.1 Outlier Handling\n",
    "- A `CustomTransformer` is used to handle outliers. It is not included as part of the pipeline as outliers handling are optional for test data\n",
    "- An option to either **drop** or **cap** the outliers can be passed during the transform call\n",
    "- If we want to treat outliers for some columns, then we can pass the columns as argument to the Transformer\n",
    "\n",
    "**NOTE:** This will go into production code."
   ]
  },
  {
   "cell_type": "code",
   "execution_count": 20,
   "metadata": {},
   "outputs": [
    {
     "data": {
      "text/plain": [
       "<tigerml.core.preprocessing.outliers.Outlier at 0x7f51196a51b0>"
      ]
     },
     "execution_count": 20,
     "metadata": {},
     "output_type": "execute_result"
    }
   ],
   "source": [
    "outlier_transformer = Outlier(method='mean')\n",
    "\n",
    "outlier_transformer"
   ]
  },
  {
   "cell_type": "code",
   "execution_count": 21,
   "metadata": {},
   "outputs": [
    {
     "name": "stdout",
     "output_type": "stream",
     "text": [
      "Earlier Shape: (2095, 5)\n",
      "Shape After Transformation: (2095, 5)\n"
     ]
    }
   ],
   "source": [
    "print(\"Earlier Shape:\", X_train_mod.shape)\n",
    "X_train_mod = outlier_transformer.fit_transform(X_train_mod)\n",
    "print(\"Shape After Transformation:\", X_train_mod.shape)"
   ]
  },
  {
   "cell_type": "code",
   "execution_count": 22,
   "metadata": {},
   "outputs": [
    {
     "data": {
      "text/plain": [
       "array([1., 2., 3., 4., 0.])"
      ]
     },
     "execution_count": 22,
     "metadata": {},
     "output_type": "execute_result"
    }
   ],
   "source": [
    "X_train_mod.competitors_count.unique()"
   ]
  },
  {
   "cell_type": "markdown",
   "metadata": {},
   "source": [
    "#### 1.2.2 Encoding\n",
    "\n",
    "- Commonly *target encoding* is done for categorical variables with *too many levels*.\n",
    "- For *fewer levels* *one hot encoding/label encoding* is preferred.\n",
    "- If there is *one dominant level*, we can use *binary encoding*.\n",
    "\n",
    "**NOTE:** This will go into production code"
   ]
  },
  {
   "cell_type": "code",
   "execution_count": 23,
   "metadata": {},
   "outputs": [],
   "source": [
    "# categorical_transformer = ColumnTransformer([\n",
    "#     # Categorical transformer\n",
    "#     (\"cat_enc\", OneHotEncoder(), cat_columns),\n",
    "\n",
    "#     # Numerical Transformer\n",
    "#     (\"med_enc\", SimpleImputer(strategy=\"median\"), num_columns),\n",
    "# ])\n",
    "\n",
    "# categorical_transformer"
   ]
  },
  {
   "cell_type": "code",
   "execution_count": 24,
   "metadata": {},
   "outputs": [],
   "source": [
    "# sample_X = X_train.sample(frac=0.1, random_state=context.random_seed)\n",
    "# sample_y = y_train.loc[sample_X.index]\n",
    "\n",
    "# sample_X.sample(3, random_state=10)"
   ]
  },
  {
   "cell_type": "code",
   "execution_count": 25,
   "metadata": {},
   "outputs": [],
   "source": [
    "# sample_X_train = get_dataframe(\n",
    "#     categorical_transformer.fit_transform(sample_X, sample_y), \n",
    "#     get_feature_names_from_column_transformer(categorical_transformer)\n",
    "# )\n",
    "\n",
    "# sample_X_train.sample(3, random_state=10)"
   ]
  },
  {
   "cell_type": "markdown",
   "metadata": {},
   "source": [
    "#### 1.2.3 Other Feature Transformations\n",
    "\n",
    "- Make the custom transformer to add the three extra columns we had created earlier\n",
    "- use standard scalar for the numerical attributes"
   ]
  },
  {
   "cell_type": "code",
   "execution_count": 26,
   "metadata": {},
   "outputs": [
    {
     "data": {
      "text/html": [
       "<style>#sk-container-id-1 {color: black;background-color: white;}#sk-container-id-1 pre{padding: 0;}#sk-container-id-1 div.sk-toggleable {background-color: white;}#sk-container-id-1 label.sk-toggleable__label {cursor: pointer;display: block;width: 100%;margin-bottom: 0;padding: 0.3em;box-sizing: border-box;text-align: center;}#sk-container-id-1 label.sk-toggleable__label-arrow:before {content: \"▸\";float: left;margin-right: 0.25em;color: #696969;}#sk-container-id-1 label.sk-toggleable__label-arrow:hover:before {color: black;}#sk-container-id-1 div.sk-estimator:hover label.sk-toggleable__label-arrow:before {color: black;}#sk-container-id-1 div.sk-toggleable__content {max-height: 0;max-width: 0;overflow: hidden;text-align: left;background-color: #f0f8ff;}#sk-container-id-1 div.sk-toggleable__content pre {margin: 0.2em;color: black;border-radius: 0.25em;background-color: #f0f8ff;}#sk-container-id-1 input.sk-toggleable__control:checked~div.sk-toggleable__content {max-height: 200px;max-width: 100%;overflow: auto;}#sk-container-id-1 input.sk-toggleable__control:checked~label.sk-toggleable__label-arrow:before {content: \"▾\";}#sk-container-id-1 div.sk-estimator input.sk-toggleable__control:checked~label.sk-toggleable__label {background-color: #d4ebff;}#sk-container-id-1 div.sk-label input.sk-toggleable__control:checked~label.sk-toggleable__label {background-color: #d4ebff;}#sk-container-id-1 input.sk-hidden--visually {border: 0;clip: rect(1px 1px 1px 1px);clip: rect(1px, 1px, 1px, 1px);height: 1px;margin: -1px;overflow: hidden;padding: 0;position: absolute;width: 1px;}#sk-container-id-1 div.sk-estimator {font-family: monospace;background-color: #f0f8ff;border: 1px dotted black;border-radius: 0.25em;box-sizing: border-box;margin-bottom: 0.5em;}#sk-container-id-1 div.sk-estimator:hover {background-color: #d4ebff;}#sk-container-id-1 div.sk-parallel-item::after {content: \"\";width: 100%;border-bottom: 1px solid gray;flex-grow: 1;}#sk-container-id-1 div.sk-label:hover label.sk-toggleable__label {background-color: #d4ebff;}#sk-container-id-1 div.sk-serial::before {content: \"\";position: absolute;border-left: 1px solid gray;box-sizing: border-box;top: 0;bottom: 0;left: 50%;z-index: 0;}#sk-container-id-1 div.sk-serial {display: flex;flex-direction: column;align-items: center;background-color: white;padding-right: 0.2em;padding-left: 0.2em;position: relative;}#sk-container-id-1 div.sk-item {position: relative;z-index: 1;}#sk-container-id-1 div.sk-parallel {display: flex;align-items: stretch;justify-content: center;background-color: white;position: relative;}#sk-container-id-1 div.sk-item::before, #sk-container-id-1 div.sk-parallel-item::before {content: \"\";position: absolute;border-left: 1px solid gray;box-sizing: border-box;top: 0;bottom: 0;left: 50%;z-index: -1;}#sk-container-id-1 div.sk-parallel-item {display: flex;flex-direction: column;z-index: 1;position: relative;background-color: white;}#sk-container-id-1 div.sk-parallel-item:first-child::after {align-self: flex-end;width: 50%;}#sk-container-id-1 div.sk-parallel-item:last-child::after {align-self: flex-start;width: 50%;}#sk-container-id-1 div.sk-parallel-item:only-child::after {width: 0;}#sk-container-id-1 div.sk-dashed-wrapped {border: 1px dashed gray;margin: 0 0.4em 0.5em 0.4em;box-sizing: border-box;padding-bottom: 0.4em;background-color: white;}#sk-container-id-1 div.sk-label label {font-family: monospace;font-weight: bold;display: inline-block;line-height: 1.2em;}#sk-container-id-1 div.sk-label-container {text-align: center;}#sk-container-id-1 div.sk-container {/* jupyter's `normalize.less` sets `[hidden] { display: none; }` but bootstrap.min.css set `[hidden] { display: none !important; }` so we also need the `!important` here to be able to override the default hidden behavior on the sphinx rendered scikit-learn.org. See: https://github.com/scikit-learn/scikit-learn/issues/21755 */display: inline-block !important;position: relative;}#sk-container-id-1 div.sk-text-repr-fallback {display: none;}</style><div id=\"sk-container-id-1\" class=\"sk-top-container\"><div class=\"sk-text-repr-fallback\"><pre>Pipeline(steps=[(&#x27;med_imputer&#x27;, SimpleImputer(strategy=&#x27;median&#x27;)),\n",
       "                (&#x27;std_scaler&#x27;, StandardScaler())])</pre><b>In a Jupyter environment, please rerun this cell to show the HTML representation or trust the notebook. <br />On GitHub, the HTML representation is unable to render, please try loading this page with nbviewer.org.</b></div><div class=\"sk-container\" hidden><div class=\"sk-item sk-dashed-wrapped\"><div class=\"sk-label-container\"><div class=\"sk-label sk-toggleable\"><input class=\"sk-toggleable__control sk-hidden--visually\" id=\"sk-estimator-id-1\" type=\"checkbox\" ><label for=\"sk-estimator-id-1\" class=\"sk-toggleable__label sk-toggleable__label-arrow\">Pipeline</label><div class=\"sk-toggleable__content\"><pre>Pipeline(steps=[(&#x27;med_imputer&#x27;, SimpleImputer(strategy=&#x27;median&#x27;)),\n",
       "                (&#x27;std_scaler&#x27;, StandardScaler())])</pre></div></div></div><div class=\"sk-serial\"><div class=\"sk-item\"><div class=\"sk-estimator sk-toggleable\"><input class=\"sk-toggleable__control sk-hidden--visually\" id=\"sk-estimator-id-2\" type=\"checkbox\" ><label for=\"sk-estimator-id-2\" class=\"sk-toggleable__label sk-toggleable__label-arrow\">SimpleImputer</label><div class=\"sk-toggleable__content\"><pre>SimpleImputer(strategy=&#x27;median&#x27;)</pre></div></div></div><div class=\"sk-item\"><div class=\"sk-estimator sk-toggleable\"><input class=\"sk-toggleable__control sk-hidden--visually\" id=\"sk-estimator-id-3\" type=\"checkbox\" ><label for=\"sk-estimator-id-3\" class=\"sk-toggleable__label sk-toggleable__label-arrow\">StandardScaler</label><div class=\"sk-toggleable__content\"><pre>StandardScaler()</pre></div></div></div></div></div></div></div>"
      ],
      "text/plain": [
       "Pipeline(steps=[('med_imputer', SimpleImputer(strategy='median')),\n",
       "                ('std_scaler', StandardScaler())])"
      ]
     },
     "execution_count": 26,
     "metadata": {},
     "output_type": "execute_result"
    }
   ],
   "source": [
    "num_pipeline= Pipeline([\n",
    "    ('med_imputer', SimpleImputer(strategy=\"median\")),\n",
    "    ('std_scaler', StandardScaler()),\n",
    "])\n",
    "\n",
    "num_pipeline"
   ]
  },
  {
   "cell_type": "code",
   "execution_count": 27,
   "metadata": {},
   "outputs": [
    {
     "data": {
      "text/html": [
       "<style>#sk-container-id-2 {color: black;background-color: white;}#sk-container-id-2 pre{padding: 0;}#sk-container-id-2 div.sk-toggleable {background-color: white;}#sk-container-id-2 label.sk-toggleable__label {cursor: pointer;display: block;width: 100%;margin-bottom: 0;padding: 0.3em;box-sizing: border-box;text-align: center;}#sk-container-id-2 label.sk-toggleable__label-arrow:before {content: \"▸\";float: left;margin-right: 0.25em;color: #696969;}#sk-container-id-2 label.sk-toggleable__label-arrow:hover:before {color: black;}#sk-container-id-2 div.sk-estimator:hover label.sk-toggleable__label-arrow:before {color: black;}#sk-container-id-2 div.sk-toggleable__content {max-height: 0;max-width: 0;overflow: hidden;text-align: left;background-color: #f0f8ff;}#sk-container-id-2 div.sk-toggleable__content pre {margin: 0.2em;color: black;border-radius: 0.25em;background-color: #f0f8ff;}#sk-container-id-2 input.sk-toggleable__control:checked~div.sk-toggleable__content {max-height: 200px;max-width: 100%;overflow: auto;}#sk-container-id-2 input.sk-toggleable__control:checked~label.sk-toggleable__label-arrow:before {content: \"▾\";}#sk-container-id-2 div.sk-estimator input.sk-toggleable__control:checked~label.sk-toggleable__label {background-color: #d4ebff;}#sk-container-id-2 div.sk-label input.sk-toggleable__control:checked~label.sk-toggleable__label {background-color: #d4ebff;}#sk-container-id-2 input.sk-hidden--visually {border: 0;clip: rect(1px 1px 1px 1px);clip: rect(1px, 1px, 1px, 1px);height: 1px;margin: -1px;overflow: hidden;padding: 0;position: absolute;width: 1px;}#sk-container-id-2 div.sk-estimator {font-family: monospace;background-color: #f0f8ff;border: 1px dotted black;border-radius: 0.25em;box-sizing: border-box;margin-bottom: 0.5em;}#sk-container-id-2 div.sk-estimator:hover {background-color: #d4ebff;}#sk-container-id-2 div.sk-parallel-item::after {content: \"\";width: 100%;border-bottom: 1px solid gray;flex-grow: 1;}#sk-container-id-2 div.sk-label:hover label.sk-toggleable__label {background-color: #d4ebff;}#sk-container-id-2 div.sk-serial::before {content: \"\";position: absolute;border-left: 1px solid gray;box-sizing: border-box;top: 0;bottom: 0;left: 50%;z-index: 0;}#sk-container-id-2 div.sk-serial {display: flex;flex-direction: column;align-items: center;background-color: white;padding-right: 0.2em;padding-left: 0.2em;position: relative;}#sk-container-id-2 div.sk-item {position: relative;z-index: 1;}#sk-container-id-2 div.sk-parallel {display: flex;align-items: stretch;justify-content: center;background-color: white;position: relative;}#sk-container-id-2 div.sk-item::before, #sk-container-id-2 div.sk-parallel-item::before {content: \"\";position: absolute;border-left: 1px solid gray;box-sizing: border-box;top: 0;bottom: 0;left: 50%;z-index: -1;}#sk-container-id-2 div.sk-parallel-item {display: flex;flex-direction: column;z-index: 1;position: relative;background-color: white;}#sk-container-id-2 div.sk-parallel-item:first-child::after {align-self: flex-end;width: 50%;}#sk-container-id-2 div.sk-parallel-item:last-child::after {align-self: flex-start;width: 50%;}#sk-container-id-2 div.sk-parallel-item:only-child::after {width: 0;}#sk-container-id-2 div.sk-dashed-wrapped {border: 1px dashed gray;margin: 0 0.4em 0.5em 0.4em;box-sizing: border-box;padding-bottom: 0.4em;background-color: white;}#sk-container-id-2 div.sk-label label {font-family: monospace;font-weight: bold;display: inline-block;line-height: 1.2em;}#sk-container-id-2 div.sk-label-container {text-align: center;}#sk-container-id-2 div.sk-container {/* jupyter's `normalize.less` sets `[hidden] { display: none; }` but bootstrap.min.css set `[hidden] { display: none !important; }` so we also need the `!important` here to be able to override the default hidden behavior on the sphinx rendered scikit-learn.org. See: https://github.com/scikit-learn/scikit-learn/issues/21755 */display: inline-block !important;position: relative;}#sk-container-id-2 div.sk-text-repr-fallback {display: none;}</style><div id=\"sk-container-id-2\" class=\"sk-top-container\"><div class=\"sk-text-repr-fallback\"><pre>ColumnTransformer(transformers=[(&#x27;cat&#x27;, OneHotEncoder(),\n",
       "                                 Index([&#x27;theme_name&#x27;], dtype=&#x27;object&#x27;)),\n",
       "                                (&#x27;num&#x27;,\n",
       "                                 Pipeline(steps=[(&#x27;med_imputer&#x27;,\n",
       "                                                  SimpleImputer(strategy=&#x27;median&#x27;)),\n",
       "                                                 (&#x27;std_scaler&#x27;,\n",
       "                                                  StandardScaler())]),\n",
       "                                 Index([&#x27;total_post&#x27;, &#x27;search_volume&#x27;, &#x27;competitor_share&#x27;, &#x27;competitors_count&#x27;], dtype=&#x27;object&#x27;))],\n",
       "                  verbose_feature_names_out=False)</pre><b>In a Jupyter environment, please rerun this cell to show the HTML representation or trust the notebook. <br />On GitHub, the HTML representation is unable to render, please try loading this page with nbviewer.org.</b></div><div class=\"sk-container\" hidden><div class=\"sk-item sk-dashed-wrapped\"><div class=\"sk-label-container\"><div class=\"sk-label sk-toggleable\"><input class=\"sk-toggleable__control sk-hidden--visually\" id=\"sk-estimator-id-4\" type=\"checkbox\" ><label for=\"sk-estimator-id-4\" class=\"sk-toggleable__label sk-toggleable__label-arrow\">ColumnTransformer</label><div class=\"sk-toggleable__content\"><pre>ColumnTransformer(transformers=[(&#x27;cat&#x27;, OneHotEncoder(),\n",
       "                                 Index([&#x27;theme_name&#x27;], dtype=&#x27;object&#x27;)),\n",
       "                                (&#x27;num&#x27;,\n",
       "                                 Pipeline(steps=[(&#x27;med_imputer&#x27;,\n",
       "                                                  SimpleImputer(strategy=&#x27;median&#x27;)),\n",
       "                                                 (&#x27;std_scaler&#x27;,\n",
       "                                                  StandardScaler())]),\n",
       "                                 Index([&#x27;total_post&#x27;, &#x27;search_volume&#x27;, &#x27;competitor_share&#x27;, &#x27;competitors_count&#x27;], dtype=&#x27;object&#x27;))],\n",
       "                  verbose_feature_names_out=False)</pre></div></div></div><div class=\"sk-parallel\"><div class=\"sk-parallel-item\"><div class=\"sk-item\"><div class=\"sk-label-container\"><div class=\"sk-label sk-toggleable\"><input class=\"sk-toggleable__control sk-hidden--visually\" id=\"sk-estimator-id-5\" type=\"checkbox\" ><label for=\"sk-estimator-id-5\" class=\"sk-toggleable__label sk-toggleable__label-arrow\">cat</label><div class=\"sk-toggleable__content\"><pre>Index([&#x27;theme_name&#x27;], dtype=&#x27;object&#x27;)</pre></div></div></div><div class=\"sk-serial\"><div class=\"sk-item\"><div class=\"sk-estimator sk-toggleable\"><input class=\"sk-toggleable__control sk-hidden--visually\" id=\"sk-estimator-id-6\" type=\"checkbox\" ><label for=\"sk-estimator-id-6\" class=\"sk-toggleable__label sk-toggleable__label-arrow\">OneHotEncoder</label><div class=\"sk-toggleable__content\"><pre>OneHotEncoder()</pre></div></div></div></div></div></div><div class=\"sk-parallel-item\"><div class=\"sk-item\"><div class=\"sk-label-container\"><div class=\"sk-label sk-toggleable\"><input class=\"sk-toggleable__control sk-hidden--visually\" id=\"sk-estimator-id-7\" type=\"checkbox\" ><label for=\"sk-estimator-id-7\" class=\"sk-toggleable__label sk-toggleable__label-arrow\">num</label><div class=\"sk-toggleable__content\"><pre>Index([&#x27;total_post&#x27;, &#x27;search_volume&#x27;, &#x27;competitor_share&#x27;, &#x27;competitors_count&#x27;], dtype=&#x27;object&#x27;)</pre></div></div></div><div class=\"sk-serial\"><div class=\"sk-item\"><div class=\"sk-serial\"><div class=\"sk-item\"><div class=\"sk-estimator sk-toggleable\"><input class=\"sk-toggleable__control sk-hidden--visually\" id=\"sk-estimator-id-8\" type=\"checkbox\" ><label for=\"sk-estimator-id-8\" class=\"sk-toggleable__label sk-toggleable__label-arrow\">SimpleImputer</label><div class=\"sk-toggleable__content\"><pre>SimpleImputer(strategy=&#x27;median&#x27;)</pre></div></div></div><div class=\"sk-item\"><div class=\"sk-estimator sk-toggleable\"><input class=\"sk-toggleable__control sk-hidden--visually\" id=\"sk-estimator-id-9\" type=\"checkbox\" ><label for=\"sk-estimator-id-9\" class=\"sk-toggleable__label sk-toggleable__label-arrow\">StandardScaler</label><div class=\"sk-toggleable__content\"><pre>StandardScaler()</pre></div></div></div></div></div></div></div></div></div></div></div></div>"
      ],
      "text/plain": [
       "ColumnTransformer(transformers=[('cat', OneHotEncoder(),\n",
       "                                 Index(['theme_name'], dtype='object')),\n",
       "                                ('num',\n",
       "                                 Pipeline(steps=[('med_imputer',\n",
       "                                                  SimpleImputer(strategy='median')),\n",
       "                                                 ('std_scaler',\n",
       "                                                  StandardScaler())]),\n",
       "                                 Index(['total_post', 'search_volume', 'competitor_share', 'competitors_count'], dtype='object'))],\n",
       "                  verbose_feature_names_out=False)"
      ]
     },
     "execution_count": 27,
     "metadata": {},
     "output_type": "execute_result"
    }
   ],
   "source": [
    "full_transformer = ColumnTransformer([\n",
    "    (\"cat\", OneHotEncoder(), cat_columns),\n",
    "    (\"num\", num_pipeline, num_columns),\n",
    "], verbose_feature_names_out=False)\n",
    "\n",
    "full_transformer"
   ]
  },
  {
   "cell_type": "code",
   "execution_count": 28,
   "metadata": {},
   "outputs": [],
   "source": [
    "sample_X = X_train_mod.sample(frac=0.1, random_state=context.random_seed)\n",
    "sample_y = y_train.loc[sample_X.index]"
   ]
  },
  {
   "cell_type": "code",
   "execution_count": 29,
   "metadata": {},
   "outputs": [],
   "source": [
    "def remove_the_prefix_from_columns(\n",
    "    original_columns_list: list,\n",
    "    prefixed_columns_list: list\n",
    ") -> list:\n",
    "    \"\"\"\n",
    "    Return the list of columm names with the transformer prefix removed\n",
    "    \"\"\"\n",
    "\n",
    "    for i, col_name in enumerate(original_columns_list):\n",
    "        prefixed_columns_list[i] = prefixed_columns_list[i][- len(col_name): ]\n",
    "\n",
    "    return prefixed_columns_list"
   ]
  },
  {
   "cell_type": "code",
   "execution_count": 30,
   "metadata": {},
   "outputs": [],
   "source": [
    "def cust_get_feature_names_from_column_transformer(\n",
    "    column_transformer: ColumnTransformer,\n",
    "    verbose_feature_names_out: bool = True,\n",
    ") -> list:\n",
    "    col_trans = column_transformer\n",
    "    col_names = []\n",
    "\n",
    "    for transformer_in_columns in col_trans.transformers_:\n",
    "        # print(\"Current Column Transformer\", transformer_in_columns)\n",
    "        raw_col_names = list(transformer_in_columns[2])\n",
    "        # print(\"The current cols to be processed:\", raw_col_names)\n",
    "\n",
    "        if isinstance(transformer_in_columns[1], Pipeline):\n",
    "            # print(\"THIS IS A PIPELINE\")\n",
    "            cols = None\n",
    "            pipeline = transformer_in_columns[1]\n",
    "            for i, step in enumerate(pipeline.steps):\n",
    "                transformer = step[1]\n",
    "                # print(\"Current Transformer:\", transformer)\n",
    "\n",
    "                # To initialize the `cols` variable here\n",
    "                if i == 0:\n",
    "                    # print(\"This is 1st transformer in the pipeline!\")\n",
    "                    og_cols = transformer.feature_names_in_\n",
    "                    if hasattr(transformer, \"get_feature_names_out\"):\n",
    "                        cols = list(transformer.get_feature_names_out())\n",
    "                        # print(\"names_out - cols:\", cols)\n",
    "                    elif hasattr(transformer, \"get_feature_names\"):\n",
    "                        cols = list(transformer.get_feature_names())\n",
    "                        # print(\"names - cols:\", cols)\n",
    "                    else:\n",
    "                        cols = raw_col_names\n",
    "                        # print(\"nothing - cols:\", cols)\n",
    "                    \n",
    "                    cols = remove_the_prefix_from_columns(og_cols, cols)\n",
    "                    # print(\"After removing prefixes:\", cols)\n",
    "\n",
    "                    continue\n",
    "\n",
    "                if i == (len(pipeline.steps) - 1):\n",
    "                    pass\n",
    "                    # print(\"This is the last transformer in the pipeline!\")\n",
    "                og_cols = cols\n",
    "                if hasattr(transformer, \"get_feature_names_out\"):\n",
    "                    cols = list(transformer.get_feature_names_out(cols))\n",
    "                    # print(\"names_out - cols:\", cols)\n",
    "                elif hasattr(transformer, \"get_feature_names\"):\n",
    "                    cols = list(transformer.get_feature_names(cols))\n",
    "                    # print(\"names - cols:\", cols)\n",
    "                \n",
    "                cols = remove_the_prefix_from_columns(og_cols, cols)\n",
    "                # print(\"After removing prefixes:\", cols)\n",
    "        else:\n",
    "            transformer = transformer_in_columns[1]\n",
    "            # print(\"This is NOT a Pipeline\")\n",
    "            # print(\"Current Transformer:\", transformer)\n",
    "\n",
    "            if isinstance(\n",
    "                transformer, str\n",
    "            ):  # the last transformer is ColumnTransformer's 'remainder'\n",
    "                if transformer == \"passthrough\":\n",
    "                    cols = col_trans.feature_names_in_[raw_col_names].tolist()\n",
    "                    # print(\"passthrough - cols:\", cols)\n",
    "                elif transformer == \"drop\":\n",
    "                    cols = []\n",
    "                    # print(\"drop - cols:\", cols)\n",
    "                else:\n",
    "                    raise RuntimeError(\n",
    "                        f\"Unexpected transformer action for unaccounted cols :\"\n",
    "                        f\"{transformer} : {raw_col_names}\"\n",
    "                    )\n",
    "\n",
    "            elif hasattr(transformer, \"get_feature_names_out\"):\n",
    "                cols = list(transformer.get_feature_names_out())\n",
    "                # print(\"names_out - cols:\", cols)\n",
    "            elif hasattr(transformer, \"get_feature_names\"):\n",
    "                cols = list(transformer.get_feature_names())\n",
    "                # print(\"names - cols:\", cols)\n",
    "            else:\n",
    "                cols = raw_col_names\n",
    "                # print(\"nothing - cols:\", cols)\n",
    "\n",
    "\n",
    "        if verbose_feature_names_out:\n",
    "            # print(\"verbose_feature_names_out: True\")\n",
    "            # print(\"Earlier names:\", cols)\n",
    "            cols = [f\"{transformer_in_columns[0]}_{col_}\" for col_ in cols]\n",
    "            # print(\"Final names:\", cols)\n",
    "\n",
    "        # print(\"Add the names to the list.\")\n",
    "        col_names.extend(cols)\n",
    "        # print(\"Current Cols List\", col_names)\n",
    "\n",
    "    # print(\"THIS IS DONE!\")\n",
    "\n",
    "    return col_names"
   ]
  },
  {
   "cell_type": "code",
   "execution_count": 31,
   "metadata": {},
   "outputs": [
    {
     "name": "stdout",
     "output_type": "stream",
     "text": [
      "(210, 21)\n"
     ]
    },
    {
     "data": {
      "text/html": [
       "<div>\n",
       "<style scoped>\n",
       "    .dataframe tbody tr th:only-of-type {\n",
       "        vertical-align: middle;\n",
       "    }\n",
       "\n",
       "    .dataframe tbody tr th {\n",
       "        vertical-align: top;\n",
       "    }\n",
       "\n",
       "    .dataframe thead th {\n",
       "        text-align: right;\n",
       "    }\n",
       "</style>\n",
       "<table border=\"1\" class=\"dataframe\">\n",
       "  <thead>\n",
       "    <tr style=\"text-align: right;\">\n",
       "      <th></th>\n",
       "      <th>24</th>\n",
       "      <th>91</th>\n",
       "      <th>98</th>\n",
       "    </tr>\n",
       "  </thead>\n",
       "  <tbody>\n",
       "    <tr>\n",
       "      <th>theme_name_beef_hamburger</th>\n",
       "      <td>0.000000</td>\n",
       "      <td>0.000000</td>\n",
       "      <td>0.000000</td>\n",
       "    </tr>\n",
       "    <tr>\n",
       "      <th>theme_name_blueberry</th>\n",
       "      <td>0.000000</td>\n",
       "      <td>0.000000</td>\n",
       "      <td>0.000000</td>\n",
       "    </tr>\n",
       "    <tr>\n",
       "      <th>theme_name_chicken</th>\n",
       "      <td>0.000000</td>\n",
       "      <td>0.000000</td>\n",
       "      <td>0.000000</td>\n",
       "    </tr>\n",
       "    <tr>\n",
       "      <th>theme_name_crab</th>\n",
       "      <td>0.000000</td>\n",
       "      <td>0.000000</td>\n",
       "      <td>0.000000</td>\n",
       "    </tr>\n",
       "    <tr>\n",
       "      <th>theme_name_ethical_packaging</th>\n",
       "      <td>0.000000</td>\n",
       "      <td>0.000000</td>\n",
       "      <td>0.000000</td>\n",
       "    </tr>\n",
       "    <tr>\n",
       "      <th>theme_name_ethnic_exotic</th>\n",
       "      <td>0.000000</td>\n",
       "      <td>0.000000</td>\n",
       "      <td>0.000000</td>\n",
       "    </tr>\n",
       "    <tr>\n",
       "      <th>theme_name_french_bisque</th>\n",
       "      <td>0.000000</td>\n",
       "      <td>1.000000</td>\n",
       "      <td>0.000000</td>\n",
       "    </tr>\n",
       "    <tr>\n",
       "      <th>theme_name_gmo_free</th>\n",
       "      <td>0.000000</td>\n",
       "      <td>0.000000</td>\n",
       "      <td>0.000000</td>\n",
       "    </tr>\n",
       "    <tr>\n",
       "      <th>theme_name_high_source_of_protein</th>\n",
       "      <td>0.000000</td>\n",
       "      <td>0.000000</td>\n",
       "      <td>0.000000</td>\n",
       "    </tr>\n",
       "    <tr>\n",
       "      <th>theme_name_low_carb</th>\n",
       "      <td>0.000000</td>\n",
       "      <td>0.000000</td>\n",
       "      <td>0.000000</td>\n",
       "    </tr>\n",
       "    <tr>\n",
       "      <th>theme_name_low_sodium</th>\n",
       "      <td>0.000000</td>\n",
       "      <td>0.000000</td>\n",
       "      <td>1.000000</td>\n",
       "    </tr>\n",
       "    <tr>\n",
       "      <th>theme_name_low_sugar</th>\n",
       "      <td>0.000000</td>\n",
       "      <td>0.000000</td>\n",
       "      <td>0.000000</td>\n",
       "    </tr>\n",
       "    <tr>\n",
       "      <th>theme_name_no_additives_preservatives</th>\n",
       "      <td>0.000000</td>\n",
       "      <td>0.000000</td>\n",
       "      <td>0.000000</td>\n",
       "    </tr>\n",
       "    <tr>\n",
       "      <th>theme_name_poultry</th>\n",
       "      <td>0.000000</td>\n",
       "      <td>0.000000</td>\n",
       "      <td>0.000000</td>\n",
       "    </tr>\n",
       "    <tr>\n",
       "      <th>theme_name_salmon</th>\n",
       "      <td>0.000000</td>\n",
       "      <td>0.000000</td>\n",
       "      <td>0.000000</td>\n",
       "    </tr>\n",
       "    <tr>\n",
       "      <th>theme_name_soy_foods</th>\n",
       "      <td>1.000000</td>\n",
       "      <td>0.000000</td>\n",
       "      <td>0.000000</td>\n",
       "    </tr>\n",
       "    <tr>\n",
       "      <th>theme_name_vegetarian</th>\n",
       "      <td>0.000000</td>\n",
       "      <td>0.000000</td>\n",
       "      <td>0.000000</td>\n",
       "    </tr>\n",
       "    <tr>\n",
       "      <th>total_post</th>\n",
       "      <td>-0.679285</td>\n",
       "      <td>-0.375926</td>\n",
       "      <td>-0.433348</td>\n",
       "    </tr>\n",
       "    <tr>\n",
       "      <th>search_volume</th>\n",
       "      <td>-0.740274</td>\n",
       "      <td>-0.336479</td>\n",
       "      <td>0.317248</td>\n",
       "    </tr>\n",
       "    <tr>\n",
       "      <th>competitor_share</th>\n",
       "      <td>0.125358</td>\n",
       "      <td>0.841165</td>\n",
       "      <td>-0.568007</td>\n",
       "    </tr>\n",
       "    <tr>\n",
       "      <th>competitors_count</th>\n",
       "      <td>1.873820</td>\n",
       "      <td>0.277462</td>\n",
       "      <td>-0.520717</td>\n",
       "    </tr>\n",
       "  </tbody>\n",
       "</table>\n",
       "</div>"
      ],
      "text/plain": [
       "                                             24        91        98\n",
       "theme_name_beef_hamburger              0.000000  0.000000  0.000000\n",
       "theme_name_blueberry                   0.000000  0.000000  0.000000\n",
       "theme_name_chicken                     0.000000  0.000000  0.000000\n",
       "theme_name_crab                        0.000000  0.000000  0.000000\n",
       "theme_name_ethical_packaging           0.000000  0.000000  0.000000\n",
       "theme_name_ethnic_exotic               0.000000  0.000000  0.000000\n",
       "theme_name_french_bisque               0.000000  1.000000  0.000000\n",
       "theme_name_gmo_free                    0.000000  0.000000  0.000000\n",
       "theme_name_high_source_of_protein      0.000000  0.000000  0.000000\n",
       "theme_name_low_carb                    0.000000  0.000000  0.000000\n",
       "theme_name_low_sodium                  0.000000  0.000000  1.000000\n",
       "theme_name_low_sugar                   0.000000  0.000000  0.000000\n",
       "theme_name_no_additives_preservatives  0.000000  0.000000  0.000000\n",
       "theme_name_poultry                     0.000000  0.000000  0.000000\n",
       "theme_name_salmon                      0.000000  0.000000  0.000000\n",
       "theme_name_soy_foods                   1.000000  0.000000  0.000000\n",
       "theme_name_vegetarian                  0.000000  0.000000  0.000000\n",
       "total_post                            -0.679285 -0.375926 -0.433348\n",
       "search_volume                         -0.740274 -0.336479  0.317248\n",
       "competitor_share                       0.125358  0.841165 -0.568007\n",
       "competitors_count                      1.873820  0.277462 -0.520717"
      ]
     },
     "execution_count": 31,
     "metadata": {},
     "output_type": "execute_result"
    }
   ],
   "source": [
    "sample_X_train = get_dataframe(\n",
    "    full_transformer.fit_transform(sample_X, sample_y).toarray(), \n",
    "    cust_get_feature_names_from_column_transformer(full_transformer, False)\n",
    ")\n",
    "\n",
    "print(sample_X_train.shape)\n",
    "\n",
    "sample_X_train.sample(3, random_state=10).T"
   ]
  },
  {
   "cell_type": "markdown",
   "metadata": {},
   "source": [
    "## 2 Feature Analysis"
   ]
  },
  {
   "cell_type": "markdown",
   "metadata": {},
   "source": [
    "Using the pipeline above analyze the features and decide on additional features to add/remove from the pipeline. This section will **NOT** be part of the production code, unless input data drifts, etc. are explicitly demanded in the project.\n",
    "\n",
    "Here we are primarily focused on feature selection/elimination based on business rules, prior knowledge, and data analysis."
   ]
  },
  {
   "cell_type": "markdown",
   "metadata": {},
   "source": [
    "Running the features transformer on the complete data"
   ]
  },
  {
   "cell_type": "code",
   "execution_count": 32,
   "metadata": {},
   "outputs": [
    {
     "data": {
      "text/html": [
       "<div>\n",
       "<style scoped>\n",
       "    .dataframe tbody tr th:only-of-type {\n",
       "        vertical-align: middle;\n",
       "    }\n",
       "\n",
       "    .dataframe tbody tr th {\n",
       "        vertical-align: top;\n",
       "    }\n",
       "\n",
       "    .dataframe thead th {\n",
       "        text-align: right;\n",
       "    }\n",
       "</style>\n",
       "<table border=\"1\" class=\"dataframe\">\n",
       "  <thead>\n",
       "    <tr style=\"text-align: right;\">\n",
       "      <th></th>\n",
       "      <th>2025</th>\n",
       "      <th>1678</th>\n",
       "      <th>583</th>\n",
       "      <th>1372</th>\n",
       "      <th>48</th>\n",
       "    </tr>\n",
       "  </thead>\n",
       "  <tbody>\n",
       "    <tr>\n",
       "      <th>theme_name_beef_hamburger</th>\n",
       "      <td>0.000000</td>\n",
       "      <td>0.000000</td>\n",
       "      <td>1.000000</td>\n",
       "      <td>1.000000</td>\n",
       "      <td>0.000000</td>\n",
       "    </tr>\n",
       "    <tr>\n",
       "      <th>theme_name_blueberry</th>\n",
       "      <td>0.000000</td>\n",
       "      <td>0.000000</td>\n",
       "      <td>0.000000</td>\n",
       "      <td>0.000000</td>\n",
       "      <td>0.000000</td>\n",
       "    </tr>\n",
       "    <tr>\n",
       "      <th>theme_name_chicken</th>\n",
       "      <td>0.000000</td>\n",
       "      <td>1.000000</td>\n",
       "      <td>0.000000</td>\n",
       "      <td>0.000000</td>\n",
       "      <td>0.000000</td>\n",
       "    </tr>\n",
       "    <tr>\n",
       "      <th>theme_name_crab</th>\n",
       "      <td>0.000000</td>\n",
       "      <td>0.000000</td>\n",
       "      <td>0.000000</td>\n",
       "      <td>0.000000</td>\n",
       "      <td>0.000000</td>\n",
       "    </tr>\n",
       "    <tr>\n",
       "      <th>theme_name_ethical_packaging</th>\n",
       "      <td>0.000000</td>\n",
       "      <td>0.000000</td>\n",
       "      <td>0.000000</td>\n",
       "      <td>0.000000</td>\n",
       "      <td>0.000000</td>\n",
       "    </tr>\n",
       "    <tr>\n",
       "      <th>theme_name_ethnic_exotic</th>\n",
       "      <td>0.000000</td>\n",
       "      <td>0.000000</td>\n",
       "      <td>0.000000</td>\n",
       "      <td>0.000000</td>\n",
       "      <td>0.000000</td>\n",
       "    </tr>\n",
       "    <tr>\n",
       "      <th>theme_name_french_bisque</th>\n",
       "      <td>0.000000</td>\n",
       "      <td>0.000000</td>\n",
       "      <td>0.000000</td>\n",
       "      <td>0.000000</td>\n",
       "      <td>0.000000</td>\n",
       "    </tr>\n",
       "    <tr>\n",
       "      <th>theme_name_gingerbread</th>\n",
       "      <td>0.000000</td>\n",
       "      <td>0.000000</td>\n",
       "      <td>0.000000</td>\n",
       "      <td>0.000000</td>\n",
       "      <td>0.000000</td>\n",
       "    </tr>\n",
       "    <tr>\n",
       "      <th>theme_name_gmo_free</th>\n",
       "      <td>1.000000</td>\n",
       "      <td>0.000000</td>\n",
       "      <td>0.000000</td>\n",
       "      <td>0.000000</td>\n",
       "      <td>0.000000</td>\n",
       "    </tr>\n",
       "    <tr>\n",
       "      <th>theme_name_high_source_of_protein</th>\n",
       "      <td>0.000000</td>\n",
       "      <td>0.000000</td>\n",
       "      <td>0.000000</td>\n",
       "      <td>0.000000</td>\n",
       "      <td>0.000000</td>\n",
       "    </tr>\n",
       "    <tr>\n",
       "      <th>theme_name_low_carb</th>\n",
       "      <td>0.000000</td>\n",
       "      <td>0.000000</td>\n",
       "      <td>0.000000</td>\n",
       "      <td>0.000000</td>\n",
       "      <td>1.000000</td>\n",
       "    </tr>\n",
       "    <tr>\n",
       "      <th>theme_name_low_sodium</th>\n",
       "      <td>0.000000</td>\n",
       "      <td>0.000000</td>\n",
       "      <td>0.000000</td>\n",
       "      <td>0.000000</td>\n",
       "      <td>0.000000</td>\n",
       "    </tr>\n",
       "    <tr>\n",
       "      <th>theme_name_low_sugar</th>\n",
       "      <td>0.000000</td>\n",
       "      <td>0.000000</td>\n",
       "      <td>0.000000</td>\n",
       "      <td>0.000000</td>\n",
       "      <td>0.000000</td>\n",
       "    </tr>\n",
       "    <tr>\n",
       "      <th>theme_name_no_additives_preservatives</th>\n",
       "      <td>0.000000</td>\n",
       "      <td>0.000000</td>\n",
       "      <td>0.000000</td>\n",
       "      <td>0.000000</td>\n",
       "      <td>0.000000</td>\n",
       "    </tr>\n",
       "    <tr>\n",
       "      <th>theme_name_poultry</th>\n",
       "      <td>0.000000</td>\n",
       "      <td>0.000000</td>\n",
       "      <td>0.000000</td>\n",
       "      <td>0.000000</td>\n",
       "      <td>0.000000</td>\n",
       "    </tr>\n",
       "    <tr>\n",
       "      <th>theme_name_salmon</th>\n",
       "      <td>0.000000</td>\n",
       "      <td>0.000000</td>\n",
       "      <td>0.000000</td>\n",
       "      <td>0.000000</td>\n",
       "      <td>0.000000</td>\n",
       "    </tr>\n",
       "    <tr>\n",
       "      <th>theme_name_soy_foods</th>\n",
       "      <td>0.000000</td>\n",
       "      <td>0.000000</td>\n",
       "      <td>0.000000</td>\n",
       "      <td>0.000000</td>\n",
       "      <td>0.000000</td>\n",
       "    </tr>\n",
       "    <tr>\n",
       "      <th>theme_name_tuna</th>\n",
       "      <td>0.000000</td>\n",
       "      <td>0.000000</td>\n",
       "      <td>0.000000</td>\n",
       "      <td>0.000000</td>\n",
       "      <td>0.000000</td>\n",
       "    </tr>\n",
       "    <tr>\n",
       "      <th>theme_name_vegetarian</th>\n",
       "      <td>0.000000</td>\n",
       "      <td>0.000000</td>\n",
       "      <td>0.000000</td>\n",
       "      <td>0.000000</td>\n",
       "      <td>0.000000</td>\n",
       "    </tr>\n",
       "    <tr>\n",
       "      <th>total_post</th>\n",
       "      <td>-0.473133</td>\n",
       "      <td>-0.224691</td>\n",
       "      <td>-0.433382</td>\n",
       "      <td>-0.656427</td>\n",
       "      <td>1.634757</td>\n",
       "    </tr>\n",
       "    <tr>\n",
       "      <th>search_volume</th>\n",
       "      <td>-0.705365</td>\n",
       "      <td>0.511971</td>\n",
       "      <td>-0.581747</td>\n",
       "      <td>-0.596739</td>\n",
       "      <td>0.532134</td>\n",
       "    </tr>\n",
       "    <tr>\n",
       "      <th>competitor_share</th>\n",
       "      <td>2.588268</td>\n",
       "      <td>-0.571935</td>\n",
       "      <td>-0.919651</td>\n",
       "      <td>-0.919651</td>\n",
       "      <td>-0.198035</td>\n",
       "    </tr>\n",
       "    <tr>\n",
       "      <th>competitors_count</th>\n",
       "      <td>-0.477042</td>\n",
       "      <td>0.288784</td>\n",
       "      <td>-1.242868</td>\n",
       "      <td>-1.242868</td>\n",
       "      <td>1.054610</td>\n",
       "    </tr>\n",
       "  </tbody>\n",
       "</table>\n",
       "</div>"
      ],
      "text/plain": [
       "                                           2025      1678      583       1372  \\\n",
       "theme_name_beef_hamburger              0.000000  0.000000  1.000000  1.000000   \n",
       "theme_name_blueberry                   0.000000  0.000000  0.000000  0.000000   \n",
       "theme_name_chicken                     0.000000  1.000000  0.000000  0.000000   \n",
       "theme_name_crab                        0.000000  0.000000  0.000000  0.000000   \n",
       "theme_name_ethical_packaging           0.000000  0.000000  0.000000  0.000000   \n",
       "theme_name_ethnic_exotic               0.000000  0.000000  0.000000  0.000000   \n",
       "theme_name_french_bisque               0.000000  0.000000  0.000000  0.000000   \n",
       "theme_name_gingerbread                 0.000000  0.000000  0.000000  0.000000   \n",
       "theme_name_gmo_free                    1.000000  0.000000  0.000000  0.000000   \n",
       "theme_name_high_source_of_protein      0.000000  0.000000  0.000000  0.000000   \n",
       "theme_name_low_carb                    0.000000  0.000000  0.000000  0.000000   \n",
       "theme_name_low_sodium                  0.000000  0.000000  0.000000  0.000000   \n",
       "theme_name_low_sugar                   0.000000  0.000000  0.000000  0.000000   \n",
       "theme_name_no_additives_preservatives  0.000000  0.000000  0.000000  0.000000   \n",
       "theme_name_poultry                     0.000000  0.000000  0.000000  0.000000   \n",
       "theme_name_salmon                      0.000000  0.000000  0.000000  0.000000   \n",
       "theme_name_soy_foods                   0.000000  0.000000  0.000000  0.000000   \n",
       "theme_name_tuna                        0.000000  0.000000  0.000000  0.000000   \n",
       "theme_name_vegetarian                  0.000000  0.000000  0.000000  0.000000   \n",
       "total_post                            -0.473133 -0.224691 -0.433382 -0.656427   \n",
       "search_volume                         -0.705365  0.511971 -0.581747 -0.596739   \n",
       "competitor_share                       2.588268 -0.571935 -0.919651 -0.919651   \n",
       "competitors_count                     -0.477042  0.288784 -1.242868 -1.242868   \n",
       "\n",
       "                                           48    \n",
       "theme_name_beef_hamburger              0.000000  \n",
       "theme_name_blueberry                   0.000000  \n",
       "theme_name_chicken                     0.000000  \n",
       "theme_name_crab                        0.000000  \n",
       "theme_name_ethical_packaging           0.000000  \n",
       "theme_name_ethnic_exotic               0.000000  \n",
       "theme_name_french_bisque               0.000000  \n",
       "theme_name_gingerbread                 0.000000  \n",
       "theme_name_gmo_free                    0.000000  \n",
       "theme_name_high_source_of_protein      0.000000  \n",
       "theme_name_low_carb                    1.000000  \n",
       "theme_name_low_sodium                  0.000000  \n",
       "theme_name_low_sugar                   0.000000  \n",
       "theme_name_no_additives_preservatives  0.000000  \n",
       "theme_name_poultry                     0.000000  \n",
       "theme_name_salmon                      0.000000  \n",
       "theme_name_soy_foods                   0.000000  \n",
       "theme_name_tuna                        0.000000  \n",
       "theme_name_vegetarian                  0.000000  \n",
       "total_post                             1.634757  \n",
       "search_volume                          0.532134  \n",
       "competitor_share                      -0.198035  \n",
       "competitors_count                      1.054610  "
      ]
     },
     "execution_count": 32,
     "metadata": {},
     "output_type": "execute_result"
    }
   ],
   "source": [
    "X_train = get_dataframe(\n",
    "    full_transformer.fit_transform(X_train_mod, y_train).toarray(), \n",
    "    cust_get_feature_names_from_column_transformer(full_transformer, False)\n",
    ")\n",
    "\n",
    "X_train.sample(5, random_state=context.random_seed).T"
   ]
  },
  {
   "cell_type": "code",
   "execution_count": 33,
   "metadata": {},
   "outputs": [
    {
     "data": {
      "text/plain": [
       "0"
      ]
     },
     "execution_count": 33,
     "metadata": {},
     "output_type": "execute_result"
    }
   ],
   "source": [
    "X_train.isnull().sum().sum()"
   ]
  },
  {
   "cell_type": "markdown",
   "metadata": {},
   "source": [
    "Clearly, all the missing values have been imputed."
   ]
  },
  {
   "cell_type": "markdown",
   "metadata": {},
   "source": [
    "### 2.1 Univariate Analysis\n",
    "\n",
    "Look at each variable independently. This is useful if models have assumptions on the distribution and/or bounds on the features/target."
   ]
  },
  {
   "cell_type": "code",
   "execution_count": 34,
   "metadata": {},
   "outputs": [
    {
     "data": {
      "text/plain": [
       "Index(['theme_name_beef_hamburger', 'theme_name_blueberry',\n",
       "       'theme_name_chicken', 'theme_name_crab', 'theme_name_ethical_packaging',\n",
       "       'theme_name_ethnic_exotic', 'theme_name_french_bisque',\n",
       "       'theme_name_gingerbread', 'theme_name_gmo_free',\n",
       "       'theme_name_high_source_of_protein', 'theme_name_low_carb',\n",
       "       'theme_name_low_sodium', 'theme_name_low_sugar',\n",
       "       'theme_name_no_additives_preservatives', 'theme_name_poultry',\n",
       "       'theme_name_salmon', 'theme_name_soy_foods', 'theme_name_tuna',\n",
       "       'theme_name_vegetarian', 'total_post', 'search_volume',\n",
       "       'competitor_share', 'competitors_count'],\n",
       "      dtype='object')"
      ]
     },
     "execution_count": 34,
     "metadata": {},
     "output_type": "execute_result"
    }
   ],
   "source": [
    "X_train.columns"
   ]
  },
  {
   "cell_type": "code",
   "execution_count": 35,
   "metadata": {},
   "outputs": [
    {
     "data": {},
     "metadata": {},
     "output_type": "display_data"
    },
    {
     "data": {
      "application/vnd.holoviews_exec.v0+json": "",
      "text/html": [
       "<div id='1002'>\n",
       "  <div class=\"bk-root\" id=\"aac3f2fb-b80f-4da5-b379-4e5be05c7299\" data-root-id=\"1002\"></div>\n",
       "</div>\n",
       "<script type=\"application/javascript\">(function(root) {\n",
       "  function embed_document(root) {\n",
       "    var docs_json = {\"36b56d5e-0426-480a-8a85-941ed332a52e\":{\"defs\":[{\"extends\":null,\"module\":null,\"name\":\"ReactiveHTML1\",\"overrides\":[],\"properties\":[]},{\"extends\":null,\"module\":null,\"name\":\"FlexBox1\",\"overrides\":[],\"properties\":[{\"default\":\"flex-start\",\"kind\":null,\"name\":\"align_content\"},{\"default\":\"flex-start\",\"kind\":null,\"name\":\"align_items\"},{\"default\":\"row\",\"kind\":null,\"name\":\"flex_direction\"},{\"default\":\"wrap\",\"kind\":null,\"name\":\"flex_wrap\"},{\"default\":\"flex-start\",\"kind\":null,\"name\":\"justify_content\"}]},{\"extends\":null,\"module\":null,\"name\":\"GridStack1\",\"overrides\":[],\"properties\":[{\"default\":\"warn\",\"kind\":null,\"name\":\"mode\"},{\"default\":null,\"kind\":null,\"name\":\"ncols\"},{\"default\":null,\"kind\":null,\"name\":\"nrows\"},{\"default\":true,\"kind\":null,\"name\":\"allow_resize\"},{\"default\":true,\"kind\":null,\"name\":\"allow_drag\"},{\"default\":[],\"kind\":null,\"name\":\"state\"}]},{\"extends\":null,\"module\":null,\"name\":\"click1\",\"overrides\":[],\"properties\":[{\"default\":\"\",\"kind\":null,\"name\":\"terminal_output\"},{\"default\":\"\",\"kind\":null,\"name\":\"debug_name\"},{\"default\":0,\"kind\":null,\"name\":\"clears\"}]},{\"extends\":null,\"module\":null,\"name\":\"NotificationAreaBase1\",\"overrides\":[],\"properties\":[{\"default\":\"bottom-right\",\"kind\":null,\"name\":\"position\"},{\"default\":0,\"kind\":null,\"name\":\"_clear\"}]},{\"extends\":null,\"module\":null,\"name\":\"NotificationArea1\",\"overrides\":[],\"properties\":[{\"default\":[],\"kind\":null,\"name\":\"notifications\"},{\"default\":\"bottom-right\",\"kind\":null,\"name\":\"position\"},{\"default\":0,\"kind\":null,\"name\":\"_clear\"},{\"default\":[{\"background\":\"#ffc107\",\"icon\":{\"className\":\"fas fa-exclamation-triangle\",\"color\":\"white\",\"tagName\":\"i\"},\"type\":\"warning\"},{\"background\":\"#007bff\",\"icon\":{\"className\":\"fas fa-info-circle\",\"color\":\"white\",\"tagName\":\"i\"},\"type\":\"info\"}],\"kind\":null,\"name\":\"types\"}]},{\"extends\":null,\"module\":null,\"name\":\"Notification\",\"overrides\":[],\"properties\":[{\"default\":null,\"kind\":null,\"name\":\"background\"},{\"default\":3000,\"kind\":null,\"name\":\"duration\"},{\"default\":null,\"kind\":null,\"name\":\"icon\"},{\"default\":\"\",\"kind\":null,\"name\":\"message\"},{\"default\":null,\"kind\":null,\"name\":\"notification_type\"},{\"default\":false,\"kind\":null,\"name\":\"_destroyed\"}]},{\"extends\":null,\"module\":null,\"name\":\"TemplateActions1\",\"overrides\":[],\"properties\":[{\"default\":0,\"kind\":null,\"name\":\"open_modal\"},{\"default\":0,\"kind\":null,\"name\":\"close_modal\"}]},{\"extends\":null,\"module\":null,\"name\":\"MaterialTemplateActions1\",\"overrides\":[],\"properties\":[{\"default\":0,\"kind\":null,\"name\":\"open_modal\"},{\"default\":0,\"kind\":null,\"name\":\"close_modal\"}]}],\"roots\":{\"references\":[{\"attributes\":{\"end\":19554150.93684634,\"reset_end\":19554150.93684634,\"reset_start\":-3544973.936846338,\"start\":-3544973.936846338,\"tags\":[[[\"x\",\"x\",null]]]},\"id\":\"1004\",\"type\":\"Range1d\"},{\"attributes\":{\"end\":1301.89,\"reset_end\":1417.9,\"reset_start\":0.0,\"tags\":[[[\"Frequency\",\"Frequency\",null]]]},\"id\":\"1005\",\"type\":\"Range1d\"},{\"attributes\":{\"coordinates\":null,\"data_source\":{\"id\":\"1052\"},\"glyph\":{\"id\":\"1055\"},\"group\":null,\"hover_glyph\":null,\"muted_glyph\":{\"id\":\"1057\"},\"nonselection_glyph\":{\"id\":\"1056\"},\"selection_glyph\":{\"id\":\"1060\"},\"view\":{\"id\":\"1059\"},\"y_range_name\":\"twiny\"},\"id\":\"1058\",\"type\":\"GlyphRenderer\"},{\"attributes\":{\"below\":[{\"id\":\"1016\"}],\"center\":[{\"id\":\"1019\"},{\"id\":\"1023\"}],\"extra_y_ranges\":{\"twiny\":{\"id\":\"1061\"}},\"height\":300,\"left\":[{\"id\":\"1020\"}],\"margin\":null,\"min_border_bottom\":10,\"min_border_left\":10,\"min_border_right\":10,\"min_border_top\":10,\"renderers\":[{\"id\":\"1049\"},{\"id\":\"1058\"}],\"right\":[{\"id\":\"1062\"}],\"sizing_mode\":\"fixed\",\"title\":{\"id\":\"1008\"},\"toolbar\":{\"id\":\"1030\"},\"toolbar_location\":null,\"x_range\":{\"id\":\"1004\"},\"x_scale\":{\"id\":\"1012\"},\"y_range\":{\"id\":\"1005\"},\"y_scale\":{\"id\":\"1014\"}},\"id\":\"1007\",\"subtype\":\"Figure\",\"type\":\"Plot\"},{\"attributes\":{},\"id\":\"1068\",\"type\":\"BasicTickFormatter\"},{\"attributes\":{},\"id\":\"1067\",\"type\":\"BasicTicker\"},{\"attributes\":{},\"id\":\"1053\",\"type\":\"Selection\"},{\"attributes\":{},\"id\":\"1069\",\"type\":\"AllLabels\"},{\"attributes\":{},\"id\":\"1181\",\"type\":\"NumberEditor\"},{\"attributes\":{\"source\":{\"id\":\"1052\"}},\"id\":\"1059\",\"type\":\"CDSView\"},{\"attributes\":{\"coordinates\":null,\"group\":null,\"text\":\"Density Plot for sales_dollars_value\",\"text_color\":\"black\",\"text_font_size\":\"12pt\"},\"id\":\"1008\",\"type\":\"Title\"},{\"attributes\":{},\"id\":\"1012\",\"type\":\"LinearScale\"},{\"attributes\":{},\"id\":\"1039\",\"type\":\"AllLabels\"},{\"attributes\":{\"editor\":{\"id\":\"1171\"},\"field\":\"count\",\"formatter\":{\"id\":\"1170\"},\"title\":\"count\"},\"id\":\"1172\",\"type\":\"TableColumn\"},{\"attributes\":{\"fill_alpha\":0.2,\"fill_color\":\"#30a2da\",\"hatch_alpha\":0.2,\"hatch_color\":\"#30a2da\",\"line_alpha\":0.2,\"x\":{\"field\":\"x\"},\"y\":{\"field\":\"y\"}},\"id\":\"1057\",\"type\":\"Patch\"},{\"attributes\":{},\"id\":\"1171\",\"type\":\"NumberEditor\"},{\"attributes\":{},\"id\":\"1176\",\"type\":\"NumberEditor\"},{\"attributes\":{\"axis\":{\"id\":\"1016\"},\"coordinates\":null,\"grid_line_color\":null,\"group\":null,\"ticker\":null},\"id\":\"1019\",\"type\":\"Grid\"},{\"attributes\":{\"callback\":null,\"renderers\":[{\"id\":\"1058\"}],\"tags\":[\"hv_created\"],\"tooltips\":[[\"sales_dollars_value\",\"@{sales_dollars_value}\"],[\"Density\",\"@{sales_dollars_value_density}\"]]},\"id\":\"1006\",\"type\":\"HoverTool\"},{\"attributes\":{\"format\":\"0,0.0[00000]\"},\"id\":\"1175\",\"type\":\"NumberFormatter\"},{\"attributes\":{\"editor\":{\"id\":\"1176\"},\"field\":\"mean\",\"formatter\":{\"id\":\"1175\"},\"title\":\"mean\"},\"id\":\"1177\",\"type\":\"TableColumn\"},{\"attributes\":{},\"id\":\"1017\",\"type\":\"BasicTicker\"},{\"attributes\":{\"editor\":{\"id\":\"1181\"},\"field\":\"std\",\"formatter\":{\"id\":\"1180\"},\"title\":\"std\"},\"id\":\"1182\",\"type\":\"TableColumn\"},{\"attributes\":{\"source\":{\"id\":\"1043\"}},\"id\":\"1050\",\"type\":\"CDSView\"},{\"attributes\":{},\"id\":\"1186\",\"type\":\"NumberEditor\"},{\"attributes\":{},\"id\":\"1073\",\"type\":\"UnionRenderers\"},{\"attributes\":{\"format\":\"0,0.0[00000]\"},\"id\":\"1180\",\"type\":\"NumberFormatter\"},{\"attributes\":{\"axis_label\":\"sales_dollars_value\",\"coordinates\":null,\"formatter\":{\"id\":\"1038\"},\"group\":null,\"major_label_policy\":{\"id\":\"1039\"},\"ticker\":{\"id\":\"1017\"}},\"id\":\"1016\",\"type\":\"LinearAxis\"},{\"attributes\":{\"editor\":{\"id\":\"1186\"},\"field\":\"min\",\"formatter\":{\"id\":\"1185\"},\"title\":\"min\"},\"id\":\"1187\",\"type\":\"TableColumn\"},{\"attributes\":{\"fill_alpha\":0.5,\"fill_color\":\"#30a2da\",\"hatch_alpha\":0.1,\"hatch_color\":\"#30a2da\",\"line_alpha\":1,\"x\":{\"field\":\"x\"},\"y\":{\"field\":\"y\"}},\"id\":\"1056\",\"type\":\"Patch\"},{\"attributes\":{},\"id\":\"1191\",\"type\":\"NumberEditor\"},{\"attributes\":{},\"id\":\"1014\",\"type\":\"LinearScale\"},{\"attributes\":{\"format\":\"0,0.0[00000]\"},\"id\":\"1185\",\"type\":\"NumberFormatter\"},{\"attributes\":{\"editor\":{\"id\":\"1191\"},\"field\":\"A_25_percent\",\"formatter\":{\"id\":\"1190\"},\"title\":\"25%\"},\"id\":\"1192\",\"type\":\"TableColumn\"},{\"attributes\":{},\"id\":\"1196\",\"type\":\"NumberEditor\"},{\"attributes\":{\"axis_label\":\"Frequency\",\"coordinates\":null,\"formatter\":{\"id\":\"1041\"},\"group\":null,\"major_label_policy\":{\"id\":\"1042\"},\"ticker\":{\"id\":\"1021\"}},\"id\":\"1020\",\"type\":\"LinearAxis\"},{\"attributes\":{\"format\":\"0,0.0[00000]\"},\"id\":\"1190\",\"type\":\"NumberFormatter\"},{\"attributes\":{},\"id\":\"1021\",\"type\":\"BasicTicker\"},{\"attributes\":{\"editor\":{\"id\":\"1196\"},\"field\":\"A_50_percent\",\"formatter\":{\"id\":\"1195\"},\"title\":\"50%\"},\"id\":\"1197\",\"type\":\"TableColumn\"},{\"attributes\":{},\"id\":\"1201\",\"type\":\"NumberEditor\"},{\"attributes\":{\"axis\":{\"id\":\"1020\"},\"coordinates\":null,\"dimension\":1,\"grid_line_color\":null,\"group\":null,\"ticker\":null},\"id\":\"1023\",\"type\":\"Grid\"},{\"attributes\":{\"format\":\"0,0.0[00000]\"},\"id\":\"1195\",\"type\":\"NumberFormatter\"},{\"attributes\":{},\"id\":\"1024\",\"type\":\"SaveTool\"},{\"attributes\":{\"editor\":{\"id\":\"1201\"},\"field\":\"A_75_percent\",\"formatter\":{\"id\":\"1200\"},\"title\":\"75%\"},\"id\":\"1202\",\"type\":\"TableColumn\"},{\"attributes\":{\"bottom\":{\"value\":0},\"fill_alpha\":{\"value\":1.0},\"fill_color\":{\"value\":\"#00fff0\"},\"hatch_alpha\":{\"value\":1.0},\"hatch_color\":{\"value\":\"#00fff0\"},\"hatch_scale\":{\"value\":12.0},\"hatch_weight\":{\"value\":1.0},\"left\":{\"field\":\"left\"},\"line_alpha\":{\"value\":1.0},\"line_cap\":{\"value\":\"butt\"},\"line_color\":{\"value\":\"black\"},\"line_dash\":{\"value\":[]},\"line_dash_offset\":{\"value\":0},\"line_join\":{\"value\":\"bevel\"},\"line_width\":{\"value\":1},\"right\":{\"field\":\"right\"},\"top\":{\"field\":\"top\"}},\"id\":\"1051\",\"type\":\"Quad\"},{\"attributes\":{},\"id\":\"1206\",\"type\":\"NumberEditor\"},{\"attributes\":{},\"id\":\"1025\",\"type\":\"PanTool\"},{\"attributes\":{\"format\":\"0,0.0[00000]\"},\"id\":\"1200\",\"type\":\"NumberFormatter\"},{\"attributes\":{},\"id\":\"1026\",\"type\":\"WheelZoomTool\"},{\"attributes\":{\"editor\":{\"id\":\"1206\"},\"field\":\"max\",\"formatter\":{\"id\":\"1205\"},\"title\":\"max\"},\"id\":\"1207\",\"type\":\"TableColumn\"},{\"attributes\":{\"fill_alpha\":0.5,\"fill_color\":\"#30a2da\",\"hatch_color\":\"#30a2da\",\"x\":{\"field\":\"x\"},\"y\":{\"field\":\"y\"}},\"id\":\"1055\",\"type\":\"Patch\"},{\"attributes\":{\"overlay\":{\"id\":\"1029\"}},\"id\":\"1027\",\"type\":\"BoxZoomTool\"},{\"attributes\":{\"format\":\"0,0.0[00000]\"},\"id\":\"1205\",\"type\":\"NumberFormatter\"},{\"attributes\":{},\"id\":\"1075\",\"type\":\"UnionRenderers\"},{\"attributes\":{},\"id\":\"1028\",\"type\":\"ResetTool\"},{\"attributes\":{\"bottom_units\":\"screen\",\"coordinates\":null,\"fill_alpha\":0.5,\"fill_color\":\"lightgrey\",\"group\":null,\"left_units\":\"screen\",\"level\":\"overlay\",\"line_alpha\":1.0,\"line_color\":\"black\",\"line_dash\":[4,4],\"line_width\":2,\"right_units\":\"screen\",\"syncable\":false,\"top_units\":\"screen\"},\"id\":\"1029\",\"type\":\"BoxAnnotation\"},{\"attributes\":{\"source\":{\"id\":\"1168\"}},\"id\":\"1212\",\"type\":\"CDSView\"},{\"attributes\":{\"bottom\":{\"value\":0},\"fill_alpha\":{\"value\":0.1},\"fill_color\":{\"value\":\"#00fff0\"},\"hatch_alpha\":{\"value\":0.1},\"hatch_color\":{\"value\":\"#00fff0\"},\"left\":{\"field\":\"left\"},\"line_alpha\":{\"value\":0.1},\"right\":{\"field\":\"right\"},\"top\":{\"field\":\"top\"}},\"id\":\"1047\",\"type\":\"Quad\"},{\"attributes\":{\"end\":2.9350489283544425e-07},\"id\":\"1061\",\"type\":\"Range1d\"},{\"attributes\":{\"tools\":[{\"id\":\"1006\"},{\"id\":\"1024\"},{\"id\":\"1025\"},{\"id\":\"1026\"},{\"id\":\"1027\"},{\"id\":\"1028\"}]},\"id\":\"1030\",\"type\":\"Toolbar\"},{\"attributes\":{\"toolbar\":{\"id\":\"1232\"},\"toolbar_location\":\"above\"},\"id\":\"1233\",\"type\":\"ToolbarBox\"},{\"attributes\":{},\"id\":\"1038\",\"type\":\"BasicTickFormatter\"},{\"attributes\":{\"margin\":[5,5,5,5],\"name\":\"HSpacer03315\",\"sizing_mode\":\"stretch_width\"},\"id\":\"1371\",\"type\":\"Spacer\"},{\"attributes\":{\"children\":[{\"id\":\"1233\"},{\"id\":\"1231\"}]},\"id\":\"1234\",\"type\":\"Column\"},{\"attributes\":{},\"id\":\"1042\",\"type\":\"AllLabels\"},{\"attributes\":{\"coordinates\":null,\"data_source\":{\"id\":\"1043\"},\"glyph\":{\"id\":\"1046\"},\"group\":null,\"hover_glyph\":null,\"muted_glyph\":{\"id\":\"1048\"},\"nonselection_glyph\":{\"id\":\"1047\"},\"selection_glyph\":{\"id\":\"1051\"},\"view\":{\"id\":\"1050\"}},\"id\":\"1049\",\"type\":\"GlyphRenderer\"},{\"attributes\":{\"format\":\"0,0.0[00000]\"},\"id\":\"1170\",\"type\":\"NumberFormatter\"},{\"attributes\":{},\"id\":\"1041\",\"type\":\"BasicTickFormatter\"},{\"attributes\":{\"data\":{\"x\":{\"__ndarray__\":\"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\",\"dtype\":\"float64\",\"order\":\"little\",\"shape\":[200]},\"y\":{\"__ndarray__\":\"AAAAAAAAAAAAAAAAAAAAAAAAAAAAAAAAAAAAAAAAAAAAAAAAAAAAAAAAAAAAAAAAAAAAAAAAAAAAAAAAAAAAAAAAAAAAAAAAAAAAAAAAAAAAAAAAAAAAAAAAAAAAAAAAAAAAAAAAAAAAAAAAAAAAAAAAAAAAAAAAAAAAAAAAAAAAAAAAAAAAAAAAAAAAAAAAAAAAAAAAAAAAAAAAAAAAAAAAAAAAAAAAAAAAAAAAAAAAAAAAAAAAAAAAAAAAAAAAAAAAAAAAAAAAAAAAAAAAAAAAAAAAAAAAAAAAAAAAAAAAAAAAAAAAAAAAAAAAAAAAAAAAAAAAAAAAAAAAAAAAAAAAAAAAAAAAAAAAAAAAAAAAAAAAAAAAAAAAAAAAAAAAAAAAAAAAAAAAAAAAAAAAAAAAAAAAAAAAAAAAAAAAAAAAAAAAAAAAAAAAAAAAAAAAAAAAAAAAAAAAAAAAAAAAAAAAAAAAAAAAAAAAAAAAAAAAAAAAAAAAAAAAAAAAAAAAAAAAAAAAAAAAAAAAAAAAAAAAAAAAAAAAAAAAAAAAAAAAAAAAAAAAAAAAAAAAAAAAAAAAAAAAAAAAAAAAAAAAAAAAAAAAAAAAAAAAAAAAAAAAAAAAAAAAAAAAAAAAAAAAAAAAAAAAAAAAAAAAAAAAAAAAAAAAAAAAAAAAAAAAAAAAAAAAAAAAAAAAAAAAAAAAAAAAAAAAAAAAAAAAAAAAAAAAAAAAAAAAAAAAAAAAAAAAAAAAAAAAAAAAAAAAAAAAAAAAAAAAAAAAAAAAAAAAAAAAAAAAAAAAAAAAAAAAAAAAAAAAAAAAAAAAAAAAAAAAAAAAAAAAAAAAAAAAAAAAAAAAAAAAAAAAAAAAAAAAAAAAAAAAAAAAAAAAAAAAAAAAAAAAAAAAAAAAAAAAAAAAAAAAAAAAAAAAAAAAAAAAAAAAAAAAAAAAAAAAAAAAAAAAAAAAAAAAAAAAAAAAAAAAAAAAAAAAAAAAAAAAAAAAAAAAAAAAAAAAAAAAAAAAAAAAAAAAAAAAAAAAAAAAAAAAAAAAAAAAAAAAAAAAAAAAAAAQhE49VeyGPd+NAXLYC5g9wHI+Jfi1pz1dUlnr8wG2PdHEsNiiRMM9ZFFVinftzz0dTEKinyfZPVrLHnZG/OI92PdiHpy+6z0dzY+jsebzPRVuEHClefw96QzYunWaBD5tT1R2Ol0OPr4SIyYeuBY+i28TwZgSIT6qHQXw/GgpPoKTEOibfDI+llppDAQLOj4/6BmXAqVBPmsDwcBG6EY+Gl0heX5vTD7DtcYB+NxQPhrCGUn8HVM+NdOxSt29VD7oTl7FAJZVPpnIgB4+nlU+KZk9YOrsVD7kys4dEa9TPmMLGWX9G1I+ypMML6ZoUD7lD6ao6H1NPmr1BSVbdUo+BjA7tavWRz4fgCyUfrFFPvmt84yRD0Q+iaggXUX7Qj5pdyBPOoJCPqLa6lrJtEI+Sv3bvtijQz4nPll+aV5FPhzdz1K070c+HxxVMhxeSz5J3TDj16pPPu/J+vUIaVI+A2hj7KZlVT7T1KWl8MRYPs/Lmxp5flw+qB27xm1DYD5gziXTkGZiPrZbaxj6mmQ+MDKsDKvKZj4HoRtks9RoPv/6MBX2jGo+I6eZvATAaz6bQcjhhTtsPr99V2Ok2Ws+5B8zljuMaj6gJX9T1mNoPlgzkk6xj2U+PRR2ZG9WYj4JEcVh6BNePhdaw60c9Vc+hOWsyNPaUj6dz8kfQWFOPkxYIFc0iEo+rT4V5ueSSj6qj2Giq7pOPpRAVg29f1M+/xtlPzyIWT7JT0DoXYxgPhaoUsR3y2Q+odAJiWgaaT69URKcrwZtPrEZttNeFXA+uOPNip0mcT5AiAWQhcBxPi5oK3bXHnI+1LV/wB2zcj4Guz0efhp0PtM9hlZGAnc+AstmqWL7ez6/SSN3zaGBPjCgmn3NSYY+go/UrziDiz4FpfUpS0uQPphgRksqVZI+DH3HYdV7kz7b0bZ+c4CTPo3vvRitWpI+A6a+gHk6kD4GossCbPKKPslcxXhZAIU+GCUXjyS5fj6OmCv3sxZ1PkN+lI1HKms+KaSIJGpqYD6AKfsc9JxSPvYE1mZuzEM+rh1sMErBMz58aoxiVn0iPg==\",\"dtype\":\"float64\",\"order\":\"little\",\"shape\":[200]}},\"selected\":{\"id\":\"1053\"},\"selection_policy\":{\"id\":\"1075\"}},\"id\":\"1052\",\"type\":\"ColumnDataSource\"},{\"attributes\":{\"axis_label\":\"sales_dollars_value_density, y\",\"coordinates\":null,\"formatter\":{\"id\":\"1068\"},\"group\":null,\"major_label_policy\":{\"id\":\"1069\"},\"ticker\":{\"id\":\"1067\"},\"y_range_name\":\"twiny\"},\"id\":\"1062\",\"type\":\"LinearAxis\"},{\"attributes\":{\"bottom\":{\"value\":0},\"fill_color\":{\"value\":\"#00fff0\"},\"hatch_color\":{\"value\":\"#00fff0\"},\"left\":{\"field\":\"left\"},\"right\":{\"field\":\"right\"},\"top\":{\"field\":\"top\"}},\"id\":\"1046\",\"type\":\"Quad\"},{\"attributes\":{\"toolbars\":[{\"id\":\"1030\"}],\"tools\":[{\"id\":\"1006\"},{\"id\":\"1024\"},{\"id\":\"1025\"},{\"id\":\"1026\"},{\"id\":\"1027\"},{\"id\":\"1028\"}]},\"id\":\"1232\",\"type\":\"ProxyToolbar\"},{\"attributes\":{\"columns\":[{\"id\":\"1172\"},{\"id\":\"1177\"},{\"id\":\"1182\"},{\"id\":\"1187\"},{\"id\":\"1192\"},{\"id\":\"1197\"},{\"id\":\"1202\"},{\"id\":\"1207\"}],\"height\":60,\"reorderable\":false,\"source\":{\"id\":\"1168\"},\"view\":{\"id\":\"1212\"}},\"id\":\"1210\",\"type\":\"DataTable\"},{\"attributes\":{\"data\":{\"A_25_percent\":{\"__ndarray__\":\"AAAAABBb7EA=\",\"dtype\":\"float64\",\"order\":\"little\",\"shape\":[1]},\"A_50_percent\":{\"__ndarray__\":\"AAAAANzSEUE=\",\"dtype\":\"float64\",\"order\":\"little\",\"shape\":[1]},\"A_75_percent\":{\"__ndarray__\":\"AAAAgJaLSUE=\",\"dtype\":\"float64\",\"order\":\"little\",\"shape\":[1]},\"count\":{\"__ndarray__\":\"AAAAAABeoEA=\",\"dtype\":\"float64\",\"order\":\"little\",\"shape\":[1]},\"max\":{\"__ndarray__\":\"AAAAAPuIbkE=\",\"dtype\":\"float64\",\"order\":\"little\",\"shape\":[1]},\"mean\":{\"__ndarray__\":\"9ihcD6OwQ0E=\",\"dtype\":\"float64\",\"order\":\"little\",\"shape\":[1]},\"min\":{\"__ndarray__\":\"AAAAAAAA8D8=\",\"dtype\":\"float64\",\"order\":\"little\",\"shape\":[1]},\"std\":{\"__ndarray__\":\"cT0K14lJTUE=\",\"dtype\":\"float64\",\"order\":\"little\",\"shape\":[1]}},\"selected\":{\"id\":\"1169\"},\"selection_policy\":{\"id\":\"1229\"}},\"id\":\"1168\",\"type\":\"ColumnDataSource\"},{\"attributes\":{},\"id\":\"1169\",\"type\":\"Selection\"},{\"attributes\":{},\"id\":\"1229\",\"type\":\"UnionRenderers\"},{\"attributes\":{\"data\":{\"left\":{\"__ndarray__\":\"AAAAAAAA8D8AAACAl20oQQAAAICWbThBAAAAoDBSQkEAAAAAlm1IQQAAAGD7iE5BAAAAYDBSUkEAAAAQ419VQQAAAMCVbVhBAAAAcEh7W0EAAAAg+4heQQAAAOhWy2BBAAAAQDBSYkEAAACYCdljQQAAAPDiX2VBAAAASLzmZkEAAACglW1oQQAAAPhu9GlBAAAAUEh7a0EAAACoIQJtQQ==\",\"dtype\":\"float64\",\"order\":\"little\",\"shape\":[20]},\"right\":{\"__ndarray__\":\"AAAAgJdtKEEAAACAlm04QQAAAKAwUkJBAAAAAJZtSEEAAABg+4hOQQAAAGAwUlJBAAAAEONfVUEAAADAlW1YQQAAAHBIe1tBAAAAIPuIXkEAAADoVstgQQAAAEAwUmJBAAAAmAnZY0EAAADw4l9lQQAAAEi85mZBAAAAoJVtaEEAAAD4bvRpQQAAAFBIe2tBAAAAqCECbUEAAAAA+4huQQ==\",\"dtype\":\"float64\",\"order\":\"little\",\"shape\":[20]},\"top\":[1289,0,95,170,49,0,9,44,136,73,57,26,13,13,15,19,53,31,2,1]},\"selected\":{\"id\":\"1044\"},\"selection_policy\":{\"id\":\"1073\"}},\"id\":\"1043\",\"type\":\"ColumnDataSource\"},{\"attributes\":{\"bottom\":{\"value\":0},\"fill_alpha\":{\"value\":0.2},\"fill_color\":{\"value\":\"#00fff0\"},\"hatch_alpha\":{\"value\":0.2},\"hatch_color\":{\"value\":\"#00fff0\"},\"left\":{\"field\":\"left\"},\"line_alpha\":{\"value\":0.2},\"right\":{\"field\":\"right\"},\"top\":{\"field\":\"top\"}},\"id\":\"1048\",\"type\":\"Quad\"},{\"attributes\":{},\"id\":\"1044\",\"type\":\"Selection\"},{\"attributes\":{\"children\":[{\"id\":\"1003\"},{\"id\":\"1234\"},{\"id\":\"1371\"}],\"margin\":[0,0,0,0],\"name\":\"Row03310\",\"tags\":[\"embedded\"]},\"id\":\"1002\",\"type\":\"Row\"},{\"attributes\":{\"fill_alpha\":0.5,\"fill_color\":\"#30a2da\",\"hatch_color\":\"#30a2da\",\"x\":{\"field\":\"x\"},\"y\":{\"field\":\"y\"}},\"id\":\"1060\",\"type\":\"Patch\"},{\"attributes\":{\"margin\":[5,5,5,5],\"name\":\"HSpacer03314\",\"sizing_mode\":\"stretch_width\"},\"id\":\"1003\",\"type\":\"Spacer\"},{\"attributes\":{\"children\":[[{\"id\":\"1007\"},0,0],[{\"id\":\"1210\"},1,0]]},\"id\":\"1231\",\"type\":\"GridBox\"}],\"root_ids\":[\"1002\"]},\"title\":\"Bokeh Application\",\"version\":\"2.4.3\"}};\n",
       "    var render_items = [{\"docid\":\"36b56d5e-0426-480a-8a85-941ed332a52e\",\"root_ids\":[\"1002\"],\"roots\":{\"1002\":\"aac3f2fb-b80f-4da5-b379-4e5be05c7299\"}}];\n",
       "    root.Bokeh.embed.embed_items_notebook(docs_json, render_items);\n",
       "  }\n",
       "  if (root.Bokeh !== undefined && root.Bokeh.Panel !== undefined) {\n",
       "    embed_document(root);\n",
       "  } else {\n",
       "    var attempts = 0;\n",
       "    var timer = setInterval(function(root) {\n",
       "      if (root.Bokeh !== undefined && root.Bokeh.Panel !== undefined) {\n",
       "        clearInterval(timer);\n",
       "        embed_document(root);\n",
       "      } else if (document.readyState == \"complete\") {\n",
       "        attempts++;\n",
       "        if (attempts > 200) {\n",
       "          clearInterval(timer);\n",
       "          console.log(\"Bokeh: ERROR: Unable to run BokehJS code because BokehJS library is missing\");\n",
       "        }\n",
       "      }\n",
       "    }, 25, root)\n",
       "  }\n",
       "})(window);</script>"
      ],
      "text/plain": [
       ":Layout\n",
       "   .Overlay.I :Overlay\n",
       "      .Histogram.I    :Histogram   [x]   (Frequency)\n",
       "      .Distribution.I :Distribution   [sales_dollars_value]   (Density)\n",
       "   .Table.I   :Table   [count,mean,std,min,25%,50%,75%,max]"
      ]
     },
     "execution_count": 35,
     "metadata": {
      "application/vnd.holoviews_exec.v0+json": {
       "id": "1002"
      }
     },
     "output_type": "execute_result"
    }
   ],
   "source": [
    "kde_plots = eda.get_density_plots(y_train)\n",
    "\n",
    "kde_plots"
   ]
  },
  {
   "cell_type": "code",
   "execution_count": 36,
   "metadata": {},
   "outputs": [],
   "source": [
    "# Save the plots in html\n",
    "reports.create_report(\n",
    "    {'univariate': kde_plots},\n",
    "    name='feature-analysis-univariate'\n",
    ")"
   ]
  },
  {
   "cell_type": "markdown",
   "metadata": {},
   "source": [
    "Alternatively, the above plots can be generated as a single html as below."
   ]
  },
  {
   "cell_type": "code",
   "execution_count": 37,
   "metadata": {},
   "outputs": [],
   "source": [
    "reports.feature_analysis(X_train,'./feature-analysis-report.html')"
   ]
  },
  {
   "cell_type": "markdown",
   "metadata": {},
   "source": [
    "### 2.2 Bivariate Analysis - Mutual Interactions\n",
    "\n",
    "Find columns with high correlations and drop them."
   ]
  },
  {
   "cell_type": "code",
   "execution_count": 38,
   "metadata": {},
   "outputs": [
    {
     "data": {
      "text/plain": [
       "['theme_name_beef_hamburger',\n",
       " 'theme_name_blueberry',\n",
       " 'theme_name_chicken',\n",
       " 'theme_name_crab',\n",
       " 'theme_name_ethical_packaging',\n",
       " 'theme_name_ethnic_exotic',\n",
       " 'theme_name_french_bisque',\n",
       " 'theme_name_gingerbread',\n",
       " 'theme_name_gmo_free',\n",
       " 'theme_name_high_source_of_protein',\n",
       " 'theme_name_low_carb',\n",
       " 'theme_name_low_sodium',\n",
       " 'theme_name_low_sugar',\n",
       " 'theme_name_no_additives_preservatives',\n",
       " 'theme_name_poultry',\n",
       " 'theme_name_salmon',\n",
       " 'theme_name_soy_foods',\n",
       " 'theme_name_tuna',\n",
       " 'theme_name_vegetarian']"
      ]
     },
     "execution_count": 38,
     "metadata": {},
     "output_type": "execute_result"
    }
   ],
   "source": [
    "binary_num_columns = [col for col in X_train.columns \\\n",
    "                        if X_train[col].nunique() <= 2]\n",
    "\n",
    "binary_num_columns"
   ]
  },
  {
   "cell_type": "code",
   "execution_count": 39,
   "metadata": {},
   "outputs": [
    {
     "data": {
      "text/html": [
       "<div>\n",
       "<style scoped>\n",
       "    .dataframe tbody tr th:only-of-type {\n",
       "        vertical-align: middle;\n",
       "    }\n",
       "\n",
       "    .dataframe tbody tr th {\n",
       "        vertical-align: top;\n",
       "    }\n",
       "\n",
       "    .dataframe thead th {\n",
       "        text-align: right;\n",
       "    }\n",
       "</style>\n",
       "<table border=\"1\" class=\"dataframe\">\n",
       "  <thead>\n",
       "    <tr style=\"text-align: right;\">\n",
       "      <th></th>\n",
       "      <th>Variable 1</th>\n",
       "      <th>Variable 2</th>\n",
       "      <th>Corr Coef</th>\n",
       "      <th>Abs Corr Coef</th>\n",
       "    </tr>\n",
       "  </thead>\n",
       "  <tbody>\n",
       "  </tbody>\n",
       "</table>\n",
       "</div>"
      ],
      "text/plain": [
       "Empty DataFrame\n",
       "Columns: [Variable 1, Variable 2, Corr Coef, Abs Corr Coef]\n",
       "Index: []"
      ]
     },
     "execution_count": 39,
     "metadata": {},
     "output_type": "execute_result"
    }
   ],
   "source": [
    "corr_table = eda.get_correlation_table(X_train.drop(columns=binary_num_columns))\n",
    "corr_table[corr_table[\"Abs Corr Coef\"] > 0.6]"
   ]
  },
  {
   "cell_type": "markdown",
   "metadata": {},
   "source": [
    "- We have nothing to remove based on the inter-feature correlation."
   ]
  },
  {
   "cell_type": "code",
   "execution_count": 40,
   "metadata": {},
   "outputs": [
    {
     "data": {
      "text/plain": [
       "(['theme_name_low_sugar',\n",
       "  'theme_name_gmo_free',\n",
       "  'theme_name_high_source_of_protein',\n",
       "  'competitors_count',\n",
       "  'theme_name_ethnic_exotic',\n",
       "  'theme_name_french_bisque',\n",
       "  'search_volume',\n",
       "  'theme_name_salmon',\n",
       "  'theme_name_chicken',\n",
       "  'theme_name_poultry',\n",
       "  'theme_name_soy_foods',\n",
       "  'theme_name_no_additives_preservatives',\n",
       "  'competitor_share',\n",
       "  'theme_name_ethical_packaging',\n",
       "  'theme_name_low_sodium',\n",
       "  'theme_name_gingerbread',\n",
       "  'theme_name_vegetarian',\n",
       "  'theme_name_blueberry',\n",
       "  'theme_name_beef_hamburger',\n",
       "  'theme_name_crab',\n",
       "  'theme_name_tuna',\n",
       "  'total_post',\n",
       "  'theme_name_low_carb'],\n",
       " [])"
      ]
     },
     "execution_count": 40,
     "metadata": {},
     "output_type": "execute_result"
    }
   ],
   "source": [
    "curated_columns = list(\n",
    "    set(X_train.columns.to_list()) \n",
    ")\n",
    "\n",
    "columns_to_drop = []\n",
    "\n",
    "curated_columns, columns_to_drop"
   ]
  },
  {
   "cell_type": "code",
   "execution_count": 41,
   "metadata": {},
   "outputs": [
    {
     "data": {
      "text/html": [
       "<div>\n",
       "<style scoped>\n",
       "    .dataframe tbody tr th:only-of-type {\n",
       "        vertical-align: middle;\n",
       "    }\n",
       "\n",
       "    .dataframe tbody tr th {\n",
       "        vertical-align: top;\n",
       "    }\n",
       "\n",
       "    .dataframe thead th {\n",
       "        text-align: right;\n",
       "    }\n",
       "</style>\n",
       "<table border=\"1\" class=\"dataframe\">\n",
       "  <thead>\n",
       "    <tr style=\"text-align: right;\">\n",
       "      <th></th>\n",
       "      <th>Variable 1</th>\n",
       "      <th>Variable 2</th>\n",
       "      <th>Corr Coef</th>\n",
       "      <th>Abs Corr Coef</th>\n",
       "    </tr>\n",
       "  </thead>\n",
       "  <tbody>\n",
       "  </tbody>\n",
       "</table>\n",
       "</div>"
      ],
      "text/plain": [
       "Empty DataFrame\n",
       "Columns: [Variable 1, Variable 2, Corr Coef, Abs Corr Coef]\n",
       "Index: []"
      ]
     },
     "execution_count": 41,
     "metadata": {},
     "output_type": "execute_result"
    }
   ],
   "source": [
    "X_train_prepared = X_train.drop(columns=columns_to_drop, axis=1)\n",
    "\n",
    "corr_table = eda.get_correlation_table(X_train_prepared.drop(\n",
    "    columns=binary_num_columns,\n",
    "    axis=1\n",
    "))\n",
    "\n",
    "corr_table[corr_table[\"Abs Corr Coef\"] > 0.6]"
   ]
  },
  {
   "cell_type": "code",
   "execution_count": 42,
   "metadata": {},
   "outputs": [
    {
     "data": {},
     "metadata": {},
     "output_type": "display_data"
    },
    {
     "data": {},
     "metadata": {},
     "output_type": "display_data"
    },
    {
     "data": {
      "application/vnd.holoviews_exec.v0+json": "",
      "text/html": [
       "<div id='18232'>\n",
       "  <div class=\"bk-root\" id=\"ed3b00f8-2e7d-4cca-a723-b7623f00c504\" data-root-id=\"18232\"></div>\n",
       "</div>\n",
       "<script type=\"application/javascript\">(function(root) {\n",
       "  function embed_document(root) {\n",
       "    var docs_json = {\"118911ea-add2-42ca-96e4-37df7587fb31\":{\"defs\":[{\"extends\":null,\"module\":null,\"name\":\"ReactiveHTML1\",\"overrides\":[],\"properties\":[]},{\"extends\":null,\"module\":null,\"name\":\"FlexBox1\",\"overrides\":[],\"properties\":[{\"default\":\"flex-start\",\"kind\":null,\"name\":\"align_content\"},{\"default\":\"flex-start\",\"kind\":null,\"name\":\"align_items\"},{\"default\":\"row\",\"kind\":null,\"name\":\"flex_direction\"},{\"default\":\"wrap\",\"kind\":null,\"name\":\"flex_wrap\"},{\"default\":\"flex-start\",\"kind\":null,\"name\":\"justify_content\"}]},{\"extends\":null,\"module\":null,\"name\":\"GridStack1\",\"overrides\":[],\"properties\":[{\"default\":\"warn\",\"kind\":null,\"name\":\"mode\"},{\"default\":null,\"kind\":null,\"name\":\"ncols\"},{\"default\":null,\"kind\":null,\"name\":\"nrows\"},{\"default\":true,\"kind\":null,\"name\":\"allow_resize\"},{\"default\":true,\"kind\":null,\"name\":\"allow_drag\"},{\"default\":[],\"kind\":null,\"name\":\"state\"}]},{\"extends\":null,\"module\":null,\"name\":\"click1\",\"overrides\":[],\"properties\":[{\"default\":\"\",\"kind\":null,\"name\":\"terminal_output\"},{\"default\":\"\",\"kind\":null,\"name\":\"debug_name\"},{\"default\":0,\"kind\":null,\"name\":\"clears\"}]},{\"extends\":null,\"module\":null,\"name\":\"NotificationAreaBase1\",\"overrides\":[],\"properties\":[{\"default\":\"bottom-right\",\"kind\":null,\"name\":\"position\"},{\"default\":0,\"kind\":null,\"name\":\"_clear\"}]},{\"extends\":null,\"module\":null,\"name\":\"NotificationArea1\",\"overrides\":[],\"properties\":[{\"default\":[],\"kind\":null,\"name\":\"notifications\"},{\"default\":\"bottom-right\",\"kind\":null,\"name\":\"position\"},{\"default\":0,\"kind\":null,\"name\":\"_clear\"},{\"default\":[{\"background\":\"#ffc107\",\"icon\":{\"className\":\"fas fa-exclamation-triangle\",\"color\":\"white\",\"tagName\":\"i\"},\"type\":\"warning\"},{\"background\":\"#007bff\",\"icon\":{\"className\":\"fas fa-info-circle\",\"color\":\"white\",\"tagName\":\"i\"},\"type\":\"info\"}],\"kind\":null,\"name\":\"types\"}]},{\"extends\":null,\"module\":null,\"name\":\"Notification\",\"overrides\":[],\"properties\":[{\"default\":null,\"kind\":null,\"name\":\"background\"},{\"default\":3000,\"kind\":null,\"name\":\"duration\"},{\"default\":null,\"kind\":null,\"name\":\"icon\"},{\"default\":\"\",\"kind\":null,\"name\":\"message\"},{\"default\":null,\"kind\":null,\"name\":\"notification_type\"},{\"default\":false,\"kind\":null,\"name\":\"_destroyed\"}]},{\"extends\":null,\"module\":null,\"name\":\"TemplateActions1\",\"overrides\":[],\"properties\":[{\"default\":0,\"kind\":null,\"name\":\"open_modal\"},{\"default\":0,\"kind\":null,\"name\":\"close_modal\"}]},{\"extends\":null,\"module\":null,\"name\":\"MaterialTemplateActions1\",\"overrides\":[],\"properties\":[{\"default\":0,\"kind\":null,\"name\":\"open_modal\"},{\"default\":0,\"kind\":null,\"name\":\"close_modal\"}]}],\"roots\":{\"references\":[{\"attributes\":{\"data\":{\"xs\":[[[\"0.0\",-6.429836177856389e-07],[\"0.0\",-2.12867917914604e-06],[\"0.0\",-6.635225188931597e-06],[\"0.0\",-1.9473152782376575e-05],[\"0.0\",-5.380864131415964e-05],[\"0.0\",-0.00013999190768303405],[\"0.0\",-0.0003429169791856375],[\"0.0\",-0.000790879286753365],[\"0.0\",-0.0017173806870997635],[\"0.0\",-0.003511220671668853],[\"0.0\",-0.006759038012436821],[\"0.0\",-0.012250306581206193],[\"0.0\",-0.020904729298741626],[\"0.0\",-0.03358753889917916],[\"0.0\",-0.05080999079773077],[\"0.0\",-0.07237029939185712],[\"0.0\",-0.0970552880161033],[\"0.0\",-0.12255839802799401],[\"0.0\",-0.1457383865185985],[\"0.0\",-0.16323477241642326],[\"0.0\",-0.17230629991717836],[\"0.0\",-0.17163977079791995],[\"0.0\",-0.16185859612854975],[\"0.0\",-0.14556340852737124],[\"0.0\",-0.12691045999764944],[\"0.0\",-0.11088300055179595],[\"0.0\",-0.1024592246898616],[\"0.0\",-0.1058205845972971],[\"0.0\",-0.12364462509096906],[\"0.0\",-0.1564813773951358],[\"0.0\",-0.20227021806032572],[\"0.0\",-0.25617342607314647],[\"0.0\",-0.3109710155080215],[\"0.0\",-0.3581722830975247],[\"0.0\",-0.3897393405085222],[\"0.0\",-0.4],[\"0.0\",-0.38713734854770054],[\"0.0\",-0.35372150759363186],[\"0.0\",-0.3060880213486701],[\"0.0\",-0.25280209249949187],[\"0.0\",-0.20275397469388873],[\"0.0\",-0.16346486787440714],[\"0.0\",-0.13996735879459407],[\"0.0\",-0.13432068232898617],[\"0.0\",-0.1456125686483468],[\"0.0\",-0.17027418770775565],[\"0.0\",-0.20264189266369073],[\"0.0\",-0.2358027187793013],[\"0.0\",-0.26274376982971254],[\"0.0\",-0.27767726782572516],[\"0.0\",-0.27723402503917904],[\"0.0\",-0.26114930542697884],[\"0.0\",-0.23218577230254078],[\"0.0\",-0.19530638760293517],[\"0.0\",-0.1563865780252125],[\"0.0\",-0.1208941614325356],[\"0.0\",-0.09290754425437697],[\"0.0\",-0.07464349836066735],[\"0.0\",-0.06645020637564938],[\"0.0\",-0.0670984655406698],[\"0.0\",-0.07420580022516461],[\"0.0\",-0.08470602163161843],[\"0.0\",-0.0953487766098519],[\"0.0\",-0.1032247635760225],[\"0.0\",-0.10626612663212605],[\"0.0\",-0.10361842844680309],[\"0.0\",-0.09577535477968195],[\"0.0\",-0.08442775124185208],[\"0.0\",-0.07207339317943035],[\"0.0\",-0.061506366578669036],[\"0.0\",-0.055314431625503924],[\"0.0\",-0.05546322660262078],[\"0.0\",-0.06298193125699257],[\"0.0\",-0.0777370683451912],[\"0.0\",-0.09830860788588845],[\"0.0\",-0.12203651039006654],[\"0.0\",-0.14532806479274374],[\"0.0\",-0.1642620210469547],[\"0.0\",-0.1754013120231481],[\"0.0\",-0.1765955329402402],[\"0.0\",-0.1675014372860287],[\"0.0\",-0.14962336067873042],[\"0.0\",-0.12585193303318684],[\"0.0\",-0.09967219450129905],[\"0.0\",-0.07432432799426734],[\"0.0\",-0.05218267165440968],[\"0.0\",-0.03449515569821469],[\"0.0\",-0.02146968199021465],[\"0.0\",-0.01258138620295949],[\"0.0\",-0.0069417124795879545],[\"0.0\",-0.003606118044668231],[\"0.0\",-0.001763796283111136],[\"0.0\",-0.0008122543838000367],[\"0.0\",-0.00035218500225839717],[\"0.0\",-0.00014377547217977692],[\"0.0\",-5.526292882521827e-05],[\"0.0\",-1.9999454195078963e-05],[\"0.0\",-6.814555597481131e-06],[\"0.0\",-2.1862110485909454e-06],[\"0.0\",-6.60361553368595e-07],[\"0.0\",6.60361553368595e-07],[\"0.0\",2.1862110485909454e-06],[\"0.0\",6.814555597481131e-06],[\"0.0\",1.9999454195078963e-05],[\"0.0\",5.526292882521827e-05],[\"0.0\",0.00014377547217977692],[\"0.0\",0.00035218500225839717],[\"0.0\",0.0008122543838000367],[\"0.0\",0.001763796283111136],[\"0.0\",0.003606118044668231],[\"0.0\",0.0069417124795879545],[\"0.0\",0.01258138620295949],[\"0.0\",0.02146968199021465],[\"0.0\",0.03449515569821469],[\"0.0\",0.05218267165440968],[\"0.0\",0.07432432799426734],[\"0.0\",0.09967219450129905],[\"0.0\",0.12585193303318684],[\"0.0\",0.14962336067873042],[\"0.0\",0.1675014372860287],[\"0.0\",0.1765955329402402],[\"0.0\",0.1754013120231481],[\"0.0\",0.1642620210469547],[\"0.0\",0.14532806479274374],[\"0.0\",0.12203651039006654],[\"0.0\",0.09830860788588845],[\"0.0\",0.0777370683451912],[\"0.0\",0.06298193125699257],[\"0.0\",0.05546322660262078],[\"0.0\",0.055314431625503924],[\"0.0\",0.061506366578669036],[\"0.0\",0.07207339317943035],[\"0.0\",0.08442775124185208],[\"0.0\",0.09577535477968195],[\"0.0\",0.10361842844680309],[\"0.0\",0.10626612663212605],[\"0.0\",0.1032247635760225],[\"0.0\",0.0953487766098519],[\"0.0\",0.08470602163161843],[\"0.0\",0.07420580022516461],[\"0.0\",0.0670984655406698],[\"0.0\",0.06645020637564938],[\"0.0\",0.07464349836066735],[\"0.0\",0.09290754425437697],[\"0.0\",0.1208941614325356],[\"0.0\",0.1563865780252125],[\"0.0\",0.19530638760293517],[\"0.0\",0.23218577230254078],[\"0.0\",0.26114930542697884],[\"0.0\",0.27723402503917904],[\"0.0\",0.27767726782572516],[\"0.0\",0.26274376982971254],[\"0.0\",0.2358027187793013],[\"0.0\",0.20264189266369073],[\"0.0\",0.17027418770775565],[\"0.0\",0.1456125686483468],[\"0.0\",0.13432068232898617],[\"0.0\",0.13996735879459407],[\"0.0\",0.16346486787440714],[\"0.0\",0.20275397469388873],[\"0.0\",0.25280209249949187],[\"0.0\",0.3060880213486701],[\"0.0\",0.35372150759363186],[\"0.0\",0.38713734854770054],[\"0.0\",0.4],[\"0.0\",0.3897393405085222],[\"0.0\",0.3581722830975247],[\"0.0\",0.3109710155080215],[\"0.0\",0.25617342607314647],[\"0.0\",0.20227021806032572],[\"0.0\",0.1564813773951358],[\"0.0\",0.12364462509096906],[\"0.0\",0.1058205845972971],[\"0.0\",0.1024592246898616],[\"0.0\",0.11088300055179595],[\"0.0\",0.12691045999764944],[\"0.0\",0.14556340852737124],[\"0.0\",0.16185859612854975],[\"0.0\",0.17163977079791995],[\"0.0\",0.17230629991717836],[\"0.0\",0.16323477241642326],[\"0.0\",0.1457383865185985],[\"0.0\",0.12255839802799401],[\"0.0\",0.0970552880161033],[\"0.0\",0.07237029939185712],[\"0.0\",0.05080999079773077],[\"0.0\",0.03358753889917916],[\"0.0\",0.020904729298741626],[\"0.0\",0.012250306581206193],[\"0.0\",0.006759038012436821],[\"0.0\",0.003511220671668853],[\"0.0\",0.0017173806870997635],[\"0.0\",0.000790879286753365],[\"0.0\",0.0003429169791856375],[\"0.0\",0.00013999190768303405],[\"0.0\",5.380864131415964e-05],[\"0.0\",1.9473152782376575e-05],[\"0.0\",6.635225188931597e-06],[\"0.0\",2.12867917914604e-06],[\"0.0\",6.429836177856389e-07]],[]],\"ys\":[{\"__ndarray__\":\"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\",\"dtype\":\"float64\",\"order\":\"little\",\"shape\":[200]},{\"__ndarray__\":\"\",\"dtype\":\"float64\",\"order\":\"little\",\"shape\":[0]}]},\"selected\":{\"id\":\"18396\"},\"selection_policy\":{\"id\":\"18395\"}},\"id\":\"18336\",\"type\":\"ColumnDataSource\"},{\"attributes\":{\"end\":2.126766861013031,\"reset_end\":2.126766861013031,\"reset_start\":-1.5491986863137204,\"start\":-1.5491986863137204,\"tags\":[[[\"competitors_count_copy\",\"competitors_count_copy\",null]]]},\"id\":\"18236\",\"type\":\"Range1d\"},{\"attributes\":{\"callback\":null,\"renderers\":[{\"id\":\"18274\"}],\"tags\":[\"hv_created\"],\"tooltips\":[[\"competitors_count\",\"@{competitors_count}\"],[\"competitors_count_copy\",\"@{competitors_count_copy}\"]]},\"id\":\"18237\",\"type\":\"HoverTool\"},{\"attributes\":{},\"id\":\"18325\",\"type\":\"PanTool\"},{\"attributes\":{\"children\":[{\"id\":\"18523\"},{\"id\":\"18596\"}],\"margin\":[0,0,0,0],\"name\":\"Row38977\"},\"id\":\"18519\",\"type\":\"Row\"},{\"attributes\":{},\"id\":\"18248\",\"type\":\"BasicTicker\"},{\"attributes\":{\"data\":{\"xs\":[[[\"0.0\",-6.429836177856389e-07],[\"0.0\",-2.12867917914604e-06],[\"0.0\",-6.635225188931597e-06],[\"0.0\",-1.9473152782376575e-05],[\"0.0\",-5.380864131415964e-05],[\"0.0\",-0.00013999190768303405],[\"0.0\",-0.0003429169791856375],[\"0.0\",-0.000790879286753365],[\"0.0\",-0.0017173806870997635],[\"0.0\",-0.003511220671668853],[\"0.0\",-0.006759038012436821],[\"0.0\",-0.012250306581206193],[\"0.0\",-0.020904729298741626],[\"0.0\",-0.03358753889917916],[\"0.0\",-0.05080999079773077],[\"0.0\",-0.07237029939185712],[\"0.0\",-0.0970552880161033],[\"0.0\",-0.12255839802799401],[\"0.0\",-0.1457383865185985],[\"0.0\",-0.16323477241642326],[\"0.0\",-0.17230629991717836],[\"0.0\",-0.17163977079791995],[\"0.0\",-0.16185859612854975],[\"0.0\",-0.14556340852737124],[\"0.0\",-0.12691045999764944],[\"0.0\",-0.11088300055179595],[\"0.0\",-0.1024592246898616],[\"0.0\",-0.1058205845972971],[\"0.0\",-0.12364462509096906],[\"0.0\",-0.1564813773951358],[\"0.0\",-0.20227021806032572],[\"0.0\",-0.25617342607314647],[\"0.0\",-0.3109710155080215],[\"0.0\",-0.3581722830975247],[\"0.0\",-0.3897393405085222],[\"0.0\",-0.4],[\"0.0\",-0.38713734854770054],[\"0.0\",-0.35372150759363186],[\"0.0\",-0.3060880213486701],[\"0.0\",-0.25280209249949187],[\"0.0\",-0.20275397469388873],[\"0.0\",-0.16346486787440714],[\"0.0\",-0.13996735879459407],[\"0.0\",-0.13432068232898617],[\"0.0\",-0.1456125686483468],[\"0.0\",-0.17027418770775565],[\"0.0\",-0.20264189266369073],[\"0.0\",-0.2358027187793013],[\"0.0\",-0.26274376982971254],[\"0.0\",-0.27767726782572516],[\"0.0\",-0.27723402503917904],[\"0.0\",-0.26114930542697884],[\"0.0\",-0.23218577230254078],[\"0.0\",-0.19530638760293517],[\"0.0\",-0.1563865780252125],[\"0.0\",-0.1208941614325356],[\"0.0\",-0.09290754425437697],[\"0.0\",-0.07464349836066735],[\"0.0\",-0.06645020637564938],[\"0.0\",-0.0670984655406698],[\"0.0\",-0.07420580022516461],[\"0.0\",-0.08470602163161843],[\"0.0\",-0.0953487766098519],[\"0.0\",-0.1032247635760225],[\"0.0\",-0.10626612663212605],[\"0.0\",-0.10361842844680309],[\"0.0\",-0.09577535477968195],[\"0.0\",-0.08442775124185208],[\"0.0\",-0.07207339317943035],[\"0.0\",-0.061506366578669036],[\"0.0\",-0.055314431625503924],[\"0.0\",-0.05546322660262078],[\"0.0\",-0.06298193125699257],[\"0.0\",-0.0777370683451912],[\"0.0\",-0.09830860788588845],[\"0.0\",-0.12203651039006654],[\"0.0\",-0.14532806479274374],[\"0.0\",-0.1642620210469547],[\"0.0\",-0.1754013120231481],[\"0.0\",-0.1765955329402402],[\"0.0\",-0.1675014372860287],[\"0.0\",-0.14962336067873042],[\"0.0\",-0.12585193303318684],[\"0.0\",-0.09967219450129905],[\"0.0\",-0.07432432799426734],[\"0.0\",-0.05218267165440968],[\"0.0\",-0.03449515569821469],[\"0.0\",-0.02146968199021465],[\"0.0\",-0.01258138620295949],[\"0.0\",-0.0069417124795879545],[\"0.0\",-0.003606118044668231],[\"0.0\",-0.001763796283111136],[\"0.0\",-0.0008122543838000367],[\"0.0\",-0.00035218500225839717],[\"0.0\",-0.00014377547217977692],[\"0.0\",-5.526292882521827e-05],[\"0.0\",-1.9999454195078963e-05],[\"0.0\",-6.814555597481131e-06],[\"0.0\",-2.1862110485909454e-06],[\"0.0\",-6.60361553368595e-07],[\"0.0\",6.60361553368595e-07],[\"0.0\",2.1862110485909454e-06],[\"0.0\",6.814555597481131e-06],[\"0.0\",1.9999454195078963e-05],[\"0.0\",5.526292882521827e-05],[\"0.0\",0.00014377547217977692],[\"0.0\",0.00035218500225839717],[\"0.0\",0.0008122543838000367],[\"0.0\",0.001763796283111136],[\"0.0\",0.003606118044668231],[\"0.0\",0.0069417124795879545],[\"0.0\",0.01258138620295949],[\"0.0\",0.02146968199021465],[\"0.0\",0.03449515569821469],[\"0.0\",0.05218267165440968],[\"0.0\",0.07432432799426734],[\"0.0\",0.09967219450129905],[\"0.0\",0.12585193303318684],[\"0.0\",0.14962336067873042],[\"0.0\",0.1675014372860287],[\"0.0\",0.1765955329402402],[\"0.0\",0.1754013120231481],[\"0.0\",0.1642620210469547],[\"0.0\",0.14532806479274374],[\"0.0\",0.12203651039006654],[\"0.0\",0.09830860788588845],[\"0.0\",0.0777370683451912],[\"0.0\",0.06298193125699257],[\"0.0\",0.05546322660262078],[\"0.0\",0.055314431625503924],[\"0.0\",0.061506366578669036],[\"0.0\",0.07207339317943035],[\"0.0\",0.08442775124185208],[\"0.0\",0.09577535477968195],[\"0.0\",0.10361842844680309],[\"0.0\",0.10626612663212605],[\"0.0\",0.1032247635760225],[\"0.0\",0.0953487766098519],[\"0.0\",0.08470602163161843],[\"0.0\",0.07420580022516461],[\"0.0\",0.0670984655406698],[\"0.0\",0.06645020637564938],[\"0.0\",0.07464349836066735],[\"0.0\",0.09290754425437697],[\"0.0\",0.1208941614325356],[\"0.0\",0.1563865780252125],[\"0.0\",0.19530638760293517],[\"0.0\",0.23218577230254078],[\"0.0\",0.26114930542697884],[\"0.0\",0.27723402503917904],[\"0.0\",0.27767726782572516],[\"0.0\",0.26274376982971254],[\"0.0\",0.2358027187793013],[\"0.0\",0.20264189266369073],[\"0.0\",0.17027418770775565],[\"0.0\",0.1456125686483468],[\"0.0\",0.13432068232898617],[\"0.0\",0.13996735879459407],[\"0.0\",0.16346486787440714],[\"0.0\",0.20275397469388873],[\"0.0\",0.25280209249949187],[\"0.0\",0.3060880213486701],[\"0.0\",0.35372150759363186],[\"0.0\",0.38713734854770054],[\"0.0\",0.4],[\"0.0\",0.3897393405085222],[\"0.0\",0.3581722830975247],[\"0.0\",0.3109710155080215],[\"0.0\",0.25617342607314647],[\"0.0\",0.20227021806032572],[\"0.0\",0.1564813773951358],[\"0.0\",0.12364462509096906],[\"0.0\",0.1058205845972971],[\"0.0\",0.1024592246898616],[\"0.0\",0.11088300055179595],[\"0.0\",0.12691045999764944],[\"0.0\",0.14556340852737124],[\"0.0\",0.16185859612854975],[\"0.0\",0.17163977079791995],[\"0.0\",0.17230629991717836],[\"0.0\",0.16323477241642326],[\"0.0\",0.1457383865185985],[\"0.0\",0.12255839802799401],[\"0.0\",0.0970552880161033],[\"0.0\",0.07237029939185712],[\"0.0\",0.05080999079773077],[\"0.0\",0.03358753889917916],[\"0.0\",0.020904729298741626],[\"0.0\",0.012250306581206193],[\"0.0\",0.006759038012436821],[\"0.0\",0.003511220671668853],[\"0.0\",0.0017173806870997635],[\"0.0\",0.000790879286753365],[\"0.0\",0.0003429169791856375],[\"0.0\",0.00013999190768303405],[\"0.0\",5.380864131415964e-05],[\"0.0\",1.9473152782376575e-05],[\"0.0\",6.635225188931597e-06],[\"0.0\",2.12867917914604e-06],[\"0.0\",6.429836177856389e-07]],[]],\"ys\":[{\"__ndarray__\":\"THC0NwODAsAUmV2tUxcCwNzBBiOkqwHApOqvmPQ/AcBsE1kORdQAwDU8AoSVaADA+slW88v5/7+KG6nebCL/vxpt+8kNS/6/qr5Nta5z/b86EKCgT5z8v8th8ovwxPu/W7NEd5Ht+r/rBJdiMhb6v3xW6U3TPvm/DKg7OXRn+L+c+Y0kFZD3vyxL4A+2uPa/vJwy+1bh9b9N7oTm9wn1v90/19GYMvS/bZEpvTlb87/+4nuo2oPyv440zpN7rPG/HoYgfxzV8L9cr+XUevvvv3xSiqu8TO6/nvUugv6d7L++mNNYQO/qv947eC+CQOm/AN8cBsSR578ggsHcBePlv0AlZrNHNOS/YMgKiomF4r+Aa69gy9bgv0QdqG4aUN6/hGPxG57y2r/EqTrJIZXXvwjwg3alN9S/SDbNIyna0L8Q+SyiWfnKv5CFv/xgPsS/ICSkrtAGu79AepLHviGrvwBAVu4Y7jq/gCHZYwa2qj/Ad8d89NC6P2Av0eNyI8Q/4KI+iWveyj8wC1YXsszQP/DEDGouKtQ/sH7DvKqH1z9wOHoPJ+XaPyjyMGKjQt4/9NVz2g/Q4D/UMs8Dzn7iP7SPKi2MLeQ/lOyFVkrc5T90SeF/CIvnP1SmPKnGOek/MAOY0oTo6j8QYPP7QpfsP/C8TiUBRu4/0BmqTr/07z9YuwK8vtHwP8hpsNAdqfE/OBhe5XyA8j+oxgv621fzPxh1uQ47L/Q/hiNnI5oG9T/20RQ4+d31P2aAwkxYtfY/1i5wYbeM9z9G3R12FmT4P7aLy4p1O/k/Jjp5n9QS+j+U6Ca0M+r6PwSX1MiSwfs/dEWC3fGY/D/k8y/yUHD9P1Si3QawR/4/xFCLGw8f/z80/zgwbvb/P9JWc6LmZgBACi7KLJbSAEBCBSG3RT4BQHrcd0H1qQFAsrPOy6QVAkDoiiVWVIECQCBifOAD7QJAWDnTarNYA0CQECr1YsQDQMjngH8SMARAAL/XCcKbBEA4li6UcQcFQHBthR4hcwVAqETcqNDeBUDgGzMzgEoGQBjzib0vtgZAUMrgR98hB0BQyuBH3yEHQBjzib0vtgZA4BszM4BKBkCoRNyo0N4FQHBthR4hcwVAOJYulHEHBUAAv9cJwpsEQMjngH8SMARAkBAq9WLEA0BYOdNqs1gDQCBifOAD7QJA6IolVlSBAkCys87LpBUCQHrcd0H1qQFAQgUht0U+AUAKLsosltIAQNJWc6LmZgBANP84MG72/z/EUIsbDx//P1Si3QawR/4/5PMv8lBw/T90RYLd8Zj8PwSX1MiSwfs/lOgmtDPq+j8mOnmf1BL6P7aLy4p1O/k/Rt0ddhZk+D/WLnBht4z3P2aAwkxYtfY/9tEUOPnd9T+GI2cjmgb1Pxh1uQ47L/Q/qMYL+ttX8z84GF7lfIDyP8hpsNAdqfE/WLsCvL7R8D/QGapOv/TvP/C8TiUBRu4/EGDz+0KX7D8wA5jShOjqP1SmPKnGOek/dEnhfwiL5z+U7IVWStzlP7SPKi2MLeQ/1DLPA85+4j/01XPaD9DgPyjyMGKjQt4/cDh6Dyfl2j+wfsO8qofXP/DEDGouKtQ/MAtWF7LM0D/goj6Ja97KP2Av0eNyI8Q/wHfHfPTQuj+AIdljBraqPwBAVu4Y7jq/QHqSx74hq78gJKSu0Aa7v5CFv/xgPsS/EPksoln5yr9INs0jKdrQvwjwg3alN9S/xKk6ySGV17+EY/EbnvLav0QdqG4aUN6/gGuvYMvW4L9gyAqKiYXiv0AlZrNHNOS/IILB3AXj5b8A3xwGxJHnv947eC+CQOm/vpjTWEDv6r+e9S6C/p3sv3xSiqu8TO6/XK/l1Hr7778ehiB/HNXwv440zpN7rPG//uJ7qNqD8r9tkSm9OVvzv90/19GYMvS/Te6E5vcJ9b+8nDL7VuH1vyxL4A+2uPa/nPmNJBWQ978MqDs5dGf4v3xW6U3TPvm/6wSXYjIW+r9bs0R3ke36v8th8ovwxPu/OhCgoE+c/L+qvk21rnP9vxpt+8kNS/6/ihup3mwi/7/6yVbzy/n/vzU8AoSVaADAbBNZDkXUAMCk6q+Y9D8BwNzBBiOkqwHAFJldrVMXAsBMcLQ3A4MCwA==\",\"dtype\":\"float64\",\"order\":\"little\",\"shape\":[200]},{\"__ndarray__\":\"\",\"dtype\":\"float64\",\"order\":\"little\",\"shape\":[0]}]},\"selected\":{\"id\":\"18503\"},\"selection_policy\":{\"id\":\"18502\"}},\"id\":\"18443\",\"type\":\"ColumnDataSource\"},{\"attributes\":{\"data\":{\"x\":[[\"0.0\",0],[\"1.0\",0]],\"y0\":{\"__ndarray__\":\"25Z3ysni87/blnfKyeLzvw==\",\"dtype\":\"float64\",\"order\":\"little\",\"shape\":[2]},\"y1\":{\"__ndarray__\":\"dFJ+/a7f8D/blnfKyeLzvw==\",\"dtype\":\"float64\",\"order\":\"little\",\"shape\":[2]}},\"selected\":{\"id\":\"18507\"},\"selection_policy\":{\"id\":\"18506\"}},\"id\":\"18459\",\"type\":\"ColumnDataSource\"},{\"attributes\":{\"fill_alpha\":{\"value\":0.5},\"fill_color\":{\"value\":\"#30a2da\"},\"hatch_alpha\":{\"value\":1.0},\"hatch_color\":{\"value\":\"black\"},\"hatch_scale\":{\"value\":12.0},\"hatch_weight\":{\"value\":1.0},\"line_alpha\":{\"value\":1.0},\"line_cap\":{\"value\":\"butt\"},\"line_color\":{\"value\":\"#1f77b4\"},\"line_dash\":{\"value\":[]},\"line_dash_offset\":{\"value\":0},\"line_join\":{\"value\":\"bevel\"},\"line_width\":{\"value\":0},\"xs\":{\"field\":\"ys\"},\"ys\":{\"field\":\"xs\"}},\"id\":\"18450\",\"type\":\"Patches\"},{\"attributes\":{\"axis\":{\"id\":\"18247\"},\"coordinates\":null,\"grid_line_color\":null,\"group\":null,\"ticker\":null},\"id\":\"18250\",\"type\":\"Grid\"},{\"attributes\":{\"margin\":[20,20,5,20],\"min_width\":250,\"options\":[\"competitors_count\",\"total_post\",\"competitor_share\",\"search_volume\"],\"title\":\"x_var\",\"value\":\"competitors_count\",\"width\":250},\"id\":\"18515\",\"type\":\"panel.models.widgets.CustomSelect\"},{\"attributes\":{\"axis_label\":\"theme_name_beef_hamburger\",\"coordinates\":null,\"formatter\":{\"id\":\"18377\"},\"group\":null,\"major_label_policy\":{\"id\":\"18378\"},\"ticker\":{\"id\":\"18318\"}},\"id\":\"18317\",\"type\":\"CategoricalAxis\"},{\"attributes\":{\"line_alpha\":{\"value\":0.2},\"xs\":{\"field\":\"ys\"},\"ys\":{\"field\":\"xs\"}},\"id\":\"18455\",\"type\":\"MultiLine\"},{\"attributes\":{},\"id\":\"18504\",\"type\":\"UnionRenderers\"},{\"attributes\":{\"fill_alpha\":{\"value\":0.5},\"fill_color\":{\"value\":\"#30a2da\"},\"hatch_alpha\":{\"value\":0.2},\"line_alpha\":{\"value\":0.2},\"line_color\":{\"value\":\"#1f77b4\"},\"line_width\":{\"value\":0},\"xs\":{\"field\":\"xs\"},\"ys\":{\"field\":\"ys\"}},\"id\":\"18340\",\"type\":\"Patches\"},{\"attributes\":{\"bottom\":{\"field\":\"bottom\"},\"fill_alpha\":{\"value\":0.2},\"fill_color\":{\"field\":\"theme_name_beef_hamburger_copy\",\"transform\":{\"id\":\"18552\"}},\"hatch_alpha\":{\"value\":0.2},\"hatch_color\":{\"field\":\"theme_name_beef_hamburger_copy\",\"transform\":{\"id\":\"18552\"}},\"line_alpha\":{\"value\":0.2},\"top\":{\"field\":\"top\"},\"width\":{\"value\":0.8},\"x\":{\"field\":\"theme_name_beef_hamburger\"}},\"id\":\"18558\",\"type\":\"VBar\"},{\"attributes\":{},\"id\":\"18502\",\"type\":\"UnionRenderers\"},{\"attributes\":{\"data\":{\"xs\":[[[\"0.0\",-6.429836177856389e-07],[\"0.0\",-2.12867917914604e-06],[\"0.0\",-6.635225188931597e-06],[\"0.0\",-1.9473152782376575e-05],[\"0.0\",-5.380864131415964e-05],[\"0.0\",-0.00013999190768303405],[\"0.0\",-0.0003429169791856375],[\"0.0\",-0.000790879286753365],[\"0.0\",-0.0017173806870997635],[\"0.0\",-0.003511220671668853],[\"0.0\",-0.006759038012436821],[\"0.0\",-0.012250306581206193],[\"0.0\",-0.020904729298741626],[\"0.0\",-0.03358753889917916],[\"0.0\",-0.05080999079773077],[\"0.0\",-0.07237029939185712],[\"0.0\",-0.0970552880161033],[\"0.0\",-0.12255839802799401],[\"0.0\",-0.1457383865185985],[\"0.0\",-0.16323477241642326],[\"0.0\",-0.17230629991717836],[\"0.0\",-0.17163977079791995],[\"0.0\",-0.16185859612854975],[\"0.0\",-0.14556340852737124],[\"0.0\",-0.12691045999764944],[\"0.0\",-0.11088300055179595],[\"0.0\",-0.1024592246898616],[\"0.0\",-0.1058205845972971],[\"0.0\",-0.12364462509096906],[\"0.0\",-0.1564813773951358],[\"0.0\",-0.20227021806032572],[\"0.0\",-0.25617342607314647],[\"0.0\",-0.3109710155080215],[\"0.0\",-0.3581722830975247],[\"0.0\",-0.3897393405085222],[\"0.0\",-0.4],[\"0.0\",-0.38713734854770054],[\"0.0\",-0.35372150759363186],[\"0.0\",-0.3060880213486701],[\"0.0\",-0.25280209249949187],[\"0.0\",-0.20275397469388873],[\"0.0\",-0.16346486787440714],[\"0.0\",-0.13996735879459407],[\"0.0\",-0.13432068232898617],[\"0.0\",-0.1456125686483468],[\"0.0\",-0.17027418770775565],[\"0.0\",-0.20264189266369073],[\"0.0\",-0.2358027187793013],[\"0.0\",-0.26274376982971254],[\"0.0\",-0.27767726782572516],[\"0.0\",-0.27723402503917904],[\"0.0\",-0.26114930542697884],[\"0.0\",-0.23218577230254078],[\"0.0\",-0.19530638760293517],[\"0.0\",-0.1563865780252125],[\"0.0\",-0.1208941614325356],[\"0.0\",-0.09290754425437697],[\"0.0\",-0.07464349836066735],[\"0.0\",-0.06645020637564938],[\"0.0\",-0.0670984655406698],[\"0.0\",-0.07420580022516461],[\"0.0\",-0.08470602163161843],[\"0.0\",-0.0953487766098519],[\"0.0\",-0.1032247635760225],[\"0.0\",-0.10626612663212605],[\"0.0\",-0.10361842844680309],[\"0.0\",-0.09577535477968195],[\"0.0\",-0.08442775124185208],[\"0.0\",-0.07207339317943035],[\"0.0\",-0.061506366578669036],[\"0.0\",-0.055314431625503924],[\"0.0\",-0.05546322660262078],[\"0.0\",-0.06298193125699257],[\"0.0\",-0.0777370683451912],[\"0.0\",-0.09830860788588845],[\"0.0\",-0.12203651039006654],[\"0.0\",-0.14532806479274374],[\"0.0\",-0.1642620210469547],[\"0.0\",-0.1754013120231481],[\"0.0\",-0.1765955329402402],[\"0.0\",-0.1675014372860287],[\"0.0\",-0.14962336067873042],[\"0.0\",-0.12585193303318684],[\"0.0\",-0.09967219450129905],[\"0.0\",-0.07432432799426734],[\"0.0\",-0.05218267165440968],[\"0.0\",-0.03449515569821469],[\"0.0\",-0.02146968199021465],[\"0.0\",-0.01258138620295949],[\"0.0\",-0.0069417124795879545],[\"0.0\",-0.003606118044668231],[\"0.0\",-0.001763796283111136],[\"0.0\",-0.0008122543838000367],[\"0.0\",-0.00035218500225839717],[\"0.0\",-0.00014377547217977692],[\"0.0\",-5.526292882521827e-05],[\"0.0\",-1.9999454195078963e-05],[\"0.0\",-6.814555597481131e-06],[\"0.0\",-2.1862110485909454e-06],[\"0.0\",-6.60361553368595e-07],[\"0.0\",6.60361553368595e-07],[\"0.0\",2.1862110485909454e-06],[\"0.0\",6.814555597481131e-06],[\"0.0\",1.9999454195078963e-05],[\"0.0\",5.526292882521827e-05],[\"0.0\",0.00014377547217977692],[\"0.0\",0.00035218500225839717],[\"0.0\",0.0008122543838000367],[\"0.0\",0.001763796283111136],[\"0.0\",0.003606118044668231],[\"0.0\",0.0069417124795879545],[\"0.0\",0.01258138620295949],[\"0.0\",0.02146968199021465],[\"0.0\",0.03449515569821469],[\"0.0\",0.05218267165440968],[\"0.0\",0.07432432799426734],[\"0.0\",0.09967219450129905],[\"0.0\",0.12585193303318684],[\"0.0\",0.14962336067873042],[\"0.0\",0.1675014372860287],[\"0.0\",0.1765955329402402],[\"0.0\",0.1754013120231481],[\"0.0\",0.1642620210469547],[\"0.0\",0.14532806479274374],[\"0.0\",0.12203651039006654],[\"0.0\",0.09830860788588845],[\"0.0\",0.0777370683451912],[\"0.0\",0.06298193125699257],[\"0.0\",0.05546322660262078],[\"0.0\",0.055314431625503924],[\"0.0\",0.061506366578669036],[\"0.0\",0.07207339317943035],[\"0.0\",0.08442775124185208],[\"0.0\",0.09577535477968195],[\"0.0\",0.10361842844680309],[\"0.0\",0.10626612663212605],[\"0.0\",0.1032247635760225],[\"0.0\",0.0953487766098519],[\"0.0\",0.08470602163161843],[\"0.0\",0.07420580022516461],[\"0.0\",0.0670984655406698],[\"0.0\",0.06645020637564938],[\"0.0\",0.07464349836066735],[\"0.0\",0.09290754425437697],[\"0.0\",0.1208941614325356],[\"0.0\",0.1563865780252125],[\"0.0\",0.19530638760293517],[\"0.0\",0.23218577230254078],[\"0.0\",0.26114930542697884],[\"0.0\",0.27723402503917904],[\"0.0\",0.27767726782572516],[\"0.0\",0.26274376982971254],[\"0.0\",0.2358027187793013],[\"0.0\",0.20264189266369073],[\"0.0\",0.17027418770775565],[\"0.0\",0.1456125686483468],[\"0.0\",0.13432068232898617],[\"0.0\",0.13996735879459407],[\"0.0\",0.16346486787440714],[\"0.0\",0.20275397469388873],[\"0.0\",0.25280209249949187],[\"0.0\",0.3060880213486701],[\"0.0\",0.35372150759363186],[\"0.0\",0.38713734854770054],[\"0.0\",0.4],[\"0.0\",0.3897393405085222],[\"0.0\",0.3581722830975247],[\"0.0\",0.3109710155080215],[\"0.0\",0.25617342607314647],[\"0.0\",0.20227021806032572],[\"0.0\",0.1564813773951358],[\"0.0\",0.12364462509096906],[\"0.0\",0.1058205845972971],[\"0.0\",0.1024592246898616],[\"0.0\",0.11088300055179595],[\"0.0\",0.12691045999764944],[\"0.0\",0.14556340852737124],[\"0.0\",0.16185859612854975],[\"0.0\",0.17163977079791995],[\"0.0\",0.17230629991717836],[\"0.0\",0.16323477241642326],[\"0.0\",0.1457383865185985],[\"0.0\",0.12255839802799401],[\"0.0\",0.0970552880161033],[\"0.0\",0.07237029939185712],[\"0.0\",0.05080999079773077],[\"0.0\",0.03358753889917916],[\"0.0\",0.020904729298741626],[\"0.0\",0.012250306581206193],[\"0.0\",0.006759038012436821],[\"0.0\",0.003511220671668853],[\"0.0\",0.0017173806870997635],[\"0.0\",0.000790879286753365],[\"0.0\",0.0003429169791856375],[\"0.0\",0.00013999190768303405],[\"0.0\",5.380864131415964e-05],[\"0.0\",1.9473152782376575e-05],[\"0.0\",6.635225188931597e-06],[\"0.0\",2.12867917914604e-06],[\"0.0\",6.429836177856389e-07]],[]],\"ys\":[{\"__ndarray__\":\"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\",\"dtype\":\"float64\",\"order\":\"little\",\"shape\":[200]},{\"__ndarray__\":\"\",\"dtype\":\"float64\",\"order\":\"little\",\"shape\":[0]}]},\"selected\":{\"id\":\"18505\"},\"selection_policy\":{\"id\":\"18504\"}},\"id\":\"18451\",\"type\":\"ColumnDataSource\"},{\"attributes\":{\"children\":[{\"id\":\"18415\"},{\"id\":\"18513\"}],\"margin\":[0,0,0,0],\"name\":\"Row38964\"},\"id\":\"18412\",\"type\":\"Row\"},{\"attributes\":{\"coordinates\":null,\"data_source\":{\"id\":\"18268\"},\"glyph\":{\"id\":\"18271\"},\"group\":null,\"hover_glyph\":null,\"muted_glyph\":{\"id\":\"18273\"},\"nonselection_glyph\":{\"id\":\"18272\"},\"selection_glyph\":{\"id\":\"18276\"},\"view\":{\"id\":\"18275\"}},\"id\":\"18274\",\"type\":\"GlyphRenderer\"},{\"attributes\":{\"axis\":{\"id\":\"18320\"},\"coordinates\":null,\"dimension\":1,\"grid_line_color\":null,\"group\":null,\"ticker\":null},\"id\":\"18323\",\"type\":\"Grid\"},{\"attributes\":{},\"id\":\"18296\",\"type\":\"UnionRenderers\"},{\"attributes\":{\"bottom\":{\"field\":\"bottom\"},\"fill_alpha\":{\"value\":0.1},\"fill_color\":{\"field\":\"theme_name_beef_hamburger_copy\",\"transform\":{\"id\":\"18552\"}},\"hatch_alpha\":{\"value\":0.1},\"hatch_color\":{\"field\":\"theme_name_beef_hamburger_copy\",\"transform\":{\"id\":\"18552\"}},\"line_alpha\":{\"value\":0.1},\"top\":{\"field\":\"top\"},\"width\":{\"value\":0.8},\"x\":{\"field\":\"theme_name_beef_hamburger\"}},\"id\":\"18557\",\"type\":\"VBar\"},{\"attributes\":{\"margin\":[5,20,20,20],\"min_width\":250,\"options\":[\"theme_name_beef_hamburger\",\"theme_name_blueberry\",\"theme_name_chicken\",\"theme_name_crab\",\"theme_name_ethical_packaging\",\"theme_name_ethnic_exotic\",\"theme_name_french_bisque\",\"theme_name_gingerbread\",\"theme_name_gmo_free\",\"theme_name_high_source_of_protein\",\"theme_name_low_carb\",\"theme_name_low_sodium\",\"theme_name_low_sugar\",\"theme_name_no_additives_preservatives\",\"theme_name_poultry\",\"theme_name_salmon\",\"theme_name_soy_foods\",\"theme_name_tuna\",\"theme_name_vegetarian\"],\"title\":\"y_var\",\"value\":\"theme_name_beef_hamburger\",\"width\":250},\"id\":\"18516\",\"type\":\"panel.models.widgets.CustomSelect\"},{\"attributes\":{\"angle\":{\"value\":0.0},\"fill_alpha\":{\"value\":1.0},\"fill_color\":{\"value\":\"#30a2da\"},\"hatch_alpha\":{\"value\":1.0},\"hatch_color\":{\"value\":\"#30a2da\"},\"hatch_scale\":{\"value\":12.0},\"hatch_weight\":{\"value\":1.0},\"line_alpha\":{\"value\":1.0},\"line_cap\":{\"value\":\"butt\"},\"line_color\":{\"value\":\"#30a2da\"},\"line_dash\":{\"value\":[]},\"line_dash_offset\":{\"value\":0},\"line_join\":{\"value\":\"bevel\"},\"line_width\":{\"value\":1},\"marker\":{\"value\":\"circle\"},\"size\":{\"value\":5.477225575051661},\"x\":{\"field\":\"competitors_count\"},\"y\":{\"field\":\"competitors_count_copy\"}},\"id\":\"18276\",\"type\":\"Scatter\"},{\"attributes\":{\"margin\":[5,5,5,5],\"name\":\"VSpacer38972\",\"sizing_mode\":\"stretch_height\"},\"id\":\"18517\",\"type\":\"Spacer\"},{\"attributes\":{},\"id\":\"18485\",\"type\":\"AllLabels\"},{\"attributes\":{\"below\":[{\"id\":\"18424\"}],\"center\":[{\"id\":\"18427\"},{\"id\":\"18430\"}],\"height\":400,\"left\":[{\"id\":\"18428\"}],\"margin\":[5,5,5,5],\"min_border_bottom\":10,\"min_border_left\":10,\"min_border_right\":10,\"min_border_top\":10,\"renderers\":[{\"id\":\"18448\"},{\"id\":\"18456\"},{\"id\":\"18464\"},{\"id\":\"18472\"},{\"id\":\"18480\"}],\"sizing_mode\":\"fixed\",\"title\":{\"id\":\"18416\"},\"toolbar\":{\"id\":\"18437\"},\"width\":700,\"x_range\":{\"id\":\"18235\"},\"x_scale\":{\"id\":\"18420\"},\"y_range\":{\"id\":\"18306\"},\"y_scale\":{\"id\":\"18422\"}},\"id\":\"18415\",\"subtype\":\"Figure\",\"type\":\"Plot\"},{\"attributes\":{\"fill_alpha\":{\"value\":0.5},\"fill_color\":{\"value\":\"#30a2da\"},\"line_color\":{\"value\":\"#1f77b4\"},\"line_width\":{\"value\":0},\"xs\":{\"field\":\"xs\"},\"ys\":{\"field\":\"ys\"}},\"id\":\"18338\",\"type\":\"Patches\"},{\"attributes\":{\"fill_alpha\":{\"value\":0.2},\"fill_color\":{\"value\":\"white\"},\"hatch_alpha\":{\"value\":0.2},\"hatch_color\":{\"value\":\"white\"},\"line_alpha\":{\"value\":0.2},\"line_color\":{\"value\":\"white\"},\"x\":{\"field\":\"y\"},\"y\":{\"field\":\"x\"}},\"id\":\"18479\",\"type\":\"Scatter\"},{\"attributes\":{\"data\":{\"x\":[[\"0.0\",0],[\"1.0\",0]],\"y0\":{\"__ndarray__\":\"25Z3ysni87/blnfKyeLzvw==\",\"dtype\":\"float64\",\"order\":\"little\",\"shape\":[2]},\"y1\":{\"__ndarray__\":\"dFJ+/a7f8D/blnfKyeLzvw==\",\"dtype\":\"float64\",\"order\":\"little\",\"shape\":[2]}},\"selected\":{\"id\":\"18400\"},\"selection_policy\":{\"id\":\"18399\"}},\"id\":\"18352\",\"type\":\"ColumnDataSource\"},{\"attributes\":{},\"id\":\"18484\",\"type\":\"BasicTickFormatter\"},{\"attributes\":{},\"id\":\"18420\",\"type\":\"LinearScale\"},{\"attributes\":{},\"id\":\"18278\",\"type\":\"BasicTickFormatter\"},{\"attributes\":{\"axis\":{\"id\":\"18424\"},\"coordinates\":null,\"grid_line_color\":null,\"group\":null,\"ticker\":null},\"id\":\"18427\",\"type\":\"Grid\"},{\"attributes\":{\"data\":{\"x\":[[\"0.0\",0],[\"1.0\",0]],\"y\":{\"__ndarray__\":\"rnmWdNuH3r/blnfKyeLzvw==\",\"dtype\":\"float64\",\"order\":\"little\",\"shape\":[2]}},\"selected\":{\"id\":\"18511\"},\"selection_policy\":{\"id\":\"18510\"}},\"id\":\"18475\",\"type\":\"ColumnDataSource\"},{\"attributes\":{},\"id\":\"18422\",\"type\":\"CategoricalScale\"},{\"attributes\":{\"tools\":[{\"id\":\"18324\"},{\"id\":\"18325\"},{\"id\":\"18326\"},{\"id\":\"18327\"},{\"id\":\"18328\"}]},\"id\":\"18330\",\"type\":\"Toolbar\"},{\"attributes\":{\"factors\":[\"0.0\",\"1.0\"],\"palette\":[\"#30a2da\",\"#fc4f30\"]},\"id\":\"18552\",\"type\":\"CategoricalColorMapper\"},{\"attributes\":{\"children\":[{\"id\":\"18597\"},{\"id\":\"18600\"}],\"margin\":[0,0,0,0],\"name\":\"Column38986\"},\"id\":\"18596\",\"type\":\"Column\"},{\"attributes\":{\"source\":{\"id\":\"18451\"}},\"id\":\"18457\",\"type\":\"CDSView\"},{\"attributes\":{},\"id\":\"18425\",\"type\":\"BasicTicker\"},{\"attributes\":{},\"id\":\"18282\",\"type\":\"AllLabels\"},{\"attributes\":{\"line_alpha\":{\"value\":0.2},\"xs\":{\"field\":\"xs\"},\"ys\":{\"field\":\"ys\"}},\"id\":\"18348\",\"type\":\"MultiLine\"},{\"attributes\":{\"bottom_units\":\"screen\",\"coordinates\":null,\"fill_alpha\":0.5,\"fill_color\":\"lightgrey\",\"group\":null,\"left_units\":\"screen\",\"level\":\"overlay\",\"line_alpha\":1.0,\"line_color\":\"black\",\"line_dash\":[4,4],\"line_width\":2,\"right_units\":\"screen\",\"syncable\":false,\"top_units\":\"screen\"},\"id\":\"18329\",\"type\":\"BoxAnnotation\"},{\"attributes\":{\"data\":{\"bottom\":{\"__ndarray__\":\"rnmWdNuH3r/blnfKyeLzvw==\",\"dtype\":\"float64\",\"order\":\"little\",\"shape\":[2]},\"top\":{\"__ndarray__\":\"EmixQHB70j/blnfKyeLzvw==\",\"dtype\":\"float64\",\"order\":\"little\",\"shape\":[2]},\"x\":[[\"0.0\",0],[\"1.0\",0]]},\"selected\":{\"id\":\"18402\"},\"selection_policy\":{\"id\":\"18401\"}},\"id\":\"18360\",\"type\":\"ColumnDataSource\"},{\"attributes\":{\"overlay\":{\"id\":\"18260\"}},\"id\":\"18258\",\"type\":\"BoxZoomTool\"},{\"attributes\":{},\"id\":\"18259\",\"type\":\"ResetTool\"},{\"attributes\":{\"source\":{\"id\":\"18553\"}},\"id\":\"18560\",\"type\":\"CDSView\"},{\"attributes\":{\"children\":[{\"id\":\"18598\"},{\"id\":\"18599\"}],\"css_classes\":[\"panel-widget-box\"],\"margin\":[5,5,5,5],\"name\":\"WidgetBox38978\"},\"id\":\"18597\",\"type\":\"Column\"},{\"attributes\":{\"margin\":[20,20,5,20],\"min_width\":250,\"options\":[\"theme_name_beef_hamburger\",\"theme_name_blueberry\",\"theme_name_chicken\",\"theme_name_crab\",\"theme_name_ethical_packaging\",\"theme_name_ethnic_exotic\",\"theme_name_french_bisque\",\"theme_name_gingerbread\",\"theme_name_gmo_free\",\"theme_name_high_source_of_protein\",\"theme_name_low_carb\",\"theme_name_low_sodium\",\"theme_name_low_sugar\",\"theme_name_no_additives_preservatives\",\"theme_name_poultry\",\"theme_name_salmon\",\"theme_name_soy_foods\",\"theme_name_tuna\",\"theme_name_vegetarian\"],\"title\":\"x_var\",\"value\":\"theme_name_beef_hamburger\",\"width\":250},\"id\":\"18408\",\"type\":\"panel.models.widgets.CustomSelect\"},{\"attributes\":{},\"id\":\"18328\",\"type\":\"ResetTool\"},{\"attributes\":{},\"id\":\"18432\",\"type\":\"PanTool\"},{\"attributes\":{},\"id\":\"18567\",\"type\":\"AllLabels\"},{\"attributes\":{},\"id\":\"18435\",\"type\":\"ResetTool\"},{\"attributes\":{\"bottom_units\":\"screen\",\"coordinates\":null,\"fill_alpha\":0.5,\"fill_color\":\"lightgrey\",\"group\":null,\"left_units\":\"screen\",\"level\":\"overlay\",\"line_alpha\":1.0,\"line_color\":\"black\",\"line_dash\":[4,4],\"line_width\":2,\"right_units\":\"screen\",\"syncable\":false,\"top_units\":\"screen\"},\"id\":\"18260\",\"type\":\"BoxAnnotation\"},{\"attributes\":{\"overlay\":{\"id\":\"18329\"}},\"id\":\"18327\",\"type\":\"BoxZoomTool\"},{\"attributes\":{\"tools\":[{\"id\":\"18522\"},{\"id\":\"18539\"},{\"id\":\"18540\"},{\"id\":\"18541\"},{\"id\":\"18542\"},{\"id\":\"18543\"}]},\"id\":\"18545\",\"type\":\"Toolbar\"},{\"attributes\":{},\"id\":\"18564\",\"type\":\"AllLabels\"},{\"attributes\":{},\"id\":\"18324\",\"type\":\"SaveTool\"},{\"attributes\":{\"xs\":{\"field\":\"ys\"},\"ys\":{\"field\":\"xs\"}},\"id\":\"18453\",\"type\":\"MultiLine\"},{\"attributes\":{},\"id\":\"18503\",\"type\":\"Selection\"},{\"attributes\":{},\"id\":\"18321\",\"type\":\"BasicTicker\"},{\"attributes\":{},\"id\":\"18554\",\"type\":\"Selection\"},{\"attributes\":{\"fill_alpha\":{\"value\":0.1},\"fill_color\":{\"value\":\"#30a2da\"},\"hatch_alpha\":{\"value\":0.1},\"hatch_color\":{\"value\":\"#30a2da\"},\"line_alpha\":{\"value\":0.1},\"line_color\":{\"value\":\"#30a2da\"},\"size\":{\"value\":5.477225575051661},\"x\":{\"field\":\"competitors_count\"},\"y\":{\"field\":\"competitors_count_copy\"}},\"id\":\"18272\",\"type\":\"Scatter\"},{\"attributes\":{\"margin\":[5,5,5,5],\"name\":\"VSpacer38959\",\"sizing_mode\":\"stretch_height\"},\"id\":\"18410\",\"type\":\"Spacer\"},{\"attributes\":{},\"id\":\"18326\",\"type\":\"WheelZoomTool\"},{\"attributes\":{\"axis_label\":\"competitors_count\",\"coordinates\":null,\"formatter\":{\"id\":\"18380\"},\"group\":null,\"major_label_policy\":{\"id\":\"18381\"},\"ticker\":{\"id\":\"18321\"}},\"id\":\"18320\",\"type\":\"LinearAxis\"},{\"attributes\":{\"coordinates\":null,\"data_source\":{\"id\":\"18451\"},\"glyph\":{\"id\":\"18453\"},\"group\":null,\"hover_glyph\":null,\"muted_glyph\":{\"id\":\"18455\"},\"nonselection_glyph\":{\"id\":\"18454\"},\"selection_glyph\":{\"id\":\"18458\"},\"view\":{\"id\":\"18457\"}},\"id\":\"18456\",\"type\":\"GlyphRenderer\"},{\"attributes\":{\"source\":{\"id\":\"18344\"}},\"id\":\"18350\",\"type\":\"CDSView\"},{\"attributes\":{\"data\":{\"xs\":[[[\"0.0\",-6.429836177856389e-07],[\"0.0\",-2.12867917914604e-06],[\"0.0\",-6.635225188931597e-06],[\"0.0\",-1.9473152782376575e-05],[\"0.0\",-5.380864131415964e-05],[\"0.0\",-0.00013999190768303405],[\"0.0\",-0.0003429169791856375],[\"0.0\",-0.000790879286753365],[\"0.0\",-0.0017173806870997635],[\"0.0\",-0.003511220671668853],[\"0.0\",-0.006759038012436821],[\"0.0\",-0.012250306581206193],[\"0.0\",-0.020904729298741626],[\"0.0\",-0.03358753889917916],[\"0.0\",-0.05080999079773077],[\"0.0\",-0.07237029939185712],[\"0.0\",-0.0970552880161033],[\"0.0\",-0.12255839802799401],[\"0.0\",-0.1457383865185985],[\"0.0\",-0.16323477241642326],[\"0.0\",-0.17230629991717836],[\"0.0\",-0.17163977079791995],[\"0.0\",-0.16185859612854975],[\"0.0\",-0.14556340852737124],[\"0.0\",-0.12691045999764944],[\"0.0\",-0.11088300055179595],[\"0.0\",-0.1024592246898616],[\"0.0\",-0.1058205845972971],[\"0.0\",-0.12364462509096906],[\"0.0\",-0.1564813773951358],[\"0.0\",-0.20227021806032572],[\"0.0\",-0.25617342607314647],[\"0.0\",-0.3109710155080215],[\"0.0\",-0.3581722830975247],[\"0.0\",-0.3897393405085222],[\"0.0\",-0.4],[\"0.0\",-0.38713734854770054],[\"0.0\",-0.35372150759363186],[\"0.0\",-0.3060880213486701],[\"0.0\",-0.25280209249949187],[\"0.0\",-0.20275397469388873],[\"0.0\",-0.16346486787440714],[\"0.0\",-0.13996735879459407],[\"0.0\",-0.13432068232898617],[\"0.0\",-0.1456125686483468],[\"0.0\",-0.17027418770775565],[\"0.0\",-0.20264189266369073],[\"0.0\",-0.2358027187793013],[\"0.0\",-0.26274376982971254],[\"0.0\",-0.27767726782572516],[\"0.0\",-0.27723402503917904],[\"0.0\",-0.26114930542697884],[\"0.0\",-0.23218577230254078],[\"0.0\",-0.19530638760293517],[\"0.0\",-0.1563865780252125],[\"0.0\",-0.1208941614325356],[\"0.0\",-0.09290754425437697],[\"0.0\",-0.07464349836066735],[\"0.0\",-0.06645020637564938],[\"0.0\",-0.0670984655406698],[\"0.0\",-0.07420580022516461],[\"0.0\",-0.08470602163161843],[\"0.0\",-0.0953487766098519],[\"0.0\",-0.1032247635760225],[\"0.0\",-0.10626612663212605],[\"0.0\",-0.10361842844680309],[\"0.0\",-0.09577535477968195],[\"0.0\",-0.08442775124185208],[\"0.0\",-0.07207339317943035],[\"0.0\",-0.061506366578669036],[\"0.0\",-0.055314431625503924],[\"0.0\",-0.05546322660262078],[\"0.0\",-0.06298193125699257],[\"0.0\",-0.0777370683451912],[\"0.0\",-0.09830860788588845],[\"0.0\",-0.12203651039006654],[\"0.0\",-0.14532806479274374],[\"0.0\",-0.1642620210469547],[\"0.0\",-0.1754013120231481],[\"0.0\",-0.1765955329402402],[\"0.0\",-0.1675014372860287],[\"0.0\",-0.14962336067873042],[\"0.0\",-0.12585193303318684],[\"0.0\",-0.09967219450129905],[\"0.0\",-0.07432432799426734],[\"0.0\",-0.05218267165440968],[\"0.0\",-0.03449515569821469],[\"0.0\",-0.02146968199021465],[\"0.0\",-0.01258138620295949],[\"0.0\",-0.0069417124795879545],[\"0.0\",-0.003606118044668231],[\"0.0\",-0.001763796283111136],[\"0.0\",-0.0008122543838000367],[\"0.0\",-0.00035218500225839717],[\"0.0\",-0.00014377547217977692],[\"0.0\",-5.526292882521827e-05],[\"0.0\",-1.9999454195078963e-05],[\"0.0\",-6.814555597481131e-06],[\"0.0\",-2.1862110485909454e-06],[\"0.0\",-6.60361553368595e-07],[\"0.0\",6.60361553368595e-07],[\"0.0\",2.1862110485909454e-06],[\"0.0\",6.814555597481131e-06],[\"0.0\",1.9999454195078963e-05],[\"0.0\",5.526292882521827e-05],[\"0.0\",0.00014377547217977692],[\"0.0\",0.00035218500225839717],[\"0.0\",0.0008122543838000367],[\"0.0\",0.001763796283111136],[\"0.0\",0.003606118044668231],[\"0.0\",0.0069417124795879545],[\"0.0\",0.01258138620295949],[\"0.0\",0.02146968199021465],[\"0.0\",0.03449515569821469],[\"0.0\",0.05218267165440968],[\"0.0\",0.07432432799426734],[\"0.0\",0.09967219450129905],[\"0.0\",0.12585193303318684],[\"0.0\",0.14962336067873042],[\"0.0\",0.1675014372860287],[\"0.0\",0.1765955329402402],[\"0.0\",0.1754013120231481],[\"0.0\",0.1642620210469547],[\"0.0\",0.14532806479274374],[\"0.0\",0.12203651039006654],[\"0.0\",0.09830860788588845],[\"0.0\",0.0777370683451912],[\"0.0\",0.06298193125699257],[\"0.0\",0.05546322660262078],[\"0.0\",0.055314431625503924],[\"0.0\",0.061506366578669036],[\"0.0\",0.07207339317943035],[\"0.0\",0.08442775124185208],[\"0.0\",0.09577535477968195],[\"0.0\",0.10361842844680309],[\"0.0\",0.10626612663212605],[\"0.0\",0.1032247635760225],[\"0.0\",0.0953487766098519],[\"0.0\",0.08470602163161843],[\"0.0\",0.07420580022516461],[\"0.0\",0.0670984655406698],[\"0.0\",0.06645020637564938],[\"0.0\",0.07464349836066735],[\"0.0\",0.09290754425437697],[\"0.0\",0.1208941614325356],[\"0.0\",0.1563865780252125],[\"0.0\",0.19530638760293517],[\"0.0\",0.23218577230254078],[\"0.0\",0.26114930542697884],[\"0.0\",0.27723402503917904],[\"0.0\",0.27767726782572516],[\"0.0\",0.26274376982971254],[\"0.0\",0.2358027187793013],[\"0.0\",0.20264189266369073],[\"0.0\",0.17027418770775565],[\"0.0\",0.1456125686483468],[\"0.0\",0.13432068232898617],[\"0.0\",0.13996735879459407],[\"0.0\",0.16346486787440714],[\"0.0\",0.20275397469388873],[\"0.0\",0.25280209249949187],[\"0.0\",0.3060880213486701],[\"0.0\",0.35372150759363186],[\"0.0\",0.38713734854770054],[\"0.0\",0.4],[\"0.0\",0.3897393405085222],[\"0.0\",0.3581722830975247],[\"0.0\",0.3109710155080215],[\"0.0\",0.25617342607314647],[\"0.0\",0.20227021806032572],[\"0.0\",0.1564813773951358],[\"0.0\",0.12364462509096906],[\"0.0\",0.1058205845972971],[\"0.0\",0.1024592246898616],[\"0.0\",0.11088300055179595],[\"0.0\",0.12691045999764944],[\"0.0\",0.14556340852737124],[\"0.0\",0.16185859612854975],[\"0.0\",0.17163977079791995],[\"0.0\",0.17230629991717836],[\"0.0\",0.16323477241642326],[\"0.0\",0.1457383865185985],[\"0.0\",0.12255839802799401],[\"0.0\",0.0970552880161033],[\"0.0\",0.07237029939185712],[\"0.0\",0.05080999079773077],[\"0.0\",0.03358753889917916],[\"0.0\",0.020904729298741626],[\"0.0\",0.012250306581206193],[\"0.0\",0.006759038012436821],[\"0.0\",0.003511220671668853],[\"0.0\",0.0017173806870997635],[\"0.0\",0.000790879286753365],[\"0.0\",0.0003429169791856375],[\"0.0\",0.00013999190768303405],[\"0.0\",5.380864131415964e-05],[\"0.0\",1.9473152782376575e-05],[\"0.0\",6.635225188931597e-06],[\"0.0\",2.12867917914604e-06],[\"0.0\",6.429836177856389e-07]],[]],\"ys\":[{\"__ndarray__\":\"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\",\"dtype\":\"float64\",\"order\":\"little\",\"shape\":[200]},{\"__ndarray__\":\"\",\"dtype\":\"float64\",\"order\":\"little\",\"shape\":[0]}]},\"selected\":{\"id\":\"18398\"},\"selection_policy\":{\"id\":\"18397\"}},\"id\":\"18344\",\"type\":\"ColumnDataSource\"},{\"attributes\":{\"margin\":[5,20,20,20],\"min_width\":250,\"options\":[\"competitors_count\",\"total_post\",\"competitor_share\",\"search_volume\"],\"title\":\"y_var\",\"value\":\"competitors_count\",\"width\":250},\"id\":\"18409\",\"type\":\"panel.models.widgets.CustomSelect\"},{\"attributes\":{},\"id\":\"18431\",\"type\":\"SaveTool\"},{\"attributes\":{},\"id\":\"18429\",\"type\":\"CategoricalTicker\"},{\"attributes\":{\"bottom\":{\"field\":\"bottom\"},\"fill_color\":{\"field\":\"theme_name_beef_hamburger_copy\",\"transform\":{\"id\":\"18552\"}},\"hatch_color\":{\"field\":\"theme_name_beef_hamburger_copy\",\"transform\":{\"id\":\"18552\"}},\"top\":{\"field\":\"top\"},\"width\":{\"value\":0.8},\"x\":{\"field\":\"theme_name_beef_hamburger\"}},\"id\":\"18556\",\"type\":\"VBar\"},{\"attributes\":{\"children\":[{\"id\":\"18308\"},{\"id\":\"18406\"}],\"margin\":[0,0,0,0],\"name\":\"Row38951\"},\"id\":\"18305\",\"type\":\"Row\"},{\"attributes\":{\"fill_alpha\":{\"value\":0.5},\"fill_color\":{\"value\":\"#30a2da\"},\"hatch_alpha\":{\"value\":0.1},\"line_alpha\":{\"value\":0.1},\"line_color\":{\"value\":\"#1f77b4\"},\"line_width\":{\"value\":0},\"xs\":{\"field\":\"ys\"},\"ys\":{\"field\":\"xs\"}},\"id\":\"18446\",\"type\":\"Patches\"},{\"attributes\":{},\"id\":\"18378\",\"type\":\"AllLabels\"},{\"attributes\":{\"line_alpha\":{\"value\":1.0},\"line_cap\":{\"value\":\"butt\"},\"line_color\":{\"value\":\"black\"},\"line_dash\":{\"value\":[]},\"line_dash_offset\":{\"value\":0},\"line_join\":{\"value\":\"bevel\"},\"line_width\":{\"value\":1},\"xs\":{\"field\":\"ys\"},\"ys\":{\"field\":\"xs\"}},\"id\":\"18458\",\"type\":\"MultiLine\"},{\"attributes\":{\"axis_label\":\"competitors_count_copy\",\"coordinates\":null,\"formatter\":{\"id\":\"18281\"},\"group\":null,\"major_label_policy\":{\"id\":\"18282\"},\"ticker\":{\"id\":\"18252\"}},\"id\":\"18251\",\"type\":\"LinearAxis\"},{\"attributes\":{},\"id\":\"18252\",\"type\":\"BasicTicker\"},{\"attributes\":{\"coordinates\":null,\"data_source\":{\"id\":\"18443\"},\"glyph\":{\"id\":\"18445\"},\"group\":null,\"hover_glyph\":null,\"muted_glyph\":{\"id\":\"18447\"},\"nonselection_glyph\":{\"id\":\"18446\"},\"selection_glyph\":{\"id\":\"18450\"},\"view\":{\"id\":\"18449\"}},\"id\":\"18448\",\"type\":\"GlyphRenderer\"},{\"attributes\":{\"data\":{\"x\":[[\"0.0\",0],[\"1.0\",0]],\"y\":{\"__ndarray__\":\"rnmWdNuH3r/blnfKyeLzvw==\",\"dtype\":\"float64\",\"order\":\"little\",\"shape\":[2]}},\"selected\":{\"id\":\"18404\"},\"selection_policy\":{\"id\":\"18403\"}},\"id\":\"18368\",\"type\":\"ColumnDataSource\"},{\"attributes\":{},\"id\":\"18257\",\"type\":\"WheelZoomTool\"},{\"attributes\":{},\"id\":\"18568\",\"type\":\"UnionRenderers\"},{\"attributes\":{},\"id\":\"18540\",\"type\":\"PanTool\"},{\"attributes\":{},\"id\":\"18255\",\"type\":\"SaveTool\"},{\"attributes\":{\"overlay\":{\"id\":\"18436\"}},\"id\":\"18434\",\"type\":\"BoxZoomTool\"},{\"attributes\":{\"margin\":[20,20,5,20],\"min_width\":250,\"options\":[\"competitors_count\",\"total_post\",\"competitor_share\",\"search_volume\"],\"title\":\"x_var\",\"value\":\"competitors_count\",\"width\":250},\"id\":\"18301\",\"type\":\"panel.models.widgets.CustomSelect\"},{\"attributes\":{\"fill_alpha\":{\"value\":0.1},\"fill_color\":{\"value\":\"white\"},\"hatch_alpha\":{\"value\":0.1},\"hatch_color\":{\"value\":\"white\"},\"line_alpha\":{\"value\":0.1},\"line_color\":{\"value\":\"white\"},\"x\":{\"field\":\"x\"},\"y\":{\"field\":\"y\"}},\"id\":\"18371\",\"type\":\"Scatter\"},{\"attributes\":{\"axis_label\":\"theme_name_beef_hamburger\",\"coordinates\":null,\"formatter\":{\"id\":\"18487\"},\"group\":null,\"major_label_policy\":{\"id\":\"18488\"},\"ticker\":{\"id\":\"18429\"}},\"id\":\"18428\",\"type\":\"CategoricalAxis\"},{\"attributes\":{\"line_alpha\":{\"value\":0.1},\"xs\":{\"field\":\"ys\"},\"ys\":{\"field\":\"xs\"}},\"id\":\"18454\",\"type\":\"MultiLine\"},{\"attributes\":{\"line_alpha\":{\"value\":0.2},\"x0\":{\"field\":\"y0\"},\"x1\":{\"field\":\"y1\"},\"y0\":{\"field\":\"x\"},\"y1\":{\"field\":\"x\"}},\"id\":\"18463\",\"type\":\"Segment\"},{\"attributes\":{\"data\":{\"competitors_count\":{\"__ndarray__\":\"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\",\"dtype\":\"float64\",\"order\":\"little\",\"shape\":[2095]},\"competitors_count_copy\":{\"__ndarray__\":\"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\",\"dtype\":\"float64\",\"order\":\"little\",\"shape\":[2095]}},\"selected\":{\"id\":\"18269\"},\"selection_policy\":{\"id\":\"18296\"}},\"id\":\"18268\",\"type\":\"ColumnDataSource\"},{\"attributes\":{\"axis\":{\"id\":\"18251\"},\"coordinates\":null,\"dimension\":1,\"grid_line_color\":null,\"group\":null,\"ticker\":null},\"id\":\"18254\",\"type\":\"Grid\"},{\"attributes\":{\"x0\":{\"field\":\"y0\"},\"x1\":{\"field\":\"y1\"},\"y0\":{\"field\":\"x\"},\"y1\":{\"field\":\"x\"}},\"id\":\"18461\",\"type\":\"Segment\"},{\"attributes\":{\"coordinates\":null,\"group\":null,\"text\":\"Mutual Information: 0.123 ('competitors_count' is binned for computation)\",\"text_color\":\"black\",\"text_font_size\":\"12pt\"},\"id\":\"18416\",\"type\":\"Title\"},{\"attributes\":{\"fill_alpha\":{\"value\":0.5},\"fill_color\":{\"value\":\"#30a2da\"},\"line_color\":{\"value\":\"#1f77b4\"},\"line_width\":{\"value\":0},\"xs\":{\"field\":\"ys\"},\"ys\":{\"field\":\"xs\"}},\"id\":\"18445\",\"type\":\"Patches\"},{\"attributes\":{\"margin\":[5,20,20,20],\"min_width\":250,\"options\":[\"competitors_count\",\"total_post\",\"competitor_share\",\"search_volume\"],\"title\":\"y_var\",\"value\":\"competitors_count\",\"width\":250},\"id\":\"18302\",\"type\":\"panel.models.widgets.CustomSelect\"},{\"attributes\":{\"axis_label\":\"competitors_count\",\"coordinates\":null,\"formatter\":{\"id\":\"18484\"},\"group\":null,\"major_label_policy\":{\"id\":\"18485\"},\"ticker\":{\"id\":\"18425\"}},\"id\":\"18424\",\"type\":\"LinearAxis\"},{\"attributes\":{\"xs\":{\"field\":\"xs\"},\"ys\":{\"field\":\"ys\"}},\"id\":\"18346\",\"type\":\"MultiLine\"},{\"attributes\":{\"margin\":[5,5,5,5],\"name\":\"VSpacer38946\",\"sizing_mode\":\"stretch_height\"},\"id\":\"18303\",\"type\":\"Spacer\"},{\"attributes\":{\"bottom_units\":\"screen\",\"coordinates\":null,\"fill_alpha\":0.5,\"fill_color\":\"lightgrey\",\"group\":null,\"left_units\":\"screen\",\"level\":\"overlay\",\"line_alpha\":1.0,\"line_color\":\"black\",\"line_dash\":[4,4],\"line_width\":2,\"right_units\":\"screen\",\"syncable\":false,\"top_units\":\"screen\"},\"id\":\"18436\",\"type\":\"BoxAnnotation\"},{\"attributes\":{\"source\":{\"id\":\"18459\"}},\"id\":\"18465\",\"type\":\"CDSView\"},{\"attributes\":{\"coordinates\":null,\"data_source\":{\"id\":\"18344\"},\"glyph\":{\"id\":\"18346\"},\"group\":null,\"hover_glyph\":null,\"muted_glyph\":{\"id\":\"18348\"},\"nonselection_glyph\":{\"id\":\"18347\"},\"selection_glyph\":{\"id\":\"18351\"},\"view\":{\"id\":\"18350\"}},\"id\":\"18349\",\"type\":\"GlyphRenderer\"},{\"attributes\":{},\"id\":\"18397\",\"type\":\"UnionRenderers\"},{\"attributes\":{},\"id\":\"18395\",\"type\":\"UnionRenderers\"},{\"attributes\":{\"tools\":[{\"id\":\"18431\"},{\"id\":\"18432\"},{\"id\":\"18433\"},{\"id\":\"18434\"},{\"id\":\"18435\"}]},\"id\":\"18437\",\"type\":\"Toolbar\"},{\"attributes\":{\"fill_alpha\":{\"value\":0.5},\"fill_color\":{\"value\":\"#30a2da\"},\"hatch_alpha\":{\"value\":0.1},\"line_alpha\":{\"value\":0.1},\"line_color\":{\"value\":\"#1f77b4\"},\"line_width\":{\"value\":0},\"xs\":{\"field\":\"xs\"},\"ys\":{\"field\":\"ys\"}},\"id\":\"18339\",\"type\":\"Patches\"},{\"attributes\":{\"coordinates\":null,\"data_source\":{\"id\":\"18553\"},\"glyph\":{\"id\":\"18556\"},\"group\":null,\"hover_glyph\":null,\"muted_glyph\":{\"id\":\"18558\"},\"nonselection_glyph\":{\"id\":\"18557\"},\"selection_glyph\":{\"id\":\"18573\"},\"view\":{\"id\":\"18560\"}},\"id\":\"18559\",\"type\":\"GlyphRenderer\"},{\"attributes\":{\"line_alpha\":{\"value\":1.0},\"line_cap\":{\"value\":\"butt\"},\"line_color\":{\"value\":\"black\"},\"line_dash\":{\"value\":[]},\"line_dash_offset\":{\"value\":0},\"line_join\":{\"value\":\"bevel\"},\"line_width\":{\"value\":1},\"xs\":{\"field\":\"xs\"},\"ys\":{\"field\":\"ys\"}},\"id\":\"18351\",\"type\":\"MultiLine\"},{\"attributes\":{},\"id\":\"18245\",\"type\":\"LinearScale\"},{\"attributes\":{},\"id\":\"18505\",\"type\":\"Selection\"},{\"attributes\":{},\"id\":\"18507\",\"type\":\"Selection\"},{\"attributes\":{\"coordinates\":null,\"data_source\":{\"id\":\"18336\"},\"glyph\":{\"id\":\"18338\"},\"group\":null,\"hover_glyph\":null,\"muted_glyph\":{\"id\":\"18340\"},\"nonselection_glyph\":{\"id\":\"18339\"},\"selection_glyph\":{\"id\":\"18343\"},\"view\":{\"id\":\"18342\"}},\"id\":\"18341\",\"type\":\"GlyphRenderer\"},{\"attributes\":{\"line_alpha\":{\"value\":1.0},\"line_cap\":{\"value\":\"butt\"},\"line_color\":{\"value\":\"black\"},\"line_dash\":{\"value\":[]},\"line_dash_offset\":{\"value\":0},\"line_join\":{\"value\":\"bevel\"},\"line_width\":{\"value\":1},\"x0\":{\"field\":\"y0\"},\"x1\":{\"field\":\"y1\"},\"y0\":{\"field\":\"x\"},\"y1\":{\"field\":\"x\"}},\"id\":\"18466\",\"type\":\"Segment\"},{\"attributes\":{},\"id\":\"18396\",\"type\":\"Selection\"},{\"attributes\":{\"fill_alpha\":{\"value\":0.2},\"fill_color\":{\"value\":\"white\"},\"hatch_alpha\":{\"value\":0.2},\"hatch_color\":{\"value\":\"white\"},\"line_alpha\":{\"value\":0.2},\"line_color\":{\"value\":\"white\"},\"x\":{\"field\":\"x\"},\"y\":{\"field\":\"y\"}},\"id\":\"18372\",\"type\":\"Scatter\"},{\"attributes\":{\"fill_alpha\":{\"value\":0.1},\"fill_color\":{\"value\":\"white\"},\"hatch_alpha\":{\"value\":0.1},\"hatch_color\":{\"value\":\"white\"},\"line_alpha\":{\"value\":0.1},\"line_color\":{\"value\":\"white\"},\"x\":{\"field\":\"y\"},\"y\":{\"field\":\"x\"}},\"id\":\"18478\",\"type\":\"Scatter\"},{\"attributes\":{},\"id\":\"18281\",\"type\":\"BasicTickFormatter\"},{\"attributes\":{\"css_classes\":[\"markdown\"],\"margin\":[5,5,5,5],\"name\":\"Markdown38935\",\"text\":\"&lt;h3&gt;Continuous Variables v Continuous Variables&lt;/h3&gt;\"},\"id\":\"18233\",\"type\":\"panel.models.markup.HTML\"},{\"attributes\":{\"line_alpha\":{\"value\":0.1},\"xs\":{\"field\":\"xs\"},\"ys\":{\"field\":\"ys\"}},\"id\":\"18347\",\"type\":\"MultiLine\"},{\"attributes\":{\"callback\":null,\"renderers\":[{\"id\":\"18559\"}],\"tags\":[\"hv_created\"],\"tooltips\":[[\"theme_name_beef_hamburger\",\"@{theme_name_beef_hamburger}\"],[\"theme_name_beef_hamburger_copy\",\"@{theme_name_beef_hamburger_copy}\"],[\"count\",\"@{count}\"]]},\"id\":\"18522\",\"type\":\"HoverTool\"},{\"attributes\":{\"line_alpha\":{\"value\":0.2},\"x0\":{\"field\":\"x\"},\"x1\":{\"field\":\"x\"},\"y0\":{\"field\":\"y0\"},\"y1\":{\"field\":\"y1\"}},\"id\":\"18356\",\"type\":\"Segment\"},{\"attributes\":{\"fill_color\":{\"value\":\"black\"},\"height\":{\"value\":0.1},\"left\":{\"field\":\"bottom\"},\"right\":{\"field\":\"top\"},\"y\":{\"field\":\"x\"}},\"id\":\"18469\",\"type\":\"HBar\"},{\"attributes\":{\"axis_label\":\"Number of Observations\",\"coordinates\":null,\"formatter\":{\"id\":\"18563\"},\"group\":null,\"major_label_policy\":{\"id\":\"18564\"},\"ticker\":{\"id\":\"18536\"}},\"id\":\"18535\",\"type\":\"LinearAxis\"},{\"attributes\":{\"coordinates\":null,\"data_source\":{\"id\":\"18459\"},\"glyph\":{\"id\":\"18461\"},\"group\":null,\"hover_glyph\":null,\"muted_glyph\":{\"id\":\"18463\"},\"nonselection_glyph\":{\"id\":\"18462\"},\"selection_glyph\":{\"id\":\"18466\"},\"view\":{\"id\":\"18465\"}},\"id\":\"18464\",\"type\":\"GlyphRenderer\"},{\"attributes\":{},\"id\":\"18506\",\"type\":\"UnionRenderers\"},{\"attributes\":{\"line_alpha\":{\"value\":0.1},\"x0\":{\"field\":\"y0\"},\"x1\":{\"field\":\"y1\"},\"y0\":{\"field\":\"x\"},\"y1\":{\"field\":\"x\"}},\"id\":\"18462\",\"type\":\"Segment\"},{\"attributes\":{\"axis\":{\"id\":\"18428\"},\"coordinates\":null,\"dimension\":1,\"grid_line_color\":null,\"group\":null,\"ticker\":null},\"id\":\"18430\",\"type\":\"Grid\"},{\"attributes\":{\"x0\":{\"field\":\"x\"},\"x1\":{\"field\":\"x\"},\"y0\":{\"field\":\"y0\"},\"y1\":{\"field\":\"y1\"}},\"id\":\"18354\",\"type\":\"Segment\"},{\"attributes\":{\"fill_alpha\":{\"value\":0.2},\"fill_color\":{\"value\":\"black\"},\"hatch_alpha\":{\"value\":0.2},\"height\":{\"value\":0.1},\"left\":{\"field\":\"bottom\"},\"line_alpha\":{\"value\":0.2},\"right\":{\"field\":\"top\"},\"y\":{\"field\":\"x\"}},\"id\":\"18471\",\"type\":\"HBar\"},{\"attributes\":{},\"id\":\"18269\",\"type\":\"Selection\"},{\"attributes\":{},\"id\":\"18433\",\"type\":\"WheelZoomTool\"},{\"attributes\":{},\"id\":\"18400\",\"type\":\"Selection\"},{\"attributes\":{},\"id\":\"18508\",\"type\":\"UnionRenderers\"},{\"attributes\":{\"source\":{\"id\":\"18352\"}},\"id\":\"18358\",\"type\":\"CDSView\"},{\"attributes\":{},\"id\":\"18509\",\"type\":\"Selection\"},{\"attributes\":{\"source\":{\"id\":\"18467\"}},\"id\":\"18473\",\"type\":\"CDSView\"},{\"attributes\":{},\"id\":\"18256\",\"type\":\"PanTool\"},{\"attributes\":{\"fill_alpha\":{\"value\":1.0},\"fill_color\":{\"value\":\"black\"},\"hatch_alpha\":{\"value\":1.0},\"hatch_color\":{\"value\":\"black\"},\"hatch_scale\":{\"value\":12.0},\"hatch_weight\":{\"value\":1.0},\"height\":{\"value\":0.1},\"left\":{\"field\":\"bottom\"},\"line_alpha\":{\"value\":1.0},\"line_cap\":{\"value\":\"butt\"},\"line_color\":{\"value\":\"black\"},\"line_dash\":{\"value\":[]},\"line_dash_offset\":{\"value\":0},\"line_join\":{\"value\":\"bevel\"},\"line_width\":{\"value\":1},\"right\":{\"field\":\"top\"},\"y\":{\"field\":\"x\"}},\"id\":\"18474\",\"type\":\"HBar\"},{\"attributes\":{},\"id\":\"18398\",\"type\":\"Selection\"},{\"attributes\":{\"children\":[{\"id\":\"18238\"},{\"id\":\"18299\"}],\"margin\":[0,0,0,0],\"name\":\"Row38938\"},\"id\":\"18234\",\"type\":\"Row\"},{\"attributes\":{\"line_alpha\":{\"value\":1.0},\"line_cap\":{\"value\":\"butt\"},\"line_color\":{\"value\":\"black\"},\"line_dash\":{\"value\":[]},\"line_dash_offset\":{\"value\":0},\"line_join\":{\"value\":\"bevel\"},\"line_width\":{\"value\":1},\"x0\":{\"field\":\"x\"},\"x1\":{\"field\":\"x\"},\"y0\":{\"field\":\"y0\"},\"y1\":{\"field\":\"y1\"}},\"id\":\"18359\",\"type\":\"Segment\"},{\"attributes\":{\"css_classes\":[\"markdown\"],\"margin\":[5,5,5,5],\"name\":\"Markdown38974\",\"text\":\"&lt;h3&gt;Categorical Variables v Categorical Variables&lt;/h3&gt;\"},\"id\":\"18518\",\"type\":\"panel.models.markup.HTML\"},{\"attributes\":{\"source\":{\"id\":\"18268\"}},\"id\":\"18275\",\"type\":\"CDSView\"},{\"attributes\":{\"axis\":{\"id\":\"18317\"},\"coordinates\":null,\"grid_line_color\":null,\"group\":null,\"ticker\":null},\"id\":\"18319\",\"type\":\"Grid\"},{\"attributes\":{},\"id\":\"18530\",\"type\":\"LinearScale\"},{\"attributes\":{\"axis_label\":\"competitors_count\",\"coordinates\":null,\"formatter\":{\"id\":\"18278\"},\"group\":null,\"major_label_policy\":{\"id\":\"18279\"},\"ticker\":{\"id\":\"18248\"}},\"id\":\"18247\",\"type\":\"LinearAxis\"},{\"attributes\":{\"bottom\":{\"field\":\"bottom\"},\"fill_color\":{\"value\":\"black\"},\"top\":{\"field\":\"top\"},\"width\":{\"value\":0.1},\"x\":{\"field\":\"x\"}},\"id\":\"18362\",\"type\":\"VBar\"},{\"attributes\":{\"overlay\":{\"id\":\"18544\"}},\"id\":\"18542\",\"type\":\"BoxZoomTool\"},{\"attributes\":{},\"id\":\"18377\",\"type\":\"CategoricalTickFormatter\"},{\"attributes\":{\"coordinates\":null,\"data_source\":{\"id\":\"18352\"},\"glyph\":{\"id\":\"18354\"},\"group\":null,\"hover_glyph\":null,\"muted_glyph\":{\"id\":\"18356\"},\"nonselection_glyph\":{\"id\":\"18355\"},\"selection_glyph\":{\"id\":\"18359\"},\"view\":{\"id\":\"18358\"}},\"id\":\"18357\",\"type\":\"GlyphRenderer\"},{\"attributes\":{},\"id\":\"18528\",\"type\":\"CategoricalScale\"},{\"attributes\":{\"line_alpha\":{\"value\":0.1},\"x0\":{\"field\":\"x\"},\"x1\":{\"field\":\"x\"},\"y0\":{\"field\":\"y0\"},\"y1\":{\"field\":\"y1\"}},\"id\":\"18355\",\"type\":\"Segment\"},{\"attributes\":{\"angle\":{\"value\":0.0},\"fill_alpha\":{\"value\":1.0},\"fill_color\":{\"value\":\"white\"},\"hatch_alpha\":{\"value\":1.0},\"hatch_color\":{\"value\":\"white\"},\"hatch_scale\":{\"value\":12.0},\"hatch_weight\":{\"value\":1.0},\"line_alpha\":{\"value\":1.0},\"line_cap\":{\"value\":\"butt\"},\"line_color\":{\"value\":\"white\"},\"line_dash\":{\"value\":[]},\"line_dash_offset\":{\"value\":0},\"line_join\":{\"value\":\"bevel\"},\"line_width\":{\"value\":1},\"marker\":{\"value\":\"circle\"},\"size\":{\"value\":4},\"x\":{\"field\":\"y\"},\"y\":{\"field\":\"x\"}},\"id\":\"18482\",\"type\":\"Scatter\"},{\"attributes\":{\"label\":{\"field\":\"theme_name_beef_hamburger_copy\"},\"renderers\":[{\"id\":\"18559\"}]},\"id\":\"18572\",\"type\":\"LegendItem\"},{\"attributes\":{\"bottom\":{\"field\":\"bottom\"},\"fill_alpha\":{\"value\":0.2},\"fill_color\":{\"value\":\"black\"},\"hatch_alpha\":{\"value\":0.2},\"line_alpha\":{\"value\":0.2},\"top\":{\"field\":\"top\"},\"width\":{\"value\":0.1},\"x\":{\"field\":\"x\"}},\"id\":\"18364\",\"type\":\"VBar\"},{\"attributes\":{},\"id\":\"18488\",\"type\":\"AllLabels\"},{\"attributes\":{},\"id\":\"18399\",\"type\":\"UnionRenderers\"},{\"attributes\":{\"coordinates\":null,\"data_source\":{\"id\":\"18467\"},\"glyph\":{\"id\":\"18469\"},\"group\":null,\"hover_glyph\":null,\"muted_glyph\":{\"id\":\"18471\"},\"nonselection_glyph\":{\"id\":\"18470\"},\"selection_glyph\":{\"id\":\"18474\"},\"view\":{\"id\":\"18473\"}},\"id\":\"18472\",\"type\":\"GlyphRenderer\"},{\"attributes\":{},\"id\":\"18510\",\"type\":\"UnionRenderers\"},{\"attributes\":{\"children\":[{\"id\":\"18301\"},{\"id\":\"18302\"}],\"css_classes\":[\"panel-widget-box\"],\"margin\":[5,5,5,5],\"name\":\"WidgetBox38939\"},\"id\":\"18300\",\"type\":\"Column\"},{\"attributes\":{\"fill_alpha\":{\"value\":0.1},\"fill_color\":{\"value\":\"black\"},\"hatch_alpha\":{\"value\":0.1},\"height\":{\"value\":0.1},\"left\":{\"field\":\"bottom\"},\"line_alpha\":{\"value\":0.1},\"right\":{\"field\":\"top\"},\"y\":{\"field\":\"x\"}},\"id\":\"18470\",\"type\":\"HBar\"},{\"attributes\":{\"below\":[{\"id\":\"18317\"}],\"center\":[{\"id\":\"18319\"},{\"id\":\"18323\"}],\"height\":400,\"left\":[{\"id\":\"18320\"}],\"margin\":[5,5,5,5],\"min_border_bottom\":10,\"min_border_left\":10,\"min_border_right\":10,\"min_border_top\":10,\"renderers\":[{\"id\":\"18341\"},{\"id\":\"18349\"},{\"id\":\"18357\"},{\"id\":\"18365\"},{\"id\":\"18373\"}],\"sizing_mode\":\"fixed\",\"title\":{\"id\":\"18309\"},\"toolbar\":{\"id\":\"18330\"},\"width\":700,\"x_range\":{\"id\":\"18306\"},\"x_scale\":{\"id\":\"18313\"},\"y_range\":{\"id\":\"18235\"},\"y_scale\":{\"id\":\"18315\"}},\"id\":\"18308\",\"subtype\":\"Figure\",\"type\":\"Plot\"},{\"attributes\":{\"bottom\":{\"field\":\"bottom\"},\"fill_alpha\":{\"value\":1.0},\"fill_color\":{\"field\":\"theme_name_beef_hamburger_copy\",\"transform\":{\"id\":\"18552\"}},\"hatch_alpha\":{\"value\":1.0},\"hatch_color\":{\"field\":\"theme_name_beef_hamburger_copy\",\"transform\":{\"id\":\"18552\"}},\"hatch_scale\":{\"value\":12.0},\"hatch_weight\":{\"value\":1.0},\"line_alpha\":{\"value\":1.0},\"line_cap\":{\"value\":\"butt\"},\"line_color\":{\"value\":\"black\"},\"line_dash\":{\"value\":[]},\"line_dash_offset\":{\"value\":0},\"line_join\":{\"value\":\"bevel\"},\"line_width\":{\"value\":1},\"top\":{\"field\":\"top\"},\"width\":{\"value\":0.8},\"x\":{\"field\":\"theme_name_beef_hamburger\"}},\"id\":\"18573\",\"type\":\"VBar\"},{\"attributes\":{},\"id\":\"18511\",\"type\":\"Selection\"},{\"attributes\":{},\"id\":\"18543\",\"type\":\"ResetTool\"},{\"attributes\":{},\"id\":\"18487\",\"type\":\"CategoricalTickFormatter\"},{\"attributes\":{},\"id\":\"18318\",\"type\":\"CategoricalTicker\"},{\"attributes\":{\"css_classes\":[\"markdown\"],\"margin\":[5,5,5,5],\"name\":\"Markdown38961\",\"text\":\"&lt;h3&gt;Categorical Variables v Continuous Variables&lt;/h3&gt;\"},\"id\":\"18411\",\"type\":\"panel.models.markup.HTML\"},{\"attributes\":{},\"id\":\"18381\",\"type\":\"AllLabels\"},{\"attributes\":{\"source\":{\"id\":\"18475\"}},\"id\":\"18481\",\"type\":\"CDSView\"},{\"attributes\":{},\"id\":\"18315\",\"type\":\"LinearScale\"},{\"attributes\":{\"coordinates\":null,\"group\":null,\"items\":[{\"id\":\"18572\"}],\"location\":[0,0]},\"id\":\"18571\",\"type\":\"Legend\"},{\"attributes\":{\"margin\":[20,20,5,20],\"min_width\":250,\"options\":[\"theme_name_beef_hamburger\",\"theme_name_blueberry\",\"theme_name_chicken\",\"theme_name_crab\",\"theme_name_ethical_packaging\",\"theme_name_ethnic_exotic\",\"theme_name_french_bisque\",\"theme_name_gingerbread\",\"theme_name_gmo_free\",\"theme_name_high_source_of_protein\",\"theme_name_low_carb\",\"theme_name_low_sodium\",\"theme_name_low_sugar\",\"theme_name_no_additives_preservatives\",\"theme_name_poultry\",\"theme_name_salmon\",\"theme_name_soy_foods\",\"theme_name_tuna\",\"theme_name_vegetarian\"],\"title\":\"x_var\",\"value\":\"theme_name_beef_hamburger\",\"width\":250},\"id\":\"18598\",\"type\":\"panel.models.widgets.CustomSelect\"},{\"attributes\":{\"fill_alpha\":{\"value\":0.2},\"fill_color\":{\"value\":\"#30a2da\"},\"hatch_alpha\":{\"value\":0.2},\"hatch_color\":{\"value\":\"#30a2da\"},\"line_alpha\":{\"value\":0.2},\"line_color\":{\"value\":\"#30a2da\"},\"size\":{\"value\":5.477225575051661},\"x\":{\"field\":\"competitors_count\"},\"y\":{\"field\":\"competitors_count_copy\"}},\"id\":\"18273\",\"type\":\"Scatter\"},{\"attributes\":{\"axis\":{\"id\":\"18535\"},\"coordinates\":null,\"dimension\":1,\"grid_line_color\":null,\"group\":null,\"ticker\":null},\"id\":\"18538\",\"type\":\"Grid\"},{\"attributes\":{\"coordinates\":null,\"data_source\":{\"id\":\"18475\"},\"glyph\":{\"id\":\"18477\"},\"group\":null,\"hover_glyph\":null,\"muted_glyph\":{\"id\":\"18479\"},\"nonselection_glyph\":{\"id\":\"18478\"},\"selection_glyph\":{\"id\":\"18482\"},\"view\":{\"id\":\"18481\"}},\"id\":\"18480\",\"type\":\"GlyphRenderer\"},{\"attributes\":{\"source\":{\"id\":\"18360\"}},\"id\":\"18366\",\"type\":\"CDSView\"},{\"attributes\":{},\"id\":\"18401\",\"type\":\"UnionRenderers\"},{\"attributes\":{\"bottom\":{\"field\":\"bottom\"},\"fill_alpha\":{\"value\":1.0},\"fill_color\":{\"value\":\"black\"},\"hatch_alpha\":{\"value\":1.0},\"hatch_color\":{\"value\":\"black\"},\"hatch_scale\":{\"value\":12.0},\"hatch_weight\":{\"value\":1.0},\"line_alpha\":{\"value\":1.0},\"line_cap\":{\"value\":\"butt\"},\"line_color\":{\"value\":\"black\"},\"line_dash\":{\"value\":[]},\"line_dash_offset\":{\"value\":0},\"line_join\":{\"value\":\"bevel\"},\"line_width\":{\"value\":1},\"top\":{\"field\":\"top\"},\"width\":{\"value\":0.1},\"x\":{\"field\":\"x\"}},\"id\":\"18367\",\"type\":\"VBar\"},{\"attributes\":{},\"id\":\"18402\",\"type\":\"Selection\"},{\"attributes\":{\"children\":[{\"id\":\"18300\"},{\"id\":\"18303\"}],\"margin\":[0,0,0,0],\"name\":\"Column38947\"},\"id\":\"18299\",\"type\":\"Column\"},{\"attributes\":{\"angle\":{\"value\":0.0},\"fill_alpha\":{\"value\":1.0},\"fill_color\":{\"value\":\"white\"},\"hatch_alpha\":{\"value\":1.0},\"hatch_color\":{\"value\":\"white\"},\"hatch_scale\":{\"value\":12.0},\"hatch_weight\":{\"value\":1.0},\"line_alpha\":{\"value\":1.0},\"line_cap\":{\"value\":\"butt\"},\"line_color\":{\"value\":\"white\"},\"line_dash\":{\"value\":[]},\"line_dash_offset\":{\"value\":0},\"line_join\":{\"value\":\"bevel\"},\"line_width\":{\"value\":1},\"marker\":{\"value\":\"circle\"},\"size\":{\"value\":4},\"x\":{\"field\":\"x\"},\"y\":{\"field\":\"y\"}},\"id\":\"18375\",\"type\":\"Scatter\"},{\"attributes\":{\"coordinates\":null,\"group\":null,\"text\":\"Mutual Information: 0.259\",\"text_color\":\"black\",\"text_font_size\":\"12pt\"},\"id\":\"18524\",\"type\":\"Title\"},{\"attributes\":{\"fill_color\":{\"value\":\"white\"},\"hatch_color\":{\"value\":\"white\"},\"line_color\":{\"value\":\"white\"},\"x\":{\"field\":\"y\"},\"y\":{\"field\":\"x\"}},\"id\":\"18477\",\"type\":\"Scatter\"},{\"attributes\":{},\"id\":\"18539\",\"type\":\"SaveTool\"},{\"attributes\":{\"below\":[{\"id\":\"18247\"}],\"center\":[{\"id\":\"18250\"},{\"id\":\"18254\"}],\"height\":400,\"left\":[{\"id\":\"18251\"}],\"margin\":[5,5,5,5],\"min_border_bottom\":10,\"min_border_left\":10,\"min_border_right\":10,\"min_border_top\":10,\"renderers\":[{\"id\":\"18274\"}],\"sizing_mode\":\"fixed\",\"title\":{\"id\":\"18239\"},\"toolbar\":{\"id\":\"18261\"},\"width\":700,\"x_range\":{\"id\":\"18235\"},\"x_scale\":{\"id\":\"18243\"},\"y_range\":{\"id\":\"18236\"},\"y_scale\":{\"id\":\"18245\"}},\"id\":\"18238\",\"subtype\":\"Figure\",\"type\":\"Plot\"},{\"attributes\":{\"coordinates\":null,\"data_source\":{\"id\":\"18360\"},\"glyph\":{\"id\":\"18362\"},\"group\":null,\"hover_glyph\":null,\"muted_glyph\":{\"id\":\"18364\"},\"nonselection_glyph\":{\"id\":\"18363\"},\"selection_glyph\":{\"id\":\"18367\"},\"view\":{\"id\":\"18366\"}},\"id\":\"18365\",\"type\":\"GlyphRenderer\"},{\"attributes\":{\"data\":{\"bottom\":{\"__ndarray__\":\"AAAAAAAAAAAAAAAAAAAAAA==\",\"dtype\":\"float64\",\"order\":\"little\",\"shape\":[2]},\"count\":[1944,151],\"theme_name_beef_hamburger\":[\"0.0\",\"1.0\"],\"theme_name_beef_hamburger_copy\":[\"0.0\",\"1.0\"],\"top\":{\"__ndarray__\":\"AAAAAABgnkAAAAAAAOBiQA==\",\"dtype\":\"float64\",\"order\":\"little\",\"shape\":[2]}},\"selected\":{\"id\":\"18554\"},\"selection_policy\":{\"id\":\"18568\"}},\"id\":\"18553\",\"type\":\"ColumnDataSource\"},{\"attributes\":{\"end\":2.126766861013031,\"reset_end\":1.9954823771799326,\"reset_start\":-1.417914202480622,\"start\":-1.5491986863137204,\"tags\":[[[\"competitors_count\",\"competitors_count\",null]]]},\"id\":\"18235\",\"type\":\"Range1d\"},{\"attributes\":{\"end\":2123.3,\"reset_end\":2123.3,\"reset_start\":0.0,\"tags\":[[[\"count\",\"count\",null]]]},\"id\":\"18521\",\"type\":\"Range1d\"},{\"attributes\":{\"bottom\":{\"field\":\"bottom\"},\"fill_alpha\":{\"value\":0.1},\"fill_color\":{\"value\":\"black\"},\"hatch_alpha\":{\"value\":0.1},\"line_alpha\":{\"value\":0.1},\"top\":{\"field\":\"top\"},\"width\":{\"value\":0.1},\"x\":{\"field\":\"x\"}},\"id\":\"18363\",\"type\":\"VBar\"},{\"attributes\":{},\"id\":\"18243\",\"type\":\"LinearScale\"},{\"attributes\":{\"coordinates\":null,\"group\":null,\"text\":\"Correlation: 1\",\"text_color\":\"black\",\"text_font_size\":\"12pt\"},\"id\":\"18239\",\"type\":\"Title\"},{\"attributes\":{\"fill_alpha\":{\"value\":0.5},\"fill_color\":{\"value\":\"#30a2da\"},\"hatch_alpha\":{\"value\":0.2},\"line_alpha\":{\"value\":0.2},\"line_color\":{\"value\":\"#1f77b4\"},\"line_width\":{\"value\":0},\"xs\":{\"field\":\"ys\"},\"ys\":{\"field\":\"xs\"}},\"id\":\"18447\",\"type\":\"Patches\"},{\"attributes\":{},\"id\":\"18536\",\"type\":\"BasicTicker\"},{\"attributes\":{},\"id\":\"18403\",\"type\":\"UnionRenderers\"},{\"attributes\":{\"children\":[{\"id\":\"18408\"},{\"id\":\"18409\"}],\"css_classes\":[\"panel-widget-box\"],\"margin\":[5,5,5,5],\"name\":\"WidgetBox38952\"},\"id\":\"18407\",\"type\":\"Column\"},{\"attributes\":{\"bottom_units\":\"screen\",\"coordinates\":null,\"fill_alpha\":0.5,\"fill_color\":\"lightgrey\",\"group\":null,\"left_units\":\"screen\",\"level\":\"overlay\",\"line_alpha\":1.0,\"line_color\":\"black\",\"line_dash\":[4,4],\"line_width\":2,\"right_units\":\"screen\",\"syncable\":false,\"top_units\":\"screen\"},\"id\":\"18544\",\"type\":\"BoxAnnotation\"},{\"attributes\":{},\"id\":\"18533\",\"type\":\"CategoricalTicker\"},{\"attributes\":{\"margin\":[5,5,5,5],\"name\":\"VSpacer38985\",\"sizing_mode\":\"stretch_height\"},\"id\":\"18600\",\"type\":\"Spacer\"},{\"attributes\":{},\"id\":\"18313\",\"type\":\"CategoricalScale\"},{\"attributes\":{},\"id\":\"18404\",\"type\":\"Selection\"},{\"attributes\":{\"client_comm_id\":\"9970ceb9524640d39a383a06d5729387\",\"comm_id\":\"4779825e562c4bbbb3daea682a48e850\",\"plot_id\":\"18232\"},\"id\":\"18769\",\"type\":\"panel.models.comm_manager.CommManager\"},{\"attributes\":{\"children\":[{\"id\":\"18515\"},{\"id\":\"18516\"}],\"css_classes\":[\"panel-widget-box\"],\"margin\":[5,5,5,5],\"name\":\"WidgetBox38965\"},\"id\":\"18514\",\"type\":\"Column\"},{\"attributes\":{\"source\":{\"id\":\"18368\"}},\"id\":\"18374\",\"type\":\"CDSView\"},{\"attributes\":{\"axis\":{\"id\":\"18532\"},\"coordinates\":null,\"grid_line_color\":null,\"group\":null,\"ticker\":null},\"id\":\"18534\",\"type\":\"Grid\"},{\"attributes\":{\"children\":[{\"id\":\"18233\"},{\"id\":\"18234\"},{\"id\":\"18304\"},{\"id\":\"18305\"},{\"id\":\"18411\"},{\"id\":\"18412\"},{\"id\":\"18518\"},{\"id\":\"18519\"}],\"margin\":[0,0,0,0],\"name\":\"Column38934\"},\"id\":\"18232\",\"type\":\"Column\"},{\"attributes\":{\"below\":[{\"id\":\"18532\"}],\"center\":[{\"id\":\"18534\"},{\"id\":\"18538\"},{\"id\":\"18571\"}],\"height\":400,\"left\":[{\"id\":\"18535\"}],\"margin\":[5,5,5,5],\"min_border_bottom\":10,\"min_border_left\":10,\"min_border_right\":10,\"min_border_top\":10,\"renderers\":[{\"id\":\"18559\"}],\"right\":[{\"id\":\"18571\"}],\"sizing_mode\":\"fixed\",\"title\":{\"id\":\"18524\"},\"toolbar\":{\"id\":\"18545\"},\"width\":700,\"x_range\":{\"id\":\"18306\"},\"x_scale\":{\"id\":\"18528\"},\"y_range\":{\"id\":\"18521\"},\"y_scale\":{\"id\":\"18530\"}},\"id\":\"18523\",\"subtype\":\"Figure\",\"type\":\"Plot\"},{\"attributes\":{},\"id\":\"18380\",\"type\":\"BasicTickFormatter\"},{\"attributes\":{},\"id\":\"18566\",\"type\":\"CategoricalTickFormatter\"},{\"attributes\":{\"coordinates\":null,\"data_source\":{\"id\":\"18368\"},\"glyph\":{\"id\":\"18370\"},\"group\":null,\"hover_glyph\":null,\"muted_glyph\":{\"id\":\"18372\"},\"nonselection_glyph\":{\"id\":\"18371\"},\"selection_glyph\":{\"id\":\"18375\"},\"view\":{\"id\":\"18374\"}},\"id\":\"18373\",\"type\":\"GlyphRenderer\"},{\"attributes\":{\"axis_label\":\"theme_name_beef_hamburger\",\"coordinates\":null,\"formatter\":{\"id\":\"18566\"},\"group\":null,\"major_label_orientation\":0.7853981633974483,\"major_label_policy\":{\"id\":\"18567\"},\"ticker\":{\"id\":\"18533\"}},\"id\":\"18532\",\"type\":\"CategoricalAxis\"},{\"attributes\":{\"css_classes\":[\"markdown\"],\"margin\":[5,5,5,5],\"name\":\"Markdown38948\",\"text\":\"&lt;h3&gt;Continuous Variables v Categorical Variables&lt;/h3&gt;\"},\"id\":\"18304\",\"type\":\"panel.models.markup.HTML\"},{\"attributes\":{\"data\":{\"bottom\":{\"__ndarray__\":\"rnmWdNuH3r/blnfKyeLzvw==\",\"dtype\":\"float64\",\"order\":\"little\",\"shape\":[2]},\"top\":{\"__ndarray__\":\"EmixQHB70j/blnfKyeLzvw==\",\"dtype\":\"float64\",\"order\":\"little\",\"shape\":[2]},\"x\":[[\"0.0\",0],[\"1.0\",0]]},\"selected\":{\"id\":\"18509\"},\"selection_policy\":{\"id\":\"18508\"}},\"id\":\"18467\",\"type\":\"ColumnDataSource\"},{\"attributes\":{\"source\":{\"id\":\"18443\"}},\"id\":\"18449\",\"type\":\"CDSView\"},{\"attributes\":{},\"id\":\"18541\",\"type\":\"WheelZoomTool\"},{\"attributes\":{\"fill_color\":{\"value\":\"white\"},\"hatch_color\":{\"value\":\"white\"},\"line_color\":{\"value\":\"white\"},\"x\":{\"field\":\"x\"},\"y\":{\"field\":\"y\"}},\"id\":\"18370\",\"type\":\"Scatter\"},{\"attributes\":{\"margin\":[5,20,20,20],\"min_width\":250,\"options\":[\"theme_name_beef_hamburger\",\"theme_name_blueberry\",\"theme_name_chicken\",\"theme_name_crab\",\"theme_name_ethical_packaging\",\"theme_name_ethnic_exotic\",\"theme_name_french_bisque\",\"theme_name_gingerbread\",\"theme_name_gmo_free\",\"theme_name_high_source_of_protein\",\"theme_name_low_carb\",\"theme_name_low_sodium\",\"theme_name_low_sugar\",\"theme_name_no_additives_preservatives\",\"theme_name_poultry\",\"theme_name_salmon\",\"theme_name_soy_foods\",\"theme_name_tuna\",\"theme_name_vegetarian\"],\"title\":\"y_var\",\"value\":\"theme_name_beef_hamburger\",\"width\":250},\"id\":\"18599\",\"type\":\"panel.models.widgets.CustomSelect\"},{\"attributes\":{},\"id\":\"18279\",\"type\":\"AllLabels\"},{\"attributes\":{\"factors\":[\"0.0\",\"1.0\"],\"tags\":[[[\"theme_name_beef_hamburger\",\"theme_name_beef_hamburger\",null]]]},\"id\":\"18306\",\"type\":\"FactorRange\"},{\"attributes\":{\"coordinates\":null,\"group\":null,\"text\":\"Mutual Information: 0.123 ('competitors_count' is binned for computation)\",\"text_color\":\"black\",\"text_font_size\":\"12pt\"},\"id\":\"18309\",\"type\":\"Title\"},{\"attributes\":{\"children\":[{\"id\":\"18407\"},{\"id\":\"18410\"}],\"margin\":[0,0,0,0],\"name\":\"Column38960\"},\"id\":\"18406\",\"type\":\"Column\"},{\"attributes\":{\"fill_color\":{\"value\":\"#30a2da\"},\"hatch_color\":{\"value\":\"#30a2da\"},\"line_color\":{\"value\":\"#30a2da\"},\"size\":{\"value\":5.477225575051661},\"x\":{\"field\":\"competitors_count\"},\"y\":{\"field\":\"competitors_count_copy\"}},\"id\":\"18271\",\"type\":\"Scatter\"},{\"attributes\":{},\"id\":\"18563\",\"type\":\"BasicTickFormatter\"},{\"attributes\":{\"tools\":[{\"id\":\"18237\"},{\"id\":\"18255\"},{\"id\":\"18256\"},{\"id\":\"18257\"},{\"id\":\"18258\"},{\"id\":\"18259\"}]},\"id\":\"18261\",\"type\":\"Toolbar\"},{\"attributes\":{\"children\":[{\"id\":\"18514\"},{\"id\":\"18517\"}],\"margin\":[0,0,0,0],\"name\":\"Column38973\"},\"id\":\"18513\",\"type\":\"Column\"},{\"attributes\":{\"fill_alpha\":{\"value\":0.5},\"fill_color\":{\"value\":\"#30a2da\"},\"hatch_alpha\":{\"value\":1.0},\"hatch_color\":{\"value\":\"black\"},\"hatch_scale\":{\"value\":12.0},\"hatch_weight\":{\"value\":1.0},\"line_alpha\":{\"value\":1.0},\"line_cap\":{\"value\":\"butt\"},\"line_color\":{\"value\":\"#1f77b4\"},\"line_dash\":{\"value\":[]},\"line_dash_offset\":{\"value\":0},\"line_join\":{\"value\":\"bevel\"},\"line_width\":{\"value\":0},\"xs\":{\"field\":\"xs\"},\"ys\":{\"field\":\"ys\"}},\"id\":\"18343\",\"type\":\"Patches\"},{\"attributes\":{\"source\":{\"id\":\"18336\"}},\"id\":\"18342\",\"type\":\"CDSView\"}],\"root_ids\":[\"18232\",\"18769\"]},\"title\":\"Bokeh Application\",\"version\":\"2.4.3\"}};\n",
       "    var render_items = [{\"docid\":\"118911ea-add2-42ca-96e4-37df7587fb31\",\"root_ids\":[\"18232\"],\"roots\":{\"18232\":\"ed3b00f8-2e7d-4cca-a723-b7623f00c504\"}}];\n",
       "    root.Bokeh.embed.embed_items_notebook(docs_json, render_items);\n",
       "  }\n",
       "  if (root.Bokeh !== undefined && root.Bokeh.Panel !== undefined) {\n",
       "    embed_document(root);\n",
       "  } else {\n",
       "    var attempts = 0;\n",
       "    var timer = setInterval(function(root) {\n",
       "      if (root.Bokeh !== undefined && root.Bokeh.Panel !== undefined) {\n",
       "        clearInterval(timer);\n",
       "        embed_document(root);\n",
       "      } else if (document.readyState == \"complete\") {\n",
       "        attempts++;\n",
       "        if (attempts > 200) {\n",
       "          clearInterval(timer);\n",
       "          console.log(\"Bokeh: ERROR: Unable to run BokehJS code because BokehJS library is missing\");\n",
       "        }\n",
       "      }\n",
       "    }, 25, root)\n",
       "  }\n",
       "})(window);</script>"
      ],
      "text/plain": [
       "Column\n",
       "    [0] Markdown(str)\n",
       "    [1] Row\n",
       "        [0] HoloViews(DynamicMap)\n",
       "        [1] Column\n",
       "            [0] WidgetBox\n",
       "                [0] Select(margin=(20, 20, 5, 20), name='x_var', options=['competitors_count', ...], value='competitors_count', width=250)\n",
       "                [1] Select(margin=(5, 20, 20, 20), name='y_var', options=['competitors_count', ...], value='competitors_count', width=250)\n",
       "            [1] VSpacer()\n",
       "    [2] Markdown(str)\n",
       "    [3] Row\n",
       "        [0] HoloViews(DynamicMap)\n",
       "        [1] Column\n",
       "            [0] WidgetBox\n",
       "                [0] Select(margin=(20, 20, 5, 20), name='x_var', options=['theme_name_beef_hamburge...], value='theme_name_beef_hamburger..., width=250)\n",
       "                [1] Select(margin=(5, 20, 20, 20), name='y_var', options=['competitors_count', ...], value='competitors_count', width=250)\n",
       "            [1] VSpacer()\n",
       "    [4] Markdown(str)\n",
       "    [5] Row\n",
       "        [0] HoloViews(DynamicMap)\n",
       "        [1] Column\n",
       "            [0] WidgetBox\n",
       "                [0] Select(margin=(20, 20, 5, 20), name='x_var', options=['competitors_count', ...], value='competitors_count', width=250)\n",
       "                [1] Select(margin=(5, 20, 20, 20), name='y_var', options=['theme_name_beef_hamburge...], value='theme_name_beef_hamburger..., width=250)\n",
       "            [1] VSpacer()\n",
       "    [6] Markdown(str)\n",
       "    [7] Row\n",
       "        [0] HoloViews(DynamicMap)\n",
       "        [1] Column\n",
       "            [0] WidgetBox\n",
       "                [0] Select(margin=(20, 20, 5, 20), name='x_var', options=['theme_name_beef_hamburge...], value='theme_name_beef_hamburger..., width=250)\n",
       "                [1] Select(margin=(5, 20, 20, 20), name='y_var', options=['theme_name_beef_hamburge...], value='theme_name_beef_hamburger..., width=250)\n",
       "            [1] VSpacer()"
      ]
     },
     "execution_count": 42,
     "metadata": {
      "application/vnd.holoviews_exec.v0+json": {
       "id": "18232"
      }
     },
     "output_type": "execute_result"
    }
   ],
   "source": [
    "bivar_plots = eda.get_bivariate_plots(X_train_prepared)\n",
    "\n",
    "bivar_plots"
   ]
  },
  {
   "cell_type": "code",
   "execution_count": 43,
   "metadata": {},
   "outputs": [],
   "source": [
    "# Create reports\n",
    "cols = X_train_prepared.columns.to_list()\n",
    "all_plots = {}\n",
    "for ii, col1 in enumerate(cols): \n",
    "    for jj in range(ii + 1, len(cols)):\n",
    "        col2 = cols[jj]\n",
    "        plots = eda.get_bivariate_plots(\n",
    "            X_train_prepared,\n",
    "            x_cols=[col1],\n",
    "            y_cols=[col2]\n",
    "        )\n",
    "        all_plots.update({f'{col2} vs {col1}': plots})\n",
    "\n",
    "reports.create_report(all_plots, name='feature-analysis-bivariate')"
   ]
  },
  {
   "cell_type": "code",
   "execution_count": 44,
   "metadata": {},
   "outputs": [],
   "source": [
    "reports.feature_interactions(X_train_prepared,'./feature-interaction-report.html')"
   ]
  },
  {
   "cell_type": "markdown",
   "metadata": {},
   "source": [
    "#### 2.2.2 Key Drivers - Interaction with Target Variable"
   ]
  },
  {
   "cell_type": "code",
   "execution_count": 45,
   "metadata": {},
   "outputs": [
    {
     "data": {},
     "metadata": {},
     "output_type": "display_data"
    },
    {
     "data": {},
     "metadata": {},
     "output_type": "display_data"
    },
    {
     "data": {
      "application/vnd.holoviews_exec.v0+json": "",
      "text/html": [
       "<div id='55568'>\n",
       "  <div class=\"bk-root\" id=\"dba7b470-73ee-4842-8bea-ca7b32cd4ed0\" data-root-id=\"55568\"></div>\n",
       "</div>\n",
       "<script type=\"application/javascript\">(function(root) {\n",
       "  function embed_document(root) {\n",
       "    var docs_json = {\"36bf0f69-61e0-41a2-878d-45aa941f8652\":{\"defs\":[{\"extends\":null,\"module\":null,\"name\":\"ReactiveHTML1\",\"overrides\":[],\"properties\":[]},{\"extends\":null,\"module\":null,\"name\":\"FlexBox1\",\"overrides\":[],\"properties\":[{\"default\":\"flex-start\",\"kind\":null,\"name\":\"align_content\"},{\"default\":\"flex-start\",\"kind\":null,\"name\":\"align_items\"},{\"default\":\"row\",\"kind\":null,\"name\":\"flex_direction\"},{\"default\":\"wrap\",\"kind\":null,\"name\":\"flex_wrap\"},{\"default\":\"flex-start\",\"kind\":null,\"name\":\"justify_content\"}]},{\"extends\":null,\"module\":null,\"name\":\"GridStack1\",\"overrides\":[],\"properties\":[{\"default\":\"warn\",\"kind\":null,\"name\":\"mode\"},{\"default\":null,\"kind\":null,\"name\":\"ncols\"},{\"default\":null,\"kind\":null,\"name\":\"nrows\"},{\"default\":true,\"kind\":null,\"name\":\"allow_resize\"},{\"default\":true,\"kind\":null,\"name\":\"allow_drag\"},{\"default\":[],\"kind\":null,\"name\":\"state\"}]},{\"extends\":null,\"module\":null,\"name\":\"click1\",\"overrides\":[],\"properties\":[{\"default\":\"\",\"kind\":null,\"name\":\"terminal_output\"},{\"default\":\"\",\"kind\":null,\"name\":\"debug_name\"},{\"default\":0,\"kind\":null,\"name\":\"clears\"}]},{\"extends\":null,\"module\":null,\"name\":\"NotificationAreaBase1\",\"overrides\":[],\"properties\":[{\"default\":\"bottom-right\",\"kind\":null,\"name\":\"position\"},{\"default\":0,\"kind\":null,\"name\":\"_clear\"}]},{\"extends\":null,\"module\":null,\"name\":\"NotificationArea1\",\"overrides\":[],\"properties\":[{\"default\":[],\"kind\":null,\"name\":\"notifications\"},{\"default\":\"bottom-right\",\"kind\":null,\"name\":\"position\"},{\"default\":0,\"kind\":null,\"name\":\"_clear\"},{\"default\":[{\"background\":\"#ffc107\",\"icon\":{\"className\":\"fas fa-exclamation-triangle\",\"color\":\"white\",\"tagName\":\"i\"},\"type\":\"warning\"},{\"background\":\"#007bff\",\"icon\":{\"className\":\"fas fa-info-circle\",\"color\":\"white\",\"tagName\":\"i\"},\"type\":\"info\"}],\"kind\":null,\"name\":\"types\"}]},{\"extends\":null,\"module\":null,\"name\":\"Notification\",\"overrides\":[],\"properties\":[{\"default\":null,\"kind\":null,\"name\":\"background\"},{\"default\":3000,\"kind\":null,\"name\":\"duration\"},{\"default\":null,\"kind\":null,\"name\":\"icon\"},{\"default\":\"\",\"kind\":null,\"name\":\"message\"},{\"default\":null,\"kind\":null,\"name\":\"notification_type\"},{\"default\":false,\"kind\":null,\"name\":\"_destroyed\"}]},{\"extends\":null,\"module\":null,\"name\":\"TemplateActions1\",\"overrides\":[],\"properties\":[{\"default\":0,\"kind\":null,\"name\":\"open_modal\"},{\"default\":0,\"kind\":null,\"name\":\"close_modal\"}]},{\"extends\":null,\"module\":null,\"name\":\"MaterialTemplateActions1\",\"overrides\":[],\"properties\":[{\"default\":0,\"kind\":null,\"name\":\"open_modal\"},{\"default\":0,\"kind\":null,\"name\":\"close_modal\"}]}],\"roots\":{\"references\":[{\"attributes\":{\"callback\":null,\"renderers\":[{\"id\":\"55607\"}],\"tags\":[\"hv_created\"],\"tooltips\":[[\"index\",\"@{index}\"],[\"Pearson_correlation_with_Target\",\"@{Pearson_correlation_with_Target}\"]]},\"id\":\"55571\",\"type\":\"HoverTool\"},{\"attributes\":{\"tools\":[{\"id\":\"55571\"},{\"id\":\"55588\"},{\"id\":\"55589\"},{\"id\":\"55590\"},{\"id\":\"55591\"},{\"id\":\"55592\"}]},\"id\":\"55594\",\"type\":\"Toolbar\"},{\"attributes\":{\"overlay\":{\"id\":\"55593\"}},\"id\":\"55591\",\"type\":\"BoxZoomTool\"},{\"attributes\":{},\"id\":\"55592\",\"type\":\"ResetTool\"},{\"attributes\":{},\"id\":\"55589\",\"type\":\"PanTool\"},{\"attributes\":{\"child\":{\"id\":\"55572\"},\"name\":\"feature_correlation\",\"title\":\"feature_correlation\"},\"id\":\"55626\",\"type\":\"Panel\"},{\"attributes\":{},\"id\":\"55577\",\"type\":\"LinearScale\"},{\"attributes\":{},\"id\":\"55602\",\"type\":\"Selection\"},{\"attributes\":{},\"id\":\"55586\",\"type\":\"CategoricalTicker\"},{\"attributes\":{\"axis\":{\"id\":\"55581\"},\"coordinates\":null,\"grid_line_color\":null,\"group\":null,\"ticker\":null},\"id\":\"55584\",\"type\":\"Grid\"},{\"attributes\":{\"factors\":[\"competitor_share\",\"search_volume\",\"total_post\",\"competitors_count\"],\"tags\":[[[\"index\",\"index\",null]]]},\"id\":\"55570\",\"type\":\"FactorRange\"},{\"attributes\":{\"coordinates\":null,\"data_source\":{\"id\":\"55601\"},\"glyph\":{\"id\":\"55604\"},\"group\":null,\"hover_glyph\":null,\"muted_glyph\":{\"id\":\"55606\"},\"nonselection_glyph\":{\"id\":\"55605\"},\"selection_glyph\":{\"id\":\"55609\"},\"view\":{\"id\":\"55608\"}},\"id\":\"55607\",\"type\":\"GlyphRenderer\"},{\"attributes\":{},\"id\":\"55612\",\"type\":\"AllLabels\"},{\"attributes\":{\"bottom_units\":\"screen\",\"coordinates\":null,\"fill_alpha\":0.5,\"fill_color\":\"lightgrey\",\"group\":null,\"left_units\":\"screen\",\"level\":\"overlay\",\"line_alpha\":1.0,\"line_color\":\"black\",\"line_dash\":[4,4],\"line_width\":2,\"right_units\":\"screen\",\"syncable\":false,\"top_units\":\"screen\"},\"id\":\"55593\",\"type\":\"BoxAnnotation\"},{\"attributes\":{},\"id\":\"55614\",\"type\":\"CategoricalTickFormatter\"},{\"attributes\":{\"axis\":{\"id\":\"55585\"},\"coordinates\":null,\"dimension\":1,\"grid_line_color\":null,\"group\":null,\"ticker\":null},\"id\":\"55587\",\"type\":\"Grid\"},{\"attributes\":{\"axis_label\":\"\",\"coordinates\":null,\"formatter\":{\"id\":\"55614\"},\"group\":null,\"major_label_policy\":{\"id\":\"55615\"},\"ticker\":{\"id\":\"55586\"}},\"id\":\"55585\",\"type\":\"CategoricalAxis\"},{\"attributes\":{},\"id\":\"55582\",\"type\":\"BasicTicker\"},{\"attributes\":{\"end\":0.6915821282766883,\"reset_end\":0.6915821282766883,\"reset_start\":-0.13044196301505098,\"start\":-0.13044196301505098,\"tags\":[[[\"Pearson_correlation_with_Target\",\"Pearson_correlation_with_Target\",null]]]},\"id\":\"55569\",\"type\":\"Range1d\"},{\"attributes\":{\"fill_alpha\":{\"value\":1.0},\"fill_color\":{\"value\":\"#30a2da\"},\"hatch_alpha\":{\"value\":1.0},\"hatch_color\":{\"value\":\"#30a2da\"},\"hatch_scale\":{\"value\":12.0},\"hatch_weight\":{\"value\":1.0},\"height\":{\"value\":0.8},\"left\":{\"value\":0},\"line_alpha\":{\"value\":1.0},\"line_cap\":{\"value\":\"butt\"},\"line_color\":{\"value\":\"black\"},\"line_dash\":{\"value\":[]},\"line_dash_offset\":{\"value\":0},\"line_join\":{\"value\":\"bevel\"},\"line_width\":{\"value\":1},\"right\":{\"field\":\"Pearson_correlation_with_Target\"},\"y\":{\"field\":\"index\"}},\"id\":\"55609\",\"type\":\"HBar\"},{\"attributes\":{},\"id\":\"55615\",\"type\":\"AllLabels\"},{\"attributes\":{},\"id\":\"55590\",\"type\":\"WheelZoomTool\"},{\"attributes\":{\"data\":{\"Pearson_correlation_with_Target\":{\"__ndarray__\":\"Xb2UBZi2r7/PCbM0yPLEP5Qz4T4Hmd4/9/WhuEXw4z8=\",\"dtype\":\"float64\",\"order\":\"little\",\"shape\":[4]},\"index\":[\"competitor_share\",\"search_volume\",\"total_post\",\"competitors_count\"]},\"selected\":{\"id\":\"55602\"},\"selection_policy\":{\"id\":\"55623\"}},\"id\":\"55601\",\"type\":\"ColumnDataSource\"},{\"attributes\":{},\"id\":\"55588\",\"type\":\"SaveTool\"},{\"attributes\":{\"axis_label\":\"Pearson_correlation_with_Target\",\"coordinates\":null,\"formatter\":{\"id\":\"55611\"},\"group\":null,\"major_label_policy\":{\"id\":\"55612\"},\"ticker\":{\"id\":\"55582\"}},\"id\":\"55581\",\"type\":\"LinearAxis\"},{\"attributes\":{\"source\":{\"id\":\"55601\"}},\"id\":\"55608\",\"type\":\"CDSView\"},{\"attributes\":{\"fill_alpha\":{\"value\":0.2},\"fill_color\":{\"value\":\"#30a2da\"},\"hatch_alpha\":{\"value\":0.2},\"hatch_color\":{\"value\":\"#30a2da\"},\"height\":{\"value\":0.8},\"line_alpha\":{\"value\":0.2},\"right\":{\"field\":\"Pearson_correlation_with_Target\"},\"y\":{\"field\":\"index\"}},\"id\":\"55606\",\"type\":\"HBar\"},{\"attributes\":{},\"id\":\"55623\",\"type\":\"UnionRenderers\"},{\"attributes\":{\"fill_alpha\":{\"value\":0.1},\"fill_color\":{\"value\":\"#30a2da\"},\"hatch_alpha\":{\"value\":0.1},\"hatch_color\":{\"value\":\"#30a2da\"},\"height\":{\"value\":0.8},\"line_alpha\":{\"value\":0.1},\"right\":{\"field\":\"Pearson_correlation_with_Target\"},\"y\":{\"field\":\"index\"}},\"id\":\"55605\",\"type\":\"HBar\"},{\"attributes\":{\"client_comm_id\":\"6e7f42e4c3a74598bbcd4d8028fe6091\",\"comm_id\":\"c040566b6abe49c2b55c2ef9a3445e8a\",\"plot_id\":\"55568\"},\"id\":\"55657\",\"type\":\"panel.models.comm_manager.CommManager\"},{\"attributes\":{\"margin\":[0,0,0,0],\"tabs\":[{\"id\":\"55626\"}]},\"id\":\"55568\",\"type\":\"panel.models.tabs.Tabs\"},{\"attributes\":{},\"id\":\"55579\",\"type\":\"CategoricalScale\"},{\"attributes\":{},\"id\":\"55611\",\"type\":\"BasicTickFormatter\"},{\"attributes\":{\"fill_color\":{\"value\":\"#30a2da\"},\"hatch_color\":{\"value\":\"#30a2da\"},\"height\":{\"value\":0.8},\"right\":{\"field\":\"Pearson_correlation_with_Target\"},\"y\":{\"field\":\"index\"}},\"id\":\"55604\",\"type\":\"HBar\"},{\"attributes\":{\"below\":[{\"id\":\"55581\"}],\"center\":[{\"id\":\"55584\"},{\"id\":\"55587\"}],\"height\":300,\"left\":[{\"id\":\"55585\"}],\"margin\":[5,5,5,5],\"min_border_bottom\":10,\"min_border_left\":10,\"min_border_right\":10,\"min_border_top\":10,\"renderers\":[{\"id\":\"55607\"}],\"sizing_mode\":\"fixed\",\"title\":{\"id\":\"55573\"},\"toolbar\":{\"id\":\"55594\"},\"width\":700,\"x_range\":{\"id\":\"55569\"},\"x_scale\":{\"id\":\"55577\"},\"y_range\":{\"id\":\"55570\"},\"y_scale\":{\"id\":\"55579\"}},\"id\":\"55572\",\"subtype\":\"Figure\",\"type\":\"Plot\"},{\"attributes\":{\"coordinates\":null,\"group\":null,\"text\":\"Feature Correlation with Target Function\",\"text_color\":\"black\",\"text_font_size\":\"12pt\"},\"id\":\"55573\",\"type\":\"Title\"}],\"root_ids\":[\"55568\",\"55657\"]},\"title\":\"Bokeh Application\",\"version\":\"2.4.3\"}};\n",
       "    var render_items = [{\"docid\":\"36bf0f69-61e0-41a2-878d-45aa941f8652\",\"root_ids\":[\"55568\"],\"roots\":{\"55568\":\"dba7b470-73ee-4842-8bea-ca7b32cd4ed0\"}}];\n",
       "    root.Bokeh.embed.embed_items_notebook(docs_json, render_items);\n",
       "  }\n",
       "  if (root.Bokeh !== undefined && root.Bokeh.Panel !== undefined) {\n",
       "    embed_document(root);\n",
       "  } else {\n",
       "    var attempts = 0;\n",
       "    var timer = setInterval(function(root) {\n",
       "      if (root.Bokeh !== undefined && root.Bokeh.Panel !== undefined) {\n",
       "        clearInterval(timer);\n",
       "        embed_document(root);\n",
       "      } else if (document.readyState == \"complete\") {\n",
       "        attempts++;\n",
       "        if (attempts > 200) {\n",
       "          clearInterval(timer);\n",
       "          console.log(\"Bokeh: ERROR: Unable to run BokehJS code because BokehJS library is missing\");\n",
       "        }\n",
       "      }\n",
       "    }, 25, root)\n",
       "  }\n",
       "})(window);</script>"
      ],
      "text/plain": [
       "Tabs\n",
       "    [0] HoloViews(Bars, name='feature_correlation')"
      ]
     },
     "execution_count": 45,
     "metadata": {
      "application/vnd.holoviews_exec.v0+json": {
       "id": "55568"
      }
     },
     "output_type": "execute_result"
    }
   ],
   "source": [
    "op_plot = eda.get_target_correlation(\n",
    "    X_train_prepared.drop(columns=binary_num_columns, axis=1),\n",
    "    y_train,\n",
    "    y_continuous=True\n",
    ")\n",
    "display_as_tabs([(k, v) for k,v in op_plot.items()])"
   ]
  },
  {
   "cell_type": "code",
   "execution_count": 46,
   "metadata": {},
   "outputs": [
    {
     "data": {},
     "metadata": {},
     "output_type": "display_data"
    },
    {
     "data": {},
     "metadata": {},
     "output_type": "display_data"
    },
    {
     "data": {
      "application/vnd.holoviews_exec.v0+json": "",
      "text/html": [
       "<div id='55708'>\n",
       "  <div class=\"bk-root\" id=\"d4c2165a-3bc1-4bc5-941e-7ca78e40476d\" data-root-id=\"55708\"></div>\n",
       "</div>\n",
       "<script type=\"application/javascript\">(function(root) {\n",
       "  function embed_document(root) {\n",
       "    var docs_json = {\"ff2f2ac0-a9ab-4493-bfc1-42dbb7981637\":{\"defs\":[{\"extends\":null,\"module\":null,\"name\":\"ReactiveHTML1\",\"overrides\":[],\"properties\":[]},{\"extends\":null,\"module\":null,\"name\":\"FlexBox1\",\"overrides\":[],\"properties\":[{\"default\":\"flex-start\",\"kind\":null,\"name\":\"align_content\"},{\"default\":\"flex-start\",\"kind\":null,\"name\":\"align_items\"},{\"default\":\"row\",\"kind\":null,\"name\":\"flex_direction\"},{\"default\":\"wrap\",\"kind\":null,\"name\":\"flex_wrap\"},{\"default\":\"flex-start\",\"kind\":null,\"name\":\"justify_content\"}]},{\"extends\":null,\"module\":null,\"name\":\"GridStack1\",\"overrides\":[],\"properties\":[{\"default\":\"warn\",\"kind\":null,\"name\":\"mode\"},{\"default\":null,\"kind\":null,\"name\":\"ncols\"},{\"default\":null,\"kind\":null,\"name\":\"nrows\"},{\"default\":true,\"kind\":null,\"name\":\"allow_resize\"},{\"default\":true,\"kind\":null,\"name\":\"allow_drag\"},{\"default\":[],\"kind\":null,\"name\":\"state\"}]},{\"extends\":null,\"module\":null,\"name\":\"click1\",\"overrides\":[],\"properties\":[{\"default\":\"\",\"kind\":null,\"name\":\"terminal_output\"},{\"default\":\"\",\"kind\":null,\"name\":\"debug_name\"},{\"default\":0,\"kind\":null,\"name\":\"clears\"}]},{\"extends\":null,\"module\":null,\"name\":\"NotificationAreaBase1\",\"overrides\":[],\"properties\":[{\"default\":\"bottom-right\",\"kind\":null,\"name\":\"position\"},{\"default\":0,\"kind\":null,\"name\":\"_clear\"}]},{\"extends\":null,\"module\":null,\"name\":\"NotificationArea1\",\"overrides\":[],\"properties\":[{\"default\":[],\"kind\":null,\"name\":\"notifications\"},{\"default\":\"bottom-right\",\"kind\":null,\"name\":\"position\"},{\"default\":0,\"kind\":null,\"name\":\"_clear\"},{\"default\":[{\"background\":\"#ffc107\",\"icon\":{\"className\":\"fas fa-exclamation-triangle\",\"color\":\"white\",\"tagName\":\"i\"},\"type\":\"warning\"},{\"background\":\"#007bff\",\"icon\":{\"className\":\"fas fa-info-circle\",\"color\":\"white\",\"tagName\":\"i\"},\"type\":\"info\"}],\"kind\":null,\"name\":\"types\"}]},{\"extends\":null,\"module\":null,\"name\":\"Notification\",\"overrides\":[],\"properties\":[{\"default\":null,\"kind\":null,\"name\":\"background\"},{\"default\":3000,\"kind\":null,\"name\":\"duration\"},{\"default\":null,\"kind\":null,\"name\":\"icon\"},{\"default\":\"\",\"kind\":null,\"name\":\"message\"},{\"default\":null,\"kind\":null,\"name\":\"notification_type\"},{\"default\":false,\"kind\":null,\"name\":\"_destroyed\"}]},{\"extends\":null,\"module\":null,\"name\":\"TemplateActions1\",\"overrides\":[],\"properties\":[{\"default\":0,\"kind\":null,\"name\":\"open_modal\"},{\"default\":0,\"kind\":null,\"name\":\"close_modal\"}]},{\"extends\":null,\"module\":null,\"name\":\"MaterialTemplateActions1\",\"overrides\":[],\"properties\":[{\"default\":0,\"kind\":null,\"name\":\"open_modal\"},{\"default\":0,\"kind\":null,\"name\":\"close_modal\"}]}],\"roots\":{\"references\":[{\"attributes\":{},\"id\":\"55726\",\"type\":\"CategoricalTicker\"},{\"attributes\":{\"axis\":{\"id\":\"55725\"},\"coordinates\":null,\"dimension\":1,\"grid_line_color\":null,\"group\":null,\"ticker\":null},\"id\":\"55727\",\"type\":\"Grid\"},{\"attributes\":{},\"id\":\"55752\",\"type\":\"AllLabels\"},{\"attributes\":{},\"id\":\"55732\",\"type\":\"ResetTool\"},{\"attributes\":{},\"id\":\"55754\",\"type\":\"CategoricalTickFormatter\"},{\"attributes\":{},\"id\":\"55728\",\"type\":\"SaveTool\"},{\"attributes\":{\"source\":{\"id\":\"55741\"}},\"id\":\"55748\",\"type\":\"CDSView\"},{\"attributes\":{\"factors\":[\"search_volume\",\"competitor_share\",\"total_post\",\"competitors_count\"],\"tags\":[[[\"index\",\"index\",null]]]},\"id\":\"55710\",\"type\":\"FactorRange\"},{\"attributes\":{\"fill_alpha\":{\"value\":1.0},\"fill_color\":{\"value\":\"#30a2da\"},\"hatch_alpha\":{\"value\":1.0},\"hatch_color\":{\"value\":\"#30a2da\"},\"hatch_scale\":{\"value\":12.0},\"hatch_weight\":{\"value\":1.0},\"height\":{\"value\":0.8},\"left\":{\"value\":0},\"line_alpha\":{\"value\":1.0},\"line_cap\":{\"value\":\"butt\"},\"line_color\":{\"value\":\"black\"},\"line_dash\":{\"value\":[]},\"line_dash_offset\":{\"value\":0},\"line_join\":{\"value\":\"bevel\"},\"line_width\":{\"value\":1},\"right\":{\"field\":\"importance\"},\"y\":{\"field\":\"index\"}},\"id\":\"55749\",\"type\":\"HBar\"},{\"attributes\":{\"fill_alpha\":{\"value\":0.2},\"fill_color\":{\"value\":\"#30a2da\"},\"hatch_alpha\":{\"value\":0.2},\"hatch_color\":{\"value\":\"#30a2da\"},\"height\":{\"value\":0.8},\"line_alpha\":{\"value\":0.2},\"right\":{\"field\":\"importance\"},\"y\":{\"field\":\"index\"}},\"id\":\"55746\",\"type\":\"HBar\"},{\"attributes\":{\"fill_alpha\":{\"value\":0.1},\"fill_color\":{\"value\":\"#30a2da\"},\"hatch_alpha\":{\"value\":0.1},\"hatch_color\":{\"value\":\"#30a2da\"},\"height\":{\"value\":0.8},\"line_alpha\":{\"value\":0.1},\"right\":{\"field\":\"importance\"},\"y\":{\"field\":\"index\"}},\"id\":\"55745\",\"type\":\"HBar\"},{\"attributes\":{\"child\":{\"id\":\"55712\"},\"name\":\"from_model\",\"title\":\"from_model\"},\"id\":\"55766\",\"type\":\"Panel\"},{\"attributes\":{\"coordinates\":null,\"group\":null,\"text\":\"Feature Importances from LassoCV\",\"text_color\":\"black\",\"text_font_size\":\"12pt\"},\"id\":\"55713\",\"type\":\"Title\"},{\"attributes\":{\"bottom_units\":\"screen\",\"coordinates\":null,\"fill_alpha\":0.5,\"fill_color\":\"lightgrey\",\"group\":null,\"left_units\":\"screen\",\"level\":\"overlay\",\"line_alpha\":1.0,\"line_color\":\"black\",\"line_dash\":[4,4],\"line_width\":2,\"right_units\":\"screen\",\"syncable\":false,\"top_units\":\"screen\"},\"id\":\"55733\",\"type\":\"BoxAnnotation\"},{\"attributes\":{\"axis\":{\"id\":\"55721\"},\"coordinates\":null,\"grid_line_color\":null,\"group\":null,\"ticker\":null},\"id\":\"55724\",\"type\":\"Grid\"},{\"attributes\":{\"axis_label\":\"Features\",\"coordinates\":null,\"formatter\":{\"id\":\"55754\"},\"group\":null,\"major_label_policy\":{\"id\":\"55755\"},\"ticker\":{\"id\":\"55726\"}},\"id\":\"55725\",\"type\":\"CategoricalAxis\"},{\"attributes\":{\"data\":{\"importance\":{\"__ndarray__\":\"Vlaaaf+FRcBxdmJ92xg8wNFADDd9fUNAYSYPBuIOVUA=\",\"dtype\":\"float64\",\"order\":\"little\",\"shape\":[4]},\"index\":[\"search_volume\",\"competitor_share\",\"total_post\",\"competitors_count\"]},\"selected\":{\"id\":\"55742\"},\"selection_policy\":{\"id\":\"55763\"}},\"id\":\"55741\",\"type\":\"ColumnDataSource\"},{\"attributes\":{},\"id\":\"55751\",\"type\":\"BasicTickFormatter\"},{\"attributes\":{\"callback\":null,\"renderers\":[{\"id\":\"55747\"}],\"tags\":[\"hv_created\"],\"tooltips\":[[\"index\",\"@{index}\"],[\"importance\",\"@{importance}\"]]},\"id\":\"55711\",\"type\":\"HoverTool\"},{\"attributes\":{\"coordinates\":null,\"data_source\":{\"id\":\"55741\"},\"glyph\":{\"id\":\"55744\"},\"group\":null,\"hover_glyph\":null,\"muted_glyph\":{\"id\":\"55746\"},\"nonselection_glyph\":{\"id\":\"55745\"},\"selection_glyph\":{\"id\":\"55749\"},\"view\":{\"id\":\"55748\"}},\"id\":\"55747\",\"type\":\"GlyphRenderer\"},{\"attributes\":{\"axis_label\":\"Feature Importance [determined by coeff * mean(x)]\",\"coordinates\":null,\"formatter\":{\"id\":\"55751\"},\"group\":null,\"major_label_policy\":{\"id\":\"55752\"},\"ticker\":{\"id\":\"55722\"}},\"id\":\"55721\",\"type\":\"LinearAxis\"},{\"attributes\":{},\"id\":\"55730\",\"type\":\"WheelZoomTool\"},{\"attributes\":{\"end\":96.96048563605339,\"reset_end\":96.96048563605339,\"reset_start\":-55.77479731738612,\"start\":-55.77479731738612,\"tags\":[[[\"importance\",\"importance\",null]]]},\"id\":\"55709\",\"type\":\"Range1d\"},{\"attributes\":{\"below\":[{\"id\":\"55721\"}],\"center\":[{\"id\":\"55724\"},{\"id\":\"55727\"}],\"height\":300,\"left\":[{\"id\":\"55725\"}],\"margin\":[5,5,5,5],\"min_border_bottom\":10,\"min_border_left\":10,\"min_border_right\":10,\"min_border_top\":10,\"renderers\":[{\"id\":\"55747\"}],\"sizing_mode\":\"fixed\",\"title\":{\"id\":\"55713\"},\"toolbar\":{\"id\":\"55734\"},\"width\":700,\"x_range\":{\"id\":\"55709\"},\"x_scale\":{\"id\":\"55717\"},\"y_range\":{\"id\":\"55710\"},\"y_scale\":{\"id\":\"55719\"}},\"id\":\"55712\",\"subtype\":\"Figure\",\"type\":\"Plot\"},{\"attributes\":{\"child\":{\"id\":\"55767\"},\"name\":\"shap_values\",\"title\":\"shap_values\"},\"id\":\"55768\",\"type\":\"Panel\"},{\"attributes\":{},\"id\":\"55719\",\"type\":\"CategoricalScale\"},{\"attributes\":{},\"id\":\"55729\",\"type\":\"PanTool\"},{\"attributes\":{},\"id\":\"55717\",\"type\":\"LinearScale\"},{\"attributes\":{\"overlay\":{\"id\":\"55733\"}},\"id\":\"55731\",\"type\":\"BoxZoomTool\"},{\"attributes\":{},\"id\":\"55763\",\"type\":\"UnionRenderers\"},{\"attributes\":{},\"id\":\"55755\",\"type\":\"AllLabels\"},{\"attributes\":{\"fill_color\":{\"value\":\"#30a2da\"},\"hatch_color\":{\"value\":\"#30a2da\"},\"height\":{\"value\":0.8},\"right\":{\"field\":\"importance\"},\"y\":{\"field\":\"index\"}},\"id\":\"55744\",\"type\":\"HBar\"},{\"attributes\":{\"tools\":[{\"id\":\"55711\"},{\"id\":\"55728\"},{\"id\":\"55729\"},{\"id\":\"55730\"},{\"id\":\"55731\"},{\"id\":\"55732\"}]},\"id\":\"55734\",\"type\":\"Toolbar\"},{\"attributes\":{},\"id\":\"55742\",\"type\":\"Selection\"},{\"attributes\":{\"margin\":[0,0,0,0],\"tabs\":[{\"id\":\"55766\"},{\"id\":\"55768\"}]},\"id\":\"55708\",\"type\":\"panel.models.tabs.Tabs\"},{\"attributes\":{\"client_comm_id\":\"0b847b25651448beafbf5f59ef7da704\",\"comm_id\":\"0175fe5edffe4cca819b82101f05dd63\",\"plot_id\":\"55708\"},\"id\":\"55799\",\"type\":\"panel.models.comm_manager.CommManager\"},{\"attributes\":{},\"id\":\"55722\",\"type\":\"BasicTicker\"},{\"attributes\":{\"height\":310,\"margin\":[5,5,5,5],\"name\":\"shap_values\",\"text\":\"&lt;img src=&quot;data:image/png;base64,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&quot; width=&quot;800px&quot; height=&quot;310px&quot; alt=&quot;&quot;&gt;&lt;/img&gt;\",\"width\":800},\"id\":\"55767\",\"type\":\"panel.models.markup.HTML\"}],\"root_ids\":[\"55708\",\"55799\"]},\"title\":\"Bokeh Application\",\"version\":\"2.4.3\"}};\n",
       "    var render_items = [{\"docid\":\"ff2f2ac0-a9ab-4493-bfc1-42dbb7981637\",\"root_ids\":[\"55708\"],\"roots\":{\"55708\":\"d4c2165a-3bc1-4bc5-941e-7ca78e40476d\"}}];\n",
       "    root.Bokeh.embed.embed_items_notebook(docs_json, render_items);\n",
       "  }\n",
       "  if (root.Bokeh !== undefined && root.Bokeh.Panel !== undefined) {\n",
       "    embed_document(root);\n",
       "  } else {\n",
       "    var attempts = 0;\n",
       "    var timer = setInterval(function(root) {\n",
       "      if (root.Bokeh !== undefined && root.Bokeh.Panel !== undefined) {\n",
       "        clearInterval(timer);\n",
       "        embed_document(root);\n",
       "      } else if (document.readyState == \"complete\") {\n",
       "        attempts++;\n",
       "        if (attempts > 200) {\n",
       "          clearInterval(timer);\n",
       "          console.log(\"Bokeh: ERROR: Unable to run BokehJS code because BokehJS library is missing\");\n",
       "        }\n",
       "      }\n",
       "    }, 25, root)\n",
       "  }\n",
       "})(window);</script>"
      ],
      "text/plain": [
       "Tabs\n",
       "    [0] HoloViews(Bars, name='from_model')\n",
       "    [1] Matplotlib(Figure, name='shap_values')"
      ]
     },
     "execution_count": 46,
     "metadata": {
      "application/vnd.holoviews_exec.v0+json": {
       "id": "55708"
      }
     },
     "output_type": "execute_result"
    }
   ],
   "source": [
    "op_plots = eda.get_feature_importances(\n",
    "    X_train_prepared.drop(columns=binary_num_columns, axis=1),\n",
    "    y_train,\n",
    "    y_continuous=True\n",
    ")\n",
    "\n",
    "display_as_tabs([(k, v) for k,v in op_plots.items()])"
   ]
  },
  {
   "cell_type": "code",
   "execution_count": 47,
   "metadata": {},
   "outputs": [],
   "source": [
    "reports.key_drivers(\n",
    "    X_train_prepared.drop(columns=binary_num_columns, axis=1),\n",
    "    y_train,\n",
    "    './key-drivers-report.html',\n",
    "    y_continuous=True\n",
    ")"
   ]
  },
  {
   "cell_type": "markdown",
   "metadata": {},
   "source": [
    "All the plots like feature analysis, interaction, key drivers can be obtained as a single plot using data exploration method as shown below:"
   ]
  },
  {
   "cell_type": "code",
   "execution_count": 48,
   "metadata": {},
   "outputs": [],
   "source": [
    "reports.data_exploration(\n",
    "    X_train_prepared.drop(columns=binary_num_columns, axis=1),\n",
    "    y_train,\n",
    "    './data-exploration-report.html',\n",
    "    y_continuous=True\n",
    ")"
   ]
  },
  {
   "cell_type": "code",
   "execution_count": 49,
   "metadata": {},
   "outputs": [],
   "source": [
    "# Saving the list of relevant columns\n",
    "\n",
    "save_pipeline(\n",
    "    curated_columns,\n",
    "    op.abspath(op.join(artifacts_folder, 'curated-columns.joblib'))\n",
    ")\n",
    "\n",
    "save_pipeline(\n",
    "    columns_to_drop,\n",
    "    op.abspath(op.join(artifacts_folder, 'columns-to-drop.joblib'))\n",
    ")\n",
    "\n",
    "# Save the feature transformer pipeline\n",
    "save_pipeline(\n",
    "    full_transformer,\n",
    "    op.abspath(op.join(artifacts_folder, 'full-transformer.joblib'))\n",
    ")"
   ]
  },
  {
   "cell_type": "markdown",
   "metadata": {},
   "source": [
    "## 3. Modelling"
   ]
  },
  {
   "cell_type": "markdown",
   "metadata": {},
   "source": [
    "### 3.1 Using Linear Regression"
   ]
  },
  {
   "cell_type": "markdown",
   "metadata": {},
   "source": [
    "#### 3.1.1 Feature Selection (Specific to Regression)\n",
    "\n",
    "- Select features specific to regression\n",
    "- **VIF:** Measure of the amount of multi-collinearity in a set of multiple regressor variables. \n",
    "- On a case-to-case basis, `VIF` thresholds change. Generally, `5` or `10` are acceptable levels.\n",
    "- Usually, on a recursive basis, when removing the most collinear variable, there can be shuffle in `VIF`. \n",
    "\n",
    "**NOTE:** Often, this section will NOT be part of the production code."
   ]
  },
  {
   "cell_type": "code",
   "execution_count": 50,
   "metadata": {},
   "outputs": [
    {
     "data": {
      "text/plain": [
       "Index(['theme_name_beef_hamburger', 'theme_name_blueberry',\n",
       "       'theme_name_chicken', 'theme_name_crab', 'theme_name_ethical_packaging',\n",
       "       'theme_name_ethnic_exotic', 'theme_name_french_bisque',\n",
       "       'theme_name_gingerbread', 'theme_name_gmo_free',\n",
       "       'theme_name_high_source_of_protein', 'theme_name_low_carb',\n",
       "       'theme_name_low_sodium', 'theme_name_low_sugar',\n",
       "       'theme_name_no_additives_preservatives', 'theme_name_poultry',\n",
       "       'theme_name_salmon', 'theme_name_soy_foods', 'theme_name_tuna',\n",
       "       'theme_name_vegetarian', 'total_post', 'search_volume',\n",
       "       'competitor_share', 'competitors_count'],\n",
       "      dtype='object')"
      ]
     },
     "execution_count": 50,
     "metadata": {},
     "output_type": "execute_result"
    }
   ],
   "source": [
    "X_train_prepared.columns"
   ]
  },
  {
   "cell_type": "code",
   "execution_count": 51,
   "metadata": {},
   "outputs": [
    {
     "data": {
      "text/html": [
       "<div>\n",
       "<style scoped>\n",
       "    .dataframe tbody tr th:only-of-type {\n",
       "        vertical-align: middle;\n",
       "    }\n",
       "\n",
       "    .dataframe tbody tr th {\n",
       "        vertical-align: top;\n",
       "    }\n",
       "\n",
       "    .dataframe thead th {\n",
       "        text-align: right;\n",
       "    }\n",
       "</style>\n",
       "<table border=\"1\" class=\"dataframe\">\n",
       "  <thead>\n",
       "    <tr style=\"text-align: right;\">\n",
       "      <th></th>\n",
       "      <th>variables</th>\n",
       "      <th>VIF</th>\n",
       "    </tr>\n",
       "  </thead>\n",
       "  <tbody>\n",
       "    <tr>\n",
       "      <th>0</th>\n",
       "      <td>total_post</td>\n",
       "      <td>1.610633</td>\n",
       "    </tr>\n",
       "    <tr>\n",
       "      <th>1</th>\n",
       "      <td>search_volume</td>\n",
       "      <td>1.628780</td>\n",
       "    </tr>\n",
       "    <tr>\n",
       "      <th>2</th>\n",
       "      <td>competitor_share</td>\n",
       "      <td>1.143793</td>\n",
       "    </tr>\n",
       "    <tr>\n",
       "      <th>3</th>\n",
       "      <td>competitors_count</td>\n",
       "      <td>1.513090</td>\n",
       "    </tr>\n",
       "  </tbody>\n",
       "</table>\n",
       "</div>"
      ],
      "text/plain": [
       "           variables       VIF\n",
       "0         total_post  1.610633\n",
       "1      search_volume  1.628780\n",
       "2   competitor_share  1.143793\n",
       "3  competitors_count  1.513090"
      ]
     },
     "execution_count": 51,
     "metadata": {},
     "output_type": "execute_result"
    }
   ],
   "source": [
    "cols = list(X_train_prepared.drop(columns=binary_num_columns).columns)\n",
    "\n",
    "vif = eda.calc_vif(X_train_prepared.drop(columns=binary_num_columns))\n",
    "\n",
    "while max(vif.VIF) > 5:\n",
    "    # Removw the largest variable from VIF\n",
    "    cols.remove(vif[(vif.VIF==vif.VIF.max())].variables.tolist()[0])\n",
    "    vif = eda.calc_vif(X_train_prepared.drop(columns=binary_num_columns)[cols])\n",
    "\n",
    "vif"
   ]
  },
  {
   "cell_type": "code",
   "execution_count": 52,
   "metadata": {},
   "outputs": [
    {
     "data": {
      "text/plain": [
       "['total_post', 'search_volume', 'competitor_share', 'competitors_count']"
      ]
     },
     "execution_count": 52,
     "metadata": {},
     "output_type": "execute_result"
    }
   ],
   "source": [
    "cols"
   ]
  },
  {
   "cell_type": "code",
   "execution_count": 53,
   "metadata": {},
   "outputs": [
    {
     "data": {
      "text/plain": [
       "['total_post', 'search_volume', 'competitor_share', 'competitors_count']"
      ]
     },
     "execution_count": 53,
     "metadata": {},
     "output_type": "execute_result"
    }
   ],
   "source": [
    "reg_vars = vif.query('VIF < 5').variables\n",
    "reg_vars = list(reg_vars)\n",
    "\n",
    "reg_vars"
   ]
  },
  {
   "cell_type": "markdown",
   "metadata": {},
   "source": [
    "#### 3.1.2 Data Transformations"
   ]
  },
  {
   "cell_type": "code",
   "execution_count": 54,
   "metadata": {},
   "outputs": [],
   "source": [
    "# Custom Transformations like these can be utilised\n",
    "def _custom_data_transform(\n",
    "    df: pd.DataFrame,\n",
    "    cols_to_keep: list = None\n",
    ") -> pd.DataFrame:\n",
    "    \"\"\"\n",
    "    Transformation to drop some columns in the data\n",
    "    \n",
    "    Parameters\n",
    "    ----------\n",
    "        df - pd.DataFrame\n",
    "        cols_to_keep - columns to keep in the dataframe\n",
    "    \"\"\"\n",
    "\n",
    "    cols_to_keep = cols_to_keep or []\n",
    "    if len(cols_to_keep):\n",
    "        return df.select_columns(cols_to_keep)\n",
    "    else:\n",
    "        return df"
   ]
  },
  {
   "cell_type": "markdown",
   "metadata": {},
   "source": [
    "#### 3.1.3 Model Training Pipeline\n",
    "\n",
    "- Here, we focus on creating a collection of pipelines that can be used for training respective models.\n",
    "- Each model pipeline will essentially be of the form:\n",
    "\n",
    "```python\n",
    "[\n",
    "    ('preprocessing', preprocessing_pipeline),\n",
    "    ('feature_selection', feature_selection_pipeline),\n",
    "    ('estimator', estimator),\n",
    "]\n",
    "```"
   ]
  },
  {
   "cell_type": "markdown",
   "metadata": {},
   "source": [
    "#### 3.1.4 Model Pipeline Build\n",
    "\n",
    "**NOTE:** This will be part of the production code (training only)!"
   ]
  },
  {
   "cell_type": "code",
   "execution_count": 55,
   "metadata": {},
   "outputs": [
    {
     "data": {
      "text/html": [
       "<style>#sk-container-id-3 {color: black;background-color: white;}#sk-container-id-3 pre{padding: 0;}#sk-container-id-3 div.sk-toggleable {background-color: white;}#sk-container-id-3 label.sk-toggleable__label {cursor: pointer;display: block;width: 100%;margin-bottom: 0;padding: 0.3em;box-sizing: border-box;text-align: center;}#sk-container-id-3 label.sk-toggleable__label-arrow:before {content: \"▸\";float: left;margin-right: 0.25em;color: #696969;}#sk-container-id-3 label.sk-toggleable__label-arrow:hover:before {color: black;}#sk-container-id-3 div.sk-estimator:hover label.sk-toggleable__label-arrow:before {color: black;}#sk-container-id-3 div.sk-toggleable__content {max-height: 0;max-width: 0;overflow: hidden;text-align: left;background-color: #f0f8ff;}#sk-container-id-3 div.sk-toggleable__content pre {margin: 0.2em;color: black;border-radius: 0.25em;background-color: #f0f8ff;}#sk-container-id-3 input.sk-toggleable__control:checked~div.sk-toggleable__content {max-height: 200px;max-width: 100%;overflow: auto;}#sk-container-id-3 input.sk-toggleable__control:checked~label.sk-toggleable__label-arrow:before {content: \"▾\";}#sk-container-id-3 div.sk-estimator input.sk-toggleable__control:checked~label.sk-toggleable__label {background-color: #d4ebff;}#sk-container-id-3 div.sk-label input.sk-toggleable__control:checked~label.sk-toggleable__label {background-color: #d4ebff;}#sk-container-id-3 input.sk-hidden--visually {border: 0;clip: rect(1px 1px 1px 1px);clip: rect(1px, 1px, 1px, 1px);height: 1px;margin: -1px;overflow: hidden;padding: 0;position: absolute;width: 1px;}#sk-container-id-3 div.sk-estimator {font-family: monospace;background-color: #f0f8ff;border: 1px dotted black;border-radius: 0.25em;box-sizing: border-box;margin-bottom: 0.5em;}#sk-container-id-3 div.sk-estimator:hover {background-color: #d4ebff;}#sk-container-id-3 div.sk-parallel-item::after {content: \"\";width: 100%;border-bottom: 1px solid gray;flex-grow: 1;}#sk-container-id-3 div.sk-label:hover label.sk-toggleable__label {background-color: #d4ebff;}#sk-container-id-3 div.sk-serial::before {content: \"\";position: absolute;border-left: 1px solid gray;box-sizing: border-box;top: 0;bottom: 0;left: 50%;z-index: 0;}#sk-container-id-3 div.sk-serial {display: flex;flex-direction: column;align-items: center;background-color: white;padding-right: 0.2em;padding-left: 0.2em;position: relative;}#sk-container-id-3 div.sk-item {position: relative;z-index: 1;}#sk-container-id-3 div.sk-parallel {display: flex;align-items: stretch;justify-content: center;background-color: white;position: relative;}#sk-container-id-3 div.sk-item::before, #sk-container-id-3 div.sk-parallel-item::before {content: \"\";position: absolute;border-left: 1px solid gray;box-sizing: border-box;top: 0;bottom: 0;left: 50%;z-index: -1;}#sk-container-id-3 div.sk-parallel-item {display: flex;flex-direction: column;z-index: 1;position: relative;background-color: white;}#sk-container-id-3 div.sk-parallel-item:first-child::after {align-self: flex-end;width: 50%;}#sk-container-id-3 div.sk-parallel-item:last-child::after {align-self: flex-start;width: 50%;}#sk-container-id-3 div.sk-parallel-item:only-child::after {width: 0;}#sk-container-id-3 div.sk-dashed-wrapped {border: 1px dashed gray;margin: 0 0.4em 0.5em 0.4em;box-sizing: border-box;padding-bottom: 0.4em;background-color: white;}#sk-container-id-3 div.sk-label label {font-family: monospace;font-weight: bold;display: inline-block;line-height: 1.2em;}#sk-container-id-3 div.sk-label-container {text-align: center;}#sk-container-id-3 div.sk-container {/* jupyter's `normalize.less` sets `[hidden] { display: none; }` but bootstrap.min.css set `[hidden] { display: none !important; }` so we also need the `!important` here to be able to override the default hidden behavior on the sphinx rendered scikit-learn.org. See: https://github.com/scikit-learn/scikit-learn/issues/21755 */display: inline-block !important;position: relative;}#sk-container-id-3 div.sk-text-repr-fallback {display: none;}</style><div id=\"sk-container-id-3\" class=\"sk-top-container\"><div class=\"sk-text-repr-fallback\"><pre>Pipeline(steps=[(&#x27;&#x27;,\n",
       "                 FunctionTransformer(func=&lt;function _custom_data_transform at 0x7f50a8ab1750&gt;,\n",
       "                                     kw_args={&#x27;cols_to_keep&#x27;: [&#x27;total_post&#x27;,\n",
       "                                                               &#x27;search_volume&#x27;,\n",
       "                                                               &#x27;competitor_share&#x27;,\n",
       "                                                               &#x27;competitors_count&#x27;,\n",
       "                                                               &#x27;theme_name_beef_hamburger&#x27;,\n",
       "                                                               &#x27;theme_name_blueberry&#x27;,\n",
       "                                                               &#x27;theme_name_chicken&#x27;,\n",
       "                                                               &#x27;theme_name_crab&#x27;,\n",
       "                                                               &#x27;theme_name_ethical_packaging&#x27;,\n",
       "                                                               &#x27;theme_name_ethnic_exotic&#x27;,\n",
       "                                                               &#x27;theme_name_french_bisque&#x27;,\n",
       "                                                               &#x27;theme_name_gingerbread&#x27;,\n",
       "                                                               &#x27;theme_name_gmo_free&#x27;,\n",
       "                                                               &#x27;theme_name_high_source_of_protein&#x27;,\n",
       "                                                               &#x27;theme_name_low_carb&#x27;,\n",
       "                                                               &#x27;theme_name_low_sodium&#x27;,\n",
       "                                                               &#x27;theme_name_low_sugar&#x27;,\n",
       "                                                               &#x27;theme_name_no_additives_preservatives&#x27;,\n",
       "                                                               &#x27;theme_name_poultry&#x27;,\n",
       "                                                               &#x27;theme_name_salmon&#x27;,\n",
       "                                                               &#x27;theme_name_soy_foods&#x27;,\n",
       "                                                               &#x27;theme_name_tuna&#x27;,\n",
       "                                                               &#x27;theme_name_vegetarian&#x27;]})),\n",
       "                (&#x27;estimator&#x27;, SKLStatsmodelOLS())])</pre><b>In a Jupyter environment, please rerun this cell to show the HTML representation or trust the notebook. <br />On GitHub, the HTML representation is unable to render, please try loading this page with nbviewer.org.</b></div><div class=\"sk-container\" hidden><div class=\"sk-item sk-dashed-wrapped\"><div class=\"sk-label-container\"><div class=\"sk-label sk-toggleable\"><input class=\"sk-toggleable__control sk-hidden--visually\" id=\"sk-estimator-id-10\" type=\"checkbox\" ><label for=\"sk-estimator-id-10\" class=\"sk-toggleable__label sk-toggleable__label-arrow\">Pipeline</label><div class=\"sk-toggleable__content\"><pre>Pipeline(steps=[(&#x27;&#x27;,\n",
       "                 FunctionTransformer(func=&lt;function _custom_data_transform at 0x7f50a8ab1750&gt;,\n",
       "                                     kw_args={&#x27;cols_to_keep&#x27;: [&#x27;total_post&#x27;,\n",
       "                                                               &#x27;search_volume&#x27;,\n",
       "                                                               &#x27;competitor_share&#x27;,\n",
       "                                                               &#x27;competitors_count&#x27;,\n",
       "                                                               &#x27;theme_name_beef_hamburger&#x27;,\n",
       "                                                               &#x27;theme_name_blueberry&#x27;,\n",
       "                                                               &#x27;theme_name_chicken&#x27;,\n",
       "                                                               &#x27;theme_name_crab&#x27;,\n",
       "                                                               &#x27;theme_name_ethical_packaging&#x27;,\n",
       "                                                               &#x27;theme_name_ethnic_exotic&#x27;,\n",
       "                                                               &#x27;theme_name_french_bisque&#x27;,\n",
       "                                                               &#x27;theme_name_gingerbread&#x27;,\n",
       "                                                               &#x27;theme_name_gmo_free&#x27;,\n",
       "                                                               &#x27;theme_name_high_source_of_protein&#x27;,\n",
       "                                                               &#x27;theme_name_low_carb&#x27;,\n",
       "                                                               &#x27;theme_name_low_sodium&#x27;,\n",
       "                                                               &#x27;theme_name_low_sugar&#x27;,\n",
       "                                                               &#x27;theme_name_no_additives_preservatives&#x27;,\n",
       "                                                               &#x27;theme_name_poultry&#x27;,\n",
       "                                                               &#x27;theme_name_salmon&#x27;,\n",
       "                                                               &#x27;theme_name_soy_foods&#x27;,\n",
       "                                                               &#x27;theme_name_tuna&#x27;,\n",
       "                                                               &#x27;theme_name_vegetarian&#x27;]})),\n",
       "                (&#x27;estimator&#x27;, SKLStatsmodelOLS())])</pre></div></div></div><div class=\"sk-serial\"><div class=\"sk-item\"><div class=\"sk-estimator sk-toggleable\"><input class=\"sk-toggleable__control sk-hidden--visually\" id=\"sk-estimator-id-11\" type=\"checkbox\" ><label for=\"sk-estimator-id-11\" class=\"sk-toggleable__label sk-toggleable__label-arrow\">FunctionTransformer</label><div class=\"sk-toggleable__content\"><pre>FunctionTransformer(func=&lt;function _custom_data_transform at 0x7f50a8ab1750&gt;,\n",
       "                    kw_args={&#x27;cols_to_keep&#x27;: [&#x27;total_post&#x27;, &#x27;search_volume&#x27;,\n",
       "                                              &#x27;competitor_share&#x27;,\n",
       "                                              &#x27;competitors_count&#x27;,\n",
       "                                              &#x27;theme_name_beef_hamburger&#x27;,\n",
       "                                              &#x27;theme_name_blueberry&#x27;,\n",
       "                                              &#x27;theme_name_chicken&#x27;,\n",
       "                                              &#x27;theme_name_crab&#x27;,\n",
       "                                              &#x27;theme_name_ethical_packaging&#x27;,\n",
       "                                              &#x27;theme_name_ethnic_exotic&#x27;,\n",
       "                                              &#x27;theme_name_french_bisque&#x27;,\n",
       "                                              &#x27;theme_name_gingerbread&#x27;,\n",
       "                                              &#x27;theme_name_gmo_free&#x27;,\n",
       "                                              &#x27;theme_name_high_source_of_protein&#x27;,\n",
       "                                              &#x27;theme_name_low_carb&#x27;,\n",
       "                                              &#x27;theme_name_low_sodium&#x27;,\n",
       "                                              &#x27;theme_name_low_sugar&#x27;,\n",
       "                                              &#x27;theme_name_no_additives_preservatives&#x27;,\n",
       "                                              &#x27;theme_name_poultry&#x27;,\n",
       "                                              &#x27;theme_name_salmon&#x27;,\n",
       "                                              &#x27;theme_name_soy_foods&#x27;,\n",
       "                                              &#x27;theme_name_tuna&#x27;,\n",
       "                                              &#x27;theme_name_vegetarian&#x27;]})</pre></div></div></div><div class=\"sk-item\"><div class=\"sk-estimator sk-toggleable\"><input class=\"sk-toggleable__control sk-hidden--visually\" id=\"sk-estimator-id-12\" type=\"checkbox\" ><label for=\"sk-estimator-id-12\" class=\"sk-toggleable__label sk-toggleable__label-arrow\">SKLStatsmodelOLS</label><div class=\"sk-toggleable__content\"><pre>SKLStatsmodelOLS()</pre></div></div></div></div></div></div></div>"
      ],
      "text/plain": [
       "Pipeline(steps=[('',\n",
       "                 FunctionTransformer(func=<function _custom_data_transform at 0x7f50a8ab1750>,\n",
       "                                     kw_args={'cols_to_keep': ['total_post',\n",
       "                                                               'search_volume',\n",
       "                                                               'competitor_share',\n",
       "                                                               'competitors_count',\n",
       "                                                               'theme_name_beef_hamburger',\n",
       "                                                               'theme_name_blueberry',\n",
       "                                                               'theme_name_chicken',\n",
       "                                                               'theme_name_crab',\n",
       "                                                               'theme_name_ethical_packaging',\n",
       "                                                               'theme_name_ethnic_exotic',\n",
       "                                                               'theme_name_french_bisque',\n",
       "                                                               'theme_name_gingerbread',\n",
       "                                                               'theme_name_gmo_free',\n",
       "                                                               'theme_name_high_source_of_protein',\n",
       "                                                               'theme_name_low_carb',\n",
       "                                                               'theme_name_low_sodium',\n",
       "                                                               'theme_name_low_sugar',\n",
       "                                                               'theme_name_no_additives_preservatives',\n",
       "                                                               'theme_name_poultry',\n",
       "                                                               'theme_name_salmon',\n",
       "                                                               'theme_name_soy_foods',\n",
       "                                                               'theme_name_tuna',\n",
       "                                                               'theme_name_vegetarian']})),\n",
       "                ('estimator', SKLStatsmodelOLS())])"
      ]
     },
     "execution_count": 55,
     "metadata": {},
     "output_type": "execute_result"
    }
   ],
   "source": [
    "regression_pipeline_ols = Pipeline([\n",
    "    # Custom Data Transformer\n",
    "    (\n",
    "        '',\n",
    "        FunctionTransformer(\n",
    "            _custom_data_transform,\n",
    "            kw_args={'cols_to_keep': (reg_vars + binary_num_columns)}\n",
    "        )\n",
    "    ),\n",
    "\n",
    "    # Model (estimator)\n",
    "    ('estimator', SKLStatsmodelOLS())\n",
    "])\n",
    "\n",
    "regression_pipeline_ols.fit(X_train_prepared, y_train.values.ravel())"
   ]
  },
  {
   "cell_type": "code",
   "execution_count": 56,
   "metadata": {},
   "outputs": [
    {
     "data": {
      "text/plain": [
       "23"
      ]
     },
     "execution_count": 56,
     "metadata": {},
     "output_type": "execute_result"
    }
   ],
   "source": [
    "len(reg_vars + binary_num_columns)"
   ]
  },
  {
   "cell_type": "code",
   "execution_count": 57,
   "metadata": {},
   "outputs": [
    {
     "data": {
      "text/html": [
       "<table class=\"simpletable\">\n",
       "<caption>OLS Regression Results</caption>\n",
       "<tr>\n",
       "  <th>Dep. Variable:</th>            <td>y</td>        <th>  R-squared:         </th> <td>   0.986</td> \n",
       "</tr>\n",
       "<tr>\n",
       "  <th>Model:</th>                   <td>OLS</td>       <th>  Adj. R-squared:    </th> <td>   0.986</td> \n",
       "</tr>\n",
       "<tr>\n",
       "  <th>Method:</th>             <td>Least Squares</td>  <th>  F-statistic:       </th> <td>   7313.</td> \n",
       "</tr>\n",
       "<tr>\n",
       "  <th>Date:</th>             <td>Tue, 15 Oct 2024</td> <th>  Prob (F-statistic):</th>  <td>  0.00</td>  \n",
       "</tr>\n",
       "<tr>\n",
       "  <th>Time:</th>                 <td>16:36:31</td>     <th>  Log-Likelihood:    </th> <td> -30261.</td> \n",
       "</tr>\n",
       "<tr>\n",
       "  <th>No. Observations:</th>      <td>  2095</td>      <th>  AIC:               </th> <td>6.056e+04</td>\n",
       "</tr>\n",
       "<tr>\n",
       "  <th>Df Residuals:</th>          <td>  2074</td>      <th>  BIC:               </th> <td>6.068e+04</td>\n",
       "</tr>\n",
       "<tr>\n",
       "  <th>Df Model:</th>              <td>    20</td>      <th>                     </th>     <td> </td>    \n",
       "</tr>\n",
       "<tr>\n",
       "  <th>Covariance Type:</th>      <td>nonrobust</td>    <th>                     </th>     <td> </td>    \n",
       "</tr>\n",
       "</table>\n",
       "<table class=\"simpletable\">\n",
       "<tr>\n",
       "                    <td></td>                       <th>coef</th>     <th>std err</th>      <th>t</th>      <th>P>|t|</th>  <th>[0.025</th>    <th>0.975]</th>  \n",
       "</tr>\n",
       "<tr>\n",
       "  <th>intercept</th>                             <td> 2.406e+06</td> <td> 2.95e+04</td> <td>   81.470</td> <td> 0.000</td> <td> 2.35e+06</td> <td> 2.46e+06</td>\n",
       "</tr>\n",
       "<tr>\n",
       "  <th>total_post</th>                            <td> 1.214e+05</td> <td> 1.71e+04</td> <td>    7.100</td> <td> 0.000</td> <td> 8.78e+04</td> <td> 1.55e+05</td>\n",
       "</tr>\n",
       "<tr>\n",
       "  <th>search_volume</th>                         <td> 2.025e+05</td> <td> 2.31e+04</td> <td>    8.750</td> <td> 0.000</td> <td> 1.57e+05</td> <td> 2.48e+05</td>\n",
       "</tr>\n",
       "<tr>\n",
       "  <th>competitor_share</th>                      <td>-5.728e+05</td> <td> 2.18e+04</td> <td>  -26.326</td> <td> 0.000</td> <td>-6.16e+05</td> <td> -5.3e+05</td>\n",
       "</tr>\n",
       "<tr>\n",
       "  <th>competitors_count</th>                     <td> 2.199e+06</td> <td> 3.06e+04</td> <td>   71.839</td> <td> 0.000</td> <td> 2.14e+06</td> <td> 2.26e+06</td>\n",
       "</tr>\n",
       "<tr>\n",
       "  <th>theme_name_beef_hamburger</th>             <td>-1.684e+04</td> <td> 5.97e+04</td> <td>   -0.282</td> <td> 0.778</td> <td>-1.34e+05</td> <td>    1e+05</td>\n",
       "</tr>\n",
       "<tr>\n",
       "  <th>theme_name_blueberry</th>                  <td> 7.419e+05</td> <td> 4.66e+04</td> <td>   15.930</td> <td> 0.000</td> <td> 6.51e+05</td> <td> 8.33e+05</td>\n",
       "</tr>\n",
       "<tr>\n",
       "  <th>theme_name_chicken</th>                    <td>-3.456e+06</td> <td> 5.42e+04</td> <td>  -63.720</td> <td> 0.000</td> <td>-3.56e+06</td> <td>-3.35e+06</td>\n",
       "</tr>\n",
       "<tr>\n",
       "  <th>theme_name_crab</th>                       <td>-9.862e+05</td> <td> 4.91e+04</td> <td>  -20.097</td> <td> 0.000</td> <td>-1.08e+06</td> <td> -8.9e+05</td>\n",
       "</tr>\n",
       "<tr>\n",
       "  <th>theme_name_ethical_packaging</th>          <td>  7.79e+05</td> <td>  7.5e+04</td> <td>   10.386</td> <td> 0.000</td> <td> 6.32e+05</td> <td> 9.26e+05</td>\n",
       "</tr>\n",
       "<tr>\n",
       "  <th>theme_name_ethnic_exotic</th>              <td>-3.904e+06</td> <td> 8.13e+04</td> <td>  -48.044</td> <td> 0.000</td> <td>-4.06e+06</td> <td>-3.74e+06</td>\n",
       "</tr>\n",
       "<tr>\n",
       "  <th>theme_name_french_bisque</th>              <td>-2.322e+06</td> <td> 5.64e+04</td> <td>  -41.195</td> <td> 0.000</td> <td>-2.43e+06</td> <td>-2.21e+06</td>\n",
       "</tr>\n",
       "<tr>\n",
       "  <th>theme_name_gingerbread</th>                <td> -3.82e+06</td> <td> 3.95e+05</td> <td>   -9.674</td> <td> 0.000</td> <td>-4.59e+06</td> <td>-3.05e+06</td>\n",
       "</tr>\n",
       "<tr>\n",
       "  <th>theme_name_gmo_free</th>                   <td>  4.07e+05</td> <td>  6.5e+04</td> <td>    6.261</td> <td> 0.000</td> <td>  2.8e+05</td> <td> 5.34e+05</td>\n",
       "</tr>\n",
       "<tr>\n",
       "  <th>theme_name_high_source_of_protein</th>     <td> 2.942e+05</td> <td> 6.35e+04</td> <td>    4.632</td> <td> 0.000</td> <td>  1.7e+05</td> <td> 4.19e+05</td>\n",
       "</tr>\n",
       "<tr>\n",
       "  <th>theme_name_low_carb</th>                   <td> 7.244e+06</td> <td>  6.1e+04</td> <td>  118.750</td> <td> 0.000</td> <td> 7.12e+06</td> <td> 7.36e+06</td>\n",
       "</tr>\n",
       "<tr>\n",
       "  <th>theme_name_low_sodium</th>                 <td>-1.349e+06</td> <td> 4.87e+04</td> <td>  -27.712</td> <td> 0.000</td> <td>-1.44e+06</td> <td>-1.25e+06</td>\n",
       "</tr>\n",
       "<tr>\n",
       "  <th>theme_name_low_sugar</th>                  <td>-4.783e+04</td> <td> 6.01e+04</td> <td>   -0.796</td> <td> 0.426</td> <td>-1.66e+05</td> <td>    7e+04</td>\n",
       "</tr>\n",
       "<tr>\n",
       "  <th>theme_name_no_additives_preservatives</th> <td> 4.822e+06</td> <td> 1.02e+05</td> <td>   47.316</td> <td> 0.000</td> <td> 4.62e+06</td> <td> 5.02e+06</td>\n",
       "</tr>\n",
       "<tr>\n",
       "  <th>theme_name_poultry</th>                    <td> 1.842e+05</td> <td> 8.02e+04</td> <td>    2.298</td> <td> 0.022</td> <td>  2.7e+04</td> <td> 3.41e+05</td>\n",
       "</tr>\n",
       "<tr>\n",
       "  <th>theme_name_salmon</th>                     <td> 4.577e+06</td> <td>  4.8e+04</td> <td>   95.420</td> <td> 0.000</td> <td> 4.48e+06</td> <td> 4.67e+06</td>\n",
       "</tr>\n",
       "<tr>\n",
       "  <th>theme_name_soy_foods</th>                  <td> 4.167e+05</td> <td>  8.2e+04</td> <td>    5.080</td> <td> 0.000</td> <td> 2.56e+05</td> <td> 5.78e+05</td>\n",
       "</tr>\n",
       "<tr>\n",
       "  <th>theme_name_tuna</th>                       <td> 4.604e+04</td> <td> 2.79e+05</td> <td>    0.165</td> <td> 0.869</td> <td>-5.01e+05</td> <td> 5.93e+05</td>\n",
       "</tr>\n",
       "<tr>\n",
       "  <th>theme_name_vegetarian</th>                 <td>-1.204e+06</td> <td> 7.32e+04</td> <td>  -16.458</td> <td> 0.000</td> <td>-1.35e+06</td> <td>-1.06e+06</td>\n",
       "</tr>\n",
       "</table>\n",
       "<table class=\"simpletable\">\n",
       "<tr>\n",
       "  <th>Omnibus:</th>       <td>990.942</td> <th>  Durbin-Watson:     </th> <td>   1.978</td> \n",
       "</tr>\n",
       "<tr>\n",
       "  <th>Prob(Omnibus):</th> <td> 0.000</td>  <th>  Jarque-Bera (JB):  </th> <td>29441.990</td>\n",
       "</tr>\n",
       "<tr>\n",
       "  <th>Skew:</th>          <td>-1.622</td>  <th>  Prob(JB):          </th> <td>    0.00</td> \n",
       "</tr>\n",
       "<tr>\n",
       "  <th>Kurtosis:</th>      <td>21.076</td>  <th>  Cond. No.          </th> <td>1.90e+16</td> \n",
       "</tr>\n",
       "</table><br/><br/>Notes:<br/>[1] Standard Errors assume that the covariance matrix of the errors is correctly specified.<br/>[2] The smallest eigenvalue is 1.19e-29. This might indicate that there are<br/>strong multicollinearity problems or that the design matrix is singular."
      ],
      "text/plain": [
       "<class 'statsmodels.iolib.summary.Summary'>\n",
       "\"\"\"\n",
       "                            OLS Regression Results                            \n",
       "==============================================================================\n",
       "Dep. Variable:                      y   R-squared:                       0.986\n",
       "Model:                            OLS   Adj. R-squared:                  0.986\n",
       "Method:                 Least Squares   F-statistic:                     7313.\n",
       "Date:                Tue, 15 Oct 2024   Prob (F-statistic):               0.00\n",
       "Time:                        16:36:31   Log-Likelihood:                -30261.\n",
       "No. Observations:                2095   AIC:                         6.056e+04\n",
       "Df Residuals:                    2074   BIC:                         6.068e+04\n",
       "Df Model:                          20                                         \n",
       "Covariance Type:            nonrobust                                         \n",
       "=========================================================================================================\n",
       "                                            coef    std err          t      P>|t|      [0.025      0.975]\n",
       "---------------------------------------------------------------------------------------------------------\n",
       "intercept                              2.406e+06   2.95e+04     81.470      0.000    2.35e+06    2.46e+06\n",
       "total_post                             1.214e+05   1.71e+04      7.100      0.000    8.78e+04    1.55e+05\n",
       "search_volume                          2.025e+05   2.31e+04      8.750      0.000    1.57e+05    2.48e+05\n",
       "competitor_share                      -5.728e+05   2.18e+04    -26.326      0.000   -6.16e+05    -5.3e+05\n",
       "competitors_count                      2.199e+06   3.06e+04     71.839      0.000    2.14e+06    2.26e+06\n",
       "theme_name_beef_hamburger             -1.684e+04   5.97e+04     -0.282      0.778   -1.34e+05       1e+05\n",
       "theme_name_blueberry                   7.419e+05   4.66e+04     15.930      0.000    6.51e+05    8.33e+05\n",
       "theme_name_chicken                    -3.456e+06   5.42e+04    -63.720      0.000   -3.56e+06   -3.35e+06\n",
       "theme_name_crab                       -9.862e+05   4.91e+04    -20.097      0.000   -1.08e+06    -8.9e+05\n",
       "theme_name_ethical_packaging            7.79e+05    7.5e+04     10.386      0.000    6.32e+05    9.26e+05\n",
       "theme_name_ethnic_exotic              -3.904e+06   8.13e+04    -48.044      0.000   -4.06e+06   -3.74e+06\n",
       "theme_name_french_bisque              -2.322e+06   5.64e+04    -41.195      0.000   -2.43e+06   -2.21e+06\n",
       "theme_name_gingerbread                 -3.82e+06   3.95e+05     -9.674      0.000   -4.59e+06   -3.05e+06\n",
       "theme_name_gmo_free                     4.07e+05    6.5e+04      6.261      0.000     2.8e+05    5.34e+05\n",
       "theme_name_high_source_of_protein      2.942e+05   6.35e+04      4.632      0.000     1.7e+05    4.19e+05\n",
       "theme_name_low_carb                    7.244e+06    6.1e+04    118.750      0.000    7.12e+06    7.36e+06\n",
       "theme_name_low_sodium                 -1.349e+06   4.87e+04    -27.712      0.000   -1.44e+06   -1.25e+06\n",
       "theme_name_low_sugar                  -4.783e+04   6.01e+04     -0.796      0.426   -1.66e+05       7e+04\n",
       "theme_name_no_additives_preservatives  4.822e+06   1.02e+05     47.316      0.000    4.62e+06    5.02e+06\n",
       "theme_name_poultry                     1.842e+05   8.02e+04      2.298      0.022     2.7e+04    3.41e+05\n",
       "theme_name_salmon                      4.577e+06    4.8e+04     95.420      0.000    4.48e+06    4.67e+06\n",
       "theme_name_soy_foods                   4.167e+05    8.2e+04      5.080      0.000    2.56e+05    5.78e+05\n",
       "theme_name_tuna                        4.604e+04   2.79e+05      0.165      0.869   -5.01e+05    5.93e+05\n",
       "theme_name_vegetarian                 -1.204e+06   7.32e+04    -16.458      0.000   -1.35e+06   -1.06e+06\n",
       "==============================================================================\n",
       "Omnibus:                      990.942   Durbin-Watson:                   1.978\n",
       "Prob(Omnibus):                  0.000   Jarque-Bera (JB):            29441.990\n",
       "Skew:                          -1.622   Prob(JB):                         0.00\n",
       "Kurtosis:                      21.076   Cond. No.                     1.90e+16\n",
       "==============================================================================\n",
       "\n",
       "Notes:\n",
       "[1] Standard Errors assume that the covariance matrix of the errors is correctly specified.\n",
       "[2] The smallest eigenvalue is 1.19e-29. This might indicate that there are\n",
       "strong multicollinearity problems or that the design matrix is singular.\n",
       "\"\"\""
      ]
     },
     "execution_count": 57,
     "metadata": {},
     "output_type": "execute_result"
    }
   ],
   "source": [
    "regression_pipeline_ols['estimator'].summary()"
   ]
  },
  {
   "cell_type": "markdown",
   "metadata": {},
   "source": [
    "Get the attribution table to interpret the coefficients."
   ]
  },
  {
   "cell_type": "code",
   "execution_count": 58,
   "metadata": {},
   "outputs": [
    {
     "name": "stdout",
     "output_type": "stream",
     "text": [
      "Requirement already satisfied: shap in /home/naveen/miniconda3/envs/tamle_mod5-dev/lib/python3.10/site-packages (0.41.0)\n",
      "Requirement already satisfied: numpy in /home/naveen/miniconda3/envs/tamle_mod5-dev/lib/python3.10/site-packages (from shap) (1.22.1)\n",
      "Requirement already satisfied: scipy in /home/naveen/miniconda3/envs/tamle_mod5-dev/lib/python3.10/site-packages (from shap) (1.8.1)\n",
      "Requirement already satisfied: scikit-learn in /home/naveen/miniconda3/envs/tamle_mod5-dev/lib/python3.10/site-packages (from shap) (1.1.1)\n",
      "Requirement already satisfied: pandas in /home/naveen/miniconda3/envs/tamle_mod5-dev/lib/python3.10/site-packages (from shap) (1.4.2)\n",
      "Requirement already satisfied: tqdm>4.25.0 in /home/naveen/miniconda3/envs/tamle_mod5-dev/lib/python3.10/site-packages (from shap) (4.64.0)\n",
      "Requirement already satisfied: packaging>20.9 in /home/naveen/miniconda3/envs/tamle_mod5-dev/lib/python3.10/site-packages (from shap) (24.1)\n",
      "Requirement already satisfied: slicer==0.0.7 in /home/naveen/miniconda3/envs/tamle_mod5-dev/lib/python3.10/site-packages (from shap) (0.0.7)\n",
      "Requirement already satisfied: numba in /home/naveen/miniconda3/envs/tamle_mod5-dev/lib/python3.10/site-packages (from shap) (0.60.0)\n",
      "Requirement already satisfied: cloudpickle in /home/naveen/miniconda3/envs/tamle_mod5-dev/lib/python3.10/site-packages (from shap) (3.0.0)\n",
      "Requirement already satisfied: llvmlite<0.44,>=0.43.0dev0 in /home/naveen/miniconda3/envs/tamle_mod5-dev/lib/python3.10/site-packages (from numba->shap) (0.43.0)\n",
      "Requirement already satisfied: python-dateutil>=2.8.1 in /home/naveen/miniconda3/envs/tamle_mod5-dev/lib/python3.10/site-packages (from pandas->shap) (2.9.0.post0)\n",
      "Requirement already satisfied: pytz>=2020.1 in /home/naveen/miniconda3/envs/tamle_mod5-dev/lib/python3.10/site-packages (from pandas->shap) (2024.1)\n",
      "Requirement already satisfied: joblib>=1.0.0 in /home/naveen/miniconda3/envs/tamle_mod5-dev/lib/python3.10/site-packages (from scikit-learn->shap) (1.4.2)\n",
      "Requirement already satisfied: threadpoolctl>=2.0.0 in /home/naveen/miniconda3/envs/tamle_mod5-dev/lib/python3.10/site-packages (from scikit-learn->shap) (3.5.0)\n",
      "Requirement already satisfied: six>=1.5 in /home/naveen/miniconda3/envs/tamle_mod5-dev/lib/python3.10/site-packages (from python-dateutil>=2.8.1->pandas->shap) (1.16.0)\n"
     ]
    }
   ],
   "source": [
    "!pip install shap"
   ]
  },
  {
   "cell_type": "code",
   "execution_count": 59,
   "metadata": {},
   "outputs": [],
   "source": [
    "import shap\n",
    "explainer = shap.LinearExplainer(regression_pipeline_ols['estimator'], X_train_prepared)\n",
    "shap_values = explainer.shap_values(X_train_prepared)\n",
    "\n",
    "# Average contribution of each feature\n",
    "average_contributions = pd.DataFrame(shap_values, columns=X_train_prepared.columns).mean().sort_values(ascending=False)"
   ]
  },
  {
   "cell_type": "code",
   "execution_count": null,
   "metadata": {},
   "outputs": [],
   "source": []
  },
  {
   "cell_type": "code",
   "execution_count": 92,
   "metadata": {},
   "outputs": [],
   "source": [
    "y_pred = regression_pipeline_ols.predict(X_train_prepared)\n"
   ]
  },
  {
   "cell_type": "code",
   "execution_count": 60,
   "metadata": {},
   "outputs": [
    {
     "data": {
      "text/plain": [
       "(23, 2405992.1833615145)"
      ]
     },
     "execution_count": 60,
     "metadata": {},
     "output_type": "execute_result"
    }
   ],
   "source": [
    "len(regression_pipeline_ols['estimator'].coef_), regression_pipeline_ols['estimator'].intercept_"
   ]
  },
  {
   "cell_type": "code",
   "execution_count": 87,
   "metadata": {},
   "outputs": [],
   "source": [
    "coeff = regression_pipeline_ols['estimator'].coeff_table(add_vif=False).coef.values"
   ]
  },
  {
   "cell_type": "code",
   "execution_count": 102,
   "metadata": {},
   "outputs": [
    {
     "data": {
      "text/plain": [
       "0      -0.386931\n",
       "1      -0.155970\n",
       "2      -0.029904\n",
       "3      -0.026730\n",
       "4      -0.327820\n",
       "          ...   \n",
       "2090   -1.146850\n",
       "2091    2.716722\n",
       "2092   -0.585303\n",
       "2093   -0.023562\n",
       "2094   -0.008322\n",
       "Length: 2095, dtype: float64"
      ]
     },
     "execution_count": 102,
     "metadata": {},
     "output_type": "execute_result"
    }
   ],
   "source": [
    "cont = (coeff[1:]*X_train_prepared).T / y_pred\n",
    "cont.mean()"
   ]
  },
  {
   "cell_type": "code",
   "execution_count": 126,
   "metadata": {},
   "outputs": [
    {
     "name": "stdout",
     "output_type": "stream",
     "text": [
      "Average contribution of feature1: theme_name_beef_hamburger               -7.179284e+12\n",
      "theme_name_blueberry                     4.692414e+08\n",
      "theme_name_chicken                       4.647417e+11\n",
      "theme_name_crab                          7.299867e+10\n",
      "theme_name_ethical_packaging             1.262574e+12\n",
      "theme_name_ethnic_exotic                -6.137010e+10\n",
      "theme_name_french_bisque                 8.325634e+11\n",
      "theme_name_gingerbread                  -1.790322e+10\n",
      "theme_name_gmo_free                      1.815943e+12\n",
      "theme_name_high_source_of_protein        1.301857e+11\n",
      "theme_name_low_carb                     -1.072254e+10\n",
      "theme_name_low_sodium                   -2.313959e+10\n",
      "theme_name_low_sugar                     1.453918e+12\n",
      "theme_name_no_additives_preservatives   -1.256932e+09\n",
      "theme_name_poultry                       8.981635e+10\n",
      "theme_name_salmon                       -9.048561e+09\n",
      "theme_name_soy_foods                    -2.760358e+10\n",
      "theme_name_tuna                          2.908370e+10\n",
      "theme_name_vegetarian                   -4.319132e+11\n",
      "total_post                               2.020516e-01\n",
      "search_volume                            8.068448e-01\n",
      "competitor_share                        -1.350728e+13\n",
      "competitors_count                        1.624511e+13\n",
      "dtype: float64\n"
     ]
    }
   ],
   "source": [
    "import numpy as np\n",
    "import pandas as pd\n",
    "from sklearn.linear_model import LinearRegression\n",
    "\n",
    "# Fit the linear regression model\n",
    "model = LinearRegression()\n",
    "model.fit(X_train_prepared, y_train)\n",
    "\n",
    "# Get the coefficients\n",
    "coefficients = model.coef_\n",
    "\n",
    "# Get the predicted values (y_predicted)\n",
    "y_predicted = model.predict(X_train_prepared)\n",
    "\n",
    "# Calculate the contribution table (feature contributions)\n",
    "contribution_table = X_train_prepared * coefficients\n",
    "\n",
    "# Divide each feature's contribution by y_predicted\n",
    "# contribution_table_normalized = contribution_table.div(y_predicted, axis=0)\n",
    "\n",
    "# Display the contribution table\n",
    "# print(contribution_table_normalized)\n",
    "\n",
    "# Calculate the average contribution for a specific feature (e.g., 'feature1')\n",
    "average_contribution_feature1 = contribution_table_normalized.mean(axis =0)\n",
    "print(\"Average contribution of feature1:\", average_contribution_feature1)\n"
   ]
  },
  {
   "cell_type": "code",
   "execution_count": 62,
   "metadata": {},
   "outputs": [
    {
     "data": {
      "text/plain": [
       "2273022883"
      ]
     },
     "execution_count": 62,
     "metadata": {},
     "output_type": "execute_result"
    }
   ],
   "source": [
    "units_sold_2019 = 2273022883  # sales in units in 2019 by A\n",
    "\n",
    "units_sold_2019"
   ]
  },
  {
   "cell_type": "code",
   "execution_count": 63,
   "metadata": {},
   "outputs": [
    {
     "data": {
      "text/plain": [
       "113651144.15"
      ]
     },
     "execution_count": 63,
     "metadata": {},
     "output_type": "execute_result"
    }
   ],
   "source": [
    "# Determine the  5% overal increase in sales\n",
    "desired_increase = 0.05 * units_sold_2019\n",
    "\n",
    "desired_increase"
   ]
  },
  {
   "cell_type": "markdown",
   "metadata": {},
   "source": [
    "From the above attribution table, we can interpret them as follows:\n",
    "- `1 unit` **increase** in the `total_post` leads to `52.0 units` increase in the target variable, i.e., `sales_dollars_value`.\n",
    "- `1 unit` **increase** in the `search_volume` leads to `5.0 units` increase in the `sales_dollars_value`.\n",
    "- `1 unit` **increase** in the `sales_units_value` leads to `5.0 units` increase in the `sales_dollars_value`.\n",
    "- `1 unit` **increase** in the `product_unit_price` leads to `31050.0 units` increase in the `sales_dollars_value`.\n",
    "\n",
    "**NOTE:** All the above increases are increase in *weekly* sales."
   ]
  },
  {
   "cell_type": "markdown",
   "metadata": {},
   "source": [
    "Then, the changes in one year would be as follows (assuming there are 52 weeks in a year):\n",
    "- `1 unit` **increase** in the `total_post` leads to `2704.0 units` increase in the `sales_dollars_value`, yearly.\n",
    "- `1 unit` **increase** in the `search_volume` leads to `260.0 units` increase in the `sales_dollars_value`, yearly.\n",
    "- `1 unit` **increase** in the `sales_units_value` leads to `260.0 units` increase in the `sales_dollars_value`, yearly.\n",
    "- `1 unit` **increase** in the `product_unit_price` leads to `1614600.0 units` increase in the `sales_dollars_value`, yearly."
   ]
  },
  {
   "cell_type": "code",
   "execution_count": 64,
   "metadata": {},
   "outputs": [
    {
     "data": {
      "text/plain": [
       "437119.7851923077"
      ]
     },
     "execution_count": 64,
     "metadata": {},
     "output_type": "execute_result"
    }
   ],
   "source": [
    "(desired_increase / (5 * 52))"
   ]
  },
  {
   "cell_type": "markdown",
   "metadata": {},
   "source": [
    "So, that means for the `5%` sales increase (i.e., `395436737.5`) in an year, we need:\n",
    "- `437119` more posts must be generated in the next year\n",
    "- `1520910` more search volume must be generated in the next year"
   ]
  },
  {
   "cell_type": "code",
   "execution_count": 65,
   "metadata": {},
   "outputs": [
    {
     "data": {
      "text/plain": [
       "0.23866348448687352"
      ]
     },
     "execution_count": 65,
     "metadata": {},
     "output_type": "execute_result"
    }
   ],
   "source": [
    "(5 / len(X_train_prepared)) * 100"
   ]
  },
  {
   "cell_type": "markdown",
   "metadata": {},
   "source": [
    "#### 3.1.5 Model Evaluation (Linear Model)\n",
    "\n",
    "**NOTE:** This will be part of the production code."
   ]
  },
  {
   "cell_type": "code",
   "execution_count": 66,
   "metadata": {},
   "outputs": [
    {
     "data": {
      "text/html": [
       "<style>#sk-container-id-4 {color: black;background-color: white;}#sk-container-id-4 pre{padding: 0;}#sk-container-id-4 div.sk-toggleable {background-color: white;}#sk-container-id-4 label.sk-toggleable__label {cursor: pointer;display: block;width: 100%;margin-bottom: 0;padding: 0.3em;box-sizing: border-box;text-align: center;}#sk-container-id-4 label.sk-toggleable__label-arrow:before {content: \"▸\";float: left;margin-right: 0.25em;color: #696969;}#sk-container-id-4 label.sk-toggleable__label-arrow:hover:before {color: black;}#sk-container-id-4 div.sk-estimator:hover label.sk-toggleable__label-arrow:before {color: black;}#sk-container-id-4 div.sk-toggleable__content {max-height: 0;max-width: 0;overflow: hidden;text-align: left;background-color: #f0f8ff;}#sk-container-id-4 div.sk-toggleable__content pre {margin: 0.2em;color: black;border-radius: 0.25em;background-color: #f0f8ff;}#sk-container-id-4 input.sk-toggleable__control:checked~div.sk-toggleable__content {max-height: 200px;max-width: 100%;overflow: auto;}#sk-container-id-4 input.sk-toggleable__control:checked~label.sk-toggleable__label-arrow:before {content: \"▾\";}#sk-container-id-4 div.sk-estimator input.sk-toggleable__control:checked~label.sk-toggleable__label {background-color: #d4ebff;}#sk-container-id-4 div.sk-label input.sk-toggleable__control:checked~label.sk-toggleable__label {background-color: #d4ebff;}#sk-container-id-4 input.sk-hidden--visually {border: 0;clip: rect(1px 1px 1px 1px);clip: rect(1px, 1px, 1px, 1px);height: 1px;margin: -1px;overflow: hidden;padding: 0;position: absolute;width: 1px;}#sk-container-id-4 div.sk-estimator {font-family: monospace;background-color: #f0f8ff;border: 1px dotted black;border-radius: 0.25em;box-sizing: border-box;margin-bottom: 0.5em;}#sk-container-id-4 div.sk-estimator:hover {background-color: #d4ebff;}#sk-container-id-4 div.sk-parallel-item::after {content: \"\";width: 100%;border-bottom: 1px solid gray;flex-grow: 1;}#sk-container-id-4 div.sk-label:hover label.sk-toggleable__label {background-color: #d4ebff;}#sk-container-id-4 div.sk-serial::before {content: \"\";position: absolute;border-left: 1px solid gray;box-sizing: border-box;top: 0;bottom: 0;left: 50%;z-index: 0;}#sk-container-id-4 div.sk-serial {display: flex;flex-direction: column;align-items: center;background-color: white;padding-right: 0.2em;padding-left: 0.2em;position: relative;}#sk-container-id-4 div.sk-item {position: relative;z-index: 1;}#sk-container-id-4 div.sk-parallel {display: flex;align-items: stretch;justify-content: center;background-color: white;position: relative;}#sk-container-id-4 div.sk-item::before, #sk-container-id-4 div.sk-parallel-item::before {content: \"\";position: absolute;border-left: 1px solid gray;box-sizing: border-box;top: 0;bottom: 0;left: 50%;z-index: -1;}#sk-container-id-4 div.sk-parallel-item {display: flex;flex-direction: column;z-index: 1;position: relative;background-color: white;}#sk-container-id-4 div.sk-parallel-item:first-child::after {align-self: flex-end;width: 50%;}#sk-container-id-4 div.sk-parallel-item:last-child::after {align-self: flex-start;width: 50%;}#sk-container-id-4 div.sk-parallel-item:only-child::after {width: 0;}#sk-container-id-4 div.sk-dashed-wrapped {border: 1px dashed gray;margin: 0 0.4em 0.5em 0.4em;box-sizing: border-box;padding-bottom: 0.4em;background-color: white;}#sk-container-id-4 div.sk-label label {font-family: monospace;font-weight: bold;display: inline-block;line-height: 1.2em;}#sk-container-id-4 div.sk-label-container {text-align: center;}#sk-container-id-4 div.sk-container {/* jupyter's `normalize.less` sets `[hidden] { display: none; }` but bootstrap.min.css set `[hidden] { display: none !important; }` so we also need the `!important` here to be able to override the default hidden behavior on the sphinx rendered scikit-learn.org. See: https://github.com/scikit-learn/scikit-learn/issues/21755 */display: inline-block !important;position: relative;}#sk-container-id-4 div.sk-text-repr-fallback {display: none;}</style><div id=\"sk-container-id-4\" class=\"sk-top-container\"><div class=\"sk-text-repr-fallback\"><pre>Pipeline(steps=[(&#x27;&#x27;,\n",
       "                 FunctionTransformer(func=&lt;function _custom_data_transform at 0x7f50a8ab1750&gt;,\n",
       "                                     kw_args={&#x27;cols_to_keep&#x27;: [&#x27;total_post&#x27;,\n",
       "                                                               &#x27;search_volume&#x27;,\n",
       "                                                               &#x27;competitor_share&#x27;,\n",
       "                                                               &#x27;competitors_count&#x27;,\n",
       "                                                               &#x27;theme_name_beef_hamburger&#x27;,\n",
       "                                                               &#x27;theme_name_blueberry&#x27;,\n",
       "                                                               &#x27;theme_name_chicken&#x27;,\n",
       "                                                               &#x27;theme_name_crab&#x27;,\n",
       "                                                               &#x27;theme_name_ethical_packaging&#x27;,\n",
       "                                                               &#x27;theme_name_ethnic_exotic&#x27;,\n",
       "                                                               &#x27;theme_name_fre...isque&#x27;,\n",
       "                                                               &#x27;theme_name_gingerbread&#x27;,\n",
       "                                                               &#x27;theme_name_gmo_free&#x27;,\n",
       "                                                               &#x27;theme_name_high_source_of_protein&#x27;,\n",
       "                                                               &#x27;theme_name_low_carb&#x27;,\n",
       "                                                               &#x27;theme_name_low_sodium&#x27;,\n",
       "                                                               &#x27;theme_name_low_sugar&#x27;,\n",
       "                                                               &#x27;theme_name_no_additives_preservatives&#x27;,\n",
       "                                                               &#x27;theme_name_poultry&#x27;,\n",
       "                                                               &#x27;theme_name_salmon&#x27;,\n",
       "                                                               &#x27;theme_name_soy_foods&#x27;,\n",
       "                                                               &#x27;theme_name_tuna&#x27;,\n",
       "                                                               &#x27;theme_name_vegetarian&#x27;]})),\n",
       "                (&#x27;Linear Regression&#x27;, SKLStatsmodelOLS())])</pre><b>In a Jupyter environment, please rerun this cell to show the HTML representation or trust the notebook. <br />On GitHub, the HTML representation is unable to render, please try loading this page with nbviewer.org.</b></div><div class=\"sk-container\" hidden><div class=\"sk-item sk-dashed-wrapped\"><div class=\"sk-label-container\"><div class=\"sk-label sk-toggleable\"><input class=\"sk-toggleable__control sk-hidden--visually\" id=\"sk-estimator-id-13\" type=\"checkbox\" ><label for=\"sk-estimator-id-13\" class=\"sk-toggleable__label sk-toggleable__label-arrow\">Pipeline</label><div class=\"sk-toggleable__content\"><pre>Pipeline(steps=[(&#x27;&#x27;,\n",
       "                 FunctionTransformer(func=&lt;function _custom_data_transform at 0x7f50a8ab1750&gt;,\n",
       "                                     kw_args={&#x27;cols_to_keep&#x27;: [&#x27;total_post&#x27;,\n",
       "                                                               &#x27;search_volume&#x27;,\n",
       "                                                               &#x27;competitor_share&#x27;,\n",
       "                                                               &#x27;competitors_count&#x27;,\n",
       "                                                               &#x27;theme_name_beef_hamburger&#x27;,\n",
       "                                                               &#x27;theme_name_blueberry&#x27;,\n",
       "                                                               &#x27;theme_name_chicken&#x27;,\n",
       "                                                               &#x27;theme_name_crab&#x27;,\n",
       "                                                               &#x27;theme_name_ethical_packaging&#x27;,\n",
       "                                                               &#x27;theme_name_ethnic_exotic&#x27;,\n",
       "                                                               &#x27;theme_name_fre...isque&#x27;,\n",
       "                                                               &#x27;theme_name_gingerbread&#x27;,\n",
       "                                                               &#x27;theme_name_gmo_free&#x27;,\n",
       "                                                               &#x27;theme_name_high_source_of_protein&#x27;,\n",
       "                                                               &#x27;theme_name_low_carb&#x27;,\n",
       "                                                               &#x27;theme_name_low_sodium&#x27;,\n",
       "                                                               &#x27;theme_name_low_sugar&#x27;,\n",
       "                                                               &#x27;theme_name_no_additives_preservatives&#x27;,\n",
       "                                                               &#x27;theme_name_poultry&#x27;,\n",
       "                                                               &#x27;theme_name_salmon&#x27;,\n",
       "                                                               &#x27;theme_name_soy_foods&#x27;,\n",
       "                                                               &#x27;theme_name_tuna&#x27;,\n",
       "                                                               &#x27;theme_name_vegetarian&#x27;]})),\n",
       "                (&#x27;Linear Regression&#x27;, SKLStatsmodelOLS())])</pre></div></div></div><div class=\"sk-serial\"><div class=\"sk-item\"><div class=\"sk-estimator sk-toggleable\"><input class=\"sk-toggleable__control sk-hidden--visually\" id=\"sk-estimator-id-14\" type=\"checkbox\" ><label for=\"sk-estimator-id-14\" class=\"sk-toggleable__label sk-toggleable__label-arrow\">FunctionTransformer</label><div class=\"sk-toggleable__content\"><pre>FunctionTransformer(func=&lt;function _custom_data_transform at 0x7f50a8ab1750&gt;,\n",
       "                    kw_args={&#x27;cols_to_keep&#x27;: [&#x27;total_post&#x27;, &#x27;search_volume&#x27;,\n",
       "                                              &#x27;competitor_share&#x27;,\n",
       "                                              &#x27;competitors_count&#x27;,\n",
       "                                              &#x27;theme_name_beef_hamburger&#x27;,\n",
       "                                              &#x27;theme_name_blueberry&#x27;,\n",
       "                                              &#x27;theme_name_chicken&#x27;,\n",
       "                                              &#x27;theme_name_crab&#x27;,\n",
       "                                              &#x27;theme_name_ethical_packaging&#x27;,\n",
       "                                              &#x27;theme_name_ethnic_exotic&#x27;,\n",
       "                                              &#x27;theme_name_french_bisque&#x27;,\n",
       "                                              &#x27;theme_name_gingerbread&#x27;,\n",
       "                                              &#x27;theme_name_gmo_free&#x27;,\n",
       "                                              &#x27;theme_name_high_source_of_protein&#x27;,\n",
       "                                              &#x27;theme_name_low_carb&#x27;,\n",
       "                                              &#x27;theme_name_low_sodium&#x27;,\n",
       "                                              &#x27;theme_name_low_sugar&#x27;,\n",
       "                                              &#x27;theme_name_no_additives_preservatives&#x27;,\n",
       "                                              &#x27;theme_name_poultry&#x27;,\n",
       "                                              &#x27;theme_name_salmon&#x27;,\n",
       "                                              &#x27;theme_name_soy_foods&#x27;,\n",
       "                                              &#x27;theme_name_tuna&#x27;,\n",
       "                                              &#x27;theme_name_vegetarian&#x27;]})</pre></div></div></div><div class=\"sk-item\"><div class=\"sk-estimator sk-toggleable\"><input class=\"sk-toggleable__control sk-hidden--visually\" id=\"sk-estimator-id-15\" type=\"checkbox\" ><label for=\"sk-estimator-id-15\" class=\"sk-toggleable__label sk-toggleable__label-arrow\">SKLStatsmodelOLS</label><div class=\"sk-toggleable__content\"><pre>SKLStatsmodelOLS()</pre></div></div></div></div></div></div></div>"
      ],
      "text/plain": [
       "Pipeline(steps=[('',\n",
       "                 FunctionTransformer(func=<function _custom_data_transform at 0x7f50a8ab1750>,\n",
       "                                     kw_args={'cols_to_keep': ['total_post',\n",
       "                                                               'search_volume',\n",
       "                                                               'competitor_share',\n",
       "                                                               'competitors_count',\n",
       "                                                               'theme_name_beef_hamburger',\n",
       "                                                               'theme_name_blueberry',\n",
       "                                                               'theme_name_chicken',\n",
       "                                                               'theme_name_crab',\n",
       "                                                               'theme_name_ethical_packaging',\n",
       "                                                               'theme_name_ethnic_exotic',\n",
       "                                                               'theme_name_fre...isque',\n",
       "                                                               'theme_name_gingerbread',\n",
       "                                                               'theme_name_gmo_free',\n",
       "                                                               'theme_name_high_source_of_protein',\n",
       "                                                               'theme_name_low_carb',\n",
       "                                                               'theme_name_low_sodium',\n",
       "                                                               'theme_name_low_sugar',\n",
       "                                                               'theme_name_no_additives_preservatives',\n",
       "                                                               'theme_name_poultry',\n",
       "                                                               'theme_name_salmon',\n",
       "                                                               'theme_name_soy_foods',\n",
       "                                                               'theme_name_tuna',\n",
       "                                                               'theme_name_vegetarian']})),\n",
       "                ('Linear Regression', SKLStatsmodelOLS())])"
      ]
     },
     "execution_count": 66,
     "metadata": {},
     "output_type": "execute_result"
    }
   ],
   "source": [
    "regression_pipeline = Pipeline([\n",
    "    (\n",
    "        '',\n",
    "        FunctionTransformer(\n",
    "            _custom_data_transform,\n",
    "            kw_args={'cols_to_keep': (reg_vars + binary_num_columns)}\n",
    "        )\n",
    "    ),\n",
    "    ('Linear Regression', SKLStatsmodelOLS())\n",
    "])\n",
    "\n",
    "regression_pipeline"
   ]
  },
  {
   "cell_type": "code",
   "execution_count": 67,
   "metadata": {},
   "outputs": [
    {
     "data": {
      "text/html": [
       "<div>\n",
       "<style scoped>\n",
       "    .dataframe tbody tr th:only-of-type {\n",
       "        vertical-align: middle;\n",
       "    }\n",
       "\n",
       "    .dataframe tbody tr th {\n",
       "        vertical-align: top;\n",
       "    }\n",
       "\n",
       "    .dataframe thead th {\n",
       "        text-align: right;\n",
       "    }\n",
       "</style>\n",
       "<table border=\"1\" class=\"dataframe\">\n",
       "  <thead>\n",
       "    <tr style=\"text-align: right;\">\n",
       "      <th></th>\n",
       "      <th>theme_name_beef_hamburger</th>\n",
       "      <th>theme_name_blueberry</th>\n",
       "      <th>theme_name_chicken</th>\n",
       "      <th>theme_name_crab</th>\n",
       "      <th>theme_name_ethical_packaging</th>\n",
       "      <th>theme_name_ethnic_exotic</th>\n",
       "      <th>theme_name_french_bisque</th>\n",
       "      <th>theme_name_gingerbread</th>\n",
       "      <th>theme_name_gmo_free</th>\n",
       "      <th>theme_name_high_source_of_protein</th>\n",
       "      <th>...</th>\n",
       "      <th>theme_name_no_additives_preservatives</th>\n",
       "      <th>theme_name_poultry</th>\n",
       "      <th>theme_name_salmon</th>\n",
       "      <th>theme_name_soy_foods</th>\n",
       "      <th>theme_name_tuna</th>\n",
       "      <th>theme_name_vegetarian</th>\n",
       "      <th>total_post</th>\n",
       "      <th>search_volume</th>\n",
       "      <th>competitor_share</th>\n",
       "      <th>competitors_count</th>\n",
       "    </tr>\n",
       "  </thead>\n",
       "  <tbody>\n",
       "    <tr>\n",
       "      <th>0</th>\n",
       "      <td>0.0</td>\n",
       "      <td>0.0</td>\n",
       "      <td>0.0</td>\n",
       "      <td>0.0</td>\n",
       "      <td>0.0</td>\n",
       "      <td>0.0</td>\n",
       "      <td>0.0</td>\n",
       "      <td>0.0</td>\n",
       "      <td>1.0</td>\n",
       "      <td>0.0</td>\n",
       "      <td>...</td>\n",
       "      <td>0.0</td>\n",
       "      <td>0.0</td>\n",
       "      <td>0.0</td>\n",
       "      <td>0.0</td>\n",
       "      <td>0.0</td>\n",
       "      <td>0.0</td>\n",
       "      <td>-0.434486</td>\n",
       "      <td>-0.606977</td>\n",
       "      <td>2.588268</td>\n",
       "      <td>-0.477042</td>\n",
       "    </tr>\n",
       "    <tr>\n",
       "      <th>1</th>\n",
       "      <td>0.0</td>\n",
       "      <td>1.0</td>\n",
       "      <td>0.0</td>\n",
       "      <td>0.0</td>\n",
       "      <td>0.0</td>\n",
       "      <td>0.0</td>\n",
       "      <td>0.0</td>\n",
       "      <td>0.0</td>\n",
       "      <td>0.0</td>\n",
       "      <td>0.0</td>\n",
       "      <td>...</td>\n",
       "      <td>0.0</td>\n",
       "      <td>0.0</td>\n",
       "      <td>0.0</td>\n",
       "      <td>0.0</td>\n",
       "      <td>0.0</td>\n",
       "      <td>0.0</td>\n",
       "      <td>-0.316338</td>\n",
       "      <td>0.325676</td>\n",
       "      <td>-0.407214</td>\n",
       "      <td>-0.477042</td>\n",
       "    </tr>\n",
       "    <tr>\n",
       "      <th>2</th>\n",
       "      <td>0.0</td>\n",
       "      <td>0.0</td>\n",
       "      <td>0.0</td>\n",
       "      <td>0.0</td>\n",
       "      <td>0.0</td>\n",
       "      <td>0.0</td>\n",
       "      <td>0.0</td>\n",
       "      <td>0.0</td>\n",
       "      <td>0.0</td>\n",
       "      <td>0.0</td>\n",
       "      <td>...</td>\n",
       "      <td>0.0</td>\n",
       "      <td>0.0</td>\n",
       "      <td>0.0</td>\n",
       "      <td>0.0</td>\n",
       "      <td>0.0</td>\n",
       "      <td>0.0</td>\n",
       "      <td>-0.546009</td>\n",
       "      <td>0.538034</td>\n",
       "      <td>-0.919651</td>\n",
       "      <td>-1.242868</td>\n",
       "    </tr>\n",
       "    <tr>\n",
       "      <th>3</th>\n",
       "      <td>0.0</td>\n",
       "      <td>0.0</td>\n",
       "      <td>0.0</td>\n",
       "      <td>1.0</td>\n",
       "      <td>0.0</td>\n",
       "      <td>0.0</td>\n",
       "      <td>0.0</td>\n",
       "      <td>0.0</td>\n",
       "      <td>0.0</td>\n",
       "      <td>0.0</td>\n",
       "      <td>...</td>\n",
       "      <td>0.0</td>\n",
       "      <td>0.0</td>\n",
       "      <td>0.0</td>\n",
       "      <td>0.0</td>\n",
       "      <td>0.0</td>\n",
       "      <td>0.0</td>\n",
       "      <td>-0.695074</td>\n",
       "      <td>-0.745379</td>\n",
       "      <td>-0.145030</td>\n",
       "      <td>-0.477042</td>\n",
       "    </tr>\n",
       "    <tr>\n",
       "      <th>4</th>\n",
       "      <td>1.0</td>\n",
       "      <td>0.0</td>\n",
       "      <td>0.0</td>\n",
       "      <td>0.0</td>\n",
       "      <td>0.0</td>\n",
       "      <td>0.0</td>\n",
       "      <td>0.0</td>\n",
       "      <td>0.0</td>\n",
       "      <td>0.0</td>\n",
       "      <td>0.0</td>\n",
       "      <td>...</td>\n",
       "      <td>0.0</td>\n",
       "      <td>0.0</td>\n",
       "      <td>0.0</td>\n",
       "      <td>0.0</td>\n",
       "      <td>0.0</td>\n",
       "      <td>0.0</td>\n",
       "      <td>-0.648698</td>\n",
       "      <td>-0.186912</td>\n",
       "      <td>-0.919651</td>\n",
       "      <td>-1.242868</td>\n",
       "    </tr>\n",
       "    <tr>\n",
       "      <th>...</th>\n",
       "      <td>...</td>\n",
       "      <td>...</td>\n",
       "      <td>...</td>\n",
       "      <td>...</td>\n",
       "      <td>...</td>\n",
       "      <td>...</td>\n",
       "      <td>...</td>\n",
       "      <td>...</td>\n",
       "      <td>...</td>\n",
       "      <td>...</td>\n",
       "      <td>...</td>\n",
       "      <td>...</td>\n",
       "      <td>...</td>\n",
       "      <td>...</td>\n",
       "      <td>...</td>\n",
       "      <td>...</td>\n",
       "      <td>...</td>\n",
       "      <td>...</td>\n",
       "      <td>...</td>\n",
       "      <td>...</td>\n",
       "      <td>...</td>\n",
       "    </tr>\n",
       "    <tr>\n",
       "      <th>519</th>\n",
       "      <td>0.0</td>\n",
       "      <td>0.0</td>\n",
       "      <td>0.0</td>\n",
       "      <td>0.0</td>\n",
       "      <td>0.0</td>\n",
       "      <td>0.0</td>\n",
       "      <td>0.0</td>\n",
       "      <td>0.0</td>\n",
       "      <td>1.0</td>\n",
       "      <td>0.0</td>\n",
       "      <td>...</td>\n",
       "      <td>0.0</td>\n",
       "      <td>0.0</td>\n",
       "      <td>0.0</td>\n",
       "      <td>0.0</td>\n",
       "      <td>0.0</td>\n",
       "      <td>0.0</td>\n",
       "      <td>-0.500737</td>\n",
       "      <td>-0.569635</td>\n",
       "      <td>2.588268</td>\n",
       "      <td>-0.477042</td>\n",
       "    </tr>\n",
       "    <tr>\n",
       "      <th>520</th>\n",
       "      <td>0.0</td>\n",
       "      <td>0.0</td>\n",
       "      <td>0.0</td>\n",
       "      <td>0.0</td>\n",
       "      <td>0.0</td>\n",
       "      <td>0.0</td>\n",
       "      <td>0.0</td>\n",
       "      <td>0.0</td>\n",
       "      <td>1.0</td>\n",
       "      <td>0.0</td>\n",
       "      <td>...</td>\n",
       "      <td>0.0</td>\n",
       "      <td>0.0</td>\n",
       "      <td>0.0</td>\n",
       "      <td>0.0</td>\n",
       "      <td>0.0</td>\n",
       "      <td>0.0</td>\n",
       "      <td>-0.417923</td>\n",
       "      <td>-0.613189</td>\n",
       "      <td>2.588268</td>\n",
       "      <td>-0.477042</td>\n",
       "    </tr>\n",
       "    <tr>\n",
       "      <th>521</th>\n",
       "      <td>0.0</td>\n",
       "      <td>0.0</td>\n",
       "      <td>0.0</td>\n",
       "      <td>0.0</td>\n",
       "      <td>0.0</td>\n",
       "      <td>0.0</td>\n",
       "      <td>0.0</td>\n",
       "      <td>0.0</td>\n",
       "      <td>0.0</td>\n",
       "      <td>1.0</td>\n",
       "      <td>...</td>\n",
       "      <td>0.0</td>\n",
       "      <td>0.0</td>\n",
       "      <td>0.0</td>\n",
       "      <td>0.0</td>\n",
       "      <td>0.0</td>\n",
       "      <td>0.0</td>\n",
       "      <td>-0.724887</td>\n",
       "      <td>-0.858586</td>\n",
       "      <td>-0.919651</td>\n",
       "      <td>-1.242868</td>\n",
       "    </tr>\n",
       "    <tr>\n",
       "      <th>522</th>\n",
       "      <td>0.0</td>\n",
       "      <td>0.0</td>\n",
       "      <td>0.0</td>\n",
       "      <td>0.0</td>\n",
       "      <td>0.0</td>\n",
       "      <td>0.0</td>\n",
       "      <td>1.0</td>\n",
       "      <td>0.0</td>\n",
       "      <td>0.0</td>\n",
       "      <td>0.0</td>\n",
       "      <td>...</td>\n",
       "      <td>0.0</td>\n",
       "      <td>0.0</td>\n",
       "      <td>0.0</td>\n",
       "      <td>0.0</td>\n",
       "      <td>0.0</td>\n",
       "      <td>0.0</td>\n",
       "      <td>0.000563</td>\n",
       "      <td>-0.272424</td>\n",
       "      <td>0.984838</td>\n",
       "      <td>0.288784</td>\n",
       "    </tr>\n",
       "    <tr>\n",
       "      <th>523</th>\n",
       "      <td>0.0</td>\n",
       "      <td>0.0</td>\n",
       "      <td>1.0</td>\n",
       "      <td>0.0</td>\n",
       "      <td>0.0</td>\n",
       "      <td>0.0</td>\n",
       "      <td>0.0</td>\n",
       "      <td>0.0</td>\n",
       "      <td>0.0</td>\n",
       "      <td>0.0</td>\n",
       "      <td>...</td>\n",
       "      <td>0.0</td>\n",
       "      <td>0.0</td>\n",
       "      <td>0.0</td>\n",
       "      <td>0.0</td>\n",
       "      <td>0.0</td>\n",
       "      <td>0.0</td>\n",
       "      <td>-0.290942</td>\n",
       "      <td>1.402319</td>\n",
       "      <td>-0.571935</td>\n",
       "      <td>0.288784</td>\n",
       "    </tr>\n",
       "  </tbody>\n",
       "</table>\n",
       "<p>524 rows × 23 columns</p>\n",
       "</div>"
      ],
      "text/plain": [
       "     theme_name_beef_hamburger  theme_name_blueberry  theme_name_chicken  \\\n",
       "0                          0.0                   0.0                 0.0   \n",
       "1                          0.0                   1.0                 0.0   \n",
       "2                          0.0                   0.0                 0.0   \n",
       "3                          0.0                   0.0                 0.0   \n",
       "4                          1.0                   0.0                 0.0   \n",
       "..                         ...                   ...                 ...   \n",
       "519                        0.0                   0.0                 0.0   \n",
       "520                        0.0                   0.0                 0.0   \n",
       "521                        0.0                   0.0                 0.0   \n",
       "522                        0.0                   0.0                 0.0   \n",
       "523                        0.0                   0.0                 1.0   \n",
       "\n",
       "     theme_name_crab  theme_name_ethical_packaging  theme_name_ethnic_exotic  \\\n",
       "0                0.0                           0.0                       0.0   \n",
       "1                0.0                           0.0                       0.0   \n",
       "2                0.0                           0.0                       0.0   \n",
       "3                1.0                           0.0                       0.0   \n",
       "4                0.0                           0.0                       0.0   \n",
       "..               ...                           ...                       ...   \n",
       "519              0.0                           0.0                       0.0   \n",
       "520              0.0                           0.0                       0.0   \n",
       "521              0.0                           0.0                       0.0   \n",
       "522              0.0                           0.0                       0.0   \n",
       "523              0.0                           0.0                       0.0   \n",
       "\n",
       "     theme_name_french_bisque  theme_name_gingerbread  theme_name_gmo_free  \\\n",
       "0                         0.0                     0.0                  1.0   \n",
       "1                         0.0                     0.0                  0.0   \n",
       "2                         0.0                     0.0                  0.0   \n",
       "3                         0.0                     0.0                  0.0   \n",
       "4                         0.0                     0.0                  0.0   \n",
       "..                        ...                     ...                  ...   \n",
       "519                       0.0                     0.0                  1.0   \n",
       "520                       0.0                     0.0                  1.0   \n",
       "521                       0.0                     0.0                  0.0   \n",
       "522                       1.0                     0.0                  0.0   \n",
       "523                       0.0                     0.0                  0.0   \n",
       "\n",
       "     theme_name_high_source_of_protein  ...  \\\n",
       "0                                  0.0  ...   \n",
       "1                                  0.0  ...   \n",
       "2                                  0.0  ...   \n",
       "3                                  0.0  ...   \n",
       "4                                  0.0  ...   \n",
       "..                                 ...  ...   \n",
       "519                                0.0  ...   \n",
       "520                                0.0  ...   \n",
       "521                                1.0  ...   \n",
       "522                                0.0  ...   \n",
       "523                                0.0  ...   \n",
       "\n",
       "     theme_name_no_additives_preservatives  theme_name_poultry  \\\n",
       "0                                      0.0                 0.0   \n",
       "1                                      0.0                 0.0   \n",
       "2                                      0.0                 0.0   \n",
       "3                                      0.0                 0.0   \n",
       "4                                      0.0                 0.0   \n",
       "..                                     ...                 ...   \n",
       "519                                    0.0                 0.0   \n",
       "520                                    0.0                 0.0   \n",
       "521                                    0.0                 0.0   \n",
       "522                                    0.0                 0.0   \n",
       "523                                    0.0                 0.0   \n",
       "\n",
       "     theme_name_salmon  theme_name_soy_foods  theme_name_tuna  \\\n",
       "0                  0.0                   0.0              0.0   \n",
       "1                  0.0                   0.0              0.0   \n",
       "2                  0.0                   0.0              0.0   \n",
       "3                  0.0                   0.0              0.0   \n",
       "4                  0.0                   0.0              0.0   \n",
       "..                 ...                   ...              ...   \n",
       "519                0.0                   0.0              0.0   \n",
       "520                0.0                   0.0              0.0   \n",
       "521                0.0                   0.0              0.0   \n",
       "522                0.0                   0.0              0.0   \n",
       "523                0.0                   0.0              0.0   \n",
       "\n",
       "     theme_name_vegetarian  total_post  search_volume  competitor_share  \\\n",
       "0                      0.0   -0.434486      -0.606977          2.588268   \n",
       "1                      0.0   -0.316338       0.325676         -0.407214   \n",
       "2                      0.0   -0.546009       0.538034         -0.919651   \n",
       "3                      0.0   -0.695074      -0.745379         -0.145030   \n",
       "4                      0.0   -0.648698      -0.186912         -0.919651   \n",
       "..                     ...         ...            ...               ...   \n",
       "519                    0.0   -0.500737      -0.569635          2.588268   \n",
       "520                    0.0   -0.417923      -0.613189          2.588268   \n",
       "521                    0.0   -0.724887      -0.858586         -0.919651   \n",
       "522                    0.0    0.000563      -0.272424          0.984838   \n",
       "523                    0.0   -0.290942       1.402319         -0.571935   \n",
       "\n",
       "     competitors_count  \n",
       "0            -0.477042  \n",
       "1            -0.477042  \n",
       "2            -1.242868  \n",
       "3            -0.477042  \n",
       "4            -1.242868  \n",
       "..                 ...  \n",
       "519          -0.477042  \n",
       "520          -0.477042  \n",
       "521          -1.242868  \n",
       "522           0.288784  \n",
       "523           0.288784  \n",
       "\n",
       "[524 rows x 23 columns]"
      ]
     },
     "execution_count": 67,
     "metadata": {},
     "output_type": "execute_result"
    }
   ],
   "source": [
    "X_test_prepared = get_dataframe(\n",
    "    full_transformer.transform(X_test_mod).toarray(), \n",
    "    cust_get_feature_names_from_column_transformer(full_transformer, False)\n",
    ")\n",
    "\n",
    "X_test_prepared"
   ]
  },
  {
   "cell_type": "code",
   "execution_count": 68,
   "metadata": {},
   "outputs": [
    {
     "data": {
      "text/plain": [
       "Index(['theme_name_beef_hamburger', 'theme_name_blueberry',\n",
       "       'theme_name_chicken', 'theme_name_crab', 'theme_name_ethical_packaging',\n",
       "       'theme_name_ethnic_exotic', 'theme_name_french_bisque',\n",
       "       'theme_name_gingerbread', 'theme_name_gmo_free',\n",
       "       'theme_name_high_source_of_protein', 'theme_name_low_carb',\n",
       "       'theme_name_low_sodium', 'theme_name_low_sugar',\n",
       "       'theme_name_no_additives_preservatives', 'theme_name_poultry',\n",
       "       'theme_name_salmon', 'theme_name_soy_foods', 'theme_name_tuna',\n",
       "       'theme_name_vegetarian', 'total_post', 'search_volume',\n",
       "       'competitor_share', 'competitors_count'],\n",
       "      dtype='object')"
      ]
     },
     "execution_count": 68,
     "metadata": {},
     "output_type": "execute_result"
    }
   ],
   "source": [
    "X_test_prepared = X_test_prepared.drop(\n",
    "    columns=(columns_to_drop),\n",
    "    axis=1\n",
    ")\n",
    "\n",
    "X_test_prepared.columns"
   ]
  },
  {
   "cell_type": "code",
   "execution_count": 69,
   "metadata": {},
   "outputs": [
    {
     "data": {
      "text/plain": [
       "<tigerml.model_eval.base.RegressionReport at 0x7f50a947d390>"
      ]
     },
     "execution_count": 69,
     "metadata": {},
     "output_type": "execute_result"
    }
   ],
   "source": [
    "regression_linear_report = RegressionReport(\n",
    "    model=regression_pipeline,\n",
    "    x_train=X_train_prepared,\n",
    "    y_train=y_train,\n",
    "    x_test= X_test_prepared,\n",
    "    y_test= y_test,\n",
    "    refit=True\n",
    ")\n",
    "\n",
    "regression_linear_report"
   ]
  },
  {
   "cell_type": "code",
   "execution_count": 70,
   "metadata": {},
   "outputs": [],
   "source": [
    "regression_linear_report.get_report(\n",
    "    include_shap=False,\n",
    "    file_path='regression-linear-model-report'\n",
    ")"
   ]
  },
  {
   "cell_type": "markdown",
   "metadata": {},
   "source": [
    "**Dev Notes**\n",
    "\n",
    "Use SHAP for variable interpretability.\n",
    "\n",
    "<details>\n",
    "\n",
    "1. Use SHAP=True to generate variable interpretability plots in the report\n",
    "2. SHAP is recommended for non parameteric models such as RF, xgboost.\n",
    "3. However, SHAP reports are time consuming depending on no.of records and model complexity.\n",
    "\n",
    "</details>"
   ]
  },
  {
   "cell_type": "markdown",
   "metadata": {},
   "source": [
    "#### 3.1.6 Residual Analysis\n",
    "\n",
    "- After scoring the model, it is recommended to do a residual analysis to know the distribution of errors\n",
    "- We took a threshold of 30% above which it is marked as over prediction or underprediction\n",
    "- This will not be part of the production code."
   ]
  },
  {
   "cell_type": "code",
   "execution_count": 71,
   "metadata": {},
   "outputs": [],
   "source": [
    "threshold=0.3\n",
    "\n",
    "residual_analysis = X_test_prepared.copy()\n",
    "\n",
    "residual_analysis['prediction'] = regression_pipeline_ols.predict(\n",
    "    X_test_prepared\n",
    ")\n",
    "residual_analysis['actual'] = y_test.reset_index(drop = True).iloc[:,0].values\n",
    "residual_analysis['forecast_flag'] = 'good'\n",
    "residual_analysis.loc[\n",
    "    (\n",
    "        (residual_analysis['prediction'] > (\n",
    "            (1 + threshold) * residual_analysis['actual']\n",
    "        )) \\\n",
    "            & (residual_analysis['actual'] > 100)\n",
    "    ),\n",
    "    'forecast_flag'\n",
    "] = 'over predict'\n",
    "residual_analysis.loc[\n",
    "    (\n",
    "        (residual_analysis['prediction'] > (\n",
    "            (1 - threshold) * residual_analysis['actual']\n",
    "        )) \\\n",
    "            & (residual_analysis['actual'] > 100)\n",
    "    ),\n",
    "    'forecast_flag'\n",
    "] = 'under predict'"
   ]
  },
  {
   "cell_type": "code",
   "execution_count": 72,
   "metadata": {},
   "outputs": [
    {
     "data": {
      "text/html": [
       "<div>\n",
       "<style scoped>\n",
       "    .dataframe tbody tr th:only-of-type {\n",
       "        vertical-align: middle;\n",
       "    }\n",
       "\n",
       "    .dataframe tbody tr th {\n",
       "        vertical-align: top;\n",
       "    }\n",
       "\n",
       "    .dataframe thead th {\n",
       "        text-align: right;\n",
       "    }\n",
       "</style>\n",
       "<table border=\"1\" class=\"dataframe\">\n",
       "  <thead>\n",
       "    <tr style=\"text-align: right;\">\n",
       "      <th></th>\n",
       "      <th>theme_name_beef_hamburger</th>\n",
       "      <th>theme_name_blueberry</th>\n",
       "      <th>theme_name_chicken</th>\n",
       "      <th>theme_name_crab</th>\n",
       "      <th>theme_name_ethical_packaging</th>\n",
       "      <th>theme_name_ethnic_exotic</th>\n",
       "      <th>theme_name_french_bisque</th>\n",
       "      <th>theme_name_gingerbread</th>\n",
       "      <th>theme_name_gmo_free</th>\n",
       "      <th>theme_name_high_source_of_protein</th>\n",
       "      <th>...</th>\n",
       "      <th>theme_name_soy_foods</th>\n",
       "      <th>theme_name_tuna</th>\n",
       "      <th>theme_name_vegetarian</th>\n",
       "      <th>total_post</th>\n",
       "      <th>search_volume</th>\n",
       "      <th>competitor_share</th>\n",
       "      <th>competitors_count</th>\n",
       "      <th>prediction</th>\n",
       "      <th>actual</th>\n",
       "      <th>forecast_flag</th>\n",
       "    </tr>\n",
       "  </thead>\n",
       "  <tbody>\n",
       "    <tr>\n",
       "      <th>0</th>\n",
       "      <td>0.0</td>\n",
       "      <td>0.0</td>\n",
       "      <td>0.0</td>\n",
       "      <td>0.0</td>\n",
       "      <td>0.0</td>\n",
       "      <td>0.0</td>\n",
       "      <td>0.0</td>\n",
       "      <td>0.0</td>\n",
       "      <td>1.0</td>\n",
       "      <td>0.0</td>\n",
       "      <td>...</td>\n",
       "      <td>0.0</td>\n",
       "      <td>0.0</td>\n",
       "      <td>0.0</td>\n",
       "      <td>-0.434486</td>\n",
       "      <td>-0.606977</td>\n",
       "      <td>2.588268</td>\n",
       "      <td>-0.477042</td>\n",
       "      <td>1.054042e+05</td>\n",
       "      <td>136011.0</td>\n",
       "      <td>under predict</td>\n",
       "    </tr>\n",
       "    <tr>\n",
       "      <th>1</th>\n",
       "      <td>0.0</td>\n",
       "      <td>1.0</td>\n",
       "      <td>0.0</td>\n",
       "      <td>0.0</td>\n",
       "      <td>0.0</td>\n",
       "      <td>0.0</td>\n",
       "      <td>0.0</td>\n",
       "      <td>0.0</td>\n",
       "      <td>0.0</td>\n",
       "      <td>0.0</td>\n",
       "      <td>...</td>\n",
       "      <td>0.0</td>\n",
       "      <td>0.0</td>\n",
       "      <td>0.0</td>\n",
       "      <td>-0.316338</td>\n",
       "      <td>0.325676</td>\n",
       "      <td>-0.407214</td>\n",
       "      <td>-0.477042</td>\n",
       "      <td>2.359476e+06</td>\n",
       "      <td>2409880.0</td>\n",
       "      <td>under predict</td>\n",
       "    </tr>\n",
       "    <tr>\n",
       "      <th>2</th>\n",
       "      <td>0.0</td>\n",
       "      <td>0.0</td>\n",
       "      <td>0.0</td>\n",
       "      <td>0.0</td>\n",
       "      <td>0.0</td>\n",
       "      <td>0.0</td>\n",
       "      <td>0.0</td>\n",
       "      <td>0.0</td>\n",
       "      <td>0.0</td>\n",
       "      <td>0.0</td>\n",
       "      <td>...</td>\n",
       "      <td>0.0</td>\n",
       "      <td>0.0</td>\n",
       "      <td>0.0</td>\n",
       "      <td>-0.546009</td>\n",
       "      <td>0.538034</td>\n",
       "      <td>-0.919651</td>\n",
       "      <td>-1.242868</td>\n",
       "      <td>1.940951e+05</td>\n",
       "      <td>19603.0</td>\n",
       "      <td>under predict</td>\n",
       "    </tr>\n",
       "    <tr>\n",
       "      <th>3</th>\n",
       "      <td>0.0</td>\n",
       "      <td>0.0</td>\n",
       "      <td>0.0</td>\n",
       "      <td>1.0</td>\n",
       "      <td>0.0</td>\n",
       "      <td>0.0</td>\n",
       "      <td>0.0</td>\n",
       "      <td>0.0</td>\n",
       "      <td>0.0</td>\n",
       "      <td>0.0</td>\n",
       "      <td>...</td>\n",
       "      <td>0.0</td>\n",
       "      <td>0.0</td>\n",
       "      <td>0.0</td>\n",
       "      <td>-0.695074</td>\n",
       "      <td>-0.745379</td>\n",
       "      <td>-0.145030</td>\n",
       "      <td>-0.477042</td>\n",
       "      <td>2.183616e+05</td>\n",
       "      <td>24274.0</td>\n",
       "      <td>under predict</td>\n",
       "    </tr>\n",
       "    <tr>\n",
       "      <th>4</th>\n",
       "      <td>1.0</td>\n",
       "      <td>0.0</td>\n",
       "      <td>0.0</td>\n",
       "      <td>0.0</td>\n",
       "      <td>0.0</td>\n",
       "      <td>0.0</td>\n",
       "      <td>0.0</td>\n",
       "      <td>0.0</td>\n",
       "      <td>0.0</td>\n",
       "      <td>0.0</td>\n",
       "      <td>...</td>\n",
       "      <td>0.0</td>\n",
       "      <td>0.0</td>\n",
       "      <td>0.0</td>\n",
       "      <td>-0.648698</td>\n",
       "      <td>-0.186912</td>\n",
       "      <td>-0.919651</td>\n",
       "      <td>-1.242868</td>\n",
       "      <td>6.579122e+04</td>\n",
       "      <td>1173.0</td>\n",
       "      <td>under predict</td>\n",
       "    </tr>\n",
       "    <tr>\n",
       "      <th>...</th>\n",
       "      <td>...</td>\n",
       "      <td>...</td>\n",
       "      <td>...</td>\n",
       "      <td>...</td>\n",
       "      <td>...</td>\n",
       "      <td>...</td>\n",
       "      <td>...</td>\n",
       "      <td>...</td>\n",
       "      <td>...</td>\n",
       "      <td>...</td>\n",
       "      <td>...</td>\n",
       "      <td>...</td>\n",
       "      <td>...</td>\n",
       "      <td>...</td>\n",
       "      <td>...</td>\n",
       "      <td>...</td>\n",
       "      <td>...</td>\n",
       "      <td>...</td>\n",
       "      <td>...</td>\n",
       "      <td>...</td>\n",
       "      <td>...</td>\n",
       "    </tr>\n",
       "    <tr>\n",
       "      <th>519</th>\n",
       "      <td>0.0</td>\n",
       "      <td>0.0</td>\n",
       "      <td>0.0</td>\n",
       "      <td>0.0</td>\n",
       "      <td>0.0</td>\n",
       "      <td>0.0</td>\n",
       "      <td>0.0</td>\n",
       "      <td>0.0</td>\n",
       "      <td>1.0</td>\n",
       "      <td>0.0</td>\n",
       "      <td>...</td>\n",
       "      <td>0.0</td>\n",
       "      <td>0.0</td>\n",
       "      <td>0.0</td>\n",
       "      <td>-0.500737</td>\n",
       "      <td>-0.569635</td>\n",
       "      <td>2.588268</td>\n",
       "      <td>-0.477042</td>\n",
       "      <td>1.049264e+05</td>\n",
       "      <td>134025.0</td>\n",
       "      <td>under predict</td>\n",
       "    </tr>\n",
       "    <tr>\n",
       "      <th>520</th>\n",
       "      <td>0.0</td>\n",
       "      <td>0.0</td>\n",
       "      <td>0.0</td>\n",
       "      <td>0.0</td>\n",
       "      <td>0.0</td>\n",
       "      <td>0.0</td>\n",
       "      <td>0.0</td>\n",
       "      <td>0.0</td>\n",
       "      <td>1.0</td>\n",
       "      <td>0.0</td>\n",
       "      <td>...</td>\n",
       "      <td>0.0</td>\n",
       "      <td>0.0</td>\n",
       "      <td>0.0</td>\n",
       "      <td>-0.417923</td>\n",
       "      <td>-0.613189</td>\n",
       "      <td>2.588268</td>\n",
       "      <td>-0.477042</td>\n",
       "      <td>1.061563e+05</td>\n",
       "      <td>137351.0</td>\n",
       "      <td>under predict</td>\n",
       "    </tr>\n",
       "    <tr>\n",
       "      <th>521</th>\n",
       "      <td>0.0</td>\n",
       "      <td>0.0</td>\n",
       "      <td>0.0</td>\n",
       "      <td>0.0</td>\n",
       "      <td>0.0</td>\n",
       "      <td>0.0</td>\n",
       "      <td>0.0</td>\n",
       "      <td>0.0</td>\n",
       "      <td>0.0</td>\n",
       "      <td>1.0</td>\n",
       "      <td>...</td>\n",
       "      <td>0.0</td>\n",
       "      <td>0.0</td>\n",
       "      <td>0.0</td>\n",
       "      <td>-0.724887</td>\n",
       "      <td>-0.858586</td>\n",
       "      <td>-0.919651</td>\n",
       "      <td>-1.242868</td>\n",
       "      <td>2.315807e+05</td>\n",
       "      <td>311328.0</td>\n",
       "      <td>under predict</td>\n",
       "    </tr>\n",
       "    <tr>\n",
       "      <th>522</th>\n",
       "      <td>0.0</td>\n",
       "      <td>0.0</td>\n",
       "      <td>0.0</td>\n",
       "      <td>0.0</td>\n",
       "      <td>0.0</td>\n",
       "      <td>0.0</td>\n",
       "      <td>1.0</td>\n",
       "      <td>0.0</td>\n",
       "      <td>0.0</td>\n",
       "      <td>0.0</td>\n",
       "      <td>...</td>\n",
       "      <td>0.0</td>\n",
       "      <td>0.0</td>\n",
       "      <td>0.0</td>\n",
       "      <td>0.000563</td>\n",
       "      <td>-0.272424</td>\n",
       "      <td>0.984838</td>\n",
       "      <td>0.288784</td>\n",
       "      <td>9.977803e+04</td>\n",
       "      <td>32344.0</td>\n",
       "      <td>under predict</td>\n",
       "    </tr>\n",
       "    <tr>\n",
       "      <th>523</th>\n",
       "      <td>0.0</td>\n",
       "      <td>0.0</td>\n",
       "      <td>1.0</td>\n",
       "      <td>0.0</td>\n",
       "      <td>0.0</td>\n",
       "      <td>0.0</td>\n",
       "      <td>0.0</td>\n",
       "      <td>0.0</td>\n",
       "      <td>0.0</td>\n",
       "      <td>0.0</td>\n",
       "      <td>...</td>\n",
       "      <td>0.0</td>\n",
       "      <td>0.0</td>\n",
       "      <td>0.0</td>\n",
       "      <td>-0.290942</td>\n",
       "      <td>1.402319</td>\n",
       "      <td>-0.571935</td>\n",
       "      <td>0.288784</td>\n",
       "      <td>1.611284e+05</td>\n",
       "      <td>115712.0</td>\n",
       "      <td>under predict</td>\n",
       "    </tr>\n",
       "  </tbody>\n",
       "</table>\n",
       "<p>524 rows × 26 columns</p>\n",
       "</div>"
      ],
      "text/plain": [
       "     theme_name_beef_hamburger  theme_name_blueberry  theme_name_chicken  \\\n",
       "0                          0.0                   0.0                 0.0   \n",
       "1                          0.0                   1.0                 0.0   \n",
       "2                          0.0                   0.0                 0.0   \n",
       "3                          0.0                   0.0                 0.0   \n",
       "4                          1.0                   0.0                 0.0   \n",
       "..                         ...                   ...                 ...   \n",
       "519                        0.0                   0.0                 0.0   \n",
       "520                        0.0                   0.0                 0.0   \n",
       "521                        0.0                   0.0                 0.0   \n",
       "522                        0.0                   0.0                 0.0   \n",
       "523                        0.0                   0.0                 1.0   \n",
       "\n",
       "     theme_name_crab  theme_name_ethical_packaging  theme_name_ethnic_exotic  \\\n",
       "0                0.0                           0.0                       0.0   \n",
       "1                0.0                           0.0                       0.0   \n",
       "2                0.0                           0.0                       0.0   \n",
       "3                1.0                           0.0                       0.0   \n",
       "4                0.0                           0.0                       0.0   \n",
       "..               ...                           ...                       ...   \n",
       "519              0.0                           0.0                       0.0   \n",
       "520              0.0                           0.0                       0.0   \n",
       "521              0.0                           0.0                       0.0   \n",
       "522              0.0                           0.0                       0.0   \n",
       "523              0.0                           0.0                       0.0   \n",
       "\n",
       "     theme_name_french_bisque  theme_name_gingerbread  theme_name_gmo_free  \\\n",
       "0                         0.0                     0.0                  1.0   \n",
       "1                         0.0                     0.0                  0.0   \n",
       "2                         0.0                     0.0                  0.0   \n",
       "3                         0.0                     0.0                  0.0   \n",
       "4                         0.0                     0.0                  0.0   \n",
       "..                        ...                     ...                  ...   \n",
       "519                       0.0                     0.0                  1.0   \n",
       "520                       0.0                     0.0                  1.0   \n",
       "521                       0.0                     0.0                  0.0   \n",
       "522                       1.0                     0.0                  0.0   \n",
       "523                       0.0                     0.0                  0.0   \n",
       "\n",
       "     theme_name_high_source_of_protein  ...  theme_name_soy_foods  \\\n",
       "0                                  0.0  ...                   0.0   \n",
       "1                                  0.0  ...                   0.0   \n",
       "2                                  0.0  ...                   0.0   \n",
       "3                                  0.0  ...                   0.0   \n",
       "4                                  0.0  ...                   0.0   \n",
       "..                                 ...  ...                   ...   \n",
       "519                                0.0  ...                   0.0   \n",
       "520                                0.0  ...                   0.0   \n",
       "521                                1.0  ...                   0.0   \n",
       "522                                0.0  ...                   0.0   \n",
       "523                                0.0  ...                   0.0   \n",
       "\n",
       "     theme_name_tuna  theme_name_vegetarian  total_post  search_volume  \\\n",
       "0                0.0                    0.0   -0.434486      -0.606977   \n",
       "1                0.0                    0.0   -0.316338       0.325676   \n",
       "2                0.0                    0.0   -0.546009       0.538034   \n",
       "3                0.0                    0.0   -0.695074      -0.745379   \n",
       "4                0.0                    0.0   -0.648698      -0.186912   \n",
       "..               ...                    ...         ...            ...   \n",
       "519              0.0                    0.0   -0.500737      -0.569635   \n",
       "520              0.0                    0.0   -0.417923      -0.613189   \n",
       "521              0.0                    0.0   -0.724887      -0.858586   \n",
       "522              0.0                    0.0    0.000563      -0.272424   \n",
       "523              0.0                    0.0   -0.290942       1.402319   \n",
       "\n",
       "     competitor_share  competitors_count    prediction     actual  \\\n",
       "0            2.588268          -0.477042  1.054042e+05   136011.0   \n",
       "1           -0.407214          -0.477042  2.359476e+06  2409880.0   \n",
       "2           -0.919651          -1.242868  1.940951e+05    19603.0   \n",
       "3           -0.145030          -0.477042  2.183616e+05    24274.0   \n",
       "4           -0.919651          -1.242868  6.579122e+04     1173.0   \n",
       "..                ...                ...           ...        ...   \n",
       "519          2.588268          -0.477042  1.049264e+05   134025.0   \n",
       "520          2.588268          -0.477042  1.061563e+05   137351.0   \n",
       "521         -0.919651          -1.242868  2.315807e+05   311328.0   \n",
       "522          0.984838           0.288784  9.977803e+04    32344.0   \n",
       "523         -0.571935           0.288784  1.611284e+05   115712.0   \n",
       "\n",
       "     forecast_flag  \n",
       "0    under predict  \n",
       "1    under predict  \n",
       "2    under predict  \n",
       "3    under predict  \n",
       "4    under predict  \n",
       "..             ...  \n",
       "519  under predict  \n",
       "520  under predict  \n",
       "521  under predict  \n",
       "522  under predict  \n",
       "523  under predict  \n",
       "\n",
       "[524 rows x 26 columns]"
      ]
     },
     "execution_count": 72,
     "metadata": {},
     "output_type": "execute_result"
    }
   ],
   "source": [
    "residual_analysis"
   ]
  },
  {
   "cell_type": "code",
   "execution_count": 73,
   "metadata": {},
   "outputs": [
    {
     "data": {
      "text/plain": [
       "under predict    411\n",
       "good             113\n",
       "Name: forecast_flag, dtype: int64"
      ]
     },
     "execution_count": 73,
     "metadata": {},
     "output_type": "execute_result"
    }
   ],
   "source": [
    "residual_analysis.forecast_flag.value_counts()"
   ]
  },
  {
   "cell_type": "code",
   "execution_count": 74,
   "metadata": {},
   "outputs": [
    {
     "data": {},
     "metadata": {},
     "output_type": "display_data"
    },
    {
     "data": {
      "application/vnd.holoviews_exec.v0+json": "",
      "text/html": [
       "<div id='69488'>\n",
       "  <div class=\"bk-root\" id=\"e0e38dd6-a4e7-4dca-9e79-8b2b2e71b67a\" data-root-id=\"69488\"></div>\n",
       "</div>\n",
       "<script type=\"application/javascript\">(function(root) {\n",
       "  function embed_document(root) {\n",
       "    var docs_json = {\"7fd29e18-6c26-49ea-97eb-26e73a1dc52c\":{\"defs\":[{\"extends\":null,\"module\":null,\"name\":\"ReactiveHTML1\",\"overrides\":[],\"properties\":[]},{\"extends\":null,\"module\":null,\"name\":\"FlexBox1\",\"overrides\":[],\"properties\":[{\"default\":\"flex-start\",\"kind\":null,\"name\":\"align_content\"},{\"default\":\"flex-start\",\"kind\":null,\"name\":\"align_items\"},{\"default\":\"row\",\"kind\":null,\"name\":\"flex_direction\"},{\"default\":\"wrap\",\"kind\":null,\"name\":\"flex_wrap\"},{\"default\":\"flex-start\",\"kind\":null,\"name\":\"justify_content\"}]},{\"extends\":null,\"module\":null,\"name\":\"GridStack1\",\"overrides\":[],\"properties\":[{\"default\":\"warn\",\"kind\":null,\"name\":\"mode\"},{\"default\":null,\"kind\":null,\"name\":\"ncols\"},{\"default\":null,\"kind\":null,\"name\":\"nrows\"},{\"default\":true,\"kind\":null,\"name\":\"allow_resize\"},{\"default\":true,\"kind\":null,\"name\":\"allow_drag\"},{\"default\":[],\"kind\":null,\"name\":\"state\"}]},{\"extends\":null,\"module\":null,\"name\":\"click1\",\"overrides\":[],\"properties\":[{\"default\":\"\",\"kind\":null,\"name\":\"terminal_output\"},{\"default\":\"\",\"kind\":null,\"name\":\"debug_name\"},{\"default\":0,\"kind\":null,\"name\":\"clears\"}]},{\"extends\":null,\"module\":null,\"name\":\"NotificationAreaBase1\",\"overrides\":[],\"properties\":[{\"default\":\"bottom-right\",\"kind\":null,\"name\":\"position\"},{\"default\":0,\"kind\":null,\"name\":\"_clear\"}]},{\"extends\":null,\"module\":null,\"name\":\"NotificationArea1\",\"overrides\":[],\"properties\":[{\"default\":[],\"kind\":null,\"name\":\"notifications\"},{\"default\":\"bottom-right\",\"kind\":null,\"name\":\"position\"},{\"default\":0,\"kind\":null,\"name\":\"_clear\"},{\"default\":[{\"background\":\"#ffc107\",\"icon\":{\"className\":\"fas fa-exclamation-triangle\",\"color\":\"white\",\"tagName\":\"i\"},\"type\":\"warning\"},{\"background\":\"#007bff\",\"icon\":{\"className\":\"fas fa-info-circle\",\"color\":\"white\",\"tagName\":\"i\"},\"type\":\"info\"}],\"kind\":null,\"name\":\"types\"}]},{\"extends\":null,\"module\":null,\"name\":\"Notification\",\"overrides\":[],\"properties\":[{\"default\":null,\"kind\":null,\"name\":\"background\"},{\"default\":3000,\"kind\":null,\"name\":\"duration\"},{\"default\":null,\"kind\":null,\"name\":\"icon\"},{\"default\":\"\",\"kind\":null,\"name\":\"message\"},{\"default\":null,\"kind\":null,\"name\":\"notification_type\"},{\"default\":false,\"kind\":null,\"name\":\"_destroyed\"}]},{\"extends\":null,\"module\":null,\"name\":\"TemplateActions1\",\"overrides\":[],\"properties\":[{\"default\":0,\"kind\":null,\"name\":\"open_modal\"},{\"default\":0,\"kind\":null,\"name\":\"close_modal\"}]},{\"extends\":null,\"module\":null,\"name\":\"MaterialTemplateActions1\",\"overrides\":[],\"properties\":[{\"default\":0,\"kind\":null,\"name\":\"open_modal\"},{\"default\":0,\"kind\":null,\"name\":\"close_modal\"}]}],\"roots\":{\"references\":[{\"attributes\":{},\"id\":\"69552\",\"type\":\"Selection\"},{\"attributes\":{\"coordinates\":null,\"data_source\":{\"id\":\"69530\"},\"glyph\":{\"id\":\"69533\"},\"group\":null,\"hover_glyph\":null,\"muted_glyph\":{\"id\":\"69535\"},\"nonselection_glyph\":{\"id\":\"69534\"},\"selection_glyph\":{\"id\":\"69550\"},\"view\":{\"id\":\"69537\"}},\"id\":\"69536\",\"type\":\"GlyphRenderer\"},{\"attributes\":{\"fill_alpha\":0.5,\"fill_color\":\"#30a2da\",\"hatch_alpha\":0.1,\"hatch_color\":\"#30a2da\",\"line_alpha\":0.7,\"x\":{\"field\":\"x\"},\"y\":{\"field\":\"y\"}},\"id\":\"69534\",\"type\":\"Patch\"},{\"attributes\":{\"fill_alpha\":0.2,\"fill_color\":\"#fc4f30\",\"hatch_alpha\":0.2,\"hatch_color\":\"#fc4f30\",\"line_alpha\":0.2,\"x\":{\"field\":\"x\"},\"y\":{\"field\":\"y\"}},\"id\":\"69556\",\"type\":\"Patch\"},{\"attributes\":{\"data\":{\"x\":{\"__ndarray__\":\"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\",\"dtype\":\"float64\",\"order\":\"little\",\"shape\":[200]},\"y\":{\"__ndarray__\":\"AAAAAAAAAAAAAAAAAAAAAAAAAAAAAAAAAAAAAAAAAAAAAAAAAAAAAAAAAAAAAAAAAAAAAAAAAAAAAAAAAAAAAAAAAAAAAAAAAAAAAAAAAAAAAAAAAAAAAAAAAAAAAAAAAAAAAAAAAAAAAAAAAAAAAAAAAAAAAAAAAAAAAAAAAAAAAAAAAAAAAAAAAAAAAAAAAAAAAAAAAAAAAAAAAAAAAAAAAAAAAAAAAAAAAAAAAAAAAAAAAAAAAAAAAAAAAAAAAAAAAAAAAAAAAAAAAAAAAAAAAAAAAAAAAAAAAAAAAAAAAAAAAAAAAAAAAAAAAAAAAAAAAAAAAAAAAAAAAAAAAAAAAAAAAAAAAAAAAAAAAAAAAAAAAAAAAAAAAAAAAAAAAAAAAAAAAAAAAAAAAAAAAAAAAAAAAAAAAAAAAAAAAAAAAAAAAAAAAAAAAAAAAAAAAAAAAAAAAAAAAAAAAAAAAAAAAAAAAAAAAAAAAAAAAAAAAAAAAAAAAAAAAAAAAAAAAAAAAAAAAAAAAAAAAAAAAAAAAAAAAAAAAAAAAAAAAAAAAAAAAAAAAAAAAAAAAAAAAAAAAAAAAAAAAAAAAAAAAAAAAAAAAAAAAAAAAAAAAAAAAAAAAAAAAAAAAAAAAAAAAAAAAAAAAAAAAAAAAAAAAAAAAAAAAAAAAAAAAAAAAAAAAAAAAAAAAAAAAAAAAAAAAAAAAAAAAAAAAAAAAAAAAAAAAAAAAAAAAAAAAAAAAAAAAAAAAAAAAAAAAAAAAAAAAAAAAAAAAAAAAAAAAAAAAAAAAAAAAAAAAAAAAAAAAAAAAAAAAAAAAAAAAAAAAAAAAAAAAAAAAAAAAAAAAAAAAAAAAAAAAAAAAAAAAAAAAAAAAAAAAAAAAAAAAAAAAAAAAAAAAAAAAAAAAAAAAAAAAAAAAAAAAAAAAAAAAAAAAAAAAAAAAAAAAAAAAAAAAAAAAAAAAAAAAAAAAAAAAAAAAAAAAAAAAAAAAAAAAAAAAAAAAAAAAAAAAAAAAAAAAAAAAAAAAAAAAAAAAAAAAAAAAAAAAAAAAAAAAAAAAAAAAAC1KzspHDkOPskgtwBwahk+PSTKTFC2JD4X+Iz211swPvOLGq8yDDk+qcj9aimXQj6xppfqcMJKPnQP/TBLrlI+JeZE3O5OWT4jnvY2h6RgPjCyUInsQmU+zMRdh0Vnaj6J+NlQ+OZvPnF/1u7JxXI+h78OqTiMdT5hayCvyih4PgxFfiI0gXo+eod9FW2BfD7mw+WEAB1+PlXYL7EJT38+C5Lb8qQMgD73dq7sjUGAPtdXFk2RTIA+FHpKKSw3gD7P2y3DUA+APrAuDzJp0n8+RrweVjvCfz4jZnNrgRyAPtZbBG3LyYA+puNFeFEegj5HjbEXS1KEPmopiqACm4c+CVJ8YNMjjD73S92eagORPrTSVpgjo5Q+byMZ9+vjmD7hUvRsaKmdPhO3bLV3ZKE+lIya1y8GpD7xsZAFYJumPtMTnTQWBak+CLIIUSUnqz7rycRiKuusPmBBBEvjQq4+0bdoOXgprz5+hXlRiqOvPvnQ4Q0Yvq8+5sVOMoOMrz7awb4iLCavPhZXNzcfpK4+4gc35TYfrj7btwvb4K6tPt6RaBN1aK0+IN7GhNlerT7hHKkzFqKtPpZONk6OPq4+TjKaFsk7rz7XPmikgE2wPrYgMGD9KrE+WjbW4GQvsj6JCvJ4mFCzPrlidaH9grQ+OvGKXCO8tT5a3pHBFfa2PuKpw1XUMrg+q+PnozJ/uT4uJVyXXfS6Pkc1gkJZt7w+Ce7qpwj2vj6T1Khe1vDAPpcKzxqb08I+qMCRnBwzxT6ZFoCq3RPIPpVKMwMwa8s+7pNJLckczz5DEiNzR33RPoN6szCKY9M+uIg0sWwd1T6B5f127IXWPuVtFPg3e9c+WHZf4R7j1z5rwZRfvK7XPlvIdOut3NY+Zt0DR2d51T6pu7kIj53TPunlPNywatE+ZyheVcYNzj6trOClUjDJPtTNTpKxgMQ+rFi5ejQ0wD670BkgXd24PulR++1WhLI+V6ZTFPrDqj5kEbNqXMWiPiGUZhiQi5k+xW4wUfTckD4SabOsyJiFPorr7xcX1Ho+x010ZW0pcD6fvHTHXOJiPg==\",\"dtype\":\"float64\",\"order\":\"little\",\"shape\":[200]}},\"selected\":{\"id\":\"69552\"},\"selection_policy\":{\"id\":\"69568\"}},\"id\":\"69551\",\"type\":\"ColumnDataSource\"},{\"attributes\":{},\"id\":\"69528\",\"type\":\"BasicTickFormatter\"},{\"attributes\":{\"margin\":[5,5,5,5],\"name\":\"HSpacer182212\",\"sizing_mode\":\"stretch_width\"},\"id\":\"69669\",\"type\":\"Spacer\"},{\"attributes\":{\"tools\":[{\"id\":\"69492\"},{\"id\":\"69511\"},{\"id\":\"69512\"},{\"id\":\"69513\"},{\"id\":\"69514\"},{\"id\":\"69515\"}]},\"id\":\"69517\",\"type\":\"Toolbar\"},{\"attributes\":{\"label\":{\"value\":\"good\"},\"renderers\":[{\"id\":\"69557\"}]},\"id\":\"69571\",\"type\":\"LegendItem\"},{\"attributes\":{\"click_policy\":\"mute\",\"coordinates\":null,\"group\":null,\"items\":[{\"id\":\"69549\"},{\"id\":\"69571\"}],\"title\":\"forecast_flag\"},\"id\":\"69548\",\"type\":\"Legend\"},{\"attributes\":{\"fill_alpha\":0.5,\"fill_color\":\"#fc4f30\",\"hatch_alpha\":0.7,\"hatch_color\":\"#fc4f30\",\"line_alpha\":0.7,\"x\":{\"field\":\"x\"},\"y\":{\"field\":\"y\"}},\"id\":\"69554\",\"type\":\"Patch\"},{\"attributes\":{},\"id\":\"69515\",\"type\":\"ResetTool\"},{\"attributes\":{\"source\":{\"id\":\"69551\"}},\"id\":\"69558\",\"type\":\"CDSView\"},{\"attributes\":{\"end\":6.2646608173075526e-06,\"reset_end\":6.2646608173075526e-06,\"reset_start\":0.0,\"tags\":[[[\"actual_density\",\"Density\",null]]]},\"id\":\"69491\",\"type\":\"Range1d\"},{\"attributes\":{\"callback\":null,\"renderers\":[{\"id\":\"69536\"},{\"id\":\"69557\"}],\"tags\":[\"hv_created\"],\"tooltips\":[[\"forecast_flag\",\"@{forecast_flag}\"],[\"actual\",\"@{actual}\"],[\"Density\",\"@{actual_density}\"]]},\"id\":\"69492\",\"type\":\"HoverTool\"},{\"attributes\":{\"axis\":{\"id\":\"69503\"},\"coordinates\":null,\"grid_line_color\":null,\"group\":null,\"ticker\":null},\"id\":\"69506\",\"type\":\"Grid\"},{\"attributes\":{\"overlay\":{\"id\":\"69516\"}},\"id\":\"69514\",\"type\":\"BoxZoomTool\"},{\"attributes\":{},\"id\":\"69525\",\"type\":\"BasicTickFormatter\"},{\"attributes\":{},\"id\":\"69568\",\"type\":\"UnionRenderers\"},{\"attributes\":{\"children\":[{\"id\":\"69489\"},{\"id\":\"69494\"},{\"id\":\"69669\"}],\"margin\":[0,0,0,0],\"name\":\"Row182207\",\"tags\":[\"embedded\"]},\"id\":\"69488\",\"type\":\"Row\"},{\"attributes\":{\"fill_alpha\":0.5,\"fill_color\":\"#30a2da\",\"hatch_alpha\":0.7,\"hatch_color\":\"#30a2da\",\"line_alpha\":0.7,\"x\":{\"field\":\"x\"},\"y\":{\"field\":\"y\"}},\"id\":\"69533\",\"type\":\"Patch\"},{\"attributes\":{\"below\":[{\"id\":\"69503\"}],\"center\":[{\"id\":\"69506\"},{\"id\":\"69510\"},{\"id\":\"69548\"}],\"height\":400,\"left\":[{\"id\":\"69507\"}],\"margin\":[5,5,5,5],\"min_border_bottom\":10,\"min_border_left\":10,\"min_border_right\":10,\"min_border_top\":10,\"renderers\":[{\"id\":\"69536\"},{\"id\":\"69557\"}],\"sizing_mode\":\"fixed\",\"title\":{\"id\":\"69495\"},\"toolbar\":{\"id\":\"69517\"},\"width\":800,\"x_range\":{\"id\":\"69490\"},\"x_scale\":{\"id\":\"69499\"},\"y_range\":{\"id\":\"69491\"},\"y_scale\":{\"id\":\"69501\"}},\"id\":\"69494\",\"subtype\":\"Figure\",\"type\":\"Plot\"},{\"attributes\":{\"coordinates\":null,\"group\":null,\"text\":\"Sales in Dollars (Density)\",\"text_color\":\"black\",\"text_font_size\":\"12pt\"},\"id\":\"69495\",\"type\":\"Title\"},{\"attributes\":{\"coordinates\":null,\"data_source\":{\"id\":\"69551\"},\"glyph\":{\"id\":\"69554\"},\"group\":null,\"hover_glyph\":null,\"muted_glyph\":{\"id\":\"69556\"},\"nonselection_glyph\":{\"id\":\"69555\"},\"selection_glyph\":{\"id\":\"69572\"},\"view\":{\"id\":\"69558\"}},\"id\":\"69557\",\"type\":\"GlyphRenderer\"},{\"attributes\":{},\"id\":\"69512\",\"type\":\"PanTool\"},{\"attributes\":{},\"id\":\"69529\",\"type\":\"AllLabels\"},{\"attributes\":{},\"id\":\"69501\",\"type\":\"LinearScale\"},{\"attributes\":{\"margin\":[5,5,5,5],\"name\":\"HSpacer182211\",\"sizing_mode\":\"stretch_width\"},\"id\":\"69489\",\"type\":\"Spacer\"},{\"attributes\":{\"end\":17867189.317245908,\"reset_end\":17867189.317245908,\"reset_start\":-3635456.317245909,\"start\":-3635456.317245909,\"tags\":[[[\"actual\",\"actual\",null]]]},\"id\":\"69490\",\"type\":\"Range1d\"},{\"attributes\":{\"data\":{\"x\":{\"__ndarray__\":\"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\",\"dtype\":\"float64\",\"order\":\"little\",\"shape\":[200]},\"y\":{\"__ndarray__\":\"AAAAAAAAAAAAAAAAAAAAAAAAAAAAAAAAAAAAAAAAAAAAAAAAAAAAAAAAAAAAAAAAAAAAAAAAAAAAAAAAAAAAAAAAAAAAAAAAAAAAAAAAAAAAAAAAAAAAAAAAAAAAAAAAAAAAAAAAAAAAAAAAAAAAAAAAAAAAAAAAAAAAAAAAAAAAAAAAAAAAAAAAAAAAAAAAAAAAAAAAAAAAAAAAAAAAAAAAAAAAAAAAAAAAAAAAAAAAAAAAAAAAAAAAAAAAAAAAAAAAAAAAAAAAAAAAAAAAAAAAAAAAAAAAAAAAAAAAAAAAAAAAAAAAAAAAAAAAAAAAAAAAAAAAAAAAAAAAAAAAAAAAAAAAAAAAAAAAAAAAAAAAAAAAAAAAAAAAAAAAAAAAAAAAAAAAAAAAAAAAAAAAAAAAAAAAAAAAAAAAAAAAAAAAAAAAAAAAAAAAAAAAAAAAAAAAAAAAAAAAAAAAAAAAAAAAAAAAAAAAAAAAAAAAAAAAAAAAAAAAAAAAAAAAAAAAAAAAAAAAAAAAAAAAAAAAAAAAAAAAAAAAAAAAAAAAAAAAAAAAAAAAAAAAAAAAAAAAAAAAAAAAAAAAAAAAAAAAAAAAAAAAAAAAAAAAAAAAAAAAAAAAAAAAAAAAAAAAAAAAAAAAAAAAAAAAAAAAAAAAAAAAAAAAAAAAAAAAAAAAAAAAAAAAAAAAAAAAAAAAAAAAAAAAAAAAAAAAAAAAAAAAAAAAAAAAAAAAAAAAAAAAAAAAAAAAAAAAAAAAAAAAAAAAAAAAAAAAAAAAAAAAAAAAAAAAAAAAAAAAAAAAAAAAAAAAAAAAAAAAAAAAAAAAAAAAAAAAAAAAAAAAAAAAAAAAAAAAAAAAAAAAAAAAAAAAAAAAAAAAAAAAAAAAAAAAAAAAAAAAAAAAAAAAAAAAAAAAAAAAAAAAAAAAAAAAAAAAAAAAAAAAAAAAAAAAAAAAAAAAAAAAAAAAAAAAAAAAAAAAAAAAAAAAAAAAAAAAAAAAAAAAAAAAAAAAAAAAAAAAAAAAAAAAAAAAAAAAAAAAAAAAAAAAAAAAAAAAAAAAAAAAAAC1oODc8U3GPWAyd1JHHdQ95MKhGpWb4T1ch3mcmuztPb8eJXEPr/g9mPhYffzDAz41yEayp7oOPn7/OI5fMBc+UMYpNub8ID5ns1dq5CkoPthLMGkarzA+iGQTWzBeNj4RG8f/nx09PsEMYdE5ZkI+HcQ94sSURj49p+4UEOpKPndhSsXfKE8+igiD6meGUT5k1MDkGilTPpRVbHiKX1Q+ydt649EVVT5calB5Z0RVPj0teOW38VQ+bRSNj8IxVD6CrIFbwCNTPjPxYj497lE+LLKbKFO6UD5r99B3pl1PPucIjrU82E0+yiI1mX8STT7IodDeNCVNPqKZvaBkFE4+P0Sqs7vSTz7et7VJeiNRPk8ENpshqVI+7vYQwlRrVD5NrVOWE15WPu/z647zeVg+gPjbB268Wj45h97w0iZdPkSOrk4HvF8+1uDCxbc+YT4yoXNpybNiPvl9XhePN2Q+BaWi7na/ZT5DbkF80ztnPhcUyl2amGg+KlZVyBi/aT7DZZCMd5hqPkGy0t6/EGs+5tt68vMZaz7sYn9pwa5qPrtyg8xb1Gk+w1IoJiqbaD4PdIzZHh5nPqZfL5fCgGU+qJf+1yjsYz4MR4bwJYtiPoqIeNQxhmE+m04xK2n/YD6srChJHQ9hPlsdwhhfwWE+4S4D+ugUYz7rsaDVuvtkPk6+RCqZXWc+95pZt2Mcaj7wW7YZ4RltPpYOiPQZH3A+tm+UC+W+cT6Z/5JMrG5zPjOMyeE+OXU+ikZBcgYwdz7nfmB46GZ5PinQA/pT7ns+5qE8yX3Mfj4tx+Ekn/uAPnIPaKcVqII+U2z3YyVShD7HbA5VCtiFPu8I7mzEE4c+v2JdQI3ghz5egpV4siCIPm8Rtl6jwoc+8sMXqx/Ehj5cWz7i2zKFPtum6CaBKoM+PqvwdYPQgD4qcgvccp18Pg6Bcemgm3c+MzhMrUDhcj7zLjKSQkRtPnQmZ4xS+2U+i2BoLcf+Xz5n74J2iY9WPnSJxKQn004+nd8MJatmRD41AjkwOSk6PuHFenbYPzA+tY33/wGOIz7/ZQs7z8sWPg==\",\"dtype\":\"float64\",\"order\":\"little\",\"shape\":[200]}},\"selected\":{\"id\":\"69531\"},\"selection_policy\":{\"id\":\"69545\"}},\"id\":\"69530\",\"type\":\"ColumnDataSource\"},{\"attributes\":{},\"id\":\"69545\",\"type\":\"UnionRenderers\"},{\"attributes\":{\"axis_label\":\"Density\",\"coordinates\":null,\"formatter\":{\"id\":\"69528\"},\"group\":null,\"major_label_policy\":{\"id\":\"69529\"},\"ticker\":{\"id\":\"69508\"}},\"id\":\"69507\",\"type\":\"LinearAxis\"},{\"attributes\":{},\"id\":\"69508\",\"type\":\"BasicTicker\"},{\"attributes\":{\"source\":{\"id\":\"69530\"}},\"id\":\"69537\",\"type\":\"CDSView\"},{\"attributes\":{},\"id\":\"69513\",\"type\":\"WheelZoomTool\"},{\"attributes\":{\"fill_alpha\":0.2,\"fill_color\":\"#30a2da\",\"hatch_alpha\":0.2,\"hatch_color\":\"#30a2da\",\"line_alpha\":0.2,\"x\":{\"field\":\"x\"},\"y\":{\"field\":\"y\"}},\"id\":\"69535\",\"type\":\"Patch\"},{\"attributes\":{\"axis_label\":\"Sales in Dollars\",\"coordinates\":null,\"formatter\":{\"id\":\"69525\"},\"group\":null,\"major_label_policy\":{\"id\":\"69526\"},\"ticker\":{\"id\":\"69504\"}},\"id\":\"69503\",\"type\":\"LinearAxis\"},{\"attributes\":{},\"id\":\"69526\",\"type\":\"AllLabels\"},{\"attributes\":{\"bottom_units\":\"screen\",\"coordinates\":null,\"fill_alpha\":0.5,\"fill_color\":\"lightgrey\",\"group\":null,\"left_units\":\"screen\",\"level\":\"overlay\",\"line_alpha\":1.0,\"line_color\":\"black\",\"line_dash\":[4,4],\"line_width\":2,\"right_units\":\"screen\",\"syncable\":false,\"top_units\":\"screen\"},\"id\":\"69516\",\"type\":\"BoxAnnotation\"},{\"attributes\":{\"fill_alpha\":0.5,\"fill_color\":\"#fc4f30\",\"hatch_alpha\":0.1,\"hatch_color\":\"#fc4f30\",\"line_alpha\":0.7,\"x\":{\"field\":\"x\"},\"y\":{\"field\":\"y\"}},\"id\":\"69555\",\"type\":\"Patch\"},{\"attributes\":{},\"id\":\"69504\",\"type\":\"BasicTicker\"},{\"attributes\":{},\"id\":\"69511\",\"type\":\"SaveTool\"},{\"attributes\":{\"fill_alpha\":0.5,\"fill_color\":\"#fc4f30\",\"hatch_alpha\":0.7,\"hatch_color\":\"#fc4f30\",\"line_alpha\":0.7,\"x\":{\"field\":\"x\"},\"y\":{\"field\":\"y\"}},\"id\":\"69572\",\"type\":\"Patch\"},{\"attributes\":{},\"id\":\"69531\",\"type\":\"Selection\"},{\"attributes\":{},\"id\":\"69499\",\"type\":\"LinearScale\"},{\"attributes\":{\"fill_alpha\":0.5,\"fill_color\":\"#30a2da\",\"hatch_alpha\":0.7,\"hatch_color\":\"#30a2da\",\"line_alpha\":0.7,\"x\":{\"field\":\"x\"},\"y\":{\"field\":\"y\"}},\"id\":\"69550\",\"type\":\"Patch\"},{\"attributes\":{\"axis\":{\"id\":\"69507\"},\"coordinates\":null,\"dimension\":1,\"grid_line_color\":null,\"group\":null,\"ticker\":null},\"id\":\"69510\",\"type\":\"Grid\"},{\"attributes\":{\"label\":{\"value\":\"under predict\"},\"renderers\":[{\"id\":\"69536\"}]},\"id\":\"69549\",\"type\":\"LegendItem\"}],\"root_ids\":[\"69488\"]},\"title\":\"Bokeh Application\",\"version\":\"2.4.3\"}};\n",
       "    var render_items = [{\"docid\":\"7fd29e18-6c26-49ea-97eb-26e73a1dc52c\",\"root_ids\":[\"69488\"],\"roots\":{\"69488\":\"e0e38dd6-a4e7-4dca-9e79-8b2b2e71b67a\"}}];\n",
       "    root.Bokeh.embed.embed_items_notebook(docs_json, render_items);\n",
       "  }\n",
       "  if (root.Bokeh !== undefined && root.Bokeh.Panel !== undefined) {\n",
       "    embed_document(root);\n",
       "  } else {\n",
       "    var attempts = 0;\n",
       "    var timer = setInterval(function(root) {\n",
       "      if (root.Bokeh !== undefined && root.Bokeh.Panel !== undefined) {\n",
       "        clearInterval(timer);\n",
       "        embed_document(root);\n",
       "      } else if (document.readyState == \"complete\") {\n",
       "        attempts++;\n",
       "        if (attempts > 200) {\n",
       "          clearInterval(timer);\n",
       "          console.log(\"Bokeh: ERROR: Unable to run BokehJS code because BokehJS library is missing\");\n",
       "        }\n",
       "      }\n",
       "    }, 25, root)\n",
       "  }\n",
       "})(window);</script>"
      ],
      "text/plain": [
       ":NdOverlay   [forecast_flag]\n",
       "   :Distribution   [actual]   (Density)"
      ]
     },
     "execution_count": 74,
     "metadata": {
      "application/vnd.holoviews_exec.v0+json": {
       "id": "69488"
      }
     },
     "output_type": "execute_result"
    }
   ],
   "source": [
    "residual_analysis.hvplot.kde(\n",
    "    y=\"actual\",\n",
    "    by=\"forecast_flag\",  # grouping by predictions\n",
    "    width=800,\n",
    "    height=400,\n",
    "    alpha=0.7,\n",
    "    ylabel=\"Density\",\n",
    "    xlabel=\"Sales in Dollars\",\n",
    "    title=f'Sales in Dollars (Density)',\n",
    "    legend='top_right'\n",
    ")"
   ]
  },
  {
   "cell_type": "markdown",
   "metadata": {},
   "source": [
    "### 3.2 Modelling - XGBoost"
   ]
  },
  {
   "cell_type": "markdown",
   "metadata": {},
   "source": [
    "#### 3.2.1 Model Training Pipeline\n",
    "\n",
    "Here we focus on creating a collection of pipelines that can be used for tranining respective models.\n",
    "\n",
    "Each model pipeline will essentially be of the form\n",
    "\n",
    "```python\n",
    "[\n",
    "    ('preprocessing', preprocessing_pipeline),\n",
    "    ('feature_selection', feature_selection_pipeline),\n",
    "    ('estimator', estimator),\n",
    "]\n",
    "```"
   ]
  },
  {
   "cell_type": "markdown",
   "metadata": {},
   "source": [
    "#### 3.2.2 Model Pipeline Build"
   ]
  },
  {
   "cell_type": "code",
   "execution_count": 75,
   "metadata": {},
   "outputs": [
    {
     "data": {
      "text/html": [
       "<style>#sk-container-id-5 {color: black;background-color: white;}#sk-container-id-5 pre{padding: 0;}#sk-container-id-5 div.sk-toggleable {background-color: white;}#sk-container-id-5 label.sk-toggleable__label {cursor: pointer;display: block;width: 100%;margin-bottom: 0;padding: 0.3em;box-sizing: border-box;text-align: center;}#sk-container-id-5 label.sk-toggleable__label-arrow:before {content: \"▸\";float: left;margin-right: 0.25em;color: #696969;}#sk-container-id-5 label.sk-toggleable__label-arrow:hover:before {color: black;}#sk-container-id-5 div.sk-estimator:hover label.sk-toggleable__label-arrow:before {color: black;}#sk-container-id-5 div.sk-toggleable__content {max-height: 0;max-width: 0;overflow: hidden;text-align: left;background-color: #f0f8ff;}#sk-container-id-5 div.sk-toggleable__content pre {margin: 0.2em;color: black;border-radius: 0.25em;background-color: #f0f8ff;}#sk-container-id-5 input.sk-toggleable__control:checked~div.sk-toggleable__content {max-height: 200px;max-width: 100%;overflow: auto;}#sk-container-id-5 input.sk-toggleable__control:checked~label.sk-toggleable__label-arrow:before {content: \"▾\";}#sk-container-id-5 div.sk-estimator input.sk-toggleable__control:checked~label.sk-toggleable__label {background-color: #d4ebff;}#sk-container-id-5 div.sk-label input.sk-toggleable__control:checked~label.sk-toggleable__label {background-color: #d4ebff;}#sk-container-id-5 input.sk-hidden--visually {border: 0;clip: rect(1px 1px 1px 1px);clip: rect(1px, 1px, 1px, 1px);height: 1px;margin: -1px;overflow: hidden;padding: 0;position: absolute;width: 1px;}#sk-container-id-5 div.sk-estimator {font-family: monospace;background-color: #f0f8ff;border: 1px dotted black;border-radius: 0.25em;box-sizing: border-box;margin-bottom: 0.5em;}#sk-container-id-5 div.sk-estimator:hover {background-color: #d4ebff;}#sk-container-id-5 div.sk-parallel-item::after {content: \"\";width: 100%;border-bottom: 1px solid gray;flex-grow: 1;}#sk-container-id-5 div.sk-label:hover label.sk-toggleable__label {background-color: #d4ebff;}#sk-container-id-5 div.sk-serial::before {content: \"\";position: absolute;border-left: 1px solid gray;box-sizing: border-box;top: 0;bottom: 0;left: 50%;z-index: 0;}#sk-container-id-5 div.sk-serial {display: flex;flex-direction: column;align-items: center;background-color: white;padding-right: 0.2em;padding-left: 0.2em;position: relative;}#sk-container-id-5 div.sk-item {position: relative;z-index: 1;}#sk-container-id-5 div.sk-parallel {display: flex;align-items: stretch;justify-content: center;background-color: white;position: relative;}#sk-container-id-5 div.sk-item::before, #sk-container-id-5 div.sk-parallel-item::before {content: \"\";position: absolute;border-left: 1px solid gray;box-sizing: border-box;top: 0;bottom: 0;left: 50%;z-index: -1;}#sk-container-id-5 div.sk-parallel-item {display: flex;flex-direction: column;z-index: 1;position: relative;background-color: white;}#sk-container-id-5 div.sk-parallel-item:first-child::after {align-self: flex-end;width: 50%;}#sk-container-id-5 div.sk-parallel-item:last-child::after {align-self: flex-start;width: 50%;}#sk-container-id-5 div.sk-parallel-item:only-child::after {width: 0;}#sk-container-id-5 div.sk-dashed-wrapped {border: 1px dashed gray;margin: 0 0.4em 0.5em 0.4em;box-sizing: border-box;padding-bottom: 0.4em;background-color: white;}#sk-container-id-5 div.sk-label label {font-family: monospace;font-weight: bold;display: inline-block;line-height: 1.2em;}#sk-container-id-5 div.sk-label-container {text-align: center;}#sk-container-id-5 div.sk-container {/* jupyter's `normalize.less` sets `[hidden] { display: none; }` but bootstrap.min.css set `[hidden] { display: none !important; }` so we also need the `!important` here to be able to override the default hidden behavior on the sphinx rendered scikit-learn.org. See: https://github.com/scikit-learn/scikit-learn/issues/21755 */display: inline-block !important;position: relative;}#sk-container-id-5 div.sk-text-repr-fallback {display: none;}</style><div id=\"sk-container-id-5\" class=\"sk-top-container\"><div class=\"sk-text-repr-fallback\"><pre>Pipeline(steps=[(&#x27;XGBoost&#x27;,\n",
       "                 XGBRegressor(base_score=0.5, booster=&#x27;gbtree&#x27;,\n",
       "                              colsample_bylevel=1, colsample_bynode=1,\n",
       "                              colsample_bytree=1, enable_categorical=False,\n",
       "                              gamma=0, gpu_id=-1, importance_type=None,\n",
       "                              interaction_constraints=&#x27;&#x27;,\n",
       "                              learning_rate=0.300000012, max_delta_step=0,\n",
       "                              max_depth=6, min_child_weight=1, missing=nan,\n",
       "                              monotone_constraints=&#x27;()&#x27;, n_estimators=100,\n",
       "                              n_jobs=8, num_parallel_tree=1, predictor=&#x27;auto&#x27;,\n",
       "                              random_state=0, reg_alpha=0, reg_lambda=1,\n",
       "                              scale_pos_weight=1, subsample=1,\n",
       "                              tree_method=&#x27;exact&#x27;, validate_parameters=1,\n",
       "                              verbosity=None))])</pre><b>In a Jupyter environment, please rerun this cell to show the HTML representation or trust the notebook. <br />On GitHub, the HTML representation is unable to render, please try loading this page with nbviewer.org.</b></div><div class=\"sk-container\" hidden><div class=\"sk-item sk-dashed-wrapped\"><div class=\"sk-label-container\"><div class=\"sk-label sk-toggleable\"><input class=\"sk-toggleable__control sk-hidden--visually\" id=\"sk-estimator-id-16\" type=\"checkbox\" ><label for=\"sk-estimator-id-16\" class=\"sk-toggleable__label sk-toggleable__label-arrow\">Pipeline</label><div class=\"sk-toggleable__content\"><pre>Pipeline(steps=[(&#x27;XGBoost&#x27;,\n",
       "                 XGBRegressor(base_score=0.5, booster=&#x27;gbtree&#x27;,\n",
       "                              colsample_bylevel=1, colsample_bynode=1,\n",
       "                              colsample_bytree=1, enable_categorical=False,\n",
       "                              gamma=0, gpu_id=-1, importance_type=None,\n",
       "                              interaction_constraints=&#x27;&#x27;,\n",
       "                              learning_rate=0.300000012, max_delta_step=0,\n",
       "                              max_depth=6, min_child_weight=1, missing=nan,\n",
       "                              monotone_constraints=&#x27;()&#x27;, n_estimators=100,\n",
       "                              n_jobs=8, num_parallel_tree=1, predictor=&#x27;auto&#x27;,\n",
       "                              random_state=0, reg_alpha=0, reg_lambda=1,\n",
       "                              scale_pos_weight=1, subsample=1,\n",
       "                              tree_method=&#x27;exact&#x27;, validate_parameters=1,\n",
       "                              verbosity=None))])</pre></div></div></div><div class=\"sk-serial\"><div class=\"sk-item\"><div class=\"sk-estimator sk-toggleable\"><input class=\"sk-toggleable__control sk-hidden--visually\" id=\"sk-estimator-id-17\" type=\"checkbox\" ><label for=\"sk-estimator-id-17\" class=\"sk-toggleable__label sk-toggleable__label-arrow\">XGBRegressor</label><div class=\"sk-toggleable__content\"><pre>XGBRegressor(base_score=0.5, booster=&#x27;gbtree&#x27;, colsample_bylevel=1,\n",
       "             colsample_bynode=1, colsample_bytree=1, enable_categorical=False,\n",
       "             gamma=0, gpu_id=-1, importance_type=None,\n",
       "             interaction_constraints=&#x27;&#x27;, learning_rate=0.300000012,\n",
       "             max_delta_step=0, max_depth=6, min_child_weight=1, missing=nan,\n",
       "             monotone_constraints=&#x27;()&#x27;, n_estimators=100, n_jobs=8,\n",
       "             num_parallel_tree=1, predictor=&#x27;auto&#x27;, random_state=0, reg_alpha=0,\n",
       "             reg_lambda=1, scale_pos_weight=1, subsample=1, tree_method=&#x27;exact&#x27;,\n",
       "             validate_parameters=1, verbosity=None)</pre></div></div></div></div></div></div></div>"
      ],
      "text/plain": [
       "Pipeline(steps=[('XGBoost',\n",
       "                 XGBRegressor(base_score=0.5, booster='gbtree',\n",
       "                              colsample_bylevel=1, colsample_bynode=1,\n",
       "                              colsample_bytree=1, enable_categorical=False,\n",
       "                              gamma=0, gpu_id=-1, importance_type=None,\n",
       "                              interaction_constraints='',\n",
       "                              learning_rate=0.300000012, max_delta_step=0,\n",
       "                              max_depth=6, min_child_weight=1, missing=nan,\n",
       "                              monotone_constraints='()', n_estimators=100,\n",
       "                              n_jobs=8, num_parallel_tree=1, predictor='auto',\n",
       "                              random_state=0, reg_alpha=0, reg_lambda=1,\n",
       "                              scale_pos_weight=1, subsample=1,\n",
       "                              tree_method='exact', validate_parameters=1,\n",
       "                              verbosity=None))])"
      ]
     },
     "execution_count": 75,
     "metadata": {},
     "output_type": "execute_result"
    }
   ],
   "source": [
    "# Let's find features for some decent defaults\n",
    "estimator = XGBRegressor()\n",
    "\n",
    "xgb_training_pipeline_init = Pipeline([\n",
    "    ('XGBoost', XGBRegressor())\n",
    "])\n",
    "\n",
    "xgb_training_pipeline_init.fit(X_train_prepared, y_train)"
   ]
  },
  {
   "cell_type": "markdown",
   "metadata": {},
   "source": [
    "#### 3.2.3 Model Tuning"
   ]
  },
  {
   "cell_type": "code",
   "execution_count": 76,
   "metadata": {},
   "outputs": [
    {
     "data": {
      "text/plain": [
       "<AxesSubplot:>"
      ]
     },
     "execution_count": 76,
     "metadata": {},
     "output_type": "execute_result"
    },
    {
     "data": {
      "image/png": "[encoded data removed]",
      "text/plain": [
       "<Figure size 640x480 with 1 Axes>"
      ]
     },
     "metadata": {},
     "output_type": "display_data"
    }
   ],
   "source": [
    "# Understanding the Feature Importance\n",
    "%matplotlib inline\n",
    "imp = pd.DataFrame(\n",
    "    {'importance': xgb_training_pipeline_init['XGBoost'].feature_importances_}\n",
    ")\n",
    "\n",
    "imp.index = X_train_prepared.columns\n",
    "\n",
    "imp.sort_values('importance', inplace=True)\n",
    "\n",
    "imp.plot(kind='barh')"
   ]
  },
  {
   "cell_type": "markdown",
   "metadata": {},
   "source": [
    "##### Pipeline build based on new importance features"
   ]
  },
  {
   "cell_type": "code",
   "execution_count": 77,
   "metadata": {},
   "outputs": [
    {
     "data": {
      "text/html": [
       "<style>#sk-container-id-6 {color: black;background-color: white;}#sk-container-id-6 pre{padding: 0;}#sk-container-id-6 div.sk-toggleable {background-color: white;}#sk-container-id-6 label.sk-toggleable__label {cursor: pointer;display: block;width: 100%;margin-bottom: 0;padding: 0.3em;box-sizing: border-box;text-align: center;}#sk-container-id-6 label.sk-toggleable__label-arrow:before {content: \"▸\";float: left;margin-right: 0.25em;color: #696969;}#sk-container-id-6 label.sk-toggleable__label-arrow:hover:before {color: black;}#sk-container-id-6 div.sk-estimator:hover label.sk-toggleable__label-arrow:before {color: black;}#sk-container-id-6 div.sk-toggleable__content {max-height: 0;max-width: 0;overflow: hidden;text-align: left;background-color: #f0f8ff;}#sk-container-id-6 div.sk-toggleable__content pre {margin: 0.2em;color: black;border-radius: 0.25em;background-color: #f0f8ff;}#sk-container-id-6 input.sk-toggleable__control:checked~div.sk-toggleable__content {max-height: 200px;max-width: 100%;overflow: auto;}#sk-container-id-6 input.sk-toggleable__control:checked~label.sk-toggleable__label-arrow:before {content: \"▾\";}#sk-container-id-6 div.sk-estimator input.sk-toggleable__control:checked~label.sk-toggleable__label {background-color: #d4ebff;}#sk-container-id-6 div.sk-label input.sk-toggleable__control:checked~label.sk-toggleable__label {background-color: #d4ebff;}#sk-container-id-6 input.sk-hidden--visually {border: 0;clip: rect(1px 1px 1px 1px);clip: rect(1px, 1px, 1px, 1px);height: 1px;margin: -1px;overflow: hidden;padding: 0;position: absolute;width: 1px;}#sk-container-id-6 div.sk-estimator {font-family: monospace;background-color: #f0f8ff;border: 1px dotted black;border-radius: 0.25em;box-sizing: border-box;margin-bottom: 0.5em;}#sk-container-id-6 div.sk-estimator:hover {background-color: #d4ebff;}#sk-container-id-6 div.sk-parallel-item::after {content: \"\";width: 100%;border-bottom: 1px solid gray;flex-grow: 1;}#sk-container-id-6 div.sk-label:hover label.sk-toggleable__label {background-color: #d4ebff;}#sk-container-id-6 div.sk-serial::before {content: \"\";position: absolute;border-left: 1px solid gray;box-sizing: border-box;top: 0;bottom: 0;left: 50%;z-index: 0;}#sk-container-id-6 div.sk-serial {display: flex;flex-direction: column;align-items: center;background-color: white;padding-right: 0.2em;padding-left: 0.2em;position: relative;}#sk-container-id-6 div.sk-item {position: relative;z-index: 1;}#sk-container-id-6 div.sk-parallel {display: flex;align-items: stretch;justify-content: center;background-color: white;position: relative;}#sk-container-id-6 div.sk-item::before, #sk-container-id-6 div.sk-parallel-item::before {content: \"\";position: absolute;border-left: 1px solid gray;box-sizing: border-box;top: 0;bottom: 0;left: 50%;z-index: -1;}#sk-container-id-6 div.sk-parallel-item {display: flex;flex-direction: column;z-index: 1;position: relative;background-color: white;}#sk-container-id-6 div.sk-parallel-item:first-child::after {align-self: flex-end;width: 50%;}#sk-container-id-6 div.sk-parallel-item:last-child::after {align-self: flex-start;width: 50%;}#sk-container-id-6 div.sk-parallel-item:only-child::after {width: 0;}#sk-container-id-6 div.sk-dashed-wrapped {border: 1px dashed gray;margin: 0 0.4em 0.5em 0.4em;box-sizing: border-box;padding-bottom: 0.4em;background-color: white;}#sk-container-id-6 div.sk-label label {font-family: monospace;font-weight: bold;display: inline-block;line-height: 1.2em;}#sk-container-id-6 div.sk-label-container {text-align: center;}#sk-container-id-6 div.sk-container {/* jupyter's `normalize.less` sets `[hidden] { display: none; }` but bootstrap.min.css set `[hidden] { display: none !important; }` so we also need the `!important` here to be able to override the default hidden behavior on the sphinx rendered scikit-learn.org. See: https://github.com/scikit-learn/scikit-learn/issues/21755 */display: inline-block !important;position: relative;}#sk-container-id-6 div.sk-text-repr-fallback {display: none;}</style><div id=\"sk-container-id-6\" class=\"sk-top-container\"><div class=\"sk-text-repr-fallback\"><pre>Pipeline(steps=[(&#x27;&#x27;,\n",
       "                 FunctionTransformer(func=&lt;function _custom_data_transform at 0x7f50a8ab1750&gt;,\n",
       "                                     kw_args={&#x27;cols_to_keep&#x27;: [&#x27;theme_name_low_carb&#x27;,\n",
       "                                                               &#x27;theme_name_soy_foods&#x27;,\n",
       "                                                               &#x27;theme_name_salmon&#x27;,\n",
       "                                                               &#x27;theme_name_no_additives_preservatives&#x27;]})),\n",
       "                (&#x27;XGBoost&#x27;,\n",
       "                 XGBRegressor(base_score=None, booster=None,\n",
       "                              colsample_bylevel=None, colsample_bynode=None,\n",
       "                              colsample_bytree=None, en...\n",
       "                              interaction_constraints=None, learning_rate=None,\n",
       "                              max_delta_step=None, max_depth=None,\n",
       "                              min_child_weight=None, missing=nan,\n",
       "                              monotone_constraints=None, n_estimators=100,\n",
       "                              n_jobs=None, num_parallel_tree=None,\n",
       "                              predictor=None, random_state=None, reg_alpha=None,\n",
       "                              reg_lambda=None, scale_pos_weight=None,\n",
       "                              subsample=None, tree_method=None,\n",
       "                              validate_parameters=None, verbosity=None))])</pre><b>In a Jupyter environment, please rerun this cell to show the HTML representation or trust the notebook. <br />On GitHub, the HTML representation is unable to render, please try loading this page with nbviewer.org.</b></div><div class=\"sk-container\" hidden><div class=\"sk-item sk-dashed-wrapped\"><div class=\"sk-label-container\"><div class=\"sk-label sk-toggleable\"><input class=\"sk-toggleable__control sk-hidden--visually\" id=\"sk-estimator-id-18\" type=\"checkbox\" ><label for=\"sk-estimator-id-18\" class=\"sk-toggleable__label sk-toggleable__label-arrow\">Pipeline</label><div class=\"sk-toggleable__content\"><pre>Pipeline(steps=[(&#x27;&#x27;,\n",
       "                 FunctionTransformer(func=&lt;function _custom_data_transform at 0x7f50a8ab1750&gt;,\n",
       "                                     kw_args={&#x27;cols_to_keep&#x27;: [&#x27;theme_name_low_carb&#x27;,\n",
       "                                                               &#x27;theme_name_soy_foods&#x27;,\n",
       "                                                               &#x27;theme_name_salmon&#x27;,\n",
       "                                                               &#x27;theme_name_no_additives_preservatives&#x27;]})),\n",
       "                (&#x27;XGBoost&#x27;,\n",
       "                 XGBRegressor(base_score=None, booster=None,\n",
       "                              colsample_bylevel=None, colsample_bynode=None,\n",
       "                              colsample_bytree=None, en...\n",
       "                              interaction_constraints=None, learning_rate=None,\n",
       "                              max_delta_step=None, max_depth=None,\n",
       "                              min_child_weight=None, missing=nan,\n",
       "                              monotone_constraints=None, n_estimators=100,\n",
       "                              n_jobs=None, num_parallel_tree=None,\n",
       "                              predictor=None, random_state=None, reg_alpha=None,\n",
       "                              reg_lambda=None, scale_pos_weight=None,\n",
       "                              subsample=None, tree_method=None,\n",
       "                              validate_parameters=None, verbosity=None))])</pre></div></div></div><div class=\"sk-serial\"><div class=\"sk-item\"><div class=\"sk-estimator sk-toggleable\"><input class=\"sk-toggleable__control sk-hidden--visually\" id=\"sk-estimator-id-19\" type=\"checkbox\" ><label for=\"sk-estimator-id-19\" class=\"sk-toggleable__label sk-toggleable__label-arrow\">FunctionTransformer</label><div class=\"sk-toggleable__content\"><pre>FunctionTransformer(func=&lt;function _custom_data_transform at 0x7f50a8ab1750&gt;,\n",
       "                    kw_args={&#x27;cols_to_keep&#x27;: [&#x27;theme_name_low_carb&#x27;,\n",
       "                                              &#x27;theme_name_soy_foods&#x27;,\n",
       "                                              &#x27;theme_name_salmon&#x27;,\n",
       "                                              &#x27;theme_name_no_additives_preservatives&#x27;]})</pre></div></div></div><div class=\"sk-item\"><div class=\"sk-estimator sk-toggleable\"><input class=\"sk-toggleable__control sk-hidden--visually\" id=\"sk-estimator-id-20\" type=\"checkbox\" ><label for=\"sk-estimator-id-20\" class=\"sk-toggleable__label sk-toggleable__label-arrow\">XGBRegressor</label><div class=\"sk-toggleable__content\"><pre>XGBRegressor(base_score=None, booster=None, colsample_bylevel=None,\n",
       "             colsample_bynode=None, colsample_bytree=None,\n",
       "             enable_categorical=False, gamma=None, gpu_id=None,\n",
       "             importance_type=None, interaction_constraints=None,\n",
       "             learning_rate=None, max_delta_step=None, max_depth=None,\n",
       "             min_child_weight=None, missing=nan, monotone_constraints=None,\n",
       "             n_estimators=100, n_jobs=None, num_parallel_tree=None,\n",
       "             predictor=None, random_state=None, reg_alpha=None, reg_lambda=None,\n",
       "             scale_pos_weight=None, subsample=None, tree_method=None,\n",
       "             validate_parameters=None, verbosity=None)</pre></div></div></div></div></div></div></div>"
      ],
      "text/plain": [
       "Pipeline(steps=[('',\n",
       "                 FunctionTransformer(func=<function _custom_data_transform at 0x7f50a8ab1750>,\n",
       "                                     kw_args={'cols_to_keep': ['theme_name_low_carb',\n",
       "                                                               'theme_name_soy_foods',\n",
       "                                                               'theme_name_salmon',\n",
       "                                                               'theme_name_no_additives_preservatives']})),\n",
       "                ('XGBoost',\n",
       "                 XGBRegressor(base_score=None, booster=None,\n",
       "                              colsample_bylevel=None, colsample_bynode=None,\n",
       "                              colsample_bytree=None, en...\n",
       "                              interaction_constraints=None, learning_rate=None,\n",
       "                              max_delta_step=None, max_depth=None,\n",
       "                              min_child_weight=None, missing=nan,\n",
       "                              monotone_constraints=None, n_estimators=100,\n",
       "                              n_jobs=None, num_parallel_tree=None,\n",
       "                              predictor=None, random_state=None, reg_alpha=None,\n",
       "                              reg_lambda=None, scale_pos_weight=None,\n",
       "                              subsample=None, tree_method=None,\n",
       "                              validate_parameters=None, verbosity=None))])"
      ]
     },
     "execution_count": 77,
     "metadata": {},
     "output_type": "execute_result"
    }
   ],
   "source": [
    "# Let's find features for some decent defaults\n",
    "imp_features = [\n",
    "    \"theme_name_low_carb\",\n",
    "    \"theme_name_soy_foods\",\n",
    "    \"theme_name_salmon\",\n",
    "    \"theme_name_no_additives_preservatives\",\n",
    "]\n",
    "\n",
    "estimator = XGBRegressor()\n",
    "\n",
    "xgb_training_pipeline2 = Pipeline([\n",
    "    (\n",
    "        '',\n",
    "        FunctionTransformer(\n",
    "            _custom_data_transform,\n",
    "            kw_args={'cols_to_keep': imp_features}\n",
    "        )\n",
    "    ),\n",
    "    ('XGBoost', XGBRegressor())\n",
    "])\n",
    "\n",
    "xgb_training_pipeline2"
   ]
  },
  {
   "cell_type": "markdown",
   "metadata": {},
   "source": [
    "##### Grid search of the estimator"
   ]
  },
  {
   "cell_type": "code",
   "execution_count": 78,
   "metadata": {},
   "outputs": [
    {
     "name": "stdout",
     "output_type": "stream",
     "text": [
      "Fitting 2 folds for each of 1 candidates, totalling 2 fits\n"
     ]
    },
    {
     "name": "stderr",
     "output_type": "stream",
     "text": [
      "/home/naveen/miniconda3/envs/tamle_mod5-dev/lib/python3.10/site-packages/xgboost/compat.py:36: FutureWarning: pandas.Int64Index is deprecated and will be removed from pandas in a future version. Use pandas.Index with the appropriate dtype instead.\n",
      "  from pandas import MultiIndex, Int64Index\n",
      "/home/naveen/miniconda3/envs/tamle_mod5-dev/lib/python3.10/site-packages/xgboost/compat.py:36: FutureWarning: pandas.Int64Index is deprecated and will be removed from pandas in a future version. Use pandas.Index with the appropriate dtype instead.\n",
      "  from pandas import MultiIndex, Int64Index\n",
      "/home/naveen/miniconda3/envs/tamle_mod5-dev/lib/python3.10/site-packages/xgboost/data.py:262: FutureWarning: pandas.Int64Index is deprecated and will be removed from pandas in a future version. Use pandas.Index with the appropriate dtype instead.\n",
      "  elif isinstance(data.columns, (pd.Int64Index, pd.RangeIndex)):\n",
      "/home/naveen/miniconda3/envs/tamle_mod5-dev/lib/python3.10/site-packages/xgboost/data.py:262: FutureWarning: pandas.Int64Index is deprecated and will be removed from pandas in a future version. Use pandas.Index with the appropriate dtype instead.\n",
      "  elif isinstance(data.columns, (pd.Int64Index, pd.RangeIndex)):\n"
     ]
    },
    {
     "name": "stdout",
     "output_type": "stream",
     "text": [
      "=========================================================\n",
      "The best score: 0.9799968058346142\n",
      "=========================================================\n",
      "The best params {'gamma': 0.03, 'learning_rate': 0.1, 'max_depth': 3, 'min_child_weight': 6, 'n_estimators': 500}\n",
      "=========================================================\n"
     ]
    }
   ],
   "source": [
    "parameters = {\n",
    "   'gamma': [0.03],\n",
    "   'min_child_weight': [6],\n",
    "   'learning_rate': [0.1],\n",
    "   'max_depth': [3],\n",
    "   'n_estimators': [500], \n",
    "}\n",
    "   \n",
    "estimator = XGBRegressor()\n",
    "xgb_grid = GridSearchCV(\n",
    "   estimator,\n",
    "   parameters,\n",
    "   cv=2,\n",
    "   n_jobs=4,\n",
    "   verbose=True\n",
    ")\n",
    "\n",
    "xgb_grid.fit(X_train_prepared, y_train)\n",
    "\n",
    "print(\"=========================================================\")\n",
    "print(\"The best score:\", xgb_grid.best_score_)\n",
    "print(\"=========================================================\")\n",
    "print(\"The best params\", xgb_grid.best_params_)\n",
    "print(\"=========================================================\")"
   ]
  },
  {
   "cell_type": "markdown",
   "metadata": {},
   "source": [
    "##### Pipeline build using the best estimator"
   ]
  },
  {
   "cell_type": "code",
   "execution_count": 79,
   "metadata": {},
   "outputs": [
    {
     "data": {
      "text/html": [
       "<style>#sk-container-id-7 {color: black;background-color: white;}#sk-container-id-7 pre{padding: 0;}#sk-container-id-7 div.sk-toggleable {background-color: white;}#sk-container-id-7 label.sk-toggleable__label {cursor: pointer;display: block;width: 100%;margin-bottom: 0;padding: 0.3em;box-sizing: border-box;text-align: center;}#sk-container-id-7 label.sk-toggleable__label-arrow:before {content: \"▸\";float: left;margin-right: 0.25em;color: #696969;}#sk-container-id-7 label.sk-toggleable__label-arrow:hover:before {color: black;}#sk-container-id-7 div.sk-estimator:hover label.sk-toggleable__label-arrow:before {color: black;}#sk-container-id-7 div.sk-toggleable__content {max-height: 0;max-width: 0;overflow: hidden;text-align: left;background-color: #f0f8ff;}#sk-container-id-7 div.sk-toggleable__content pre {margin: 0.2em;color: black;border-radius: 0.25em;background-color: #f0f8ff;}#sk-container-id-7 input.sk-toggleable__control:checked~div.sk-toggleable__content {max-height: 200px;max-width: 100%;overflow: auto;}#sk-container-id-7 input.sk-toggleable__control:checked~label.sk-toggleable__label-arrow:before {content: \"▾\";}#sk-container-id-7 div.sk-estimator input.sk-toggleable__control:checked~label.sk-toggleable__label {background-color: #d4ebff;}#sk-container-id-7 div.sk-label input.sk-toggleable__control:checked~label.sk-toggleable__label {background-color: #d4ebff;}#sk-container-id-7 input.sk-hidden--visually {border: 0;clip: rect(1px 1px 1px 1px);clip: rect(1px, 1px, 1px, 1px);height: 1px;margin: -1px;overflow: hidden;padding: 0;position: absolute;width: 1px;}#sk-container-id-7 div.sk-estimator {font-family: monospace;background-color: #f0f8ff;border: 1px dotted black;border-radius: 0.25em;box-sizing: border-box;margin-bottom: 0.5em;}#sk-container-id-7 div.sk-estimator:hover {background-color: #d4ebff;}#sk-container-id-7 div.sk-parallel-item::after {content: \"\";width: 100%;border-bottom: 1px solid gray;flex-grow: 1;}#sk-container-id-7 div.sk-label:hover label.sk-toggleable__label {background-color: #d4ebff;}#sk-container-id-7 div.sk-serial::before {content: \"\";position: absolute;border-left: 1px solid gray;box-sizing: border-box;top: 0;bottom: 0;left: 50%;z-index: 0;}#sk-container-id-7 div.sk-serial {display: flex;flex-direction: column;align-items: center;background-color: white;padding-right: 0.2em;padding-left: 0.2em;position: relative;}#sk-container-id-7 div.sk-item {position: relative;z-index: 1;}#sk-container-id-7 div.sk-parallel {display: flex;align-items: stretch;justify-content: center;background-color: white;position: relative;}#sk-container-id-7 div.sk-item::before, #sk-container-id-7 div.sk-parallel-item::before {content: \"\";position: absolute;border-left: 1px solid gray;box-sizing: border-box;top: 0;bottom: 0;left: 50%;z-index: -1;}#sk-container-id-7 div.sk-parallel-item {display: flex;flex-direction: column;z-index: 1;position: relative;background-color: white;}#sk-container-id-7 div.sk-parallel-item:first-child::after {align-self: flex-end;width: 50%;}#sk-container-id-7 div.sk-parallel-item:last-child::after {align-self: flex-start;width: 50%;}#sk-container-id-7 div.sk-parallel-item:only-child::after {width: 0;}#sk-container-id-7 div.sk-dashed-wrapped {border: 1px dashed gray;margin: 0 0.4em 0.5em 0.4em;box-sizing: border-box;padding-bottom: 0.4em;background-color: white;}#sk-container-id-7 div.sk-label label {font-family: monospace;font-weight: bold;display: inline-block;line-height: 1.2em;}#sk-container-id-7 div.sk-label-container {text-align: center;}#sk-container-id-7 div.sk-container {/* jupyter's `normalize.less` sets `[hidden] { display: none; }` but bootstrap.min.css set `[hidden] { display: none !important; }` so we also need the `!important` here to be able to override the default hidden behavior on the sphinx rendered scikit-learn.org. See: https://github.com/scikit-learn/scikit-learn/issues/21755 */display: inline-block !important;position: relative;}#sk-container-id-7 div.sk-text-repr-fallback {display: none;}</style><div id=\"sk-container-id-7\" class=\"sk-top-container\"><div class=\"sk-text-repr-fallback\"><pre>Pipeline(steps=[(&#x27;&#x27;,\n",
       "                 FunctionTransformer(func=&lt;function _custom_data_transform at 0x7f50a8ab1750&gt;,\n",
       "                                     kw_args={&#x27;cols_to_keep&#x27;: [&#x27;theme_name_low_carb&#x27;,\n",
       "                                                               &#x27;theme_name_soy_foods&#x27;,\n",
       "                                                               &#x27;theme_name_salmon&#x27;,\n",
       "                                                               &#x27;theme_name_no_additives_preservatives&#x27;]})),\n",
       "                (&#x27;XGBoost&#x27;,\n",
       "                 XGBRegressor(base_score=0.5, booster=&#x27;gbtree&#x27;,\n",
       "                              colsample_bylevel=1, colsample_bynode=1,\n",
       "                              colsample_bytree=1, enable_c...\n",
       "                              gamma=0.03, gpu_id=-1, importance_type=None,\n",
       "                              interaction_constraints=&#x27;&#x27;, learning_rate=0.1,\n",
       "                              max_delta_step=0, max_depth=3, min_child_weight=6,\n",
       "                              missing=nan, monotone_constraints=&#x27;()&#x27;,\n",
       "                              n_estimators=500, n_jobs=8, num_parallel_tree=1,\n",
       "                              predictor=&#x27;auto&#x27;, random_state=0, reg_alpha=0,\n",
       "                              reg_lambda=1, scale_pos_weight=1, subsample=1,\n",
       "                              tree_method=&#x27;exact&#x27;, validate_parameters=1,\n",
       "                              verbosity=None))])</pre><b>In a Jupyter environment, please rerun this cell to show the HTML representation or trust the notebook. <br />On GitHub, the HTML representation is unable to render, please try loading this page with nbviewer.org.</b></div><div class=\"sk-container\" hidden><div class=\"sk-item sk-dashed-wrapped\"><div class=\"sk-label-container\"><div class=\"sk-label sk-toggleable\"><input class=\"sk-toggleable__control sk-hidden--visually\" id=\"sk-estimator-id-21\" type=\"checkbox\" ><label for=\"sk-estimator-id-21\" class=\"sk-toggleable__label sk-toggleable__label-arrow\">Pipeline</label><div class=\"sk-toggleable__content\"><pre>Pipeline(steps=[(&#x27;&#x27;,\n",
       "                 FunctionTransformer(func=&lt;function _custom_data_transform at 0x7f50a8ab1750&gt;,\n",
       "                                     kw_args={&#x27;cols_to_keep&#x27;: [&#x27;theme_name_low_carb&#x27;,\n",
       "                                                               &#x27;theme_name_soy_foods&#x27;,\n",
       "                                                               &#x27;theme_name_salmon&#x27;,\n",
       "                                                               &#x27;theme_name_no_additives_preservatives&#x27;]})),\n",
       "                (&#x27;XGBoost&#x27;,\n",
       "                 XGBRegressor(base_score=0.5, booster=&#x27;gbtree&#x27;,\n",
       "                              colsample_bylevel=1, colsample_bynode=1,\n",
       "                              colsample_bytree=1, enable_c...\n",
       "                              gamma=0.03, gpu_id=-1, importance_type=None,\n",
       "                              interaction_constraints=&#x27;&#x27;, learning_rate=0.1,\n",
       "                              max_delta_step=0, max_depth=3, min_child_weight=6,\n",
       "                              missing=nan, monotone_constraints=&#x27;()&#x27;,\n",
       "                              n_estimators=500, n_jobs=8, num_parallel_tree=1,\n",
       "                              predictor=&#x27;auto&#x27;, random_state=0, reg_alpha=0,\n",
       "                              reg_lambda=1, scale_pos_weight=1, subsample=1,\n",
       "                              tree_method=&#x27;exact&#x27;, validate_parameters=1,\n",
       "                              verbosity=None))])</pre></div></div></div><div class=\"sk-serial\"><div class=\"sk-item\"><div class=\"sk-estimator sk-toggleable\"><input class=\"sk-toggleable__control sk-hidden--visually\" id=\"sk-estimator-id-22\" type=\"checkbox\" ><label for=\"sk-estimator-id-22\" class=\"sk-toggleable__label sk-toggleable__label-arrow\">FunctionTransformer</label><div class=\"sk-toggleable__content\"><pre>FunctionTransformer(func=&lt;function _custom_data_transform at 0x7f50a8ab1750&gt;,\n",
       "                    kw_args={&#x27;cols_to_keep&#x27;: [&#x27;theme_name_low_carb&#x27;,\n",
       "                                              &#x27;theme_name_soy_foods&#x27;,\n",
       "                                              &#x27;theme_name_salmon&#x27;,\n",
       "                                              &#x27;theme_name_no_additives_preservatives&#x27;]})</pre></div></div></div><div class=\"sk-item\"><div class=\"sk-estimator sk-toggleable\"><input class=\"sk-toggleable__control sk-hidden--visually\" id=\"sk-estimator-id-23\" type=\"checkbox\" ><label for=\"sk-estimator-id-23\" class=\"sk-toggleable__label sk-toggleable__label-arrow\">XGBRegressor</label><div class=\"sk-toggleable__content\"><pre>XGBRegressor(base_score=0.5, booster=&#x27;gbtree&#x27;, colsample_bylevel=1,\n",
       "             colsample_bynode=1, colsample_bytree=1, enable_categorical=False,\n",
       "             gamma=0.03, gpu_id=-1, importance_type=None,\n",
       "             interaction_constraints=&#x27;&#x27;, learning_rate=0.1, max_delta_step=0,\n",
       "             max_depth=3, min_child_weight=6, missing=nan,\n",
       "             monotone_constraints=&#x27;()&#x27;, n_estimators=500, n_jobs=8,\n",
       "             num_parallel_tree=1, predictor=&#x27;auto&#x27;, random_state=0, reg_alpha=0,\n",
       "             reg_lambda=1, scale_pos_weight=1, subsample=1, tree_method=&#x27;exact&#x27;,\n",
       "             validate_parameters=1, verbosity=None)</pre></div></div></div></div></div></div></div>"
      ],
      "text/plain": [
       "Pipeline(steps=[('',\n",
       "                 FunctionTransformer(func=<function _custom_data_transform at 0x7f50a8ab1750>,\n",
       "                                     kw_args={'cols_to_keep': ['theme_name_low_carb',\n",
       "                                                               'theme_name_soy_foods',\n",
       "                                                               'theme_name_salmon',\n",
       "                                                               'theme_name_no_additives_preservatives']})),\n",
       "                ('XGBoost',\n",
       "                 XGBRegressor(base_score=0.5, booster='gbtree',\n",
       "                              colsample_bylevel=1, colsample_bynode=1,\n",
       "                              colsample_bytree=1, enable_c...\n",
       "                              gamma=0.03, gpu_id=-1, importance_type=None,\n",
       "                              interaction_constraints='', learning_rate=0.1,\n",
       "                              max_delta_step=0, max_depth=3, min_child_weight=6,\n",
       "                              missing=nan, monotone_constraints='()',\n",
       "                              n_estimators=500, n_jobs=8, num_parallel_tree=1,\n",
       "                              predictor='auto', random_state=0, reg_alpha=0,\n",
       "                              reg_lambda=1, scale_pos_weight=1, subsample=1,\n",
       "                              tree_method='exact', validate_parameters=1,\n",
       "                              verbosity=None))])"
      ]
     },
     "execution_count": 79,
     "metadata": {},
     "output_type": "execute_result"
    }
   ],
   "source": [
    "xgb_pipeline_final = Pipeline([\n",
    "    (\n",
    "        '',\n",
    "        FunctionTransformer(\n",
    "            _custom_data_transform,\n",
    "            kw_args={'cols_to_keep': imp_features}\n",
    "        )\n",
    "    ),\n",
    "    ('XGBoost', xgb_grid.best_estimator_)\n",
    "])\n",
    "\n",
    "xgb_pipeline_final.fit(X_train_prepared, y_train)"
   ]
  },
  {
   "cell_type": "code",
   "execution_count": 80,
   "metadata": {},
   "outputs": [],
   "source": [
    "reg_tree_report = RegressionReport(\n",
    "    model=xgb_pipeline_final,\n",
    "    x_train=X_train_prepared,\n",
    "    y_train=y_train,\n",
    "    x_test= X_test_prepared,\n",
    "    y_test= y_test\n",
    ")\n",
    "\n",
    "reg_tree_report.get_report(\n",
    "    include_shap=False,\n",
    "    file_path='regression-tree-model-report'\n",
    ")"
   ]
  },
  {
   "cell_type": "markdown",
   "metadata": {},
   "source": [
    "## 4. Model Comparison"
   ]
  },
  {
   "cell_type": "markdown",
   "metadata": {},
   "source": [
    "Now, a comparison report of the  Linear (vs) Tree-based model  approach can be generated as follows:\n",
    "\n",
    "**NOTE:** This code will NOT be part of the production code."
   ]
  },
  {
   "cell_type": "code",
   "execution_count": 81,
   "metadata": {},
   "outputs": [
    {
     "data": {
      "text/plain": [
       "<tigerml.model_eval.comparison.RegressionComparison at 0x7f5098de8d30>"
      ]
     },
     "execution_count": 81,
     "metadata": {},
     "output_type": "execute_result"
    }
   ],
   "source": [
    "model_pipelines = [regression_pipeline, xgb_pipeline_final]\n",
    "\n",
    "model_comparison_report = RegressionComparison(\n",
    "    models=model_pipelines,\n",
    "    x=X_train_prepared,\n",
    "    y=y_train.values.ravel(),\n",
    "    refit=True\n",
    ")\n",
    "\n",
    "model_comparison_report"
   ]
  },
  {
   "cell_type": "code",
   "execution_count": 82,
   "metadata": {},
   "outputs": [
    {
     "name": "stdout",
     "output_type": "stream",
     "text": [
      "SHAP values (2095, 23)\n",
      "SHAP values (2095, 4)\n"
     ]
    }
   ],
   "source": [
    "metrics = model_comparison_report.get_report(file_path='regression-comparison')"
   ]
  },
  {
   "cell_type": "code",
   "execution_count": 83,
   "metadata": {},
   "outputs": [
    {
     "data": {
      "text/html": [
       "<div>\n",
       "<style scoped>\n",
       "    .dataframe tbody tr th:only-of-type {\n",
       "        vertical-align: middle;\n",
       "    }\n",
       "\n",
       "    .dataframe tbody tr th {\n",
       "        vertical-align: top;\n",
       "    }\n",
       "\n",
       "    .dataframe thead th {\n",
       "        text-align: right;\n",
       "    }\n",
       "</style>\n",
       "<table border=\"1\" class=\"dataframe\">\n",
       "  <thead>\n",
       "    <tr style=\"text-align: right;\">\n",
       "      <th>metric</th>\n",
       "      <th>MAPE</th>\n",
       "      <th>WMAPE</th>\n",
       "      <th>MAE</th>\n",
       "      <th>RMSE</th>\n",
       "      <th>R^2</th>\n",
       "    </tr>\n",
       "  </thead>\n",
       "  <tbody>\n",
       "    <tr>\n",
       "      <th>, Linear Regression</th>\n",
       "      <td>6.3709</td>\n",
       "      <td>0.0864</td>\n",
       "      <td>223095.9732</td>\n",
       "      <td>4.538022e+05</td>\n",
       "      <td>0.9860</td>\n",
       "    </tr>\n",
       "    <tr>\n",
       "      <th>, XGBoost</th>\n",
       "      <td>417.0136</td>\n",
       "      <td>0.3004</td>\n",
       "      <td>775354.9052</td>\n",
       "      <td>1.021229e+06</td>\n",
       "      <td>0.9292</td>\n",
       "    </tr>\n",
       "  </tbody>\n",
       "</table>\n",
       "</div>"
      ],
      "text/plain": [
       "metric                   MAPE   WMAPE          MAE          RMSE     R^2\n",
       ", Linear Regression    6.3709  0.0864  223095.9732  4.538022e+05  0.9860\n",
       ", XGBoost            417.0136  0.3004  775354.9052  1.021229e+06  0.9292"
      ]
     },
     "execution_count": 83,
     "metadata": {},
     "output_type": "execute_result"
    }
   ],
   "source": [
    "model_comparison_report.performance_metrics"
   ]
  },
  {
   "cell_type": "markdown",
   "metadata": {},
   "source": [
    "**NOTES:** The above metrics are absolute numbers and not percentages."
   ]
  },
  {
   "cell_type": "markdown",
   "metadata": {},
   "source": [
    "## <p align=\"center\">The End</p>\n",
    "\n",
    "---"
   ]
  }
 ],
 "metadata": {
  "kernelspec": {
   "display_name": "Python 3 (ipykernel)",
   "language": "python",
   "name": "python3"
  },
  "language_info": {
   "codemirror_mode": {
    "name": "ipython",
    "version": 3
   },
   "file_extension": ".py",
   "mimetype": "text/x-python",
   "name": "python",
   "nbconvert_exporter": "python",
   "pygments_lexer": "ipython3",
   "version": "3.10.14"
  }
 },
 "nbformat": 4,
 "nbformat_minor": 4
}
