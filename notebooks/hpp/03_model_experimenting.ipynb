{
 "cells": [
  {
   "attachments": {},
   "cell_type": "markdown",
   "id": "5fa378d9-0267-4530-90c7-30ae164584a3",
   "metadata": {},
   "source": [
    "# Purpose"
   ]
  },
  {
   "attachments": {},
   "cell_type": "markdown",
   "id": "ca38591d-921a-47ec-a8cc-be6d00fac59f",
   "metadata": {},
   "source": [
    "This notebook demonstrates the model experimentation and finalization. It covers EDA, outlier treatment, transformation, training, model evaluation and comparison across models."
   ]
  },
  {
   "attachments": {},
   "cell_type": "markdown",
   "id": "34a7a688-c999-4872-80be-aa77010c8d9b",
   "metadata": {},
   "source": [
    "## Imports"
   ]
  },
  {
   "cell_type": "code",
   "execution_count": 1,
   "id": "8cd5c83b-b33f-4e93-ac69-6169a9713b94",
   "metadata": {},
   "outputs": [
    {
     "name": "stdout",
     "output_type": "stream",
     "text": [
      "Requirement already satisfied: pandas==1.4.2 in /home/naveen/miniconda3/envs/tamle_mod5-dev/lib/python3.10/site-packages (1.4.2)\n",
      "Requirement already satisfied: python-dateutil>=2.8.1 in /home/naveen/miniconda3/envs/tamle_mod5-dev/lib/python3.10/site-packages (from pandas==1.4.2) (2.9.0.post0)\n",
      "Requirement already satisfied: pytz>=2020.1 in /home/naveen/miniconda3/envs/tamle_mod5-dev/lib/python3.10/site-packages (from pandas==1.4.2) (2024.1)\n",
      "Requirement already satisfied: numpy>=1.21.0 in /home/naveen/miniconda3/envs/tamle_mod5-dev/lib/python3.10/site-packages (from pandas==1.4.2) (1.22.4)\n",
      "Requirement already satisfied: six>=1.5 in /home/naveen/miniconda3/envs/tamle_mod5-dev/lib/python3.10/site-packages (from python-dateutil>=2.8.1->pandas==1.4.2) (1.16.0)\n"
     ]
    }
   ],
   "source": [
    "!pip install pandas==1.4.2"
   ]
  },
  {
   "cell_type": "code",
   "execution_count": 54,
   "id": "586d46ad-e1c4-44ad-8182-2e188e4fea13",
   "metadata": {},
   "outputs": [],
   "source": [
    "import os\n",
    "import os.path as op\n",
    "import shutil\n",
    "\n",
    "# standard third party imports\n",
    "import numpy as np\n",
    "import pandas as pd\n",
    "from matplotlib import pyplot as plt\n",
    "from sklearn.pipeline import Pipeline\n",
    "from sklearn.feature_selection import SelectFromModel\n",
    "from sklearn.model_selection import GridSearchCV\n",
    "from sklearn.preprocessing import FunctionTransformer\n",
    "from sklearn.compose import ColumnTransformer\n",
    "\n",
    "# impute missing values\n",
    "from sklearn.experimental import enable_iterative_imputer  # noqa\n",
    "from sklearn.impute import KNNImputer, IterativeImputer, SimpleImputer\n",
    "from sklearn.tree import DecisionTreeRegressor\n",
    "from category_encoders.one_hot import OneHotEncoder\n"
   ]
  },
  {
   "cell_type": "code",
   "execution_count": 55,
   "id": "1a4a29c1-b784-47dd-9366-a08f3b6b0ed4",
   "metadata": {},
   "outputs": [
    {
     "name": "stdout",
     "output_type": "stream",
     "text": [
      "The autoreload extension is already loaded. To reload it, use:\n",
      "  %reload_ext autoreload\n"
     ]
    }
   ],
   "source": [
    "%load_ext autoreload\n",
    "%autoreload 2"
   ]
  },
  {
   "cell_type": "code",
   "execution_count": 56,
   "id": "abcd7e35-02bf-4145-bad4-6c42616c6589",
   "metadata": {},
   "outputs": [],
   "source": [
    "import warnings\n",
    "from numba import NumbaDeprecationWarning\n",
    "\n",
    "warnings.filterwarnings(\n",
    "    \"ignore\",\n",
    "    message=\"pandas.Int64Index is deprecated and will be removed from pandas in a future version. Use pandas.Index with the appropriate dtype instead.\",\n",
    "    category=FutureWarning,\n",
    ")\n",
    "warnings.filterwarnings(\n",
    "    \"ignore\",\n",
    "    message=\"pandas.Float64Index is deprecated and will be removed from pandas in a future version. Use pandas.Index with the appropriate dtype instead.\",\n",
    "    category=FutureWarning,\n",
    ")\n",
    "warnings.filterwarnings(\"ignore\", category=NumbaDeprecationWarning)"
   ]
  },
  {
   "cell_type": "code",
   "execution_count": 57,
   "id": "b55b3cc2-abfb-47aa-831b-2df36ec48c4e",
   "metadata": {},
   "outputs": [],
   "source": [
    "# standard code-template imports\n",
    "from ta_lib.core.api import (\n",
    "    create_context, get_dataframe, get_feature_names_from_column_transformer, string_cleaning,\n",
    "    get_package_path, display_as_tabs, save_pipeline, load_pipeline, initialize_environment,\n",
    "    load_dataset, save_dataset, DEFAULT_ARTIFACTS_PATH\n",
    ")\n",
    "\n",
    "import ta_lib.eda.api as eda\n",
    "from xgboost import XGBRegressor\n",
    "from ta_lib.regression.api import SKLStatsmodelOLS\n",
    "from ta_lib.regression.api import RegressionComparison, RegressionReport\n",
    "import ta_lib.reports.api as reports\n",
    "from ta_lib.data_processing.api import Outlier\n",
    "\n",
    "initialize_environment(debug=False, hide_warnings=True)"
   ]
  },
  {
   "attachments": {},
   "cell_type": "markdown",
   "id": "ae11a725-e024-4789-819a-a1e4324b31ea",
   "metadata": {},
   "source": [
    "# Initialization"
   ]
  },
  {
   "cell_type": "code",
   "execution_count": 58,
   "id": "448a66f2-9132-4876-86fb-0c002572bca7",
   "metadata": {},
   "outputs": [],
   "source": [
    "artifacts_folder = DEFAULT_ARTIFACTS_PATH"
   ]
  },
  {
   "cell_type": "code",
   "execution_count": 59,
   "id": "61152d6c-2aec-45df-8aea-aaca7213183c",
   "metadata": {},
   "outputs": [],
   "source": [
    "config_path = op.join('conf', 'config.yml')\n",
    "context = create_context(config_path)"
   ]
  },
  {
   "attachments": {},
   "cell_type": "markdown",
   "id": "0cb5e922-b99a-4d18-bf69-bdd5844a9e6e",
   "metadata": {},
   "source": [
    "# 3 Feature Engineering\n",
    "\n",
    "The focus here is the `Pipeline` and not the model. Though the model would inform the pipeline that is needed to train the model, our focus is to set it up in such a way that it can be saved/loaded, tweaked for different model choices and so on."
   ]
  },
  {
   "attachments": {},
   "cell_type": "markdown",
   "id": "19efbe9d-b6e3-4a7d-8e52-7255b08cab5d",
   "metadata": {},
   "source": [
    "## 3.1 Read the Train and Test Data"
   ]
  },
  {
   "cell_type": "code",
   "execution_count": 62,
   "id": "dc520fd5-ce41-4aad-90d7-56e2f615e124",
   "metadata": {},
   "outputs": [
    {
     "name": "stdout",
     "output_type": "stream",
     "text": [
      "(16512, 12) (16512, 1)\n",
      "(4128, 12) (4128, 1)\n"
     ]
    }
   ],
   "source": [
    "train_X = load_dataset(context, 'train/housing/features')\n",
    "train_y = load_dataset(context, 'train/housing/target')\n",
    "print(train_X.shape, train_y.shape)\n",
    "\n",
    "test_X = load_dataset(context, 'test/housing/features')\n",
    "test_y = load_dataset(context, 'test/housing/target')\n",
    "print(test_X.shape, test_y.shape)"
   ]
  },
  {
   "cell_type": "markdown",
   "id": "4f362440-846e-4d46-8053-e55c5a979a71",
   "metadata": {},
   "source": [
    "## 3.2 Feature Engineering Pipelines\n"
   ]
  },
  {
   "cell_type": "code",
   "execution_count": 63,
   "id": "3c37f82a-966e-4e71-bbed-580f3d6aba2e",
   "metadata": {},
   "outputs": [
    {
     "data": {
      "text/plain": [
       "Index(['longitude', 'latitude', 'housing_median_age', 'total_rooms',\n",
       "       'population', 'households', 'median_income', 'ocean_proximity',\n",
       "       'income_cat', 'rooms_per_household', 'bedrooms_per_room',\n",
       "       'population_per_household'],\n",
       "      dtype='object')"
      ]
     },
     "execution_count": 63,
     "metadata": {},
     "output_type": "execute_result"
    }
   ],
   "source": [
    "test_X.columns"
   ]
  },
  {
   "cell_type": "markdown",
   "id": "3c9a3c11-6bf9-44be-ba86-75351ff975ec",
   "metadata": {},
   "source": [
    "**Dev NOTES**\n",
    "\n",
    "For Feature Engineering and Model Building sklearn.pipeline.Pipeline are leveraged because of the following advantages\n",
    "<details>\n",
    "    \n",
    "1. It helps in automating workflows and are easier to read and comprehend.\n",
    "2. Right Sequence can be ensured and (for example always encodes before imputing)\n",
    "3. Reproducibility is very convenient with pipelines\n",
    "4. Pipelines help you prevent data leakage in your test data\n",
    "5. Code is near implementation ready"
   ]
  },
  {
   "cell_type": "markdown",
   "id": "301d5345-7fcf-4d35-b31f-3658e753dd5d",
   "metadata": {},
   "source": [
    "#### General Steps in the Feature Transformation are as follows\n",
    " - Outlier Treatment\n",
    " - Encoding of Categorical Columns\n",
    " - Missing Values Imputation"
   ]
  },
  {
   "cell_type": "code",
   "execution_count": 65,
   "id": "06c345c3-6dbd-4661-b610-1cc77c0c054a",
   "metadata": {},
   "outputs": [],
   "source": [
    "# collecting different types of columns for transformations\n",
    "cat_columns = train_X.select_dtypes('object').columns\n",
    "num_columns = train_X.select_dtypes('number').columns"
   ]
  },
  {
   "cell_type": "code",
   "execution_count": 66,
   "id": "bfcdde72-5670-436f-9507-e06fb64f394c",
   "metadata": {},
   "outputs": [
    {
     "data": {
      "text/plain": [
       "Index(['ocean_proximity'], dtype='object')"
      ]
     },
     "execution_count": 66,
     "metadata": {},
     "output_type": "execute_result"
    }
   ],
   "source": [
    "cat_columns"
   ]
  },
  {
   "attachments": {},
   "cell_type": "markdown",
   "id": "88a1a51f-f64f-4de1-96f9-108b0cdf2ac1",
   "metadata": {},
   "source": [
    "#### Outlier Handling\n",
    "- A Custom Transformer is used to handle outliers. It is not included as part of the pipeline as outliers handling are optional for test data\n",
    "- An option to either drop or cap the outliers can be passed during the transform call\n",
    "- If we want to treat outliers for some columns them we can pass cols argument to the Transformer\n",
    "- This will go into production code"
   ]
  },
  {
   "cell_type": "code",
   "execution_count": 67,
   "id": "5c1efe13-2259-46fb-9780-e48c602edf0c",
   "metadata": {},
   "outputs": [
    {
     "name": "stdout",
     "output_type": "stream",
     "text": [
      "(16512, 12)\n",
      "(16512, 12)\n"
     ]
    }
   ],
   "source": [
    "outlier_transformer = Outlier(method='mean')\n",
    "print(train_X.shape)\n",
    "train_X = outlier_transformer.fit_transform(train_X)\n",
    "print(train_X.shape)"
   ]
  },
  {
   "cell_type": "markdown",
   "id": "4db4d103-6a14-4a75-ab7f-5d49adbd3131",
   "metadata": {},
   "source": [
    "#### Encoding\n"
   ]
  },
  {
   "cell_type": "markdown",
   "id": "9e531170-115d-404f-ab3d-c546fb90e316",
   "metadata": {},
   "source": [
    "Some sample pipelines showcasing how to create column specific pipelines and integrating them overall is presented below\n",
    "\n",
    "- Commonly target encoding is done for categorical variables with too many levels.\n",
    "- We also group sparse levels. For fewer levels one hot encoding/label encoding is preferred.\n",
    "- If there is one dominant level, we can use binary encoding.\n",
    "- This will go into production code"
   ]
  },
  {
   "cell_type": "code",
   "execution_count": 68,
   "id": "853eb0d6-0d78-469e-aaec-26e81273c9b4",
   "metadata": {
    "editable": true,
    "slideshow": {
     "slide_type": ""
    },
    "tags": []
   },
   "outputs": [],
   "source": [
    "tgt_enc_simple_impt = Pipeline([\n",
    "    ('one_hot_encoding', OneHotEncoder(return_df=False)),\n",
    "    ('simple_impute', SimpleImputer(strategy='most_frequent')),\n",
    "])\n",
    "\n",
    "\n",
    "# NOTE: the list of transformations here are not sequential but weighted \n",
    "# (if multiple transforms are specified for a particular column)\n",
    "# for sequential transforms use a pipeline as shown above.\n",
    "features_transformer = ColumnTransformer([\n",
    "    \n",
    "    ## categorical columns\n",
    "    ('ohe_enc', OneHotEncoder(return_df=False),\n",
    "     list(set(cat_columns))),\n",
    "    \n",
    "    ## numeric columns\n",
    "    ('med_enc', SimpleImputer(strategy='median'), num_columns),\n",
    "    \n",
    "])\n"
   ]
  },
  {
   "attachments": {},
   "cell_type": "markdown",
   "id": "2e08fe33-2b1b-4cfb-b55e-e0b1ba1af95e",
   "metadata": {},
   "source": [
    "**Dev notes(Encoding):**\n",
    "<details>\n",
    "\n",
    "    Some common practices followed in Categorical Feature Encoding are\n",
    "    * For categorical variables with too many levels, target encoding can be done.\n",
    "    * For fewer levels, one hot encoding can be done.\n",
    "    * If one very dominant level is observed, binary encoding can be used.\n",
    "    \n",
    "    \n",
    "</details>"
   ]
  },
  {
   "attachments": {},
   "cell_type": "markdown",
   "id": "d8a5aa15-0417-4422-a5f2-91c29cd07f4d",
   "metadata": {},
   "source": [
    "## 3.2 Feature analysis\n",
    "\n",
    "Using the pipeline above analyze the features and decide on additional features to add/remove from the pipeline. This section will not be part of the production code, unless input data drifts etc. are explicitly demanded in the project.\n",
    "\n",
    "Here we are primarily focused on feature selection/elimination based on business rules, prior knowledge, data analysis.\n",
    "\n",
    "**We are not building any models at this point.**\n"
   ]
  },
  {
   "attachments": {},
   "cell_type": "markdown",
   "id": "2f1b04b9-df27-47c3-9043-02e9de433f7b",
   "metadata": {},
   "source": [
    "- we create some sample data to analyze that we assume represent the population\n",
    "- train the features transformer and do the analysis as below"
   ]
  },
  {
   "cell_type": "code",
   "execution_count": 96,
   "id": "cbe35196-1feb-4325-910f-5bdac6c5e1e1",
   "metadata": {
    "editable": true,
    "slideshow": {
     "slide_type": ""
    },
    "tags": []
   },
   "outputs": [
    {
     "name": "stdout",
     "output_type": "stream",
     "text": [
      "       longitude  latitude  housing_median_age  total_rooms  population  \\\n",
      "11849    -122.41     37.80                30.0       1821.0      1648.0   \n",
      "10915    -117.97     33.79                33.0       3268.0      1704.0   \n",
      "3368     -117.10     32.67                26.0       2629.0      2721.0   \n",
      "3480     -117.95     33.78                32.0       2296.0      1376.0   \n",
      "8050     -121.15     38.80                20.0       2104.0       745.0   \n",
      "...          ...       ...                 ...          ...         ...   \n",
      "5232     -117.37     34.00                41.0       1248.0       770.0   \n",
      "2190     -121.65     37.12                14.0       4721.0      2648.0   \n",
      "5911     -117.85     33.62                18.0        729.0       316.0   \n",
      "9165     -122.28     37.52                38.0       2197.0      1228.0   \n",
      "8963     -117.14     33.94                 5.0       4873.0      1947.0   \n",
      "\n",
      "       households  median_income ocean_proximity  income_cat  \\\n",
      "11849       684.0       0.883600        NEAR BAY         1.0   \n",
      "10915       591.0       3.684900       <1H OCEAN         3.0   \n",
      "3368        767.0       2.098200      NEAR OCEAN         2.0   \n",
      "3480        532.0       3.730300       <1H OCEAN         3.0   \n",
      "8050        314.0       4.168500          INLAND         3.0   \n",
      "...           ...            ...             ...         ...   \n",
      "5232        250.0       3.025000          INLAND         3.0   \n",
      "2190        888.0       3.689500       <1H OCEAN         3.0   \n",
      "5911        108.0       9.574318       <1H OCEAN         5.0   \n",
      "9165        373.0       5.471900      NEAR OCEAN         4.0   \n",
      "8963        568.0       6.322300          INLAND         5.0   \n",
      "\n",
      "       rooms_per_household  bedrooms_per_room  population_per_household  \n",
      "11849             2.662281           0.387203                  2.409357  \n",
      "10915             5.529611           0.196144                  2.883249  \n",
      "3368              3.427640           0.290224                  3.547588  \n",
      "3480              4.315789           0.243902                  2.586466  \n",
      "8050              6.700637           0.175856                  2.372611  \n",
      "...                    ...                ...                       ...  \n",
      "5232              4.992000           0.222756                  3.080000  \n",
      "2190              5.316441           0.211608                  2.981982  \n",
      "5911              6.750000           0.144033                  2.925926  \n",
      "9165              5.890080           0.162494                  3.292225  \n",
      "8963              8.579225           0.131131                  3.427817  \n",
      "\n",
      "[1651 rows x 12 columns]        median_house_value\n",
      "11849            450000.0\n",
      "10915            211400.0\n",
      "3368             109100.0\n",
      "3480             188500.0\n",
      "8050             217500.0\n",
      "...                   ...\n",
      "5232              90600.0\n",
      "2190             239300.0\n",
      "5911             500001.0\n",
      "9165             397900.0\n",
      "8963             223200.0\n",
      "\n",
      "[1651 rows x 1 columns]\n"
     ]
    }
   ],
   "source": [
    "sample_X = train_X.sample(frac=0.1, random_state=context.random_seed)\n",
    "sample_y = train_y.loc[sample_X.index]\n",
    "print(sample_X, sample_y)\n",
    "\n",
    "sample_train_X = get_dataframe(\n",
    "    features_transformer.fit_transform(train_X[:5], train_y[:5]), \n",
    "    get_feature_names_from_column_transformer(features_transformer)\n",
    ")\n",
    "\n",
    "# nothing to do for target\n",
    "sample_train_y = sample_y"
   ]
  },
  {
   "cell_type": "code",
   "execution_count": 97,
   "id": "9c50ba09-2d3c-4323-9db1-2e97447ec21a",
   "metadata": {},
   "outputs": [
    {
     "name": "stdout",
     "output_type": "stream",
     "text": [
      "[[ 1.00000000e+00  0.00000000e+00  0.00000000e+00 -1.22870000e+02\n",
      "   3.84800000e+01  2.70000000e+01  3.89400000e+03  1.83200000e+03\n",
      "   7.15000000e+02  3.50850000e+00  3.00000000e+00  5.44615385e+00\n",
      "   1.99280945e-01  2.56223776e+00]\n",
      " [ 1.00000000e+00  0.00000000e+00  0.00000000e+00 -1.18340000e+02\n",
      "   3.40200000e+01  4.90000000e+01  1.60900000e+03  8.96000000e+02\n",
      "   3.89000000e+02  2.51560000e+00  2.00000000e+00  4.13624679e+00\n",
      "   2.30577999e-01  2.30334190e+00]\n",
      " [ 0.00000000e+00  1.00000000e+00  0.00000000e+00 -1.22420000e+02\n",
      "   3.77900000e+01  5.20000000e+01  3.36400000e+03  2.11200000e+03\n",
      "   1.04500000e+03  2.13430000e+00  2.00000000e+00  3.21913876e+00\n",
      "   3.26991677e-01  2.02105263e+00]\n",
      " [ 0.00000000e+00  0.00000000e+00  1.00000000e+00 -1.19080000e+02\n",
      "   3.53200000e+01  8.00000000e+00  9.12905642e+03  4.84593710e+03\n",
      "   1.63998961e+03  5.00120000e+00  4.00000000e+00  5.52809524e+00\n",
      "   1.84425876e-01  2.71238095e+00]\n",
      " [ 0.00000000e+00  0.00000000e+00  1.00000000e+00 -1.21620000e+02\n",
      "   4.17800000e+01  4.00000000e+01  3.27200000e+03  1.46700000e+03\n",
      "   5.53000000e+02  1.78850000e+00  2.00000000e+00  5.91681736e+00\n",
      "   2.02628362e-01  2.65280289e+00]]\n"
     ]
    }
   ],
   "source": [
    "print(sample_train_X.values)"
   ]
  },
  {
   "attachments": {},
   "cell_type": "markdown",
   "id": "23d70570-c5cb-454b-aa61-723368dfaddb",
   "metadata": {},
   "source": [
    "Running the features transformer on the complete data"
   ]
  },
  {
   "cell_type": "code",
   "execution_count": 14,
   "id": "1390b6e7-e88d-4f8b-a21e-4dbd242960e9",
   "metadata": {},
   "outputs": [],
   "source": [
    "train_X = get_dataframe(\n",
    "    features_transformer.fit_transform(train_X, train_y), \n",
    "    get_feature_names_from_column_transformer(features_transformer)\n",
    ")"
   ]
  },
  {
   "attachments": {},
   "cell_type": "markdown",
   "id": "e03fb069-eded-4ac9-bca2-ef8cda5d4783",
   "metadata": {},
   "source": [
    "### 3.2.1 Univariate\n",
    "\n",
    "\n",
    "- Look at each variable independently. This is useful if your models have assumptions on the distribution and/or bounds on the features/target"
   ]
  },
  {
   "cell_type": "code",
   "execution_count": 15,
   "id": "0d9d1f34-a9b8-415d-99a7-220396e037f0",
   "metadata": {},
   "outputs": [
    {
     "data": {},
     "metadata": {},
     "output_type": "display_data"
    },
    {
     "data": {
      "application/vnd.holoviews_exec.v0+json": "",
      "text/html": [
       "<div id='1002'>\n",
       "  <div class=\"bk-root\" id=\"24767287-72c4-447b-84a2-4b0728f06ce5\" data-root-id=\"1002\"></div>\n",
       "</div>\n",
       "<script type=\"application/javascript\">(function(root) {\n",
       "  function embed_document(root) {\n",
       "    var docs_json = {\"0b757cc9-2bf8-441a-8006-ab67a2e07032\":{\"defs\":[{\"extends\":null,\"module\":null,\"name\":\"ReactiveHTML1\",\"overrides\":[],\"properties\":[]},{\"extends\":null,\"module\":null,\"name\":\"FlexBox1\",\"overrides\":[],\"properties\":[{\"default\":\"flex-start\",\"kind\":null,\"name\":\"align_content\"},{\"default\":\"flex-start\",\"kind\":null,\"name\":\"align_items\"},{\"default\":\"row\",\"kind\":null,\"name\":\"flex_direction\"},{\"default\":\"wrap\",\"kind\":null,\"name\":\"flex_wrap\"},{\"default\":\"flex-start\",\"kind\":null,\"name\":\"justify_content\"}]},{\"extends\":null,\"module\":null,\"name\":\"GridStack1\",\"overrides\":[],\"properties\":[{\"default\":\"warn\",\"kind\":null,\"name\":\"mode\"},{\"default\":null,\"kind\":null,\"name\":\"ncols\"},{\"default\":null,\"kind\":null,\"name\":\"nrows\"},{\"default\":true,\"kind\":null,\"name\":\"allow_resize\"},{\"default\":true,\"kind\":null,\"name\":\"allow_drag\"},{\"default\":[],\"kind\":null,\"name\":\"state\"}]},{\"extends\":null,\"module\":null,\"name\":\"click1\",\"overrides\":[],\"properties\":[{\"default\":\"\",\"kind\":null,\"name\":\"terminal_output\"},{\"default\":\"\",\"kind\":null,\"name\":\"debug_name\"},{\"default\":0,\"kind\":null,\"name\":\"clears\"}]},{\"extends\":null,\"module\":null,\"name\":\"NotificationAreaBase1\",\"overrides\":[],\"properties\":[{\"default\":\"bottom-right\",\"kind\":null,\"name\":\"position\"},{\"default\":0,\"kind\":null,\"name\":\"_clear\"}]},{\"extends\":null,\"module\":null,\"name\":\"NotificationArea1\",\"overrides\":[],\"properties\":[{\"default\":[],\"kind\":null,\"name\":\"notifications\"},{\"default\":\"bottom-right\",\"kind\":null,\"name\":\"position\"},{\"default\":0,\"kind\":null,\"name\":\"_clear\"},{\"default\":[{\"background\":\"#ffc107\",\"icon\":{\"className\":\"fas fa-exclamation-triangle\",\"color\":\"white\",\"tagName\":\"i\"},\"type\":\"warning\"},{\"background\":\"#007bff\",\"icon\":{\"className\":\"fas fa-info-circle\",\"color\":\"white\",\"tagName\":\"i\"},\"type\":\"info\"}],\"kind\":null,\"name\":\"types\"}]},{\"extends\":null,\"module\":null,\"name\":\"Notification\",\"overrides\":[],\"properties\":[{\"default\":null,\"kind\":null,\"name\":\"background\"},{\"default\":3000,\"kind\":null,\"name\":\"duration\"},{\"default\":null,\"kind\":null,\"name\":\"icon\"},{\"default\":\"\",\"kind\":null,\"name\":\"message\"},{\"default\":null,\"kind\":null,\"name\":\"notification_type\"},{\"default\":false,\"kind\":null,\"name\":\"_destroyed\"}]},{\"extends\":null,\"module\":null,\"name\":\"TemplateActions1\",\"overrides\":[],\"properties\":[{\"default\":0,\"kind\":null,\"name\":\"open_modal\"},{\"default\":0,\"kind\":null,\"name\":\"close_modal\"}]},{\"extends\":null,\"module\":null,\"name\":\"MaterialTemplateActions1\",\"overrides\":[],\"properties\":[{\"default\":0,\"kind\":null,\"name\":\"open_modal\"},{\"default\":0,\"kind\":null,\"name\":\"close_modal\"}]}],\"roots\":{\"references\":[{\"attributes\":{},\"id\":\"1042\",\"type\":\"AllLabels\"},{\"attributes\":{\"bottom\":{\"value\":0},\"fill_alpha\":{\"value\":1.0},\"fill_color\":{\"value\":\"#00fff0\"},\"hatch_alpha\":{\"value\":1.0},\"hatch_color\":{\"value\":\"#00fff0\"},\"hatch_scale\":{\"value\":12.0},\"hatch_weight\":{\"value\":1.0},\"left\":{\"field\":\"left\"},\"line_alpha\":{\"value\":1.0},\"line_cap\":{\"value\":\"butt\"},\"line_color\":{\"value\":\"black\"},\"line_dash\":{\"value\":[]},\"line_dash_offset\":{\"value\":0},\"line_join\":{\"value\":\"bevel\"},\"line_width\":{\"value\":1},\"right\":{\"field\":\"right\"},\"top\":{\"field\":\"top\"}},\"id\":\"1054\",\"type\":\"Quad\"},{\"attributes\":{\"children\":[{\"id\":\"1424\"},{\"id\":\"1425\"},{\"id\":\"1427\"}],\"margin\":[0,0,0,0],\"name\":\"Row03000\"},\"id\":\"1423\",\"type\":\"Row\"},{\"attributes\":{\"margin\":[5,5,5,5],\"name\":\"HSpacer03006\",\"sizing_mode\":\"stretch_width\"},\"id\":\"1428\",\"type\":\"Spacer\"},{\"attributes\":{\"children\":[{\"id\":\"1005\"},{\"id\":\"1423\"}],\"margin\":[0,0,0,0],\"name\":\"Column03005\"},\"id\":\"1004\",\"type\":\"Column\"},{\"attributes\":{},\"id\":\"1045\",\"type\":\"AllLabels\"},{\"attributes\":{\"children\":[{\"id\":\"1003\"},{\"id\":\"1004\"},{\"id\":\"1428\"}],\"margin\":[0,0,0,0],\"name\":\"Row02992\"},\"id\":\"1002\",\"type\":\"Row\"},{\"attributes\":{\"margin\":[5,5,5,5],\"name\":\"HSpacer03002\",\"sizing_mode\":\"stretch_width\"},\"id\":\"1006\",\"type\":\"Spacer\"},{\"attributes\":{\"margin\":[5,5,5,5],\"name\":\"HSpacer03001\",\"sizing_mode\":\"stretch_width\"},\"id\":\"1003\",\"type\":\"Spacer\"},{\"attributes\":{},\"id\":\"1044\",\"type\":\"BasicTickFormatter\"},{\"attributes\":{\"children\":[{\"id\":\"1006\"},{\"id\":\"1239\"},{\"id\":\"1422\"}],\"margin\":[0,0,0,0],\"name\":\"Row03004\"},\"id\":\"1005\",\"type\":\"Row\"},{\"attributes\":{\"children\":[[{\"id\":\"1010\"},0,0],[{\"id\":\"1213\"},1,0]]},\"id\":\"1234\",\"type\":\"GridBox\"},{\"attributes\":{},\"id\":\"1015\",\"type\":\"LinearScale\"},{\"attributes\":{\"end\":4323.81,\"reset_end\":4709.099999449752,\"reset_start\":0.0,\"tags\":[[[\"Frequency\",\"Frequency\",null]]]},\"id\":\"1008\",\"type\":\"Range1d\"},{\"attributes\":{\"callback\":null,\"renderers\":[{\"id\":\"1061\"}],\"tags\":[\"hv_created\"],\"tooltips\":[[\"longitude\",\"@{longitude}\"],[\"Density\",\"@{longitude_density}\"]]},\"id\":\"1009\",\"type\":\"HoverTool\"},{\"attributes\":{\"below\":[{\"id\":\"1019\"}],\"center\":[{\"id\":\"1022\"},{\"id\":\"1026\"}],\"extra_y_ranges\":{\"twiny\":{\"id\":\"1064\"}},\"height\":300,\"left\":[{\"id\":\"1023\"}],\"margin\":null,\"min_border_bottom\":10,\"min_border_left\":10,\"min_border_right\":10,\"min_border_top\":10,\"renderers\":[{\"id\":\"1052\"},{\"id\":\"1061\"}],\"right\":[{\"id\":\"1065\"}],\"sizing_mode\":\"fixed\",\"title\":{\"id\":\"1011\"},\"toolbar\":{\"id\":\"1033\"},\"toolbar_location\":null,\"x_range\":{\"id\":\"1007\"},\"x_scale\":{\"id\":\"1015\"},\"y_range\":{\"id\":\"1008\"},\"y_scale\":{\"id\":\"1017\"}},\"id\":\"1010\",\"subtype\":\"Figure\",\"type\":\"Plot\"},{\"attributes\":{},\"id\":\"1071\",\"type\":\"BasicTickFormatter\"},{\"attributes\":{\"data\":{\"left\":{\"__ndarray__\":\"ZmZmZmYWX8AQWDm0yPZewLpJDAIr117AZDvfT423XsAOLbKd75dewLgehetReF7AYhBYObRYXsAMAiuHFjlewLbz/dR4GV7AYOXQItv5XcAK16NwPdpdwLTIdr6ful3AXrpJDAKbXcAIrBxaZHtdwLKd76fGW13AXI/C9Sg8XcAGgZVDixxdwLByaJHt/FzAWmQ730/dXMAEVg4tsr1cwA==\",\"dtype\":\"float64\",\"order\":\"little\",\"shape\":[20]},\"right\":{\"__ndarray__\":\"EFg5tMj2XsC6SQwCK9dewGQ730+Nt17ADi2yne+XXsC4HoXrUXhewGIQWDm0WF7ADAIrhxY5XsC28/3UeBlewGDl0CLb+V3ACtejcD3aXcC0yHa+n7pdwF66SQwCm13ACKwcWmR7XcCyne+nxltdwFyPwvUoPF3ABoGVQ4scXcCwcmiR7fxcwFpkO99P3VzABFYOLbK9XMCuR+F6FJ5cwA==\",\"dtype\":\"float64\",\"order\":\"little\",\"shape\":[20]},\"top\":[106,41,114,1065,2421,1126,978,481,264,590,611,847,4281,1370,1819,186,94,83,12,23]},\"selected\":{\"id\":\"1047\"},\"selection_policy\":{\"id\":\"1076\"}},\"id\":\"1046\",\"type\":\"ColumnDataSource\"},{\"attributes\":{},\"id\":\"1070\",\"type\":\"BasicTicker\"},{\"attributes\":{\"bottom\":{\"value\":0},\"fill_alpha\":{\"value\":0.2},\"fill_color\":{\"value\":\"#00fff0\"},\"hatch_alpha\":{\"value\":0.2},\"hatch_color\":{\"value\":\"#00fff0\"},\"left\":{\"field\":\"left\"},\"line_alpha\":{\"value\":0.2},\"right\":{\"field\":\"right\"},\"top\":{\"field\":\"top\"}},\"id\":\"1051\",\"type\":\"Quad\"},{\"attributes\":{},\"id\":\"1072\",\"type\":\"AllLabels\"},{\"attributes\":{\"editor\":{\"id\":\"1386\"},\"field\":\"A_25_percent\",\"formatter\":{\"id\":\"1385\"},\"title\":\"25%\"},\"id\":\"1387\",\"type\":\"TableColumn\"},{\"attributes\":{},\"id\":\"1172\",\"type\":\"Selection\"},{\"attributes\":{\"end\":-113.02791950008196,\"reset_end\":-113.02791950008196,\"reset_start\":-125.79208049991803,\"start\":-125.79208049991803,\"tags\":[[[\"x\",\"x\",null]]]},\"id\":\"1007\",\"type\":\"Range1d\"},{\"attributes\":{\"editor\":{\"id\":\"1371\"},\"field\":\"mean\",\"formatter\":{\"id\":\"1370\"},\"title\":\"mean\"},\"id\":\"1372\",\"type\":\"TableColumn\"},{\"attributes\":{\"coordinates\":null,\"group\":null,\"text\":\"Density Plot for longitude\",\"text_color\":\"black\",\"text_font_size\":\"12pt\"},\"id\":\"1011\",\"type\":\"Title\"},{\"attributes\":{\"coordinates\":null,\"data_source\":{\"id\":\"1046\"},\"glyph\":{\"id\":\"1049\"},\"group\":null,\"hover_glyph\":null,\"muted_glyph\":{\"id\":\"1051\"},\"nonselection_glyph\":{\"id\":\"1050\"},\"selection_glyph\":{\"id\":\"1054\"},\"view\":{\"id\":\"1053\"}},\"id\":\"1052\",\"type\":\"GlyphRenderer\"},{\"attributes\":{\"editor\":{\"id\":\"1376\"},\"field\":\"std\",\"formatter\":{\"id\":\"1375\"},\"title\":\"std\"},\"id\":\"1377\",\"type\":\"TableColumn\"},{\"attributes\":{\"bottom\":{\"value\":0},\"fill_alpha\":{\"value\":0.1},\"fill_color\":{\"value\":\"#00fff0\"},\"hatch_alpha\":{\"value\":0.1},\"hatch_color\":{\"value\":\"#00fff0\"},\"left\":{\"field\":\"left\"},\"line_alpha\":{\"value\":0.1},\"right\":{\"field\":\"right\"},\"top\":{\"field\":\"top\"}},\"id\":\"1050\",\"type\":\"Quad\"},{\"attributes\":{},\"id\":\"1041\",\"type\":\"BasicTickFormatter\"},{\"attributes\":{\"source\":{\"id\":\"1046\"}},\"id\":\"1053\",\"type\":\"CDSView\"},{\"attributes\":{\"axis\":{\"id\":\"1019\"},\"coordinates\":null,\"grid_line_color\":null,\"group\":null,\"ticker\":null},\"id\":\"1022\",\"type\":\"Grid\"},{\"attributes\":{},\"id\":\"1020\",\"type\":\"BasicTicker\"},{\"attributes\":{\"editor\":{\"id\":\"1381\"},\"field\":\"min\",\"formatter\":{\"id\":\"1380\"},\"title\":\"min\"},\"id\":\"1382\",\"type\":\"TableColumn\"},{\"attributes\":{},\"id\":\"1381\",\"type\":\"NumberEditor\"},{\"attributes\":{},\"id\":\"1076\",\"type\":\"UnionRenderers\"},{\"attributes\":{},\"id\":\"1056\",\"type\":\"Selection\"},{\"attributes\":{\"axis_label\":\"longitude\",\"coordinates\":null,\"formatter\":{\"id\":\"1041\"},\"group\":null,\"major_label_policy\":{\"id\":\"1042\"},\"ticker\":{\"id\":\"1020\"}},\"id\":\"1019\",\"type\":\"LinearAxis\"},{\"attributes\":{\"format\":\"0,0.0[00000]\"},\"id\":\"1380\",\"type\":\"NumberFormatter\"},{\"attributes\":{\"data\":{\"x\":{\"__ndarray__\":\"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\",\"dtype\":\"float64\",\"order\":\"little\",\"shape\":[200]},\"y\":{\"__ndarray__\":\"AAAAAAAAAAAAAAAAAAAAAAAAAAAAAAAAAAAAAAAAAAAAAAAAAAAAAAAAAAAAAAAAAAAAAAAAAAAAAAAAAAAAAAAAAAAAAAAAAAAAAAAAAAAAAAAAAAAAAAAAAAAAAAAAAAAAAAAAAAAAAAAAAAAAAAAAAAAAAAAAAAAAAAAAAAAAAAAAAAAAAAAAAAAAAAAAAAAAAAAAAAAAAAAAAAAAAAAAAAAAAAAAAAAAAAAAAAAAAAAAAAAAAAAAAAAAAAAAAAAAAAAAAAAAAAAAAAAAAAAAAAAAAAAAAAAAAAAAAAAAAAAAAAAAAAAAAAAAAAAAAAAAAAAAAAAAAAAAAAAAAAAAAAAAAAAAAAAAAAAAAAAAAAAAAAAAAAAAAAAAAAAAAAAAAAAAAAAAAAAAAAAAAAAAAAAAAAAAAAAAAAAAAAAAAAAAAAAAAAAAAAAAAAAAAAAAAAAAAAAAAAAAAAAAAAAAAAAAAAAAAAAAAAAAAAAAAAAAAAAAAAAAAAAAAAAAAAAAAAAAAAAAAAAAAAAAAAAAAAAAAAAAAAAAAAAAAAAAAAAAAAAAAAAAAAAAAAAAAAAAAAAAAAAAAAAAAAAAAAAAAAAAAAAAAAAAAAAAAAAAAAAAAAAAAAAAAAAAAAAAAAAAAAAAAAAAAAAAAAAAAAAAAAAAAAAAAAAAAAAAAAAAAAAAAAAAAAAAAAAAAAAAAAAAAAAAAAAAAAAAAAAAAAAAAAAAAAAAAAAAAAAAAAAAAAAAAAAAAAAAAAAAAAAAAAAAAAAAAAAAAAAAAAAAAAAAAAAAAAAAAAAAAAAAAAAAAAAAAAAAAAAAAAAAAAAAAAAAAAAAAAAAAAAAAAAAAAAAAAAAAAAAAAAAAAAAAAAAAAAAAAAAAAAAAAAAAAAAAAAAAAAAAAAAAAAAAAAAAAAAAAAAAAAAAAAAAAAAAAAAAAAAAAAAAAAAAAAAAAAAAAAAAAAAAAAAAAAAAAAAAAAAAAAAAAAAAAAAAAAAAAAAAAAAAAAAAAAAAAAAAAAAAAAAAAAAAAAAAAAAAAAAAAAAAAAAAAAAAAAAAAAAAABAJPvZPRTXPu1r/5HCsfQ+dJrC892xDz/aqrpbMrskP50wj2neKzc/nJorvVIkRj+FLwQBQx1SP/uWVWuRdFk/6RuNj3f1Xj/V/zaaqZ1gPxCi9sZziWA/B1E43THkYD8P9Ng/3ehjP5swr4KaJ2s/FuuASr4jcz+7JqvwYFF5P3aH0gvyOn4/N2HzUvJSgD8Xsu9I6HqAPzOjYBDagoA/VIsf0nt9gT8j9xkupxWEP1QYSdRroIg/LRosN733jz90OlUVclOWP1kG3CSn06A/rj6n5eQ9qj/bj9/8s+SzP1ZUFKf//bs/oq50hgziwT8hZmDRvbjEP/gTz6fbKMY/eWCD6Ge6xj8prrCZn6LHP/hrTuZnHMo/xN4FxEO7zj8IdtKO6YrSP5euaI0G7dU/gqzCof+W2D+tAyfdY6LZP/l/uDmyiNg/OtYhQbpq1T+jNo3iFBPRP2Ry1+CLPck/kBNwrC32wT8OBNMMJzW6PwTP1nzI0rQ/sbzdehc/sj94Pv2nzBaxP+NaEOWJm7A/xzEMyK2GsD9p73U5D56wP+412LCFhLA/HJhTBo7Qrz/aCzAy6JatP7MBQC9pHKs/4NsgTw9XqT+GiSjp59WoP/cI5oE/mKk/Cmy3EtBhqz+ejVbeIyWuP9C6PQzrD7E/ZHJVl+zLsz9wYIezHTq3Py47KRmqA7s/uE7fEaGpvj9x9uN2gvLAPxG0Qq8JgcI/FQnX9JdnxD9+CzGWsf/GP0EdlbkyNso/pw+BbuhszT9WN8/j4LfPP+7hdAYuI9A/NIw7utq0zj9mbGti6yrLP3h8F80BScY/AG/U71PxwD9i9Jgx5fi3PyziD5kd5K8/nECugc1SpD8lliwUboeZP3p9t7x0YpA/LJDAmyZfhj9TOkXd9vCAP2ap0h2aj30/XoZkPOnnfT8Apx89qayAPxPKtZVT4oI/WaJnkO4/hD9Py/QGsaiDP1rNXsTO14A/lejMsGEceT95BDHSjShwPxLRa0Fu32E/xCbO52/zUD8jk4Mrzok7P/p2ABqUJiM/oPpsodPNBj/4xicBTUHnPg==\",\"dtype\":\"float64\",\"order\":\"little\",\"shape\":[200]}},\"selected\":{\"id\":\"1056\"},\"selection_policy\":{\"id\":\"1078\"}},\"id\":\"1055\",\"type\":\"ColumnDataSource\"},{\"attributes\":{},\"id\":\"1017\",\"type\":\"LinearScale\"},{\"attributes\":{\"format\":\"0,0.0[00000]\"},\"id\":\"1390\",\"type\":\"NumberFormatter\"},{\"attributes\":{},\"id\":\"1376\",\"type\":\"NumberEditor\"},{\"attributes\":{\"axis_label\":\"Frequency\",\"coordinates\":null,\"formatter\":{\"id\":\"1044\"},\"group\":null,\"major_label_policy\":{\"id\":\"1045\"},\"ticker\":{\"id\":\"1024\"}},\"id\":\"1023\",\"type\":\"LinearAxis\"},{\"attributes\":{},\"id\":\"1024\",\"type\":\"BasicTicker\"},{\"attributes\":{\"axis\":{\"id\":\"1023\"},\"coordinates\":null,\"dimension\":1,\"grid_line_color\":null,\"group\":null,\"ticker\":null},\"id\":\"1026\",\"type\":\"Grid\"},{\"attributes\":{},\"id\":\"1027\",\"type\":\"SaveTool\"},{\"attributes\":{\"editor\":{\"id\":\"1401\"},\"field\":\"max\",\"formatter\":{\"id\":\"1400\"},\"title\":\"max\"},\"id\":\"1402\",\"type\":\"TableColumn\"},{\"attributes\":{\"format\":\"0,0.0[00000]\"},\"id\":\"1400\",\"type\":\"NumberFormatter\"},{\"attributes\":{},\"id\":\"1028\",\"type\":\"PanTool\"},{\"attributes\":{\"margin\":[5,5,5,5],\"name\":\"HSpacer02998\",\"sizing_mode\":\"stretch_width\"},\"id\":\"1424\",\"type\":\"Spacer\"},{\"attributes\":{},\"id\":\"1029\",\"type\":\"WheelZoomTool\"},{\"attributes\":{\"editor\":{\"id\":\"1391\"},\"field\":\"A_50_percent\",\"formatter\":{\"id\":\"1390\"},\"title\":\"50%\"},\"id\":\"1392\",\"type\":\"TableColumn\"},{\"attributes\":{\"overlay\":{\"id\":\"1032\"}},\"id\":\"1030\",\"type\":\"BoxZoomTool\"},{\"attributes\":{\"children\":[{\"id\":\"1426\"}],\"css_classes\":[\"panel-widget-box\"],\"margin\":[5,5,5,5],\"name\":\"WidgetBox02993\"},\"id\":\"1425\",\"type\":\"Column\"},{\"attributes\":{\"editor\":{\"id\":\"1396\"},\"field\":\"A_75_percent\",\"formatter\":{\"id\":\"1395\"},\"title\":\"75%\"},\"id\":\"1397\",\"type\":\"TableColumn\"},{\"attributes\":{},\"id\":\"1031\",\"type\":\"ResetTool\"},{\"attributes\":{\"format\":\"0,0.0[00000]\"},\"id\":\"1375\",\"type\":\"NumberFormatter\"},{\"attributes\":{\"bottom_units\":\"screen\",\"coordinates\":null,\"fill_alpha\":0.5,\"fill_color\":\"lightgrey\",\"group\":null,\"left_units\":\"screen\",\"level\":\"overlay\",\"line_alpha\":1.0,\"line_color\":\"black\",\"line_dash\":[4,4],\"line_width\":2,\"right_units\":\"screen\",\"syncable\":false,\"top_units\":\"screen\"},\"id\":\"1032\",\"type\":\"BoxAnnotation\"},{\"attributes\":{},\"id\":\"1078\",\"type\":\"UnionRenderers\"},{\"attributes\":{\"coordinates\":null,\"data_source\":{\"id\":\"1055\"},\"glyph\":{\"id\":\"1058\"},\"group\":null,\"hover_glyph\":null,\"muted_glyph\":{\"id\":\"1060\"},\"nonselection_glyph\":{\"id\":\"1059\"},\"selection_glyph\":{\"id\":\"1063\"},\"view\":{\"id\":\"1062\"},\"y_range_name\":\"twiny\"},\"id\":\"1061\",\"type\":\"GlyphRenderer\"},{\"attributes\":{\"margin\":[20,20,20,20],\"min_width\":250,\"options\":[\"longitude\",\"latitude\",\"housing_median_age\",\"total_rooms\",\"population\",\"households\",\"median_income\",\"income_cat\",\"rooms_per_household\",\"bedrooms_per_room\",\"population_per_household\"],\"title\":\"col\",\"value\":\"longitude\",\"width\":250},\"id\":\"1426\",\"type\":\"panel.models.widgets.CustomSelect\"},{\"attributes\":{\"source\":{\"id\":\"1171\"}},\"id\":\"1215\",\"type\":\"CDSView\"},{\"attributes\":{},\"id\":\"1391\",\"type\":\"NumberEditor\"},{\"attributes\":{\"fill_alpha\":0.5,\"fill_color\":\"#30a2da\",\"hatch_color\":\"#30a2da\",\"x\":{\"field\":\"x\"},\"y\":{\"field\":\"y\"}},\"id\":\"1063\",\"type\":\"Patch\"},{\"attributes\":{},\"id\":\"1371\",\"type\":\"NumberEditor\"},{\"attributes\":{\"fill_alpha\":0.5,\"fill_color\":\"#30a2da\",\"hatch_color\":\"#30a2da\",\"x\":{\"field\":\"x\"},\"y\":{\"field\":\"y\"}},\"id\":\"1058\",\"type\":\"Patch\"},{\"attributes\":{\"editor\":{\"id\":\"1366\"},\"field\":\"count\",\"formatter\":{\"id\":\"1365\"},\"title\":\"count\"},\"id\":\"1367\",\"type\":\"TableColumn\"},{\"attributes\":{\"format\":\"0,0.0[00000]\"},\"id\":\"1365\",\"type\":\"NumberFormatter\"},{\"attributes\":{\"format\":\"0,0.0[00000]\"},\"id\":\"1385\",\"type\":\"NumberFormatter\"},{\"attributes\":{\"margin\":[5,5,5,5],\"name\":\"HSpacer02999\",\"sizing_mode\":\"stretch_width\"},\"id\":\"1427\",\"type\":\"Spacer\"},{\"attributes\":{\"toolbar\":{\"id\":\"1235\"},\"toolbar_location\":\"above\"},\"id\":\"1236\",\"type\":\"ToolbarBox\"},{\"attributes\":{\"fill_alpha\":0.5,\"fill_color\":\"#30a2da\",\"hatch_alpha\":0.1,\"hatch_color\":\"#30a2da\",\"line_alpha\":1,\"x\":{\"field\":\"x\"},\"y\":{\"field\":\"y\"}},\"id\":\"1059\",\"type\":\"Patch\"},{\"attributes\":{\"data\":{\"A_25_percent\":{\"__ndarray__\":\"UrgehetxXsA=\",\"dtype\":\"float64\",\"order\":\"little\",\"shape\":[1]},\"A_50_percent\":{\"__ndarray__\":\"j8L1KFyfXcA=\",\"dtype\":\"float64\",\"order\":\"little\",\"shape\":[1]},\"A_75_percent\":{\"__ndarray__\":\"AAAAAACAXcA=\",\"dtype\":\"float64\",\"order\":\"little\",\"shape\":[1]},\"count\":{\"__ndarray__\":\"AAAAAAAg0EA=\",\"dtype\":\"float64\",\"order\":\"little\",\"shape\":[1]},\"max\":{\"__ndarray__\":\"rkfhehSeXMA=\",\"dtype\":\"float64\",\"order\":\"little\",\"shape\":[1]},\"mean\":{\"__ndarray__\":\"pHA9CtfjXcA=\",\"dtype\":\"float64\",\"order\":\"little\",\"shape\":[1]},\"min\":{\"__ndarray__\":\"ZmZmZmYWX8A=\",\"dtype\":\"float64\",\"order\":\"little\",\"shape\":[1]},\"std\":{\"__ndarray__\":\"AAAAAAAAAEA=\",\"dtype\":\"float64\",\"order\":\"little\",\"shape\":[1]}},\"selected\":{\"id\":\"1172\"},\"selection_policy\":{\"id\":\"1232\"}},\"id\":\"1171\",\"type\":\"ColumnDataSource\"},{\"attributes\":{\"source\":{\"id\":\"1055\"}},\"id\":\"1062\",\"type\":\"CDSView\"},{\"attributes\":{},\"id\":\"1386\",\"type\":\"NumberEditor\"},{\"attributes\":{\"bottom\":{\"value\":0},\"fill_color\":{\"value\":\"#00fff0\"},\"hatch_color\":{\"value\":\"#00fff0\"},\"left\":{\"field\":\"left\"},\"right\":{\"field\":\"right\"},\"top\":{\"field\":\"top\"}},\"id\":\"1049\",\"type\":\"Quad\"},{\"attributes\":{\"children\":[{\"id\":\"1236\"},{\"id\":\"1234\"}]},\"id\":\"1237\",\"type\":\"Column\"},{\"attributes\":{},\"id\":\"1396\",\"type\":\"NumberEditor\"},{\"attributes\":{\"style\":{\"white-space\":\"nowrap\"},\"text\":\"<span style=\\\"color:black;font-family:Arial;font-style:bold;font-weight:bold;font-size:12pt\\\">col: longitude</span>\",\"width\":450},\"id\":\"1238\",\"type\":\"Div\"},{\"attributes\":{\"fill_alpha\":0.2,\"fill_color\":\"#30a2da\",\"hatch_alpha\":0.2,\"hatch_color\":\"#30a2da\",\"line_alpha\":0.2,\"x\":{\"field\":\"x\"},\"y\":{\"field\":\"y\"}},\"id\":\"1060\",\"type\":\"Patch\"},{\"attributes\":{\"format\":\"0,0.0[00000]\"},\"id\":\"1370\",\"type\":\"NumberFormatter\"},{\"attributes\":{\"format\":\"0,0.0[00000]\"},\"id\":\"1395\",\"type\":\"NumberFormatter\"},{\"attributes\":{},\"id\":\"1401\",\"type\":\"NumberEditor\"},{\"attributes\":{},\"id\":\"1047\",\"type\":\"Selection\"},{\"attributes\":{\"end\":0.404541869763214},\"id\":\"1064\",\"type\":\"Range1d\"},{\"attributes\":{\"children\":[{\"id\":\"1238\"},{\"id\":\"1237\"}]},\"id\":\"1239\",\"type\":\"Column\"},{\"attributes\":{\"margin\":[5,5,5,5],\"name\":\"HSpacer03003\",\"sizing_mode\":\"stretch_width\"},\"id\":\"1422\",\"type\":\"Spacer\"},{\"attributes\":{\"tools\":[{\"id\":\"1009\"},{\"id\":\"1027\"},{\"id\":\"1028\"},{\"id\":\"1029\"},{\"id\":\"1030\"},{\"id\":\"1031\"}]},\"id\":\"1033\",\"type\":\"Toolbar\"},{\"attributes\":{},\"id\":\"1366\",\"type\":\"NumberEditor\"},{\"attributes\":{\"axis_label\":\"y, longitude_density\",\"coordinates\":null,\"formatter\":{\"id\":\"1071\"},\"group\":null,\"major_label_policy\":{\"id\":\"1072\"},\"ticker\":{\"id\":\"1070\"},\"y_range_name\":\"twiny\"},\"id\":\"1065\",\"type\":\"LinearAxis\"},{\"attributes\":{},\"id\":\"1232\",\"type\":\"UnionRenderers\"},{\"attributes\":{\"client_comm_id\":\"83315a75efe9471dbc0d7061fbbe45cf\",\"comm_id\":\"43868ab3ee014d3398d7c56437939214\",\"plot_id\":\"1002\"},\"id\":\"1480\",\"type\":\"panel.models.comm_manager.CommManager\"},{\"attributes\":{\"columns\":[{\"id\":\"1367\"},{\"id\":\"1372\"},{\"id\":\"1377\"},{\"id\":\"1382\"},{\"id\":\"1387\"},{\"id\":\"1392\"},{\"id\":\"1397\"},{\"id\":\"1402\"}],\"height\":60,\"reorderable\":false,\"source\":{\"id\":\"1171\"},\"view\":{\"id\":\"1215\"}},\"id\":\"1213\",\"type\":\"DataTable\"},{\"attributes\":{\"toolbars\":[{\"id\":\"1033\"}],\"tools\":[{\"id\":\"1009\"},{\"id\":\"1027\"},{\"id\":\"1028\"},{\"id\":\"1029\"},{\"id\":\"1030\"},{\"id\":\"1031\"}]},\"id\":\"1235\",\"type\":\"ProxyToolbar\"}],\"root_ids\":[\"1002\",\"1480\"]},\"title\":\"Bokeh Application\",\"version\":\"2.4.3\"}};\n",
       "    var render_items = [{\"docid\":\"0b757cc9-2bf8-441a-8006-ab67a2e07032\",\"root_ids\":[\"1002\"],\"roots\":{\"1002\":\"24767287-72c4-447b-84a2-4b0728f06ce5\"}}];\n",
       "    root.Bokeh.embed.embed_items_notebook(docs_json, render_items);\n",
       "  }\n",
       "  if (root.Bokeh !== undefined && root.Bokeh.Panel !== undefined) {\n",
       "    embed_document(root);\n",
       "  } else {\n",
       "    var attempts = 0;\n",
       "    var timer = setInterval(function(root) {\n",
       "      if (root.Bokeh !== undefined && root.Bokeh.Panel !== undefined) {\n",
       "        clearInterval(timer);\n",
       "        embed_document(root);\n",
       "      } else if (document.readyState == \"complete\") {\n",
       "        attempts++;\n",
       "        if (attempts > 200) {\n",
       "          clearInterval(timer);\n",
       "          console.log(\"Bokeh: ERROR: Unable to run BokehJS code because BokehJS library is missing\");\n",
       "        }\n",
       "      }\n",
       "    }, 25, root)\n",
       "  }\n",
       "})(window);</script>"
      ],
      "text/plain": [
       ":DynamicMap   [col]\n",
       "   :Layout\n",
       "      .Overlay.I :Overlay\n",
       "         .Histogram.I    :Histogram   [x]   (Frequency)\n",
       "         .Distribution.I :Distribution   [longitude]   (Density)\n",
       "      .Table.I   :Table   [count,mean,std,min,25%,50%,75%,max]"
      ]
     },
     "execution_count": 15,
     "metadata": {
      "application/vnd.holoviews_exec.v0+json": {
       "id": "1002"
      }
     },
     "output_type": "execute_result"
    }
   ],
   "source": [
    "out = eda.get_density_plots(train_X, cols=list(num_columns))\n",
    "out"
   ]
  },
  {
   "cell_type": "code",
   "execution_count": 16,
   "id": "741861d9-b6f2-40e6-81e8-629e9e699396",
   "metadata": {},
   "outputs": [],
   "source": [
    "# save the plots are html\n",
    "reports.create_report({'univariate': out}, name='reports/feature_analysis_univariate')"
   ]
  },
  {
   "attachments": {},
   "cell_type": "markdown",
   "id": "2753dc80-e11d-4ea7-be96-b2ba3fe3c4a0",
   "metadata": {},
   "source": [
    "A report containing the above plot is available [here](https://drive.google.com/file/d/16ntqUc_zvpg0at5pTtO-ljBjw5UVGFnp/view?usp=sharing)\n"
   ]
  },
  {
   "attachments": {},
   "cell_type": "markdown",
   "id": "bfe4dbd7-caac-4e6b-b670-bd4296312edf",
   "metadata": {},
   "source": [
    "Alternatively, the above plots can be generated as a single html as below. The output from this is available [here](https://drive.google.com/file/d/1vUaCcs1PJ4IYo1em9-eZIEj9WuDsnFKT/view?usp=sharing)"
   ]
  },
  {
   "cell_type": "code",
   "execution_count": 17,
   "id": "91e6c430-5a46-4128-9de7-cce5e2712204",
   "metadata": {},
   "outputs": [
    {
     "name": "stderr",
     "output_type": "stream",
     "text": [
      "p-value may not be accurate for N > 5000.\n"
     ]
    }
   ],
   "source": [
    "reports.feature_analysis(train_X,'reports/feature_analysis_report.html')"
   ]
  },
  {
   "attachments": {},
   "cell_type": "markdown",
   "id": "df60f814-fdc9-4c82-a09e-d526b2f900fb",
   "metadata": {},
   "source": [
    "### 3.2.2 Bivariate - mutual interactions"
   ]
  },
  {
   "attachments": {},
   "cell_type": "markdown",
   "id": "a08af616-f874-4f31-9470-3d913e327a5d",
   "metadata": {},
   "source": [
    "- Find columns with high correlations and drop them"
   ]
  },
  {
   "cell_type": "code",
   "execution_count": 18,
   "id": "46ea4362-e74e-4ac8-8ede-a70be8751396",
   "metadata": {},
   "outputs": [
    {
     "data": {
      "text/html": [
       "<div>\n",
       "<style scoped>\n",
       "    .dataframe tbody tr th:only-of-type {\n",
       "        vertical-align: middle;\n",
       "    }\n",
       "\n",
       "    .dataframe tbody tr th {\n",
       "        vertical-align: top;\n",
       "    }\n",
       "\n",
       "    .dataframe thead th {\n",
       "        text-align: right;\n",
       "    }\n",
       "</style>\n",
       "<table border=\"1\" class=\"dataframe\">\n",
       "  <thead>\n",
       "    <tr style=\"text-align: right;\">\n",
       "      <th></th>\n",
       "      <th>Variable 1</th>\n",
       "      <th>Variable 2</th>\n",
       "      <th>Corr Coef</th>\n",
       "      <th>Abs Corr Coef</th>\n",
       "    </tr>\n",
       "  </thead>\n",
       "  <tbody>\n",
       "    <tr>\n",
       "      <th>0</th>\n",
       "      <td>income_cat</td>\n",
       "      <td>median_income</td>\n",
       "      <td>0.938445</td>\n",
       "      <td>0.938445</td>\n",
       "    </tr>\n",
       "    <tr>\n",
       "      <th>1</th>\n",
       "      <td>latitude</td>\n",
       "      <td>longitude</td>\n",
       "      <td>-0.924918</td>\n",
       "      <td>0.924918</td>\n",
       "    </tr>\n",
       "    <tr>\n",
       "      <th>2</th>\n",
       "      <td>households</td>\n",
       "      <td>total_rooms</td>\n",
       "      <td>0.913502</td>\n",
       "      <td>0.913502</td>\n",
       "    </tr>\n",
       "    <tr>\n",
       "      <th>3</th>\n",
       "      <td>households</td>\n",
       "      <td>population</td>\n",
       "      <td>0.907971</td>\n",
       "      <td>0.907971</td>\n",
       "    </tr>\n",
       "    <tr>\n",
       "      <th>4</th>\n",
       "      <td>population</td>\n",
       "      <td>total_rooms</td>\n",
       "      <td>0.844430</td>\n",
       "      <td>0.844430</td>\n",
       "    </tr>\n",
       "    <tr>\n",
       "      <th>5</th>\n",
       "      <td>bedrooms_per_room</td>\n",
       "      <td>rooms_per_household</td>\n",
       "      <td>-0.751673</td>\n",
       "      <td>0.751673</td>\n",
       "    </tr>\n",
       "    <tr>\n",
       "      <th>6</th>\n",
       "      <td>bedrooms_per_room</td>\n",
       "      <td>median_income</td>\n",
       "      <td>-0.675388</td>\n",
       "      <td>0.675388</td>\n",
       "    </tr>\n",
       "    <tr>\n",
       "      <th>7</th>\n",
       "      <td>bedrooms_per_room</td>\n",
       "      <td>income_cat</td>\n",
       "      <td>-0.663596</td>\n",
       "      <td>0.663596</td>\n",
       "    </tr>\n",
       "    <tr>\n",
       "      <th>8</th>\n",
       "      <td>ocean_proximity_1</td>\n",
       "      <td>ocean_proximity_3</td>\n",
       "      <td>-0.606939</td>\n",
       "      <td>0.606939</td>\n",
       "    </tr>\n",
       "  </tbody>\n",
       "</table>\n",
       "</div>"
      ],
      "text/plain": [
       "          Variable 1           Variable 2  Corr Coef  Abs Corr Coef\n",
       "0         income_cat        median_income   0.938445       0.938445\n",
       "1           latitude            longitude  -0.924918       0.924918\n",
       "2         households          total_rooms   0.913502       0.913502\n",
       "3         households           population   0.907971       0.907971\n",
       "4         population          total_rooms   0.844430       0.844430\n",
       "5  bedrooms_per_room  rooms_per_household  -0.751673       0.751673\n",
       "6  bedrooms_per_room        median_income  -0.675388       0.675388\n",
       "7  bedrooms_per_room           income_cat  -0.663596       0.663596\n",
       "8  ocean_proximity_1    ocean_proximity_3  -0.606939       0.606939"
      ]
     },
     "execution_count": 18,
     "metadata": {},
     "output_type": "execute_result"
    }
   ],
   "source": [
    "out = eda.get_correlation_table(train_X)\n",
    "out[out[\"Abs Corr Coef\"] > 0.6]"
   ]
  },
  {
   "cell_type": "code",
   "execution_count": 19,
   "id": "a90ac1ec-8082-492d-a9b7-93539588d033",
   "metadata": {},
   "outputs": [
    {
     "data": {},
     "metadata": {},
     "output_type": "display_data"
    },
    {
     "data": {
      "application/vnd.holoviews_exec.v0+json": "",
      "text/html": [
       "<div id='17611'>\n",
       "  <div class=\"bk-root\" id=\"29e1d4c6-db18-44e3-9a98-0d3c2cd2f763\" data-root-id=\"17611\"></div>\n",
       "</div>\n",
       "<script type=\"application/javascript\">(function(root) {\n",
       "  function embed_document(root) {\n",
       "    var docs_json = {\"79252e1e-2875-4a7e-973f-f90a9a457752\":{\"defs\":[{\"extends\":null,\"module\":null,\"name\":\"ReactiveHTML1\",\"overrides\":[],\"properties\":[]},{\"extends\":null,\"module\":null,\"name\":\"FlexBox1\",\"overrides\":[],\"properties\":[{\"default\":\"flex-start\",\"kind\":null,\"name\":\"align_content\"},{\"default\":\"flex-start\",\"kind\":null,\"name\":\"align_items\"},{\"default\":\"row\",\"kind\":null,\"name\":\"flex_direction\"},{\"default\":\"wrap\",\"kind\":null,\"name\":\"flex_wrap\"},{\"default\":\"flex-start\",\"kind\":null,\"name\":\"justify_content\"}]},{\"extends\":null,\"module\":null,\"name\":\"GridStack1\",\"overrides\":[],\"properties\":[{\"default\":\"warn\",\"kind\":null,\"name\":\"mode\"},{\"default\":null,\"kind\":null,\"name\":\"ncols\"},{\"default\":null,\"kind\":null,\"name\":\"nrows\"},{\"default\":true,\"kind\":null,\"name\":\"allow_resize\"},{\"default\":true,\"kind\":null,\"name\":\"allow_drag\"},{\"default\":[],\"kind\":null,\"name\":\"state\"}]},{\"extends\":null,\"module\":null,\"name\":\"click1\",\"overrides\":[],\"properties\":[{\"default\":\"\",\"kind\":null,\"name\":\"terminal_output\"},{\"default\":\"\",\"kind\":null,\"name\":\"debug_name\"},{\"default\":0,\"kind\":null,\"name\":\"clears\"}]},{\"extends\":null,\"module\":null,\"name\":\"NotificationAreaBase1\",\"overrides\":[],\"properties\":[{\"default\":\"bottom-right\",\"kind\":null,\"name\":\"position\"},{\"default\":0,\"kind\":null,\"name\":\"_clear\"}]},{\"extends\":null,\"module\":null,\"name\":\"NotificationArea1\",\"overrides\":[],\"properties\":[{\"default\":[],\"kind\":null,\"name\":\"notifications\"},{\"default\":\"bottom-right\",\"kind\":null,\"name\":\"position\"},{\"default\":0,\"kind\":null,\"name\":\"_clear\"},{\"default\":[{\"background\":\"#ffc107\",\"icon\":{\"className\":\"fas fa-exclamation-triangle\",\"color\":\"white\",\"tagName\":\"i\"},\"type\":\"warning\"},{\"background\":\"#007bff\",\"icon\":{\"className\":\"fas fa-info-circle\",\"color\":\"white\",\"tagName\":\"i\"},\"type\":\"info\"}],\"kind\":null,\"name\":\"types\"}]},{\"extends\":null,\"module\":null,\"name\":\"Notification\",\"overrides\":[],\"properties\":[{\"default\":null,\"kind\":null,\"name\":\"background\"},{\"default\":3000,\"kind\":null,\"name\":\"duration\"},{\"default\":null,\"kind\":null,\"name\":\"icon\"},{\"default\":\"\",\"kind\":null,\"name\":\"message\"},{\"default\":null,\"kind\":null,\"name\":\"notification_type\"},{\"default\":false,\"kind\":null,\"name\":\"_destroyed\"}]},{\"extends\":null,\"module\":null,\"name\":\"TemplateActions1\",\"overrides\":[],\"properties\":[{\"default\":0,\"kind\":null,\"name\":\"open_modal\"},{\"default\":0,\"kind\":null,\"name\":\"close_modal\"}]},{\"extends\":null,\"module\":null,\"name\":\"MaterialTemplateActions1\",\"overrides\":[],\"properties\":[{\"default\":0,\"kind\":null,\"name\":\"open_modal\"},{\"default\":0,\"kind\":null,\"name\":\"close_modal\"}]}],\"roots\":{\"references\":[{\"attributes\":{\"data\":{\"Count\":[38,158,9,188,59,74,100,29,15,9,1,192,81,24,203,1,100,3,11,229,105,24,51,7,123,3,119,33,28,5,146,28,167,63,61,97,5,113,132,31,26,3,42,6,44,85,58,5,105,34,95,41,20,94,21,192,147,63,64,60,10,68,180,113,30,91,3,178,22,1,63,211,21,5,15,14,179,22,37,122,18,35,2,40,32,29,35,185,5,112,32,222,61,121,13,14,14,130,22,203,29,8,96,3,96,53,39,39,4,4,1,9,3,3,146,44,66,81,105,1,107,88,5,37,11,11,58,43,7,69,31,147,3,127,18,61,94,3,55,25,37,4,48,17,12,3,25,95,147,44,21,18,4,8,59,135,7,74,19,15,6,1,30,35,147,1,121,2,19,40,2,79,14,20,24,75,33,7,3,65,38,6,12,61,17,25,5,12,4,21,12,3,106,4,5,47,51,23,17,7,122,7,23,5,31,81,36,42,11,8,50,19,12,17,3,3,5,3,70,10,3,23,1,7,4,7,31,2,9,26,8,1,12,19,8,3,46,50,73,1,4,6,22,67,63,15,1,11,22,23,4,16,14,61,35,3,31,20,17,67,114,39,34,3,3,5,20,2,32,2,19,4,48,8,29,12,50,12,7,3,30,4,44,1,84,110,57,5,41,1,5,3,1,2,37,21,10,5,14,4,34,15,7,3,7,42,21,6,16,11,9,2,18,2,7,5,7,3,36,11,1,10,1,16,7,10,9,25,26,8,28,2,5,1,3,10,8,62,8,5,3,1,28,18,12,4,32,3,3,2,16,6,15,1,4,3,2,31,9,6,3,8,7,4,14,3,5,3,11,2,3,3,3,13,8,2,2,21,12,8,25,2,4,3,14,5,20,2,13,8,2,4,4,1,8,5,1,6,1,1,4,10,22,13,1,7,9,5,25,6,3,20,38,11,8,15,2,31,5,18,30,13,6,1,36,6,1,28,23,1,11,2,4,11,11,3,10,5,3,1,4,4,5,8,3,2,10,1,14,1,1,3,3,2,29,22,1,1,7,1,4,1,9,3,38,8,3,6,5,2,1,10,44,3,20,2,2,5,11,4,4,2,7,1,6,4,7,7,6,1,5,3,13,2,1,20,5,5,5,13,9,1,6,3,17,1,1,1,7,2,4,2,4,16,14,3,7,5,8,3,4,4,1,2,5,8,1,7,2,3,2,7,2,2,7,5,1,13,8,3,1,2,3,1,3,2,2,3,2,6,7,2,1,1,1,2,5,11,12,2,5,6,1,9,14,3,3,22,2,1,1,2,1,5,3,19,3,13,1,1,26,1,4,6,1,4,3,4,7,7,1,6,1,1,20,3,1,27,2,5,8,2,3,1,3,2,6,9,5,9,4,9,1,2,2,4,4,5,3,6,6,1,7,4,2,2,3,3,5,4,1,2,11,2,10,2,4,2,4,9,5,4,1,3,2,4,5,1,6,2,3,6,1,2,7,2,2,6,3,5,4,1,1,3,2,6,5,2,3,2,4,2,3,1,1,2,1,2,3,7,3,9,1,5,10,2,2,4,1,1,19,3,1,1,1,5,1,1,2,1,9,3,6,5,2,6,4,2,3,3,1,1,2,3,7,2,3,2,1,4,1,1,1,2,2,6,1,1,1,5,12,1,2,1,1,3,3,1,2,3,1,1,1,3,2,6,7,2,3,10,2,5,3,2,3,1,1,1,1,3,1,1,1,1,3,1,1,5,1,1,3,2,2,1,1,1,1,2,1,2,2,1,4,6,4,2,10,1,4,1,4,7,1,2,1,2,3,6,2,2,1,8,1,2,2,1,1,4,1,4,1,1,2,1,2,1,2,4,3,1,3,7,2,2,2,1,3,3,6,1,1,1,5,1,1,1,2,1,2,2,1,2,2,2,3,2,2,1,4,1,1,2,2,3,5,1,13,1,1,2,4,3,3,5,4,2,3,1,5,2,1,3,2,1,2,3,1,2,1,2,1,5,2,2,4,2,2,1,1,2,1,3,4,1,3,4,5,1,2,1,4,1,1,1,1,6,1,2,4,2,1,2,8,1,2,1,1,1,2,2,4,1,2,2,1,1,1,1,2,2,3,1,2,2,1,2,1,4,1,1,2,3,1,3,1,1,2,1,1,1,1,3,2,1,1,1,1,2,1,1,1,1,1,1,3,2,1,2,1,2,1,1,1,2,3,1,1,1,1,2,2,1,1,1,1,2,1,2,3,1,1,3,1,1,1,1,2,1,1,5,1,1,2,1,1,1,1,1,1,1,1,2,1,1,1,2,1,1,1,1,2,1,1,1,1,2,2,1,2,2,2,2,1,2,1,1,2,2,1,1,1,1,2,2,1,1,1,1,1,1,2,2,1,2,1,1,1,3,1,1,1,1,1,1,1,2,2,1,3,1,1,1,1,1,1,1,2,1,1,1,1,1,1,2,1,2,1,1,1,1,2,1,1,1,1,1,1,1,1,1,1,1,1,1,1,1,1,1,1,1,1,1,2,1,1,1,1,1,1,1,1,1,1,1,1,1,1,1,1,1,1,1,1,1,1,1,1,1,1,1,1,1,1,1,1,1],\"q\":[27,13,28,68,22,14,6,24,16,44,51,12,12,28,11,42,19,6,36,12,15,1,14,44,5,36,6,9,30,9,15,22,15,2,17,17,48,10,12,12,27,23,25,30,20,11,22,47,14,28,18,16,26,16,24,13,7,9,23,23,66,19,8,18,25,10,41,10,27,6,22,11,28,42,19,13,13,18,25,18,25,22,62,23,26,23,21,14,40,4,6,10,0,17,14,31,29,16,20,9,26,39,1,42,3,18,17,4,45,29,65,28,39,8,14,20,25,14,19,19,16,15,23,11,36,28,23,24,40,21,17,16,55,9,27,16,13,53,15,14,13,16,19,22,30,45,21,8,14,19,27,27,9,25,20,8,36,13,30,25,28,59,20,9,17,51,7,18,21,20,7,18,15,12,10,21,24,34,35,12,24,39,25,5,28,22,12,34,37,27,24,40,20,25,34,21,18,18,26,33,11,26,31,61,19,21,18,15,16,37,20,30,40,29,37,59,29,46,17,23,44,30,19,67,40,21,20,56,31,7,34,49,26,24,32,42,24,7,19,20,5,35,17,2,18,32,56,28,15,24,11,26,26,11,26,46,25,23,21,17,9,16,3,37,30,32,20,14,26,52,3,38,21,32,8,33,12,32,40,42,5,38,25,53,20,15,16,43,7,36,59,49,22,41,26,29,29,46,23,31,8,31,33,30,60,10,16,58,30,23,31,41,30,40,34,37,32,42,24,35,21,17,53,10,18,27,25,14,25,32,23,44,39,47,38,39,35,13,44,66,7,63,27,30,62,47,22,5,55,25,33,29,17,51,39,36,61,29,38,40,51,29,36,11,31,56,33,29,31,19,51,14,39,6,18,30,42,24,32,30,29,44,44,55,29,13,23,10,35,29,2,38,65,20,18,28,58,19,57,44,6,26,22,22,44,41,28,47,11,33,16,27,19,35,33,26,35,23,42,13,19,33,4,19,4,34,32,15,21,32,37,44,46,34,27,54,32,41,8,23,35,8,35,37,64,41,39,63,31,50,18,52,51,20,17,28,38,30,29,26,68,32,67,47,6,37,63,63,48,58,47,29,22,37,28,10,33,34,20,41,29,10,26,42,39,21,28,41,20,54,50,41,25,15,45,8,36,33,3,24,65,13,32,31,31,57,19,43,25,36,35,16,46,29,23,33,20,34,31,37,17,45,22,45,48,43,60,32,35,50,47,39,46,44,37,67,44,30,37,27,40,34,54,45,36,48,52,24,45,42,40,35,56,50,51,51,35,22,31,33,36,41,12,31,11,43,49,32,35,18,30,35,17,38,49,31,64,36,54,52,5,39,15,35,31,14,53,42,29,42,42,38,29,56,19,37,44,21,26,49,35,36,51,42,28,43,43,27,35,31,41,59,11,62,44,47,12,40,35,36,27,51,38,43,11,48,40,51,34,46,22,48,30,52,33,54,36,9,32,33,44,42,17,37,47,48,47,20,15,60,48,30,49,47,38,27,12,34,22,41,44,33,3,27,23,30,12,52,14,43,51,51,64,56,52,48,14,8,45,21,50,28,46,42,64,11,56,61,57,38,24,63,8,20,42,24,60,51,38,45,57,49,36,37,52,34,32,58,15,34,50,43,51,38,28,48,46,39,54,32,57,32,46,38,18,7,52,56,55,42,26,29,9,30,54,40,25,48,56,13,54,40,38,32,47,38,27,26,49,32,54,21,45,24,3,44,42,30,34,44,31,37,57,28,43,61,44,1,34,15,29,28,48,53,41,43,49,46,48,37,29,45,53,31,32,45,22,39,30,43,60,44,47,25,11,40,56,33,21,50,25,9,35,55,42,34,33,46,61,61,23,31,53,58,53,35,16,38,36,35,52,22,40,46,31,46,46,34,37,58,38,18,23,12,44,23,40,55,16,57,7,28,49,5,31,51,55,56,33,11,15,35,21,38,33,14,33,48,24,57,8,52,45,36,55,64,50,13,34,51,50,41,46,52,56,9,47,40,58,6,38,44,43,19,52,47,45,53,48,65,38,41,43,33,41,47,41,62,37,39,66,27,5,58,59,33,49,50,60,60,64,42,19,44,51,16,58,62,19,32,45,54,30,40,7,55,19,56,10,39,7,35,49,49,57,58,33,47,63,22,45,40,22,25,39,44,34,37,57,40,14,42,18,28,55,56,26,51,42,37,63,54,31,33,50,37,38,38,43,48,42,49,57,10,59,10,57,35,53,39,29,57,44,34,30,56,57,41,36,42,59,40,52,34,60,53,44,51,31,36,13,49,58,48,48,49,55,45,48,58,20,55,47,57,50,13,43,30,54,39,41,27,38,31,20,38,45,51,26,54,24,33,26,5,6,40,12,24,52,36,14,21,41,24,31,13,55,46,27,52,37,41,42,47,30,55,36,56,39,50,60,62,49,20,10,61,38,46,43,62,37,61,49,20,50,41,51,52,32,38,59,21,37,53,53,52,14,58,23,9,46,49,23,36,3,31,47,37,61,56,25,43,54,50,53,53,41,54,44,47,51,50,46,39,43,36,20,49,36,54,60,36,60,50,44,43,43,28,66,60,48,36,65,51,58,37,63,56,47,39,22,4,15,40,35,42],\"r\":[-21,-9,-18,-50,-18,-13,-4,-21,-6,-34,-15,-10,-11,-21,-9,-33,-14,-9,-26,-9,-10,0,-7,-33,-4,-14,-5,-9,-23,-10,-11,-19,-12,-2,-10,-12,-35,-9,-8,-5,-20,-23,-20,-13,-13,-10,-16,-36,-9,-22,-15,-8,-23,-14,-14,-10,-5,-5,-17,-18,-50,-13,-6,-13,-17,-6,-28,-7,-24,-10,-17,-8,-24,-34,-18,-13,-11,-8,-16,-14,-15,-14,-44,-16,-19,-20,-13,-11,-17,-3,-6,-8,0,-14,-5,-20,-19,-13,-8,-7,-18,-29,-1,-22,-2,-16,-9,-2,-38,-28,-49,-15,-20,-12,-12,-12,-19,-8,-15,-23,-11,-9,-10,-5,-30,-16,-19,-20,-35,-16,-16,-12,-43,-6,-17,-10,-8,-31,-8,-6,-6,-17,-17,-10,-27,-27,-12,-5,-10,-11,-19,-16,-2,-24,-17,-7,-19,-12,-19,-14,-11,-37,-11,-4,-13,-36,-6,-23,-9,-18,-10,-12,-15,-12,-4,-17,-16,-19,-32,-7,-17,-34,-10,-3,-17,-20,-3,-27,-22,-23,-10,-16,-15,-9,-26,-18,-10,-17,-16,-22,-7,-11,-24,-50,-10,-15,-9,-14,-16,-27,-14,-22,-30,-20,-18,-48,-15,-29,-11,-22,-28,-24,-5,-47,-34,-8,-10,-44,-16,-3,-28,-48,-15,-13,-30,-40,-19,-4,-16,-27,-6,-29,-7,-1,-11,-21,-41,-19,-6,-15,-12,-24,-14,-6,-20,-38,-21,-13,-10,-15,-8,-15,-3,-24,-12,-16,-9,-17,-22,-45,-1,-20,-14,-22,-8,-24,-6,-24,-26,-26,-2,-23,-18,-35,-16,-13,-9,-37,-7,-36,-31,-37,-28,-21,-21,-24,-25,-35,-11,-29,-4,-22,-18,-14,-50,-5,-7,-50,-21,-9,-17,-19,-25,-15,-24,-34,-19,-37,-18,-28,-23,-6,-42,-10,-6,-13,-11,-14,-22,-28,-14,-39,-27,-46,-34,-32,-24,-7,-32,-45,-9,-44,-18,-26,-50,-33,-13,-1,-40,-29,-25,-26,-17,-21,-24,-16,-44,-22,-28,-33,-34,-27,-24,-14,-21,-26,-21,-10,-19,-22,-45,-15,-23,-2,-18,-10,-16,-12,-27,-17,-23,-20,-35,-41,-18,-4,-12,-12,-25,-16,-3,-30,-44,-23,-7,-13,-31,-6,-28,-40,-7,-13,-12,-11,-15,-34,-14,-37,-11,-12,-18,-22,-12,-26,-29,-17,-33,-15,-32,-5,-9,-28,-1,-30,-4,-22,-34,-7,-19,-33,-28,-18,-41,-20,-25,-39,-26,-29,-11,-38,-27,-9,-30,-30,-43,-14,-31,-49,-27,-50,-24,-43,-41,-6,-8,-23,-9,-30,-13,-3,-49,-32,-50,-50,-3,-25,-40,-50,-38,-44,-20,-14,-15,-12,-20,-15,-31,-16,-19,-23,-11,-3,-25,-14,-28,-21,-10,-31,-7,-26,-36,-18,-13,-16,-3,-3,-29,-20,-5,-22,-50,-15,-17,-30,-25,-40,-26,-21,-23,-13,-19,-19,-36,-21,-21,-32,-20,-31,-28,-26,-18,-32,-22,-30,-33,-33,-35,-20,-13,-31,-30,-30,-42,-30,-23,-48,-24,-20,-31,-26,-18,-17,-38,-10,-32,-39,-17,-23,-26,-36,-32,-21,-50,-33,-49,-37,-20,-9,-26,-14,-31,-32,-17,-14,-4,-35,-35,-25,-9,-28,-44,-16,-19,-26,-41,-23,-49,-27,-36,-31,-5,-41,-4,-23,-7,-16,-41,-27,-17,-30,-25,-29,-33,-43,-8,-21,-19,-11,-26,-40,-22,-15,-43,-23,-26,-23,-28,-15,-14,-18,-27,-50,-16,-38,-29,-39,-13,-27,-18,-23,-12,-28,-27,-31,-17,-50,-29,-29,-29,-34,-27,-30,-18,-38,-26,-50,-21,-12,-14,-27,-31,-35,-23,-33,-32,-29,-35,-30,-5,-46,-37,-16,-36,-38,-18,-11,-16,-25,-7,-33,-22,-17,0,-9,-7,-15,-4,-48,-4,-19,-39,-35,-41,-31,-36,-27,-3,-2,-34,-20,-38,-25,-43,-29,-50,-13,-38,-35,-31,-14,-11,-39,-15,-28,-39,-9,-42,-19,-35,-50,-50,-42,-28,-29,-41,-23,-15,-42,-17,-13,-13,-26,-32,-17,-12,-32,-39,-33,-27,-18,-35,-8,-23,-33,-21,-2,-32,-29,-35,-28,-12,-7,-1,-28,-46,-24,-26,-44,-39,-14,-35,-44,-19,-29,-34,-31,-14,-10,-34,-23,-21,-7,-33,-30,-4,-16,-21,-39,-8,-36,-9,-50,-38,-35,-30,-38,-9,-2,-34,-3,-12,-27,-41,-34,-22,-41,-39,-31,-25,-37,-9,-16,-44,-15,-13,-39,-21,-17,-29,-39,-33,-37,-45,-8,-18,-25,-37,-15,-6,-39,-42,-3,-12,-47,-24,-14,-35,-33,-39,-36,-33,-50,-45,-40,-50,-31,-26,-25,-17,-50,-35,-8,-21,-32,-13,-18,-37,-18,-32,-32,-22,-5,-8,-19,-27,-24,-20,-42,-5,-47,-11,-29,-50,-8,-12,-33,-48,-33,-16,-1,-19,-15,-22,-15,-19,-18,-23,-31,-27,-45,-10,-37,-41,-22,-50,-42,-42,-21,-15,-38,-41,-35,-24,-34,-46,-11,-44,-28,-49,-1,-12,-38,-38,-20,-50,-28,-20,-33,-24,-43,0,-39,-32,-11,-26,-41,-30,-39,-40,-39,-46,-2,-7,-39,-43,-30,-20,-35,-34,-37,-46,-20,-7,-25,-16,-22,-48,-40,-21,-31,-36,-42,-11,-22,-12,-44,-33,-28,-13,-36,-8,-34,-31,-28,-39,-29,-6,-31,-46,-32,-28,-23,-24,-12,-19,-14,-30,-20,-43,-38,-22,-31,-20,-5,-29,-32,-29,-50,-19,-38,-48,-44,-11,-9,-40,-35,-44,-24,-14,-40,-50,-46,-33,-14,-32,-11,-34,-17,-38,-25,-30,-41,-42,-21,-45,-25,-44,-15,-20,-48,-33,-31,-42,-12,-47,-24,-23,-24,-32,-25,-16,-25,-46,-36,-42,-33,-46,-25,-10,-45,-24,-45,-7,-36,-43,-3,-34,-35,-34,-38,-38,-7,-32,-44,-4,-16,-37,-27,-9,-37,-7,-34,-8,-9,-8,-19,-14,-24,-40,-10,-23,-24,-13,-8,-10,-20,-34,-19,-27,-18,-14,-36,-47,-27,-7,-24,-49,-40,-22,-29,-43,-37,-45,-29,-17,-47,-21,-28,-40,-46,-11,-37,-43,-21,-30,-24,-40,-44,-12,-13,-35,-27,-16,-43,-40,-23,-1,-35,-6,-16,-21,-38,-25,-18,-6,-42,-43,-10,-43,-30,-27,-25,-23,-14,-39,-21,-17,-40,-17,-23,-42,-34,-22,-18,-20,-37,-25,-16,-38,-45,-48,-33,-44,-18,-1,0,-42,-7,-48,-49,-43,-34,-47,-30,-30,-15,-42,-35,-40,-35,-23,-8,-20,-14,-48,-17]},\"selected\":{\"id\":\"17648\"},\"selection_policy\":{\"id\":\"17672\"}},\"id\":\"17647\",\"type\":\"ColumnDataSource\"},{\"attributes\":{\"aspect_scale\":1.8846118041316233,\"fill_alpha\":{\"value\":0.1},\"fill_color\":{\"field\":\"Count\",\"transform\":{\"id\":\"17646\"}},\"hatch_alpha\":{\"value\":0.1},\"hatch_color\":{\"field\":\"Count\",\"transform\":{\"id\":\"17646\"}},\"line_alpha\":{\"value\":0.1},\"line_color\":{\"field\":\"Count\",\"transform\":{\"id\":\"17646\"}},\"q\":{\"field\":\"q\"},\"r\":{\"field\":\"r\"},\"size\":121.69408563523689},\"id\":\"17651\",\"type\":\"HexTile\"},{\"attributes\":{\"overlay\":{\"id\":\"17638\"}},\"id\":\"17636\",\"type\":\"BoxZoomTool\"},{\"attributes\":{\"source\":{\"id\":\"17647\"}},\"id\":\"17654\",\"type\":\"CDSView\"},{\"attributes\":{},\"id\":\"17648\",\"type\":\"Selection\"},{\"attributes\":{},\"id\":\"17633\",\"type\":\"SaveTool\"},{\"attributes\":{\"margin\":[5,5,5,5],\"name\":\"HSpacer38821\",\"sizing_mode\":\"stretch_width\"},\"id\":\"17675\",\"type\":\"Spacer\"},{\"attributes\":{\"end\":10041.762064907043,\"reset_end\":10041.762064907043,\"reset_start\":-910.7056422642768,\"start\":-910.7056422642768,\"tags\":[[[\"total_rooms\",\"total_rooms\",null]]]},\"id\":\"17614\",\"type\":\"Range1d\"},{\"attributes\":{\"axis_label\":\"total_rooms\",\"coordinates\":null,\"formatter\":{\"id\":\"17662\"},\"group\":null,\"major_label_policy\":{\"id\":\"17663\"},\"ticker\":{\"id\":\"17630\"}},\"id\":\"17629\",\"type\":\"LinearAxis\"},{\"attributes\":{},\"id\":\"17668\",\"type\":\"NoOverlap\"},{\"attributes\":{},\"id\":\"17635\",\"type\":\"WheelZoomTool\"},{\"attributes\":{\"axis\":{\"id\":\"17629\"},\"coordinates\":null,\"dimension\":1,\"grid_line_color\":null,\"group\":null,\"ticker\":null},\"id\":\"17632\",\"type\":\"Grid\"},{\"attributes\":{},\"id\":\"17655\",\"type\":\"BasicTicker\"},{\"attributes\":{},\"id\":\"17662\",\"type\":\"BasicTickFormatter\"},{\"attributes\":{},\"id\":\"17659\",\"type\":\"BasicTickFormatter\"},{\"attributes\":{},\"id\":\"17672\",\"type\":\"UnionRenderers\"},{\"attributes\":{},\"id\":\"17630\",\"type\":\"BasicTicker\"},{\"attributes\":{\"coordinates\":null,\"group\":null,\"text\":\"Correlation: 0.844\",\"text_color\":\"black\",\"text_font_size\":\"12pt\"},\"id\":\"17617\",\"type\":\"Title\"},{\"attributes\":{\"aspect_scale\":1.8846118041316233,\"fill_alpha\":{\"value\":0.2},\"fill_color\":{\"field\":\"Count\",\"transform\":{\"id\":\"17646\"}},\"hatch_alpha\":{\"value\":0.2},\"hatch_color\":{\"field\":\"Count\",\"transform\":{\"id\":\"17646\"}},\"line_alpha\":{\"value\":0.2},\"line_color\":{\"field\":\"Count\",\"transform\":{\"id\":\"17646\"}},\"q\":{\"field\":\"q\"},\"r\":{\"field\":\"r\"},\"size\":121.69408563523689},\"id\":\"17652\",\"type\":\"HexTile\"},{\"attributes\":{\"margin\":[5,5,5,5],\"name\":\"HSpacer38820\",\"sizing_mode\":\"stretch_width\"},\"id\":\"17612\",\"type\":\"Spacer\"},{\"attributes\":{\"axis\":{\"id\":\"17625\"},\"coordinates\":null,\"grid_line_color\":null,\"group\":null,\"ticker\":null},\"id\":\"17628\",\"type\":\"Grid\"},{\"attributes\":{\"below\":[{\"id\":\"17625\"}],\"center\":[{\"id\":\"17628\"},{\"id\":\"17632\"}],\"height\":300,\"left\":[{\"id\":\"17629\"}],\"margin\":[5,5,5,5],\"min_border_bottom\":10,\"min_border_left\":10,\"min_border_right\":10,\"min_border_top\":10,\"renderers\":[{\"id\":\"17653\"}],\"right\":[{\"id\":\"17656\"}],\"sizing_mode\":\"fixed\",\"title\":{\"id\":\"17617\"},\"toolbar\":{\"id\":\"17639\"},\"x_range\":{\"id\":\"17613\"},\"x_scale\":{\"id\":\"17621\"},\"y_range\":{\"id\":\"17614\"},\"y_scale\":{\"id\":\"17623\"}},\"id\":\"17616\",\"subtype\":\"Figure\",\"type\":\"Plot\"},{\"attributes\":{},\"id\":\"17663\",\"type\":\"AllLabels\"},{\"attributes\":{\"end\":4845.937098575726,\"reset_end\":4845.937098575726,\"reset_start\":3.0,\"start\":3.0,\"tags\":[[[\"population\",\"population\",null]]]},\"id\":\"17613\",\"type\":\"Range1d\"},{\"attributes\":{},\"id\":\"17626\",\"type\":\"BasicTicker\"},{\"attributes\":{\"tools\":[{\"id\":\"17615\"},{\"id\":\"17633\"},{\"id\":\"17634\"},{\"id\":\"17635\"},{\"id\":\"17636\"},{\"id\":\"17637\"}]},\"id\":\"17639\",\"type\":\"Toolbar\"},{\"attributes\":{},\"id\":\"17621\",\"type\":\"LinearScale\"},{\"attributes\":{\"children\":[{\"id\":\"17612\"},{\"id\":\"17616\"},{\"id\":\"17675\"}],\"margin\":[0,0,0,0],\"name\":\"Row38816\",\"tags\":[\"embedded\"]},\"id\":\"17611\",\"type\":\"Row\"},{\"attributes\":{},\"id\":\"17634\",\"type\":\"PanTool\"},{\"attributes\":{\"bottom_units\":\"screen\",\"coordinates\":null,\"fill_alpha\":0.5,\"fill_color\":\"lightgrey\",\"group\":null,\"left_units\":\"screen\",\"level\":\"overlay\",\"line_alpha\":1.0,\"line_color\":\"black\",\"line_dash\":[4,4],\"line_width\":2,\"right_units\":\"screen\",\"syncable\":false,\"top_units\":\"screen\"},\"id\":\"17638\",\"type\":\"BoxAnnotation\"},{\"attributes\":{},\"id\":\"17660\",\"type\":\"AllLabels\"},{\"attributes\":{\"bar_line_color\":\"black\",\"color_mapper\":{\"id\":\"17646\"},\"coordinates\":null,\"group\":null,\"label_standoff\":8,\"location\":[0,0],\"major_label_policy\":{\"id\":\"17668\"},\"major_tick_line_color\":\"black\",\"ticker\":{\"id\":\"17655\"}},\"id\":\"17656\",\"type\":\"ColorBar\"},{\"attributes\":{\"coordinates\":null,\"data_source\":{\"id\":\"17647\"},\"glyph\":{\"id\":\"17650\"},\"group\":null,\"hover_glyph\":null,\"muted_glyph\":{\"id\":\"17652\"},\"nonselection_glyph\":{\"id\":\"17651\"},\"selection_glyph\":{\"id\":\"17657\"},\"view\":{\"id\":\"17654\"}},\"id\":\"17653\",\"type\":\"GlyphRenderer\"},{\"attributes\":{\"callback\":null,\"renderers\":[{\"id\":\"17653\"}],\"tags\":[\"hv_created\"],\"tooltips\":[[\"Count\",\"@{Count}\"]]},\"id\":\"17615\",\"type\":\"HoverTool\"},{\"attributes\":{},\"id\":\"17637\",\"type\":\"ResetTool\"},{\"attributes\":{\"high\":229,\"low\":1,\"palette\":[\"#b3fef5\",\"#b0fef5\",\"#adfdf5\",\"#a9fcf5\",\"#a6fbf6\",\"#a3faf6\",\"#a0faf6\",\"#9df9f6\",\"#9af8f6\",\"#97f7f6\",\"#93f7f6\",\"#90f6f6\",\"#8df5f6\",\"#8af4f7\",\"#87f3f7\",\"#83f2f7\",\"#80f2f7\",\"#7df1f7\",\"#79f0f7\",\"#76eff7\",\"#73eef7\",\"#6fedf8\",\"#6cecf8\",\"#68ecf8\",\"#65ebf8\",\"#61eaf8\",\"#5ee9f8\",\"#5ae8f8\",\"#57e7f8\",\"#53e6f8\",\"#50e5f9\",\"#4ce4f9\",\"#49e3f9\",\"#45e2f9\",\"#42e1f9\",\"#3ee0f9\",\"#3bdff9\",\"#38def9\",\"#35ddf9\",\"#32dcf9\",\"#30dbfa\",\"#2ed9fa\",\"#2dd8fa\",\"#2cd7fa\",\"#2bd6fa\",\"#2bd5fa\",\"#2ad3fa\",\"#2ad2fa\",\"#29d1fa\",\"#29d0fb\",\"#29cffb\",\"#28cdfb\",\"#28ccfb\",\"#28cbfb\",\"#28cafb\",\"#28c8fb\",\"#28c7fb\",\"#29c6fb\",\"#29c5fb\",\"#29c4fb\",\"#29c2fb\",\"#2ac1fb\",\"#2ac0fb\",\"#2bbffb\",\"#2bbdfc\",\"#2cbcfc\",\"#2dbbfc\",\"#2db9fc\",\"#2eb8fc\",\"#2fb7fc\",\"#2fb6fc\",\"#30b4fc\",\"#31b3fc\",\"#32b2fc\",\"#32b0fc\",\"#33affc\",\"#33aefc\",\"#34adfc\",\"#34abfc\",\"#34aafc\",\"#35a9fc\",\"#35a8fc\",\"#35a6fc\",\"#35a5fc\",\"#35a4fc\",\"#35a3fc\",\"#35a1fc\",\"#35a0fc\",\"#359ffc\",\"#359dfc\",\"#359cfc\",\"#359bfc\",\"#349afd\",\"#3498fd\",\"#3497fd\",\"#3396fd\",\"#3395fd\",\"#3293fd\",\"#3292fd\",\"#3191fd\",\"#3090fd\",\"#308ffd\",\"#2f8dfd\",\"#2f8cfd\",\"#2e8bfd\",\"#2e8afd\",\"#2d88fd\",\"#2d87fd\",\"#2c86fd\",\"#2c84fd\",\"#2c83fd\",\"#2c82fd\",\"#2b81fd\",\"#2b7ffd\",\"#2b7efd\",\"#2b7dfd\",\"#2b7bfd\",\"#2b7afd\",\"#2b79fd\",\"#2b77fd\",\"#2b76fd\",\"#2b75fd\",\"#2b73fd\",\"#2c72fd\",\"#2c71fd\",\"#2c6ffd\",\"#2c6efd\",\"#2d6cfd\",\"#2d6bfd\",\"#2d6afc\",\"#2e68fc\",\"#2e67fc\",\"#2e65fc\",\"#2e64fc\",\"#2f62fc\",\"#2f61fc\",\"#2f5ffc\",\"#2f5efc\",\"#2f5dfc\",\"#2f5bfc\",\"#2f5afc\",\"#2f58fb\",\"#2f57fb\",\"#2f55fb\",\"#2f53fb\",\"#2f52fb\",\"#2f50fb\",\"#2f4ffb\",\"#2f4dfb\",\"#2e4cfb\",\"#2e4afb\",\"#2e48fb\",\"#2e47fa\",\"#2d45fa\",\"#2d43fa\",\"#2d42fa\",\"#2d40fa\",\"#2c3efa\",\"#2c3dfa\",\"#2b3bf9\",\"#2b39f9\",\"#2a37f9\",\"#2a36f8\",\"#2934f8\",\"#2832f7\",\"#2831f7\",\"#272ff6\",\"#262ef5\",\"#252cf5\",\"#252af4\",\"#2429f3\",\"#2327f2\",\"#2226f1\",\"#2124f0\",\"#2023ef\",\"#1f22ee\",\"#1e20ed\",\"#1d1feb\",\"#1c1eea\",\"#1b1ce9\",\"#1a1be7\",\"#181ae6\",\"#1719e5\",\"#1618e3\",\"#1417e1\",\"#1316e0\",\"#1215de\",\"#1014dc\",\"#0f13db\",\"#0e12d9\",\"#0d11d7\",\"#0c10d5\",\"#0b0fd3\",\"#0a0ed1\",\"#090dd0\",\"#080dce\",\"#080ccc\",\"#070bca\",\"#070ac8\",\"#0709c6\",\"#0708c4\",\"#0707c2\",\"#0707bf\",\"#0806bd\",\"#0806bb\",\"#0905b9\",\"#0904b7\",\"#0a04b5\",\"#0a04b2\",\"#0b03b0\",\"#0c03ae\",\"#0d02ab\",\"#0e02a9\",\"#0e02a7\",\"#0f02a4\",\"#0f01a2\",\"#1001a0\",\"#10019d\",\"#10019b\",\"#100199\",\"#100197\",\"#100194\",\"#0f0192\",\"#0f0190\",\"#0f018e\",\"#0e018b\",\"#0e0189\",\"#0d0187\",\"#0d0185\",\"#0c0183\",\"#0b0181\",\"#0b017e\",\"#0a017c\",\"#09017a\",\"#090178\",\"#080276\",\"#070274\",\"#060272\",\"#060270\",\"#05026e\",\"#04026c\",\"#030269\",\"#030267\",\"#020265\",\"#010263\",\"#010261\",\"#00025f\",\"#00025d\",\"#00025b\",\"#000259\",\"#000257\",\"#000255\",\"#000154\",\"#000152\",\"#000150\",\"#00004e\"]},\"id\":\"17646\",\"type\":\"LinearColorMapper\"},{\"attributes\":{},\"id\":\"17623\",\"type\":\"LinearScale\"},{\"attributes\":{\"aspect_scale\":1.8846118041316233,\"fill_color\":{\"field\":\"Count\",\"transform\":{\"id\":\"17646\"}},\"hatch_color\":{\"field\":\"Count\",\"transform\":{\"id\":\"17646\"}},\"line_color\":{\"field\":\"Count\",\"transform\":{\"id\":\"17646\"}},\"q\":{\"field\":\"q\"},\"r\":{\"field\":\"r\"},\"size\":121.69408563523689},\"id\":\"17650\",\"type\":\"HexTile\"},{\"attributes\":{\"aspect_scale\":1.8846118041316233,\"fill_alpha\":{\"value\":1.0},\"fill_color\":{\"field\":\"Count\",\"transform\":{\"id\":\"17646\"}},\"hatch_alpha\":{\"value\":1.0},\"hatch_color\":{\"field\":\"Count\",\"transform\":{\"id\":\"17646\"}},\"hatch_scale\":{\"value\":12.0},\"hatch_weight\":{\"value\":1.0},\"line_alpha\":{\"value\":1.0},\"line_cap\":{\"value\":\"butt\"},\"line_color\":{\"field\":\"Count\",\"transform\":{\"id\":\"17646\"}},\"line_dash\":{\"value\":[]},\"line_dash_offset\":{\"value\":0},\"line_join\":{\"value\":\"bevel\"},\"line_width\":{\"value\":1},\"q\":{\"field\":\"q\"},\"r\":{\"field\":\"r\"},\"scale\":{\"value\":1.0},\"size\":121.69408563523689},\"id\":\"17657\",\"type\":\"HexTile\"},{\"attributes\":{\"axis_label\":\"population\",\"coordinates\":null,\"formatter\":{\"id\":\"17659\"},\"group\":null,\"major_label_policy\":{\"id\":\"17660\"},\"ticker\":{\"id\":\"17626\"}},\"id\":\"17625\",\"type\":\"LinearAxis\"}],\"root_ids\":[\"17611\"]},\"title\":\"Bokeh Application\",\"version\":\"2.4.3\"}};\n",
       "    var render_items = [{\"docid\":\"79252e1e-2875-4a7e-973f-f90a9a457752\",\"root_ids\":[\"17611\"],\"roots\":{\"17611\":\"29e1d4c6-db18-44e3-9a98-0d3c2cd2f763\"}}];\n",
       "    root.Bokeh.embed.embed_items_notebook(docs_json, render_items);\n",
       "  }\n",
       "  if (root.Bokeh !== undefined && root.Bokeh.Panel !== undefined) {\n",
       "    embed_document(root);\n",
       "  } else {\n",
       "    var attempts = 0;\n",
       "    var timer = setInterval(function(root) {\n",
       "      if (root.Bokeh !== undefined && root.Bokeh.Panel !== undefined) {\n",
       "        clearInterval(timer);\n",
       "        embed_document(root);\n",
       "      } else if (document.readyState == \"complete\") {\n",
       "        attempts++;\n",
       "        if (attempts > 200) {\n",
       "          clearInterval(timer);\n",
       "          console.log(\"Bokeh: ERROR: Unable to run BokehJS code because BokehJS library is missing\");\n",
       "        }\n",
       "      }\n",
       "    }, 25, root)\n",
       "  }\n",
       "})(window);</script>"
      ],
      "text/plain": [
       ":HexTiles   [population,total_rooms]"
      ]
     },
     "execution_count": 19,
     "metadata": {
      "application/vnd.holoviews_exec.v0+json": {
       "id": "17611"
      }
     },
     "output_type": "execute_result"
    }
   ],
   "source": [
    "out = eda.get_bivariate_plots(train_X, x_cols=['population'], y_cols=['total_rooms'])\n",
    "out"
   ]
  },
  {
   "cell_type": "code",
   "execution_count": 20,
   "id": "b124888a-6968-43dc-ba15-54f59ff267db",
   "metadata": {},
   "outputs": [
    {
     "name": "stdout",
     "output_type": "stream",
     "text": [
      "CPU times: user 31.8 s, sys: 35.2 s, total: 1min 7s\n",
      "Wall time: 23.5 s\n"
     ]
    }
   ],
   "source": [
    "%%time\n",
    "# create reports as needed\n",
    "cols = train_X.columns.to_list()\n",
    "all_plots = {}\n",
    "for ii, col1 in enumerate(cols): \n",
    "    for jj in range(ii+1, len(cols)):\n",
    "        col2 = cols[jj]\n",
    "        out = eda.get_bivariate_plots(train_X, x_cols=[col1], y_cols=[col2])\n",
    "        all_plots.update({f'{col2} vs {col1}': out})\n",
    "\n",
    "reports.create_report(all_plots, name='reports/feature_analysis_bivariate')"
   ]
  },
  {
   "attachments": {},
   "cell_type": "markdown",
   "id": "c0e2284e-24ff-4785-8757-df2cc6a99a45",
   "metadata": {},
   "source": [
    "A report containing the bivariate plot is available [here](https://drive.google.com/file/d/1WSGT3586tY-rOmZ57xGILbmL5ll9cSVT/view?usp=sharing)\n",
    "\n",
    "Alternatively, the above plots can be generated as a single html as below. The output from this is available [here](https://drive.google.com/file/d/1A2fz_bjYv8I3iaFDT75JQSDKeJEXxCtp/view?usp=sharing)"
   ]
  },
  {
   "cell_type": "code",
   "execution_count": 21,
   "id": "cf593fdf-b3dd-43d9-b669-7368b0eb7019",
   "metadata": {},
   "outputs": [],
   "source": [
    "reports.feature_interactions(train_X,'reports/feature_interaction_report.html')"
   ]
  },
  {
   "attachments": {},
   "cell_type": "markdown",
   "id": "5b75aabd-f01e-4209-8ec1-059ae644e18c",
   "metadata": {},
   "source": [
    "### 3.2.3 Key Drivers - Interaction with Target variable"
   ]
  },
  {
   "cell_type": "code",
   "execution_count": 22,
   "id": "05601afb-e37f-49ba-87b4-b42c20263014",
   "metadata": {},
   "outputs": [
    {
     "data": {},
     "metadata": {},
     "output_type": "display_data"
    },
    {
     "data": {},
     "metadata": {},
     "output_type": "display_data"
    },
    {
     "data": {
      "application/vnd.holoviews_exec.v0+json": "",
      "text/html": [
       "<div id='39152'>\n",
       "  <div class=\"bk-root\" id=\"95dd9d9c-148e-43e6-afae-1b4694dbc40c\" data-root-id=\"39152\"></div>\n",
       "</div>\n",
       "<script type=\"application/javascript\">(function(root) {\n",
       "  function embed_document(root) {\n",
       "    var docs_json = {\"300162f5-0058-4a5f-bed7-6aacdab20cb8\":{\"defs\":[{\"extends\":null,\"module\":null,\"name\":\"ReactiveHTML1\",\"overrides\":[],\"properties\":[]},{\"extends\":null,\"module\":null,\"name\":\"FlexBox1\",\"overrides\":[],\"properties\":[{\"default\":\"flex-start\",\"kind\":null,\"name\":\"align_content\"},{\"default\":\"flex-start\",\"kind\":null,\"name\":\"align_items\"},{\"default\":\"row\",\"kind\":null,\"name\":\"flex_direction\"},{\"default\":\"wrap\",\"kind\":null,\"name\":\"flex_wrap\"},{\"default\":\"flex-start\",\"kind\":null,\"name\":\"justify_content\"}]},{\"extends\":null,\"module\":null,\"name\":\"GridStack1\",\"overrides\":[],\"properties\":[{\"default\":\"warn\",\"kind\":null,\"name\":\"mode\"},{\"default\":null,\"kind\":null,\"name\":\"ncols\"},{\"default\":null,\"kind\":null,\"name\":\"nrows\"},{\"default\":true,\"kind\":null,\"name\":\"allow_resize\"},{\"default\":true,\"kind\":null,\"name\":\"allow_drag\"},{\"default\":[],\"kind\":null,\"name\":\"state\"}]},{\"extends\":null,\"module\":null,\"name\":\"click1\",\"overrides\":[],\"properties\":[{\"default\":\"\",\"kind\":null,\"name\":\"terminal_output\"},{\"default\":\"\",\"kind\":null,\"name\":\"debug_name\"},{\"default\":0,\"kind\":null,\"name\":\"clears\"}]},{\"extends\":null,\"module\":null,\"name\":\"NotificationAreaBase1\",\"overrides\":[],\"properties\":[{\"default\":\"bottom-right\",\"kind\":null,\"name\":\"position\"},{\"default\":0,\"kind\":null,\"name\":\"_clear\"}]},{\"extends\":null,\"module\":null,\"name\":\"NotificationArea1\",\"overrides\":[],\"properties\":[{\"default\":[],\"kind\":null,\"name\":\"notifications\"},{\"default\":\"bottom-right\",\"kind\":null,\"name\":\"position\"},{\"default\":0,\"kind\":null,\"name\":\"_clear\"},{\"default\":[{\"background\":\"#ffc107\",\"icon\":{\"className\":\"fas fa-exclamation-triangle\",\"color\":\"white\",\"tagName\":\"i\"},\"type\":\"warning\"},{\"background\":\"#007bff\",\"icon\":{\"className\":\"fas fa-info-circle\",\"color\":\"white\",\"tagName\":\"i\"},\"type\":\"info\"}],\"kind\":null,\"name\":\"types\"}]},{\"extends\":null,\"module\":null,\"name\":\"Notification\",\"overrides\":[],\"properties\":[{\"default\":null,\"kind\":null,\"name\":\"background\"},{\"default\":3000,\"kind\":null,\"name\":\"duration\"},{\"default\":null,\"kind\":null,\"name\":\"icon\"},{\"default\":\"\",\"kind\":null,\"name\":\"message\"},{\"default\":null,\"kind\":null,\"name\":\"notification_type\"},{\"default\":false,\"kind\":null,\"name\":\"_destroyed\"}]},{\"extends\":null,\"module\":null,\"name\":\"TemplateActions1\",\"overrides\":[],\"properties\":[{\"default\":0,\"kind\":null,\"name\":\"open_modal\"},{\"default\":0,\"kind\":null,\"name\":\"close_modal\"}]},{\"extends\":null,\"module\":null,\"name\":\"MaterialTemplateActions1\",\"overrides\":[],\"properties\":[{\"default\":0,\"kind\":null,\"name\":\"open_modal\"},{\"default\":0,\"kind\":null,\"name\":\"close_modal\"}]}],\"roots\":{\"references\":[{\"attributes\":{\"fill_alpha\":{\"value\":1.0},\"fill_color\":{\"value\":\"#30a2da\"},\"hatch_alpha\":{\"value\":1.0},\"hatch_color\":{\"value\":\"#30a2da\"},\"hatch_scale\":{\"value\":12.0},\"hatch_weight\":{\"value\":1.0},\"height\":{\"value\":0.8},\"left\":{\"value\":0},\"line_alpha\":{\"value\":1.0},\"line_cap\":{\"value\":\"butt\"},\"line_color\":{\"value\":\"black\"},\"line_dash\":{\"value\":[]},\"line_dash_offset\":{\"value\":0},\"line_join\":{\"value\":\"bevel\"},\"line_width\":{\"value\":1},\"right\":{\"field\":\"Pearson_correlation_with_Target\"},\"y\":{\"field\":\"index\"}},\"id\":\"39193\",\"type\":\"HBar\"},{\"attributes\":{\"callback\":null,\"renderers\":[{\"id\":\"39191\"}],\"tags\":[\"hv_created\"],\"tooltips\":[[\"index\",\"@{index}\"],[\"Pearson_correlation_with_Target\",\"@{Pearson_correlation_with_Target}\"]]},\"id\":\"39155\",\"type\":\"HoverTool\"},{\"attributes\":{\"child\":{\"id\":\"39156\"},\"name\":\"feature_correlation\",\"title\":\"feature_correlation\"},\"id\":\"39210\",\"type\":\"Panel\"},{\"attributes\":{\"data\":{\"Pearson_correlation_with_Target\":{\"__ndarray__\":\"EqhKYEnf3r8N1VWHxhnSv8W+o71SK8i/NuoxIy6owr8CmwByrfylvyIMKvUuo52/ViWx8rkwmz+4hpKMS2OzP18VCwEzc7s/vTOn9LuxwT+YoAT61RHEP74GaWQfGMQ/jieLhauE0D/Ul2jsHWfRP8Kk53QeruQ/lRSXsRVT5j8=\",\"dtype\":\"float64\",\"order\":\"little\",\"shape\":[16]},\"index\":[\"ocean_proximity_3\",\"bedrooms_per_room\",\"population_per_household\",\"latitude\",\"longitude\",\"population\",\"ocean_proximity_5\",\"households\",\"housing_median_age\",\"ocean_proximity_4\",\"total_rooms\",\"ocean_proximity_2\",\"ocean_proximity_1\",\"rooms_per_household\",\"income_cat\",\"median_income\"]},\"selected\":{\"id\":\"39186\"},\"selection_policy\":{\"id\":\"39207\"}},\"id\":\"39185\",\"type\":\"ColumnDataSource\"},{\"attributes\":{},\"id\":\"39163\",\"type\":\"CategoricalScale\"},{\"attributes\":{},\"id\":\"39173\",\"type\":\"PanTool\"},{\"attributes\":{},\"id\":\"39195\",\"type\":\"BasicTickFormatter\"},{\"attributes\":{\"margin\":[0,0,0,0],\"tabs\":[{\"id\":\"39210\"}]},\"id\":\"39152\",\"type\":\"panel.models.tabs.Tabs\"},{\"attributes\":{},\"id\":\"39174\",\"type\":\"WheelZoomTool\"},{\"attributes\":{},\"id\":\"39207\",\"type\":\"UnionRenderers\"},{\"attributes\":{\"end\":0.8156442317436541,\"reset_end\":0.8156442317436541,\"reset_start\":-0.6003803855169763,\"start\":-0.6003803855169763,\"tags\":[[[\"Pearson_correlation_with_Target\",\"Pearson_correlation_with_Target\",null]]]},\"id\":\"39153\",\"type\":\"Range1d\"},{\"attributes\":{},\"id\":\"39198\",\"type\":\"CategoricalTickFormatter\"},{\"attributes\":{\"below\":[{\"id\":\"39165\"}],\"center\":[{\"id\":\"39168\"},{\"id\":\"39171\"}],\"height\":300,\"left\":[{\"id\":\"39169\"}],\"margin\":[5,5,5,5],\"min_border_bottom\":10,\"min_border_left\":10,\"min_border_right\":10,\"min_border_top\":10,\"renderers\":[{\"id\":\"39191\"}],\"sizing_mode\":\"fixed\",\"title\":{\"id\":\"39157\"},\"toolbar\":{\"id\":\"39178\"},\"width\":700,\"x_range\":{\"id\":\"39153\"},\"x_scale\":{\"id\":\"39161\"},\"y_range\":{\"id\":\"39154\"},\"y_scale\":{\"id\":\"39163\"}},\"id\":\"39156\",\"subtype\":\"Figure\",\"type\":\"Plot\"},{\"attributes\":{\"axis\":{\"id\":\"39169\"},\"coordinates\":null,\"dimension\":1,\"grid_line_color\":null,\"group\":null,\"ticker\":null},\"id\":\"39171\",\"type\":\"Grid\"},{\"attributes\":{\"fill_alpha\":{\"value\":0.1},\"fill_color\":{\"value\":\"#30a2da\"},\"hatch_alpha\":{\"value\":0.1},\"hatch_color\":{\"value\":\"#30a2da\"},\"height\":{\"value\":0.8},\"line_alpha\":{\"value\":0.1},\"right\":{\"field\":\"Pearson_correlation_with_Target\"},\"y\":{\"field\":\"index\"}},\"id\":\"39189\",\"type\":\"HBar\"},{\"attributes\":{\"tools\":[{\"id\":\"39155\"},{\"id\":\"39172\"},{\"id\":\"39173\"},{\"id\":\"39174\"},{\"id\":\"39175\"},{\"id\":\"39176\"}]},\"id\":\"39178\",\"type\":\"Toolbar\"},{\"attributes\":{},\"id\":\"39161\",\"type\":\"LinearScale\"},{\"attributes\":{\"bottom_units\":\"screen\",\"coordinates\":null,\"fill_alpha\":0.5,\"fill_color\":\"lightgrey\",\"group\":null,\"left_units\":\"screen\",\"level\":\"overlay\",\"line_alpha\":1.0,\"line_color\":\"black\",\"line_dash\":[4,4],\"line_width\":2,\"right_units\":\"screen\",\"syncable\":false,\"top_units\":\"screen\"},\"id\":\"39177\",\"type\":\"BoxAnnotation\"},{\"attributes\":{\"overlay\":{\"id\":\"39177\"}},\"id\":\"39175\",\"type\":\"BoxZoomTool\"},{\"attributes\":{\"coordinates\":null,\"group\":null,\"text\":\"Feature Correlation with Target Function\",\"text_color\":\"black\",\"text_font_size\":\"12pt\"},\"id\":\"39157\",\"type\":\"Title\"},{\"attributes\":{},\"id\":\"39176\",\"type\":\"ResetTool\"},{\"attributes\":{\"fill_color\":{\"value\":\"#30a2da\"},\"hatch_color\":{\"value\":\"#30a2da\"},\"height\":{\"value\":0.8},\"right\":{\"field\":\"Pearson_correlation_with_Target\"},\"y\":{\"field\":\"index\"}},\"id\":\"39188\",\"type\":\"HBar\"},{\"attributes\":{},\"id\":\"39186\",\"type\":\"Selection\"},{\"attributes\":{},\"id\":\"39199\",\"type\":\"AllLabels\"},{\"attributes\":{\"axis_label\":\"Pearson_correlation_with_Target\",\"coordinates\":null,\"formatter\":{\"id\":\"39195\"},\"group\":null,\"major_label_policy\":{\"id\":\"39196\"},\"ticker\":{\"id\":\"39166\"}},\"id\":\"39165\",\"type\":\"LinearAxis\"},{\"attributes\":{},\"id\":\"39172\",\"type\":\"SaveTool\"},{\"attributes\":{\"source\":{\"id\":\"39185\"}},\"id\":\"39192\",\"type\":\"CDSView\"},{\"attributes\":{\"fill_alpha\":{\"value\":0.2},\"fill_color\":{\"value\":\"#30a2da\"},\"hatch_alpha\":{\"value\":0.2},\"hatch_color\":{\"value\":\"#30a2da\"},\"height\":{\"value\":0.8},\"line_alpha\":{\"value\":0.2},\"right\":{\"field\":\"Pearson_correlation_with_Target\"},\"y\":{\"field\":\"index\"}},\"id\":\"39190\",\"type\":\"HBar\"},{\"attributes\":{\"factors\":[\"ocean_proximity_3\",\"bedrooms_per_room\",\"population_per_household\",\"latitude\",\"longitude\",\"population\",\"ocean_proximity_5\",\"households\",\"housing_median_age\",\"ocean_proximity_4\",\"total_rooms\",\"ocean_proximity_2\",\"ocean_proximity_1\",\"rooms_per_household\",\"income_cat\",\"median_income\"],\"tags\":[[[\"index\",\"index\",null]]]},\"id\":\"39154\",\"type\":\"FactorRange\"},{\"attributes\":{},\"id\":\"39170\",\"type\":\"CategoricalTicker\"},{\"attributes\":{\"axis\":{\"id\":\"39165\"},\"coordinates\":null,\"grid_line_color\":null,\"group\":null,\"ticker\":null},\"id\":\"39168\",\"type\":\"Grid\"},{\"attributes\":{},\"id\":\"39196\",\"type\":\"AllLabels\"},{\"attributes\":{\"client_comm_id\":\"451b9f4db3a14f98845d27e11108d368\",\"comm_id\":\"7abd3231c994472dae812610e3ef50b5\",\"plot_id\":\"39152\"},\"id\":\"39241\",\"type\":\"panel.models.comm_manager.CommManager\"},{\"attributes\":{},\"id\":\"39166\",\"type\":\"BasicTicker\"},{\"attributes\":{\"coordinates\":null,\"data_source\":{\"id\":\"39185\"},\"glyph\":{\"id\":\"39188\"},\"group\":null,\"hover_glyph\":null,\"muted_glyph\":{\"id\":\"39190\"},\"nonselection_glyph\":{\"id\":\"39189\"},\"selection_glyph\":{\"id\":\"39193\"},\"view\":{\"id\":\"39192\"}},\"id\":\"39191\",\"type\":\"GlyphRenderer\"},{\"attributes\":{\"axis_label\":\"\",\"coordinates\":null,\"formatter\":{\"id\":\"39198\"},\"group\":null,\"major_label_policy\":{\"id\":\"39199\"},\"ticker\":{\"id\":\"39170\"}},\"id\":\"39169\",\"type\":\"CategoricalAxis\"}],\"root_ids\":[\"39152\",\"39241\"]},\"title\":\"Bokeh Application\",\"version\":\"2.4.3\"}};\n",
       "    var render_items = [{\"docid\":\"300162f5-0058-4a5f-bed7-6aacdab20cb8\",\"root_ids\":[\"39152\"],\"roots\":{\"39152\":\"95dd9d9c-148e-43e6-afae-1b4694dbc40c\"}}];\n",
       "    root.Bokeh.embed.embed_items_notebook(docs_json, render_items);\n",
       "  }\n",
       "  if (root.Bokeh !== undefined && root.Bokeh.Panel !== undefined) {\n",
       "    embed_document(root);\n",
       "  } else {\n",
       "    var attempts = 0;\n",
       "    var timer = setInterval(function(root) {\n",
       "      if (root.Bokeh !== undefined && root.Bokeh.Panel !== undefined) {\n",
       "        clearInterval(timer);\n",
       "        embed_document(root);\n",
       "      } else if (document.readyState == \"complete\") {\n",
       "        attempts++;\n",
       "        if (attempts > 200) {\n",
       "          clearInterval(timer);\n",
       "          console.log(\"Bokeh: ERROR: Unable to run BokehJS code because BokehJS library is missing\");\n",
       "        }\n",
       "      }\n",
       "    }, 25, root)\n",
       "  }\n",
       "})(window);</script>"
      ],
      "text/plain": [
       "Tabs\n",
       "    [0] HoloViews(Bars, name='feature_correlation')"
      ]
     },
     "execution_count": 22,
     "metadata": {
      "application/vnd.holoviews_exec.v0+json": {
       "id": "39152"
      }
     },
     "output_type": "execute_result"
    }
   ],
   "source": [
    "out = eda.get_target_correlation(train_X, train_y, y_continuous=True)\n",
    "display_as_tabs([(k, v) for k,v in out.items()])"
   ]
  },
  {
   "cell_type": "code",
   "execution_count": 23,
   "id": "5ce66fc8-2f0c-4e6d-8d06-f809e10d4691",
   "metadata": {},
   "outputs": [
    {
     "data": {
      "text/plain": [
       "0        187800.0\n",
       "1        136600.0\n",
       "2        400000.0\n",
       "3        106300.0\n",
       "4         43500.0\n",
       "           ...   \n",
       "16507    132300.0\n",
       "16508    101300.0\n",
       "16509    500001.0\n",
       "16510    244900.0\n",
       "16511    117600.0\n",
       "Name: median_house_value, Length: 16512, dtype: float64"
      ]
     },
     "execution_count": 23,
     "metadata": {},
     "output_type": "execute_result"
    }
   ],
   "source": [
    "train_y['median_house_value']"
   ]
  },
  {
   "cell_type": "code",
   "execution_count": 24,
   "id": "65a889e9-6f9f-4314-90b4-ba5c8496ade3",
   "metadata": {},
   "outputs": [
    {
     "data": {},
     "metadata": {},
     "output_type": "display_data"
    },
    {
     "data": {},
     "metadata": {},
     "output_type": "display_data"
    },
    {
     "data": {
      "application/vnd.holoviews_exec.v0+json": "",
      "text/html": [
       "<div id='39292'>\n",
       "  <div class=\"bk-root\" id=\"ed89460a-ccd5-48d9-94e2-2bc6680cb700\" data-root-id=\"39292\"></div>\n",
       "</div>\n",
       "<script type=\"application/javascript\">(function(root) {\n",
       "  function embed_document(root) {\n",
       "    var docs_json = {\"0f040f49-331f-49e0-a2b7-299d3d91d341\":{\"defs\":[{\"extends\":null,\"module\":null,\"name\":\"ReactiveHTML1\",\"overrides\":[],\"properties\":[]},{\"extends\":null,\"module\":null,\"name\":\"FlexBox1\",\"overrides\":[],\"properties\":[{\"default\":\"flex-start\",\"kind\":null,\"name\":\"align_content\"},{\"default\":\"flex-start\",\"kind\":null,\"name\":\"align_items\"},{\"default\":\"row\",\"kind\":null,\"name\":\"flex_direction\"},{\"default\":\"wrap\",\"kind\":null,\"name\":\"flex_wrap\"},{\"default\":\"flex-start\",\"kind\":null,\"name\":\"justify_content\"}]},{\"extends\":null,\"module\":null,\"name\":\"GridStack1\",\"overrides\":[],\"properties\":[{\"default\":\"warn\",\"kind\":null,\"name\":\"mode\"},{\"default\":null,\"kind\":null,\"name\":\"ncols\"},{\"default\":null,\"kind\":null,\"name\":\"nrows\"},{\"default\":true,\"kind\":null,\"name\":\"allow_resize\"},{\"default\":true,\"kind\":null,\"name\":\"allow_drag\"},{\"default\":[],\"kind\":null,\"name\":\"state\"}]},{\"extends\":null,\"module\":null,\"name\":\"click1\",\"overrides\":[],\"properties\":[{\"default\":\"\",\"kind\":null,\"name\":\"terminal_output\"},{\"default\":\"\",\"kind\":null,\"name\":\"debug_name\"},{\"default\":0,\"kind\":null,\"name\":\"clears\"}]},{\"extends\":null,\"module\":null,\"name\":\"NotificationAreaBase1\",\"overrides\":[],\"properties\":[{\"default\":\"bottom-right\",\"kind\":null,\"name\":\"position\"},{\"default\":0,\"kind\":null,\"name\":\"_clear\"}]},{\"extends\":null,\"module\":null,\"name\":\"NotificationArea1\",\"overrides\":[],\"properties\":[{\"default\":[],\"kind\":null,\"name\":\"notifications\"},{\"default\":\"bottom-right\",\"kind\":null,\"name\":\"position\"},{\"default\":0,\"kind\":null,\"name\":\"_clear\"},{\"default\":[{\"background\":\"#ffc107\",\"icon\":{\"className\":\"fas fa-exclamation-triangle\",\"color\":\"white\",\"tagName\":\"i\"},\"type\":\"warning\"},{\"background\":\"#007bff\",\"icon\":{\"className\":\"fas fa-info-circle\",\"color\":\"white\",\"tagName\":\"i\"},\"type\":\"info\"}],\"kind\":null,\"name\":\"types\"}]},{\"extends\":null,\"module\":null,\"name\":\"Notification\",\"overrides\":[],\"properties\":[{\"default\":null,\"kind\":null,\"name\":\"background\"},{\"default\":3000,\"kind\":null,\"name\":\"duration\"},{\"default\":null,\"kind\":null,\"name\":\"icon\"},{\"default\":\"\",\"kind\":null,\"name\":\"message\"},{\"default\":null,\"kind\":null,\"name\":\"notification_type\"},{\"default\":false,\"kind\":null,\"name\":\"_destroyed\"}]},{\"extends\":null,\"module\":null,\"name\":\"TemplateActions1\",\"overrides\":[],\"properties\":[{\"default\":0,\"kind\":null,\"name\":\"open_modal\"},{\"default\":0,\"kind\":null,\"name\":\"close_modal\"}]},{\"extends\":null,\"module\":null,\"name\":\"MaterialTemplateActions1\",\"overrides\":[],\"properties\":[{\"default\":0,\"kind\":null,\"name\":\"open_modal\"},{\"default\":0,\"kind\":null,\"name\":\"close_modal\"}]}],\"roots\":{\"references\":[{\"attributes\":{},\"id\":\"39339\",\"type\":\"AllLabels\"},{\"attributes\":{},\"id\":\"39335\",\"type\":\"BasicTickFormatter\"},{\"attributes\":{\"coordinates\":null,\"group\":null,\"text\":\"Feature Importances from LassoCV\",\"text_color\":\"black\",\"text_font_size\":\"12pt\"},\"id\":\"39297\",\"type\":\"Title\"},{\"attributes\":{\"child\":{\"id\":\"39351\"},\"name\":\"shap_values\",\"title\":\"shap_values\"},\"id\":\"39352\",\"type\":\"Panel\"},{\"attributes\":{\"data\":{\"importance\":{\"__ndarray__\":\"qpbE0RWva8DBPZxYJ+ZBwAAAAAAAAAAAAAAAAAAAAAAAAAAAAAAAgAAAAAAAAAAAAAAAAAAAAAAAAAAAAAAAAAAAAAAAAACAAAAAAAAAAAAAAAAAAAAAAAAAAAAAAACAAAAAAAAAAABOc5m+P3leQDT3/QsfbHJAmhRMSLz4d0A=\",\"dtype\":\"float64\",\"order\":\"little\",\"shape\":[16]},\"index\":[\"population\",\"total_rooms\",\"bedrooms_per_room\",\"income_cat\",\"latitude\",\"longitude\",\"ocean_proximity_1\",\"ocean_proximity_2\",\"ocean_proximity_3\",\"ocean_proximity_4\",\"ocean_proximity_5\",\"population_per_household\",\"rooms_per_household\",\"housing_median_age\",\"households\",\"median_income\"]},\"selected\":{\"id\":\"39326\"},\"selection_policy\":{\"id\":\"39347\"}},\"id\":\"39325\",\"type\":\"ColumnDataSource\"},{\"attributes\":{\"axis\":{\"id\":\"39309\"},\"coordinates\":null,\"dimension\":1,\"grid_line_color\":null,\"group\":null,\"ticker\":null},\"id\":\"39311\",\"type\":\"Grid\"},{\"attributes\":{},\"id\":\"39310\",\"type\":\"CategoricalTicker\"},{\"attributes\":{},\"id\":\"39306\",\"type\":\"BasicTicker\"},{\"attributes\":{\"margin\":[0,0,0,0],\"tabs\":[{\"id\":\"39350\"},{\"id\":\"39352\"}]},\"id\":\"39292\",\"type\":\"panel.models.tabs.Tabs\"},{\"attributes\":{},\"id\":\"39314\",\"type\":\"WheelZoomTool\"},{\"attributes\":{\"coordinates\":null,\"data_source\":{\"id\":\"39325\"},\"glyph\":{\"id\":\"39328\"},\"group\":null,\"hover_glyph\":null,\"muted_glyph\":{\"id\":\"39330\"},\"nonselection_glyph\":{\"id\":\"39329\"},\"selection_glyph\":{\"id\":\"39333\"},\"view\":{\"id\":\"39332\"}},\"id\":\"39331\",\"type\":\"GlyphRenderer\"},{\"attributes\":{\"callback\":null,\"renderers\":[{\"id\":\"39331\"}],\"tags\":[\"hv_created\"],\"tooltips\":[[\"index\",\"@{index}\"],[\"importance\",\"@{importance}\"]]},\"id\":\"39295\",\"type\":\"HoverTool\"},{\"attributes\":{\"end\":444.04770547419025,\"reset_end\":444.04770547419025,\"reset_start\":-281.97315159042085,\"start\":-281.97315159042085,\"tags\":[[[\"importance\",\"importance\",null]]]},\"id\":\"39293\",\"type\":\"Range1d\"},{\"attributes\":{},\"id\":\"39347\",\"type\":\"UnionRenderers\"},{\"attributes\":{\"source\":{\"id\":\"39325\"}},\"id\":\"39332\",\"type\":\"CDSView\"},{\"attributes\":{\"overlay\":{\"id\":\"39317\"}},\"id\":\"39315\",\"type\":\"BoxZoomTool\"},{\"attributes\":{},\"id\":\"39338\",\"type\":\"CategoricalTickFormatter\"},{\"attributes\":{},\"id\":\"39336\",\"type\":\"AllLabels\"},{\"attributes\":{\"child\":{\"id\":\"39296\"},\"name\":\"from_model\",\"title\":\"from_model\"},\"id\":\"39350\",\"type\":\"Panel\"},{\"attributes\":{\"fill_alpha\":{\"value\":0.2},\"fill_color\":{\"value\":\"#30a2da\"},\"hatch_alpha\":{\"value\":0.2},\"hatch_color\":{\"value\":\"#30a2da\"},\"height\":{\"value\":0.8},\"line_alpha\":{\"value\":0.2},\"right\":{\"field\":\"importance\"},\"y\":{\"field\":\"index\"}},\"id\":\"39330\",\"type\":\"HBar\"},{\"attributes\":{},\"id\":\"39316\",\"type\":\"ResetTool\"},{\"attributes\":{},\"id\":\"39326\",\"type\":\"Selection\"},{\"attributes\":{\"height\":790,\"margin\":[5,5,5,5],\"name\":\"shap_values\",\"text\":\"&lt;img src=&quot;data:image/png;base64,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&quot; width=&quot;800px&quot; height=&quot;790px&quot; alt=&quot;&quot;&gt;&lt;/img&gt;\",\"width\":800},\"id\":\"39351\",\"type\":\"panel.models.markup.HTML\"},{\"attributes\":{},\"id\":\"39312\",\"type\":\"SaveTool\"},{\"attributes\":{\"axis_label\":\"Features\",\"coordinates\":null,\"formatter\":{\"id\":\"39338\"},\"group\":null,\"major_label_policy\":{\"id\":\"39339\"},\"ticker\":{\"id\":\"39310\"}},\"id\":\"39309\",\"type\":\"CategoricalAxis\"},{\"attributes\":{\"bottom_units\":\"screen\",\"coordinates\":null,\"fill_alpha\":0.5,\"fill_color\":\"lightgrey\",\"group\":null,\"left_units\":\"screen\",\"level\":\"overlay\",\"line_alpha\":1.0,\"line_color\":\"black\",\"line_dash\":[4,4],\"line_width\":2,\"right_units\":\"screen\",\"syncable\":false,\"top_units\":\"screen\"},\"id\":\"39317\",\"type\":\"BoxAnnotation\"},{\"attributes\":{},\"id\":\"39301\",\"type\":\"LinearScale\"},{\"attributes\":{},\"id\":\"39313\",\"type\":\"PanTool\"},{\"attributes\":{\"client_comm_id\":\"78be4b9e42cc476a832e4ac1b8bcf8c9\",\"comm_id\":\"b3efa07c0d844f6196774ca0de1e0d9c\",\"plot_id\":\"39292\"},\"id\":\"39383\",\"type\":\"panel.models.comm_manager.CommManager\"},{\"attributes\":{\"fill_alpha\":{\"value\":0.1},\"fill_color\":{\"value\":\"#30a2da\"},\"hatch_alpha\":{\"value\":0.1},\"hatch_color\":{\"value\":\"#30a2da\"},\"height\":{\"value\":0.8},\"line_alpha\":{\"value\":0.1},\"right\":{\"field\":\"importance\"},\"y\":{\"field\":\"index\"}},\"id\":\"39329\",\"type\":\"HBar\"},{\"attributes\":{\"factors\":[\"population\",\"total_rooms\",\"bedrooms_per_room\",\"income_cat\",\"latitude\",\"longitude\",\"ocean_proximity_1\",\"ocean_proximity_2\",\"ocean_proximity_3\",\"ocean_proximity_4\",\"ocean_proximity_5\",\"population_per_household\",\"rooms_per_household\",\"housing_median_age\",\"households\",\"median_income\"],\"tags\":[[[\"index\",\"index\",null]]]},\"id\":\"39294\",\"type\":\"FactorRange\"},{\"attributes\":{},\"id\":\"39303\",\"type\":\"CategoricalScale\"},{\"attributes\":{\"tools\":[{\"id\":\"39295\"},{\"id\":\"39312\"},{\"id\":\"39313\"},{\"id\":\"39314\"},{\"id\":\"39315\"},{\"id\":\"39316\"}]},\"id\":\"39318\",\"type\":\"Toolbar\"},{\"attributes\":{\"axis\":{\"id\":\"39305\"},\"coordinates\":null,\"grid_line_color\":null,\"group\":null,\"ticker\":null},\"id\":\"39308\",\"type\":\"Grid\"},{\"attributes\":{\"fill_alpha\":{\"value\":1.0},\"fill_color\":{\"value\":\"#30a2da\"},\"hatch_alpha\":{\"value\":1.0},\"hatch_color\":{\"value\":\"#30a2da\"},\"hatch_scale\":{\"value\":12.0},\"hatch_weight\":{\"value\":1.0},\"height\":{\"value\":0.8},\"left\":{\"value\":0},\"line_alpha\":{\"value\":1.0},\"line_cap\":{\"value\":\"butt\"},\"line_color\":{\"value\":\"black\"},\"line_dash\":{\"value\":[]},\"line_dash_offset\":{\"value\":0},\"line_join\":{\"value\":\"bevel\"},\"line_width\":{\"value\":1},\"right\":{\"field\":\"importance\"},\"y\":{\"field\":\"index\"}},\"id\":\"39333\",\"type\":\"HBar\"},{\"attributes\":{\"below\":[{\"id\":\"39305\"}],\"center\":[{\"id\":\"39308\"},{\"id\":\"39311\"}],\"height\":300,\"left\":[{\"id\":\"39309\"}],\"margin\":[5,5,5,5],\"min_border_bottom\":10,\"min_border_left\":10,\"min_border_right\":10,\"min_border_top\":10,\"renderers\":[{\"id\":\"39331\"}],\"sizing_mode\":\"fixed\",\"title\":{\"id\":\"39297\"},\"toolbar\":{\"id\":\"39318\"},\"width\":700,\"x_range\":{\"id\":\"39293\"},\"x_scale\":{\"id\":\"39301\"},\"y_range\":{\"id\":\"39294\"},\"y_scale\":{\"id\":\"39303\"}},\"id\":\"39296\",\"subtype\":\"Figure\",\"type\":\"Plot\"},{\"attributes\":{\"axis_label\":\"Feature Importance [determined by coeff * mean(x)]\",\"coordinates\":null,\"formatter\":{\"id\":\"39335\"},\"group\":null,\"major_label_policy\":{\"id\":\"39336\"},\"ticker\":{\"id\":\"39306\"}},\"id\":\"39305\",\"type\":\"LinearAxis\"},{\"attributes\":{\"fill_color\":{\"value\":\"#30a2da\"},\"hatch_color\":{\"value\":\"#30a2da\"},\"height\":{\"value\":0.8},\"right\":{\"field\":\"importance\"},\"y\":{\"field\":\"index\"}},\"id\":\"39328\",\"type\":\"HBar\"}],\"root_ids\":[\"39292\",\"39383\"]},\"title\":\"Bokeh Application\",\"version\":\"2.4.3\"}};\n",
       "    var render_items = [{\"docid\":\"0f040f49-331f-49e0-a2b7-299d3d91d341\",\"root_ids\":[\"39292\"],\"roots\":{\"39292\":\"ed89460a-ccd5-48d9-94e2-2bc6680cb700\"}}];\n",
       "    root.Bokeh.embed.embed_items_notebook(docs_json, render_items);\n",
       "  }\n",
       "  if (root.Bokeh !== undefined && root.Bokeh.Panel !== undefined) {\n",
       "    embed_document(root);\n",
       "  } else {\n",
       "    var attempts = 0;\n",
       "    var timer = setInterval(function(root) {\n",
       "      if (root.Bokeh !== undefined && root.Bokeh.Panel !== undefined) {\n",
       "        clearInterval(timer);\n",
       "        embed_document(root);\n",
       "      } else if (document.readyState == \"complete\") {\n",
       "        attempts++;\n",
       "        if (attempts > 200) {\n",
       "          clearInterval(timer);\n",
       "          console.log(\"Bokeh: ERROR: Unable to run BokehJS code because BokehJS library is missing\");\n",
       "        }\n",
       "      }\n",
       "    }, 25, root)\n",
       "  }\n",
       "})(window);</script>"
      ],
      "text/plain": [
       "Tabs\n",
       "    [0] HoloViews(Bars, name='from_model')\n",
       "    [1] Matplotlib(Figure, name='shap_values')"
      ]
     },
     "execution_count": 24,
     "metadata": {
      "application/vnd.holoviews_exec.v0+json": {
       "id": "39292"
      }
     },
     "output_type": "execute_result"
    }
   ],
   "source": [
    "out = eda.get_feature_importances(train_X, train_y, y_continuous=True)\n",
    "display_as_tabs([(k, v) for k,v in out.items()])"
   ]
  },
  {
   "attachments": {},
   "cell_type": "markdown",
   "id": "eb426efe-4467-41bc-97d2-500574d341ba",
   "metadata": {},
   "source": [
    "Key drivers report like feature importance, bivariate plots can be obtained as below"
   ]
  },
  {
   "cell_type": "code",
   "execution_count": 25,
   "id": "114bad4c-400c-4363-b52f-fa8d045df654",
   "metadata": {},
   "outputs": [],
   "source": [
    "reports.key_drivers(train_X,train_y, 'reports/key_drivers_report.html', y_continuous=True)"
   ]
  },
  {
   "attachments": {},
   "cell_type": "markdown",
   "id": "a798e73f-4944-499d-9a7f-ff533cae8af6",
   "metadata": {},
   "source": [
    "**Dev Notes**\n",
    "<details>\n",
    "    \n",
    "- The SHAP plots and bivariate plots in key drivers reports can be obtained by including quick=False as a parameter to key_drivers function call. \n",
    "- SHAP plots and bivariate plots often take long depending on data shape.\n",
    "- The plot with shap is present [here](https://drive.google.com/file/d/1JOTMBLiv3LEqZ-kxZz0RokW9v5UyiGva/view?usp=sharing)\n",
    "\n",
    "</details>"
   ]
  },
  {
   "attachments": {},
   "cell_type": "markdown",
   "id": "0aaae462-2954-4e2e-98c1-dc8ea24ba2b2",
   "metadata": {},
   "source": [
    "\n",
    "All the plots like feature analysis, interaction, key drivers can be obtained as a single plot using data exploration method as shown below. The output from this is available [here](https://drive.google.com/file/d/1209MzmSSEhiTYuPfHpaVXFXUVbkaJm0B/view?usp=sharing)"
   ]
  },
  {
   "cell_type": "code",
   "execution_count": 26,
   "id": "8dccd066-c935-4571-ac3d-e3c979182c02",
   "metadata": {},
   "outputs": [
    {
     "name": "stderr",
     "output_type": "stream",
     "text": [
      "p-value may not be accurate for N > 5000.\n"
     ]
    }
   ],
   "source": [
    "reports.data_exploration(train_X,train_y,'reports/data_exploration_report.html', y_continuous=True)"
   ]
  },
  {
   "cell_type": "code",
   "execution_count": 27,
   "id": "b1e5540b-bf0c-44e3-80d4-d7e96d332e5e",
   "metadata": {},
   "outputs": [],
   "source": [
    "# saving the list of relevant columns\n",
    "save_pipeline(train_X.columns, op.abspath(op.join(artifacts_folder, 'curated_columns.joblib')))\n",
    "\n",
    "# save the feature pipeline\n",
    "save_pipeline(features_transformer, op.abspath(op.join(artifacts_folder, 'features.joblib')))"
   ]
  },
  {
   "cell_type": "markdown",
   "id": "3466a58a-ee60-41bd-ab2c-3816a15f799d",
   "metadata": {},
   "source": [
    "# 4 Modelling"
   ]
  },
  {
   "cell_type": "markdown",
   "id": "181883ec-25c6-4aa6-892a-765d41baf01e",
   "metadata": {},
   "source": [
    "## 4.1 Modelling - Linear Regression"
   ]
  },
  {
   "cell_type": "markdown",
   "id": "14998611-912e-46cf-bb08-6043fbf5aeca",
   "metadata": {},
   "source": [
    "### 4.1.1 Feature Selection(Specific to Regression)\n",
    "\n",
    "- Selecting Features specific to regression\n",
    "- VIF : measure of the amount of multi-collinearity in a set of multiple regressor variables. \n",
    "- On a case to case basis VIF thresholds change. Generally 5 or 10 are acceptable levels.\n",
    "- Usually on a recursive basis when removing the most collinear variable, there can be shuffle in VIF. \n",
    "- Often this section will not be part of the production code."
   ]
  },
  {
   "cell_type": "code",
   "execution_count": 28,
   "id": "eba8923b-e2e2-4f8f-96f5-a72fe374dfed",
   "metadata": {},
   "outputs": [],
   "source": [
    "cols = list(train_X.columns)\n",
    "vif = eda.calc_vif(train_X)\n",
    "while max(vif.VIF) > 15:\n",
    "    #removing the largest variable from VIF\n",
    "    cols.remove(vif[(vif.VIF==vif.VIF.max())].variables.tolist()[0])\n",
    "    vif = eda.calc_vif(train_X[cols])"
   ]
  },
  {
   "cell_type": "code",
   "execution_count": 29,
   "id": "ae48495c-23e6-4b75-baf0-b2f50e56619b",
   "metadata": {},
   "outputs": [],
   "source": [
    "reg_vars = vif.query('VIF < 15').variables\n",
    "reg_vars = list(reg_vars)"
   ]
  },
  {
   "cell_type": "markdown",
   "id": "d697af6d-726d-4d9d-8186-04921f80d530",
   "metadata": {},
   "source": [
    "### 4.1.2 Data transformations"
   ]
  },
  {
   "cell_type": "code",
   "execution_count": 30,
   "id": "fe447154-0143-4e6b-9aac-3cbcc81010ee",
   "metadata": {},
   "outputs": [],
   "source": [
    "# Custom Transformations like these can be utilised\n",
    "def _custom_data_transform(df, cols2keep=None):\n",
    "    \"\"\"Transformation to drop some columns in the data\n",
    "    \n",
    "    Parameters\n",
    "    ----------\n",
    "        df - pd.DataFrame\n",
    "        cols2keep - columns to keep in the dataframe\n",
    "    \"\"\"\n",
    "    cols2keep = cols2keep or []\n",
    "    if len(cols2keep):\n",
    "        return (df\n",
    "                .select_columns(cols2keep))\n",
    "    else:\n",
    "        return df"
   ]
  },
  {
   "cell_type": "markdown",
   "id": "08f6ca53-16b6-482a-a82e-85579a0e9a79",
   "metadata": {},
   "source": [
    "### 4.1.3 Model training pipeline\n",
    "\n",
    "- Here we focus on creating a collection of pipelines that can be used for training respective models.\n",
    "- Each model pipeline will essentially be of the form\n",
    "```\n",
    "[\n",
    "('preprocessing', preprocessing_pipeline),\n",
    "('feature_selection', feature_selection_pipeline),\n",
    "('estimator', estimator),\n",
    "]\n",
    "```"
   ]
  },
  {
   "cell_type": "markdown",
   "id": "51297d60-f66e-43f0-a5ef-3bd9e9cd95c5",
   "metadata": {},
   "source": [
    "### 4.1.4 Model Pipeline Build\n",
    "\n",
    "- This will be part of the production code (training only)."
   ]
  },
  {
   "cell_type": "code",
   "execution_count": 31,
   "id": "2865335b-6b05-4894-bc55-ee9839fcd8d8",
   "metadata": {},
   "outputs": [
    {
     "data": {
      "text/html": [
       "<style>#sk-container-id-1 {color: black;background-color: white;}#sk-container-id-1 pre{padding: 0;}#sk-container-id-1 div.sk-toggleable {background-color: white;}#sk-container-id-1 label.sk-toggleable__label {cursor: pointer;display: block;width: 100%;margin-bottom: 0;padding: 0.3em;box-sizing: border-box;text-align: center;}#sk-container-id-1 label.sk-toggleable__label-arrow:before {content: \"▸\";float: left;margin-right: 0.25em;color: #696969;}#sk-container-id-1 label.sk-toggleable__label-arrow:hover:before {color: black;}#sk-container-id-1 div.sk-estimator:hover label.sk-toggleable__label-arrow:before {color: black;}#sk-container-id-1 div.sk-toggleable__content {max-height: 0;max-width: 0;overflow: hidden;text-align: left;background-color: #f0f8ff;}#sk-container-id-1 div.sk-toggleable__content pre {margin: 0.2em;color: black;border-radius: 0.25em;background-color: #f0f8ff;}#sk-container-id-1 input.sk-toggleable__control:checked~div.sk-toggleable__content {max-height: 200px;max-width: 100%;overflow: auto;}#sk-container-id-1 input.sk-toggleable__control:checked~label.sk-toggleable__label-arrow:before {content: \"▾\";}#sk-container-id-1 div.sk-estimator input.sk-toggleable__control:checked~label.sk-toggleable__label {background-color: #d4ebff;}#sk-container-id-1 div.sk-label input.sk-toggleable__control:checked~label.sk-toggleable__label {background-color: #d4ebff;}#sk-container-id-1 input.sk-hidden--visually {border: 0;clip: rect(1px 1px 1px 1px);clip: rect(1px, 1px, 1px, 1px);height: 1px;margin: -1px;overflow: hidden;padding: 0;position: absolute;width: 1px;}#sk-container-id-1 div.sk-estimator {font-family: monospace;background-color: #f0f8ff;border: 1px dotted black;border-radius: 0.25em;box-sizing: border-box;margin-bottom: 0.5em;}#sk-container-id-1 div.sk-estimator:hover {background-color: #d4ebff;}#sk-container-id-1 div.sk-parallel-item::after {content: \"\";width: 100%;border-bottom: 1px solid gray;flex-grow: 1;}#sk-container-id-1 div.sk-label:hover label.sk-toggleable__label {background-color: #d4ebff;}#sk-container-id-1 div.sk-serial::before {content: \"\";position: absolute;border-left: 1px solid gray;box-sizing: border-box;top: 0;bottom: 0;left: 50%;z-index: 0;}#sk-container-id-1 div.sk-serial {display: flex;flex-direction: column;align-items: center;background-color: white;padding-right: 0.2em;padding-left: 0.2em;position: relative;}#sk-container-id-1 div.sk-item {position: relative;z-index: 1;}#sk-container-id-1 div.sk-parallel {display: flex;align-items: stretch;justify-content: center;background-color: white;position: relative;}#sk-container-id-1 div.sk-item::before, #sk-container-id-1 div.sk-parallel-item::before {content: \"\";position: absolute;border-left: 1px solid gray;box-sizing: border-box;top: 0;bottom: 0;left: 50%;z-index: -1;}#sk-container-id-1 div.sk-parallel-item {display: flex;flex-direction: column;z-index: 1;position: relative;background-color: white;}#sk-container-id-1 div.sk-parallel-item:first-child::after {align-self: flex-end;width: 50%;}#sk-container-id-1 div.sk-parallel-item:last-child::after {align-self: flex-start;width: 50%;}#sk-container-id-1 div.sk-parallel-item:only-child::after {width: 0;}#sk-container-id-1 div.sk-dashed-wrapped {border: 1px dashed gray;margin: 0 0.4em 0.5em 0.4em;box-sizing: border-box;padding-bottom: 0.4em;background-color: white;}#sk-container-id-1 div.sk-label label {font-family: monospace;font-weight: bold;display: inline-block;line-height: 1.2em;}#sk-container-id-1 div.sk-label-container {text-align: center;}#sk-container-id-1 div.sk-container {/* jupyter's `normalize.less` sets `[hidden] { display: none; }` but bootstrap.min.css set `[hidden] { display: none !important; }` so we also need the `!important` here to be able to override the default hidden behavior on the sphinx rendered scikit-learn.org. See: https://github.com/scikit-learn/scikit-learn/issues/21755 */display: inline-block !important;position: relative;}#sk-container-id-1 div.sk-text-repr-fallback {display: none;}</style><div id=\"sk-container-id-1\" class=\"sk-top-container\"><div class=\"sk-text-repr-fallback\"><pre>Pipeline(steps=[(&#x27;&#x27;,\n",
       "                 FunctionTransformer(func=&lt;function _custom_data_transform at 0x7f2c286413f0&gt;,\n",
       "                                     kw_args={&#x27;cols2keep&#x27;: [&#x27;ocean_proximity_2&#x27;,\n",
       "                                                            &#x27;ocean_proximity_3&#x27;,\n",
       "                                                            &#x27;ocean_proximity_4&#x27;,\n",
       "                                                            &#x27;ocean_proximity_5&#x27;,\n",
       "                                                            &#x27;housing_median_age&#x27;,\n",
       "                                                            &#x27;total_rooms&#x27;,\n",
       "                                                            &#x27;median_income&#x27;,\n",
       "                                                            &#x27;bedrooms_per_room&#x27;,\n",
       "                                                            &#x27;population_per_household&#x27;]})),\n",
       "                (&#x27;estimator&#x27;, SKLStatsmodelOLS())])</pre><b>In a Jupyter environment, please rerun this cell to show the HTML representation or trust the notebook. <br />On GitHub, the HTML representation is unable to render, please try loading this page with nbviewer.org.</b></div><div class=\"sk-container\" hidden><div class=\"sk-item sk-dashed-wrapped\"><div class=\"sk-label-container\"><div class=\"sk-label sk-toggleable\"><input class=\"sk-toggleable__control sk-hidden--visually\" id=\"sk-estimator-id-1\" type=\"checkbox\" ><label for=\"sk-estimator-id-1\" class=\"sk-toggleable__label sk-toggleable__label-arrow\">Pipeline</label><div class=\"sk-toggleable__content\"><pre>Pipeline(steps=[(&#x27;&#x27;,\n",
       "                 FunctionTransformer(func=&lt;function _custom_data_transform at 0x7f2c286413f0&gt;,\n",
       "                                     kw_args={&#x27;cols2keep&#x27;: [&#x27;ocean_proximity_2&#x27;,\n",
       "                                                            &#x27;ocean_proximity_3&#x27;,\n",
       "                                                            &#x27;ocean_proximity_4&#x27;,\n",
       "                                                            &#x27;ocean_proximity_5&#x27;,\n",
       "                                                            &#x27;housing_median_age&#x27;,\n",
       "                                                            &#x27;total_rooms&#x27;,\n",
       "                                                            &#x27;median_income&#x27;,\n",
       "                                                            &#x27;bedrooms_per_room&#x27;,\n",
       "                                                            &#x27;population_per_household&#x27;]})),\n",
       "                (&#x27;estimator&#x27;, SKLStatsmodelOLS())])</pre></div></div></div><div class=\"sk-serial\"><div class=\"sk-item\"><div class=\"sk-estimator sk-toggleable\"><input class=\"sk-toggleable__control sk-hidden--visually\" id=\"sk-estimator-id-2\" type=\"checkbox\" ><label for=\"sk-estimator-id-2\" class=\"sk-toggleable__label sk-toggleable__label-arrow\">FunctionTransformer</label><div class=\"sk-toggleable__content\"><pre>FunctionTransformer(func=&lt;function _custom_data_transform at 0x7f2c286413f0&gt;,\n",
       "                    kw_args={&#x27;cols2keep&#x27;: [&#x27;ocean_proximity_2&#x27;,\n",
       "                                           &#x27;ocean_proximity_3&#x27;,\n",
       "                                           &#x27;ocean_proximity_4&#x27;,\n",
       "                                           &#x27;ocean_proximity_5&#x27;,\n",
       "                                           &#x27;housing_median_age&#x27;, &#x27;total_rooms&#x27;,\n",
       "                                           &#x27;median_income&#x27;, &#x27;bedrooms_per_room&#x27;,\n",
       "                                           &#x27;population_per_household&#x27;]})</pre></div></div></div><div class=\"sk-item\"><div class=\"sk-estimator sk-toggleable\"><input class=\"sk-toggleable__control sk-hidden--visually\" id=\"sk-estimator-id-3\" type=\"checkbox\" ><label for=\"sk-estimator-id-3\" class=\"sk-toggleable__label sk-toggleable__label-arrow\">SKLStatsmodelOLS</label><div class=\"sk-toggleable__content\"><pre>SKLStatsmodelOLS()</pre></div></div></div></div></div></div></div>"
      ],
      "text/plain": [
       "Pipeline(steps=[('',\n",
       "                 FunctionTransformer(func=<function _custom_data_transform at 0x7f2c286413f0>,\n",
       "                                     kw_args={'cols2keep': ['ocean_proximity_2',\n",
       "                                                            'ocean_proximity_3',\n",
       "                                                            'ocean_proximity_4',\n",
       "                                                            'ocean_proximity_5',\n",
       "                                                            'housing_median_age',\n",
       "                                                            'total_rooms',\n",
       "                                                            'median_income',\n",
       "                                                            'bedrooms_per_room',\n",
       "                                                            'population_per_household']})),\n",
       "                ('estimator', SKLStatsmodelOLS())])"
      ]
     },
     "execution_count": 31,
     "metadata": {},
     "output_type": "execute_result"
    }
   ],
   "source": [
    "reg_ppln_ols = Pipeline([\n",
    "    ('',FunctionTransformer(_custom_data_transform, kw_args={'cols2keep':reg_vars})),\n",
    "    ('estimator', SKLStatsmodelOLS())\n",
    "])\n",
    "reg_ppln_ols.fit(train_X, train_y.values.ravel())\n"
   ]
  },
  {
   "cell_type": "code",
   "execution_count": 32,
   "id": "46782065-711d-4fa4-a81d-81d6f2d800d6",
   "metadata": {},
   "outputs": [
    {
     "data": {
      "text/html": [
       "<table class=\"simpletable\">\n",
       "<caption>OLS Regression Results</caption>\n",
       "<tr>\n",
       "  <th>Dep. Variable:</th>            <td>y</td>        <th>  R-squared:         </th>  <td>   0.653</td>  \n",
       "</tr>\n",
       "<tr>\n",
       "  <th>Model:</th>                   <td>OLS</td>       <th>  Adj. R-squared:    </th>  <td>   0.653</td>  \n",
       "</tr>\n",
       "<tr>\n",
       "  <th>Method:</th>             <td>Least Squares</td>  <th>  F-statistic:       </th>  <td>   3446.</td>  \n",
       "</tr>\n",
       "<tr>\n",
       "  <th>Date:</th>             <td>Fri, 23 Aug 2024</td> <th>  Prob (F-statistic):</th>   <td>  0.00</td>   \n",
       "</tr>\n",
       "<tr>\n",
       "  <th>Time:</th>                 <td>11:46:37</td>     <th>  Log-Likelihood:    </th> <td>-2.0717e+05</td>\n",
       "</tr>\n",
       "<tr>\n",
       "  <th>No. Observations:</th>      <td> 16512</td>      <th>  AIC:               </th>  <td>4.144e+05</td> \n",
       "</tr>\n",
       "<tr>\n",
       "  <th>Df Residuals:</th>          <td> 16502</td>      <th>  BIC:               </th>  <td>4.144e+05</td> \n",
       "</tr>\n",
       "<tr>\n",
       "  <th>Df Model:</th>              <td>     9</td>      <th>                     </th>      <td> </td>     \n",
       "</tr>\n",
       "<tr>\n",
       "  <th>Covariance Type:</th>      <td>nonrobust</td>    <th>                     </th>      <td> </td>     \n",
       "</tr>\n",
       "</table>\n",
       "<table class=\"simpletable\">\n",
       "<tr>\n",
       "              <td></td>                <th>coef</th>     <th>std err</th>      <th>t</th>      <th>P>|t|</th>  <th>[0.025</th>    <th>0.975]</th>  \n",
       "</tr>\n",
       "<tr>\n",
       "  <th>intercept</th>                <td> -8.86e+04</td> <td> 5726.574</td> <td>  -15.472</td> <td> 0.000</td> <td>-9.98e+04</td> <td>-7.74e+04</td>\n",
       "</tr>\n",
       "<tr>\n",
       "  <th>ocean_proximity_2</th>        <td> 5536.8912</td> <td> 1840.151</td> <td>    3.009</td> <td> 0.003</td> <td> 1929.997</td> <td> 9143.786</td>\n",
       "</tr>\n",
       "<tr>\n",
       "  <th>ocean_proximity_3</th>        <td>-5.143e+04</td> <td> 1416.714</td> <td>  -36.300</td> <td> 0.000</td> <td>-5.42e+04</td> <td>-4.86e+04</td>\n",
       "</tr>\n",
       "<tr>\n",
       "  <th>ocean_proximity_4</th>        <td> 1.578e+04</td> <td> 1678.608</td> <td>    9.402</td> <td> 0.000</td> <td> 1.25e+04</td> <td> 1.91e+04</td>\n",
       "</tr>\n",
       "<tr>\n",
       "  <th>ocean_proximity_5</th>        <td> 1.828e+05</td> <td> 3.41e+04</td> <td>    5.367</td> <td> 0.000</td> <td> 1.16e+05</td> <td>  2.5e+05</td>\n",
       "</tr>\n",
       "<tr>\n",
       "  <th>housing_median_age</th>       <td> 1376.5295</td> <td>   48.843</td> <td>   28.183</td> <td> 0.000</td> <td> 1280.792</td> <td> 1472.267</td>\n",
       "</tr>\n",
       "<tr>\n",
       "  <th>total_rooms</th>              <td>    4.2481</td> <td>    0.342</td> <td>   12.427</td> <td> 0.000</td> <td>    3.578</td> <td>    4.918</td>\n",
       "</tr>\n",
       "<tr>\n",
       "  <th>median_income</th>            <td> 5.206e+04</td> <td>  466.628</td> <td>  111.573</td> <td> 0.000</td> <td> 5.11e+04</td> <td>  5.3e+04</td>\n",
       "</tr>\n",
       "<tr>\n",
       "  <th>bedrooms_per_room</th>        <td> 4.846e+05</td> <td> 1.52e+04</td> <td>   31.954</td> <td> 0.000</td> <td> 4.55e+05</td> <td> 5.14e+05</td>\n",
       "</tr>\n",
       "<tr>\n",
       "  <th>population_per_household</th> <td>-1.482e+04</td> <td>  485.363</td> <td>  -30.529</td> <td> 0.000</td> <td>-1.58e+04</td> <td>-1.39e+04</td>\n",
       "</tr>\n",
       "</table>\n",
       "<table class=\"simpletable\">\n",
       "<tr>\n",
       "  <th>Omnibus:</th>       <td>4405.636</td> <th>  Durbin-Watson:     </th> <td>   1.997</td> \n",
       "</tr>\n",
       "<tr>\n",
       "  <th>Prob(Omnibus):</th>  <td> 0.000</td>  <th>  Jarque-Bera (JB):  </th> <td>15873.389</td>\n",
       "</tr>\n",
       "<tr>\n",
       "  <th>Skew:</th>           <td> 1.313</td>  <th>  Prob(JB):          </th> <td>    0.00</td> \n",
       "</tr>\n",
       "<tr>\n",
       "  <th>Kurtosis:</th>       <td> 7.022</td>  <th>  Cond. No.          </th> <td>1.99e+05</td> \n",
       "</tr>\n",
       "</table><br/><br/>Notes:<br/>[1] Standard Errors assume that the covariance matrix of the errors is correctly specified.<br/>[2] The condition number is large, 1.99e+05. This might indicate that there are<br/>strong multicollinearity or other numerical problems."
      ],
      "text/plain": [
       "<class 'statsmodels.iolib.summary.Summary'>\n",
       "\"\"\"\n",
       "                            OLS Regression Results                            \n",
       "==============================================================================\n",
       "Dep. Variable:                      y   R-squared:                       0.653\n",
       "Model:                            OLS   Adj. R-squared:                  0.653\n",
       "Method:                 Least Squares   F-statistic:                     3446.\n",
       "Date:                Fri, 23 Aug 2024   Prob (F-statistic):               0.00\n",
       "Time:                        11:46:37   Log-Likelihood:            -2.0717e+05\n",
       "No. Observations:               16512   AIC:                         4.144e+05\n",
       "Df Residuals:                   16502   BIC:                         4.144e+05\n",
       "Df Model:                           9                                         \n",
       "Covariance Type:            nonrobust                                         \n",
       "============================================================================================\n",
       "                               coef    std err          t      P>|t|      [0.025      0.975]\n",
       "--------------------------------------------------------------------------------------------\n",
       "intercept                 -8.86e+04   5726.574    -15.472      0.000   -9.98e+04   -7.74e+04\n",
       "ocean_proximity_2         5536.8912   1840.151      3.009      0.003    1929.997    9143.786\n",
       "ocean_proximity_3        -5.143e+04   1416.714    -36.300      0.000   -5.42e+04   -4.86e+04\n",
       "ocean_proximity_4         1.578e+04   1678.608      9.402      0.000    1.25e+04    1.91e+04\n",
       "ocean_proximity_5         1.828e+05   3.41e+04      5.367      0.000    1.16e+05     2.5e+05\n",
       "housing_median_age        1376.5295     48.843     28.183      0.000    1280.792    1472.267\n",
       "total_rooms                  4.2481      0.342     12.427      0.000       3.578       4.918\n",
       "median_income             5.206e+04    466.628    111.573      0.000    5.11e+04     5.3e+04\n",
       "bedrooms_per_room         4.846e+05   1.52e+04     31.954      0.000    4.55e+05    5.14e+05\n",
       "population_per_household -1.482e+04    485.363    -30.529      0.000   -1.58e+04   -1.39e+04\n",
       "==============================================================================\n",
       "Omnibus:                     4405.636   Durbin-Watson:                   1.997\n",
       "Prob(Omnibus):                  0.000   Jarque-Bera (JB):            15873.389\n",
       "Skew:                           1.313   Prob(JB):                         0.00\n",
       "Kurtosis:                       7.022   Cond. No.                     1.99e+05\n",
       "==============================================================================\n",
       "\n",
       "Notes:\n",
       "[1] Standard Errors assume that the covariance matrix of the errors is correctly specified.\n",
       "[2] The condition number is large, 1.99e+05. This might indicate that there are\n",
       "strong multicollinearity or other numerical problems.\n",
       "\"\"\""
      ]
     },
     "execution_count": 32,
     "metadata": {},
     "output_type": "execute_result"
    }
   ],
   "source": [
    "reg_ppln_ols['estimator'].summary()"
   ]
  },
  {
   "cell_type": "markdown",
   "id": "6fb69d01-dfa2-478f-ad0c-8fb71d8d0118",
   "metadata": {},
   "source": [
    "### 4.1.5 Model Evaluation(Linear Model)\n",
    "\n",
    "This will be part of the production code."
   ]
  },
  {
   "cell_type": "code",
   "execution_count": 33,
   "id": "9506b6c9-8acd-415c-b73f-0aa8c97293eb",
   "metadata": {},
   "outputs": [],
   "source": [
    "reg_ppln = Pipeline([\n",
    "    ('', FunctionTransformer(_custom_data_transform, kw_args={'cols2keep':reg_vars})),\n",
    "    ('Linear Regression', SKLStatsmodelOLS())\n",
    "])\n",
    "test_X = get_dataframe(\n",
    "    features_transformer.transform(test_X), \n",
    "    get_feature_names_from_column_transformer(features_transformer)\n",
    ")\n",
    "test_X = test_X"
   ]
  },
  {
   "cell_type": "code",
   "execution_count": 34,
   "id": "624c4b32-adc3-4b5f-89c4-ad1340d8ce23",
   "metadata": {},
   "outputs": [],
   "source": [
    "reg_linear_report = RegressionReport(model=reg_ppln, x_train=train_X, y_train=train_y, x_test= test_X, y_test= test_y, refit=True)\n",
    "reg_linear_report.get_report(include_shap=False, file_path='reports/regression_linear_model_report')"
   ]
  },
  {
   "cell_type": "markdown",
   "id": "be94ff55-3ed4-435a-8566-698f987fd263",
   "metadata": {},
   "source": [
    "**Dev Notes**\n",
    "Use SHAP for variable interpretability.\n",
    "<details>\n",
    "\n",
    "    1. Use SHAP=True to generate variable interpretability plots in the report\n",
    "    2. SHAP is recommended for non parameteric models such as RF, xgboost.\n",
    "    3. However, SHAP reports are time consuming depending on no.of records and model complexity.\n",
    "    \n",
    "A sample of regerssion report with SHAP can be found [here](https://drive.google.com/file/d/18RlQTsT1ze09Cgz-qpb4ha_cvyWbN5F5/view?usp=sharing).\n",
    "</details>"
   ]
  },
  {
   "cell_type": "markdown",
   "id": "ffe6468e-a629-4bf7-9605-4e870aa0d0b7",
   "metadata": {},
   "source": [
    "### 4.1.6 Residual Analysis\n",
    "- After scoring the model, it is recommended to do a residual analysis to know the distribution of errors\n",
    "- we took a threshold of 30% above which it is marked as over prediction or underprediction\n",
    "- This will not be part of the production code."
   ]
  },
  {
   "cell_type": "code",
   "execution_count": 35,
   "id": "f9f20a97-57a3-4ba5-a586-7298b400a219",
   "metadata": {},
   "outputs": [],
   "source": [
    "threshold=0.3\n",
    "residual_analysis = test_X.copy()\n",
    "residual_analysis['prediction'] = reg_ppln_ols.predict(test_X)\n",
    "residual_analysis['actuals'] = test_y.reset_index(drop = True).iloc[:,0].values\n",
    "residual_analysis['forecast_flag'] = 'good'\n",
    "residual_analysis.loc[((residual_analysis['prediction'] > (1+threshold) * residual_analysis['actuals'])\\\n",
    "                       & (residual_analysis['actuals']>100)),'forecast_flag'] = 'over predict'\n",
    "residual_analysis.loc[((residual_analysis['prediction'] < (1-threshold) * residual_analysis['actuals'])\\\n",
    "                       & (residual_analysis['actuals']>100)),'forecast_flag'] = 'under predict'"
   ]
  },
  {
   "cell_type": "code",
   "execution_count": 36,
   "id": "495db8b2-9613-48b1-b87e-5d127a7e63ca",
   "metadata": {},
   "outputs": [
    {
     "data": {
      "text/html": [
       "<div>\n",
       "<style scoped>\n",
       "    .dataframe tbody tr th:only-of-type {\n",
       "        vertical-align: middle;\n",
       "    }\n",
       "\n",
       "    .dataframe tbody tr th {\n",
       "        vertical-align: top;\n",
       "    }\n",
       "\n",
       "    .dataframe thead th {\n",
       "        text-align: right;\n",
       "    }\n",
       "</style>\n",
       "<table border=\"1\" class=\"dataframe\">\n",
       "  <thead>\n",
       "    <tr style=\"text-align: right;\">\n",
       "      <th></th>\n",
       "      <th>ocean_proximity_1</th>\n",
       "      <th>ocean_proximity_2</th>\n",
       "      <th>ocean_proximity_3</th>\n",
       "      <th>ocean_proximity_4</th>\n",
       "      <th>ocean_proximity_5</th>\n",
       "      <th>longitude</th>\n",
       "      <th>latitude</th>\n",
       "      <th>housing_median_age</th>\n",
       "      <th>total_rooms</th>\n",
       "      <th>population</th>\n",
       "      <th>households</th>\n",
       "      <th>median_income</th>\n",
       "      <th>income_cat</th>\n",
       "      <th>rooms_per_household</th>\n",
       "      <th>bedrooms_per_room</th>\n",
       "      <th>population_per_household</th>\n",
       "      <th>prediction</th>\n",
       "      <th>actuals</th>\n",
       "      <th>forecast_flag</th>\n",
       "    </tr>\n",
       "  </thead>\n",
       "  <tbody>\n",
       "    <tr>\n",
       "      <th>0</th>\n",
       "      <td>0.0</td>\n",
       "      <td>0.0</td>\n",
       "      <td>0.0</td>\n",
       "      <td>1.0</td>\n",
       "      <td>0.0</td>\n",
       "      <td>-124.15</td>\n",
       "      <td>40.78</td>\n",
       "      <td>36.0</td>\n",
       "      <td>2112.0</td>\n",
       "      <td>829.0</td>\n",
       "      <td>368.0</td>\n",
       "      <td>3.3984</td>\n",
       "      <td>3.0</td>\n",
       "      <td>5.739130</td>\n",
       "      <td>0.177083</td>\n",
       "      <td>2.252717</td>\n",
       "      <td>215070.194641</td>\n",
       "      <td>90000.0</td>\n",
       "      <td>over predict</td>\n",
       "    </tr>\n",
       "    <tr>\n",
       "      <th>1</th>\n",
       "      <td>1.0</td>\n",
       "      <td>0.0</td>\n",
       "      <td>0.0</td>\n",
       "      <td>0.0</td>\n",
       "      <td>0.0</td>\n",
       "      <td>-122.80</td>\n",
       "      <td>38.39</td>\n",
       "      <td>26.0</td>\n",
       "      <td>2273.0</td>\n",
       "      <td>1124.0</td>\n",
       "      <td>420.0</td>\n",
       "      <td>2.9453</td>\n",
       "      <td>2.0</td>\n",
       "      <td>5.411905</td>\n",
       "      <td>0.208535</td>\n",
       "      <td>2.676190</td>\n",
       "      <td>171582.333171</td>\n",
       "      <td>166700.0</td>\n",
       "      <td>good</td>\n",
       "    </tr>\n",
       "    <tr>\n",
       "      <th>2</th>\n",
       "      <td>1.0</td>\n",
       "      <td>0.0</td>\n",
       "      <td>0.0</td>\n",
       "      <td>0.0</td>\n",
       "      <td>0.0</td>\n",
       "      <td>-117.80</td>\n",
       "      <td>33.77</td>\n",
       "      <td>29.0</td>\n",
       "      <td>5436.0</td>\n",
       "      <td>2046.0</td>\n",
       "      <td>685.0</td>\n",
       "      <td>8.7496</td>\n",
       "      <td>5.0</td>\n",
       "      <td>7.935766</td>\n",
       "      <td>0.130059</td>\n",
       "      <td>2.986861</td>\n",
       "      <td>448707.632990</td>\n",
       "      <td>349500.0</td>\n",
       "      <td>good</td>\n",
       "    </tr>\n",
       "    <tr>\n",
       "      <th>3</th>\n",
       "      <td>1.0</td>\n",
       "      <td>0.0</td>\n",
       "      <td>0.0</td>\n",
       "      <td>0.0</td>\n",
       "      <td>0.0</td>\n",
       "      <td>-118.87</td>\n",
       "      <td>34.23</td>\n",
       "      <td>14.0</td>\n",
       "      <td>4242.0</td>\n",
       "      <td>1858.0</td>\n",
       "      <td>689.0</td>\n",
       "      <td>6.0145</td>\n",
       "      <td>5.0</td>\n",
       "      <td>6.156749</td>\n",
       "      <td>0.175860</td>\n",
       "      <td>2.696662</td>\n",
       "      <td>307084.068085</td>\n",
       "      <td>287100.0</td>\n",
       "      <td>good</td>\n",
       "    </tr>\n",
       "    <tr>\n",
       "      <th>4</th>\n",
       "      <td>0.0</td>\n",
       "      <td>0.0</td>\n",
       "      <td>1.0</td>\n",
       "      <td>0.0</td>\n",
       "      <td>0.0</td>\n",
       "      <td>-119.37</td>\n",
       "      <td>36.19</td>\n",
       "      <td>24.0</td>\n",
       "      <td>1306.0</td>\n",
       "      <td>889.0</td>\n",
       "      <td>276.0</td>\n",
       "      <td>2.4922</td>\n",
       "      <td>2.0</td>\n",
       "      <td>4.731884</td>\n",
       "      <td>0.203675</td>\n",
       "      <td>3.221014</td>\n",
       "      <td>79277.362754</td>\n",
       "      <td>66100.0</td>\n",
       "      <td>good</td>\n",
       "    </tr>\n",
       "    <tr>\n",
       "      <th>...</th>\n",
       "      <td>...</td>\n",
       "      <td>...</td>\n",
       "      <td>...</td>\n",
       "      <td>...</td>\n",
       "      <td>...</td>\n",
       "      <td>...</td>\n",
       "      <td>...</td>\n",
       "      <td>...</td>\n",
       "      <td>...</td>\n",
       "      <td>...</td>\n",
       "      <td>...</td>\n",
       "      <td>...</td>\n",
       "      <td>...</td>\n",
       "      <td>...</td>\n",
       "      <td>...</td>\n",
       "      <td>...</td>\n",
       "      <td>...</td>\n",
       "      <td>...</td>\n",
       "      <td>...</td>\n",
       "    </tr>\n",
       "    <tr>\n",
       "      <th>4123</th>\n",
       "      <td>0.0</td>\n",
       "      <td>0.0</td>\n",
       "      <td>1.0</td>\n",
       "      <td>0.0</td>\n",
       "      <td>0.0</td>\n",
       "      <td>-120.72</td>\n",
       "      <td>37.54</td>\n",
       "      <td>17.0</td>\n",
       "      <td>729.0</td>\n",
       "      <td>431.0</td>\n",
       "      <td>121.0</td>\n",
       "      <td>4.2188</td>\n",
       "      <td>3.0</td>\n",
       "      <td>6.024793</td>\n",
       "      <td>0.183813</td>\n",
       "      <td>3.561983</td>\n",
       "      <td>142405.732684</td>\n",
       "      <td>131300.0</td>\n",
       "      <td>good</td>\n",
       "    </tr>\n",
       "    <tr>\n",
       "      <th>4124</th>\n",
       "      <td>1.0</td>\n",
       "      <td>0.0</td>\n",
       "      <td>0.0</td>\n",
       "      <td>0.0</td>\n",
       "      <td>0.0</td>\n",
       "      <td>-118.32</td>\n",
       "      <td>33.98</td>\n",
       "      <td>49.0</td>\n",
       "      <td>1993.0</td>\n",
       "      <td>1052.0</td>\n",
       "      <td>394.0</td>\n",
       "      <td>2.2138</td>\n",
       "      <td>2.0</td>\n",
       "      <td>5.058376</td>\n",
       "      <td>0.223783</td>\n",
       "      <td>2.670051</td>\n",
       "      <td>171448.829288</td>\n",
       "      <td>119800.0</td>\n",
       "      <td>over predict</td>\n",
       "    </tr>\n",
       "    <tr>\n",
       "      <th>4125</th>\n",
       "      <td>1.0</td>\n",
       "      <td>0.0</td>\n",
       "      <td>0.0</td>\n",
       "      <td>0.0</td>\n",
       "      <td>0.0</td>\n",
       "      <td>-118.24</td>\n",
       "      <td>34.13</td>\n",
       "      <td>37.0</td>\n",
       "      <td>1644.0</td>\n",
       "      <td>959.0</td>\n",
       "      <td>383.0</td>\n",
       "      <td>3.3636</td>\n",
       "      <td>3.0</td>\n",
       "      <td>4.292428</td>\n",
       "      <td>0.240268</td>\n",
       "      <td>2.503916</td>\n",
       "      <td>223759.887101</td>\n",
       "      <td>257700.0</td>\n",
       "      <td>good</td>\n",
       "    </tr>\n",
       "    <tr>\n",
       "      <th>4126</th>\n",
       "      <td>0.0</td>\n",
       "      <td>0.0</td>\n",
       "      <td>1.0</td>\n",
       "      <td>0.0</td>\n",
       "      <td>0.0</td>\n",
       "      <td>-119.03</td>\n",
       "      <td>36.08</td>\n",
       "      <td>19.0</td>\n",
       "      <td>2471.0</td>\n",
       "      <td>1040.0</td>\n",
       "      <td>426.0</td>\n",
       "      <td>3.2500</td>\n",
       "      <td>3.0</td>\n",
       "      <td>5.800469</td>\n",
       "      <td>0.174423</td>\n",
       "      <td>2.441315</td>\n",
       "      <td>114175.477345</td>\n",
       "      <td>80600.0</td>\n",
       "      <td>over predict</td>\n",
       "    </tr>\n",
       "    <tr>\n",
       "      <th>4127</th>\n",
       "      <td>1.0</td>\n",
       "      <td>0.0</td>\n",
       "      <td>0.0</td>\n",
       "      <td>0.0</td>\n",
       "      <td>0.0</td>\n",
       "      <td>-117.92</td>\n",
       "      <td>33.79</td>\n",
       "      <td>26.0</td>\n",
       "      <td>2737.0</td>\n",
       "      <td>1877.0</td>\n",
       "      <td>606.0</td>\n",
       "      <td>2.8622</td>\n",
       "      <td>2.0</td>\n",
       "      <td>4.516502</td>\n",
       "      <td>0.224333</td>\n",
       "      <td>3.097360</td>\n",
       "      <td>170641.888162</td>\n",
       "      <td>184300.0</td>\n",
       "      <td>good</td>\n",
       "    </tr>\n",
       "  </tbody>\n",
       "</table>\n",
       "<p>4128 rows × 19 columns</p>\n",
       "</div>"
      ],
      "text/plain": [
       "      ocean_proximity_1  ocean_proximity_2  ocean_proximity_3  \\\n",
       "0                   0.0                0.0                0.0   \n",
       "1                   1.0                0.0                0.0   \n",
       "2                   1.0                0.0                0.0   \n",
       "3                   1.0                0.0                0.0   \n",
       "4                   0.0                0.0                1.0   \n",
       "...                 ...                ...                ...   \n",
       "4123                0.0                0.0                1.0   \n",
       "4124                1.0                0.0                0.0   \n",
       "4125                1.0                0.0                0.0   \n",
       "4126                0.0                0.0                1.0   \n",
       "4127                1.0                0.0                0.0   \n",
       "\n",
       "      ocean_proximity_4  ocean_proximity_5  longitude  latitude  \\\n",
       "0                   1.0                0.0    -124.15     40.78   \n",
       "1                   0.0                0.0    -122.80     38.39   \n",
       "2                   0.0                0.0    -117.80     33.77   \n",
       "3                   0.0                0.0    -118.87     34.23   \n",
       "4                   0.0                0.0    -119.37     36.19   \n",
       "...                 ...                ...        ...       ...   \n",
       "4123                0.0                0.0    -120.72     37.54   \n",
       "4124                0.0                0.0    -118.32     33.98   \n",
       "4125                0.0                0.0    -118.24     34.13   \n",
       "4126                0.0                0.0    -119.03     36.08   \n",
       "4127                0.0                0.0    -117.92     33.79   \n",
       "\n",
       "      housing_median_age  total_rooms  population  households  median_income  \\\n",
       "0                   36.0       2112.0       829.0       368.0         3.3984   \n",
       "1                   26.0       2273.0      1124.0       420.0         2.9453   \n",
       "2                   29.0       5436.0      2046.0       685.0         8.7496   \n",
       "3                   14.0       4242.0      1858.0       689.0         6.0145   \n",
       "4                   24.0       1306.0       889.0       276.0         2.4922   \n",
       "...                  ...          ...         ...         ...            ...   \n",
       "4123                17.0        729.0       431.0       121.0         4.2188   \n",
       "4124                49.0       1993.0      1052.0       394.0         2.2138   \n",
       "4125                37.0       1644.0       959.0       383.0         3.3636   \n",
       "4126                19.0       2471.0      1040.0       426.0         3.2500   \n",
       "4127                26.0       2737.0      1877.0       606.0         2.8622   \n",
       "\n",
       "      income_cat  rooms_per_household  bedrooms_per_room  \\\n",
       "0            3.0             5.739130           0.177083   \n",
       "1            2.0             5.411905           0.208535   \n",
       "2            5.0             7.935766           0.130059   \n",
       "3            5.0             6.156749           0.175860   \n",
       "4            2.0             4.731884           0.203675   \n",
       "...          ...                  ...                ...   \n",
       "4123         3.0             6.024793           0.183813   \n",
       "4124         2.0             5.058376           0.223783   \n",
       "4125         3.0             4.292428           0.240268   \n",
       "4126         3.0             5.800469           0.174423   \n",
       "4127         2.0             4.516502           0.224333   \n",
       "\n",
       "      population_per_household     prediction   actuals forecast_flag  \n",
       "0                     2.252717  215070.194641   90000.0  over predict  \n",
       "1                     2.676190  171582.333171  166700.0          good  \n",
       "2                     2.986861  448707.632990  349500.0          good  \n",
       "3                     2.696662  307084.068085  287100.0          good  \n",
       "4                     3.221014   79277.362754   66100.0          good  \n",
       "...                        ...            ...       ...           ...  \n",
       "4123                  3.561983  142405.732684  131300.0          good  \n",
       "4124                  2.670051  171448.829288  119800.0  over predict  \n",
       "4125                  2.503916  223759.887101  257700.0          good  \n",
       "4126                  2.441315  114175.477345   80600.0  over predict  \n",
       "4127                  3.097360  170641.888162  184300.0          good  \n",
       "\n",
       "[4128 rows x 19 columns]"
      ]
     },
     "execution_count": 36,
     "metadata": {},
     "output_type": "execute_result"
    }
   ],
   "source": [
    "residual_analysis"
   ]
  },
  {
   "cell_type": "code",
   "execution_count": 37,
   "id": "8c86e1a7-4ad5-4ebe-91e7-334f2e9b9428",
   "metadata": {},
   "outputs": [
    {
     "data": {},
     "metadata": {},
     "output_type": "display_data"
    },
    {
     "data": {
      "application/vnd.holoviews_exec.v0+json": "",
      "text/html": [
       "<div id='69246'>\n",
       "  <div class=\"bk-root\" id=\"d24a7602-5f96-4646-86bf-2ac124c04e10\" data-root-id=\"69246\"></div>\n",
       "</div>\n",
       "<script type=\"application/javascript\">(function(root) {\n",
       "  function embed_document(root) {\n",
       "    var docs_json = {\"b6670cdf-2e6d-4b45-89fb-5844efb98ca0\":{\"defs\":[{\"extends\":null,\"module\":null,\"name\":\"ReactiveHTML1\",\"overrides\":[],\"properties\":[]},{\"extends\":null,\"module\":null,\"name\":\"FlexBox1\",\"overrides\":[],\"properties\":[{\"default\":\"flex-start\",\"kind\":null,\"name\":\"align_content\"},{\"default\":\"flex-start\",\"kind\":null,\"name\":\"align_items\"},{\"default\":\"row\",\"kind\":null,\"name\":\"flex_direction\"},{\"default\":\"wrap\",\"kind\":null,\"name\":\"flex_wrap\"},{\"default\":\"flex-start\",\"kind\":null,\"name\":\"justify_content\"}]},{\"extends\":null,\"module\":null,\"name\":\"GridStack1\",\"overrides\":[],\"properties\":[{\"default\":\"warn\",\"kind\":null,\"name\":\"mode\"},{\"default\":null,\"kind\":null,\"name\":\"ncols\"},{\"default\":null,\"kind\":null,\"name\":\"nrows\"},{\"default\":true,\"kind\":null,\"name\":\"allow_resize\"},{\"default\":true,\"kind\":null,\"name\":\"allow_drag\"},{\"default\":[],\"kind\":null,\"name\":\"state\"}]},{\"extends\":null,\"module\":null,\"name\":\"click1\",\"overrides\":[],\"properties\":[{\"default\":\"\",\"kind\":null,\"name\":\"terminal_output\"},{\"default\":\"\",\"kind\":null,\"name\":\"debug_name\"},{\"default\":0,\"kind\":null,\"name\":\"clears\"}]},{\"extends\":null,\"module\":null,\"name\":\"NotificationAreaBase1\",\"overrides\":[],\"properties\":[{\"default\":\"bottom-right\",\"kind\":null,\"name\":\"position\"},{\"default\":0,\"kind\":null,\"name\":\"_clear\"}]},{\"extends\":null,\"module\":null,\"name\":\"NotificationArea1\",\"overrides\":[],\"properties\":[{\"default\":[],\"kind\":null,\"name\":\"notifications\"},{\"default\":\"bottom-right\",\"kind\":null,\"name\":\"position\"},{\"default\":0,\"kind\":null,\"name\":\"_clear\"},{\"default\":[{\"background\":\"#ffc107\",\"icon\":{\"className\":\"fas fa-exclamation-triangle\",\"color\":\"white\",\"tagName\":\"i\"},\"type\":\"warning\"},{\"background\":\"#007bff\",\"icon\":{\"className\":\"fas fa-info-circle\",\"color\":\"white\",\"tagName\":\"i\"},\"type\":\"info\"}],\"kind\":null,\"name\":\"types\"}]},{\"extends\":null,\"module\":null,\"name\":\"Notification\",\"overrides\":[],\"properties\":[{\"default\":null,\"kind\":null,\"name\":\"background\"},{\"default\":3000,\"kind\":null,\"name\":\"duration\"},{\"default\":null,\"kind\":null,\"name\":\"icon\"},{\"default\":\"\",\"kind\":null,\"name\":\"message\"},{\"default\":null,\"kind\":null,\"name\":\"notification_type\"},{\"default\":false,\"kind\":null,\"name\":\"_destroyed\"}]},{\"extends\":null,\"module\":null,\"name\":\"TemplateActions1\",\"overrides\":[],\"properties\":[{\"default\":0,\"kind\":null,\"name\":\"open_modal\"},{\"default\":0,\"kind\":null,\"name\":\"close_modal\"}]},{\"extends\":null,\"module\":null,\"name\":\"MaterialTemplateActions1\",\"overrides\":[],\"properties\":[{\"default\":0,\"kind\":null,\"name\":\"open_modal\"},{\"default\":0,\"kind\":null,\"name\":\"close_modal\"}]}],\"roots\":{\"references\":[{\"attributes\":{\"coordinates\":null,\"group\":null,\"text\":\"unit cost(density)\",\"text_color\":\"black\",\"text_font_size\":\"12pt\"},\"id\":\"69254\",\"type\":\"Title\"},{\"attributes\":{\"axis_label\":\"density\",\"coordinates\":null,\"formatter\":{\"id\":\"69287\"},\"group\":null,\"major_label_policy\":{\"id\":\"69288\"},\"ticker\":{\"id\":\"69267\"}},\"id\":\"69266\",\"type\":\"LinearAxis\"},{\"attributes\":{\"data\":{\"x\":{\"__ndarray__\":\"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\",\"dtype\":\"float64\",\"order\":\"little\",\"shape\":[200]},\"y\":{\"__ndarray__\":\"AAAAAAAAAAAAAAAAAAAAAAAAAAAAAAAAAAAAAAAAAAAAAAAAAAAAAAAAAAAAAAAAAAAAAAAAAAAAAAAAAAAAAAAAAAAAAAAAAAAAAAAAAAAAAAAAAAAAAAAAAAAAAAAAAAAAAAAAAAAAAAAAAAAAAAAAAAAAAAAAAAAAAAAAAAAAAAAAAAAAAAAAAAAAAAAAAAAAAAAAAAAAAAAAAAAAAAAAAAAAAAAAAAAAAAAAAAAAAAAAAAAAAAAAAAAAAAAAAAAAAAAAAAAAAAAAAAAAAAAAAAAAAAAAAAAAAAAAAAAAAAAAAAAAAAAAAAAAAAAAAAAAAAAAAAAAAAAAAAAAAAAAAAAAAAAAAAAAAAAAAAAAAAAAAAAAAAAAAAAAAAAAAAAAAAAAAAAAAAAAAAAAAAAAAAAAAAAAAAAAAAAAAAAAAAAAAAAAAAAAAAAAAAAAAAAAAAAAAAAAAAAAAAAAAAAAAAAAAAAAAAAAAAAAAAAAAAAAAAAAAAAAAAAAAAAAAAAAAAAAAAAAAAAAAAAAAAAAAAAAAAAAAAAAAAAAAAAAAAAAAAAAAAAAAAAAAAAAAAAAAAAAAAAAAAAAAAAAAAAAAAAAAAAAAAAAAAAAAAAAAAAAAAAAAAAAAAAAAAAAAAAAAAAAAAAAAAAAAAAAAAAAAAAAAAAAAAAAAAAAAAAAAAAAAAAAAAAAAAAAAAAAAAAAAAAAAAAAAAAAAAAAAAAAAAAAAAAAAAAAAAAAAAAAAAAAAAAAAAAAAAAAAAAAAAAAAAAAAAAAAAAAAAAAAAAAAAAAAAAAAAAAAAAAAAAAAAAAAAAAAAAAAAAAAAAAAAAAAAAAAAAAAAAAAAAAAAAAAAAAAAAAAAAAAAAAAAAAAAAAAAAAAAAAAAAAAAAAAAAAAAAAAAAAAAAAAAAAAAAAAAAAAAAAAAAAAAAAAAAAAAAAAAAAAAAAAAAAAAAAAAAAAAAAAAAAAAAAAAAAAAAAAAAAAAAAAAAAAAAAAAAAAAAAAAAAAAAAAAAAAAAAAAAAAAAAAAAAAAAAAAAAAAAAAAAAAAAAAAAAAAAAAACzWjt59qETP9Gq6qH02ys/M2svytc6QT8qP9OPvZNSP3BA9KaYdWE/8Q4JMTibbD9WYHPPfW10P9RPSNNLbnk/Nt80AsKYez9+ttrDxRp6PwDhZvPkhnU/E1ObyBf4bj+8Pm+gYX5jP8PekeEf3lU/cykPGC3+Rz+ElIlgG59BP68qBb77pUY/1SWXBSzGUj9LMSizgTFeP+jZm8t2zmU/7phmWhHsaz9FROe6sqpvP3YulFgz2W8/TiLZ+1dybD+x0EUuQphmP5ykcrus918/G/twXws6VD/rmJHHsFtHPzKCIhIa9To/biMPichWND/pmezFwvI4P7/T1Kq5o0M/MaCpchj1Tj+lWw4vzKtWP0hEUjd/iV4/won8fHr7Yj9AGB1YRu9lPwamZNFx0Wc/hRQNcenDaD/oPpJ2615pP+yy5fY8a2o/VEaxc5tsbD8IsucmvE9vP0Czo35mQ3E/1+mefXPGcj84rpBhnzh0PysNv6SAAHY/sQH9jIS3eD8PJaP75NR8PysX6yh6LYE/rV+aWZxbhD+/21eWOoCHPynJ6q0uSoo/GOQa2xfjjD8PzXoVlgaQP9IHKyz0b5I/lSZU/8Ehlj//Npz7EkObP4HZmb6B16A/u8Pcuo6XpD+6ZHI7XuGoP0Ku+h3T2q0/r0BBwI3asT/AZyokBj+1P2XtqZzWAbk/ykyLw4fxvD9jSPzWU27AP9KWLU8mVcI//QlIcpsxxD+fc42uAxTGP5DpwFv6Dcg/9n5ThWInyj/9gQeAGFfMP4pGSBmugc4//EXbVKM/0D8X5uyPvxPRPyWIAyZAr9E/2R7GscQN0j+UaWS5wTHSPw3XHd8BHdI/QMkmvpLJ0T9wkl04wSjRP85LxuDEKdA/u31X3P+IzT8wZj89pQTKP8RqmKaPAMY/EHmhaSzSwT8qchPrCqW7Pyj3cppAjLQ/nlOvzKhCrT/uwGj2xuGjPwqt9SBNlJk/oG687afPjj9SfXUbpSqBP0lhmbNzgXE/gFKIbC0yYD8HH++KHARLP53eAQo2ODQ/zStRBbARGz/b7pJ+/ikAPw==\",\"dtype\":\"float64\",\"order\":\"little\",\"shape\":[200]}},\"selected\":{\"id\":\"69290\"},\"selection_policy\":{\"id\":\"69304\"}},\"id\":\"69289\",\"type\":\"ColumnDataSource\"},{\"attributes\":{\"source\":{\"id\":\"69332\"}},\"id\":\"69339\",\"type\":\"CDSView\"},{\"attributes\":{\"fill_alpha\":0.5,\"fill_color\":\"#30a2da\",\"hatch_alpha\":0.7,\"hatch_color\":\"#30a2da\",\"line_alpha\":0.7,\"x\":{\"field\":\"x\"},\"y\":{\"field\":\"y\"}},\"id\":\"69292\",\"type\":\"Patch\"},{\"attributes\":{},\"id\":\"69285\",\"type\":\"AllLabels\"},{\"attributes\":{\"bottom_units\":\"screen\",\"coordinates\":null,\"fill_alpha\":0.5,\"fill_color\":\"lightgrey\",\"group\":null,\"left_units\":\"screen\",\"level\":\"overlay\",\"line_alpha\":1.0,\"line_color\":\"black\",\"line_dash\":[4,4],\"line_width\":2,\"right_units\":\"screen\",\"syncable\":false,\"top_units\":\"screen\"},\"id\":\"69275\",\"type\":\"BoxAnnotation\"},{\"attributes\":{\"click_policy\":\"mute\",\"coordinates\":null,\"group\":null,\"items\":[{\"id\":\"69308\"},{\"id\":\"69330\"},{\"id\":\"69354\"}],\"title\":\"forecast_flag\"},\"id\":\"69307\",\"type\":\"Legend\"},{\"attributes\":{\"label\":{\"value\":\"over predict\"},\"renderers\":[{\"id\":\"69295\"}]},\"id\":\"69308\",\"type\":\"LegendItem\"},{\"attributes\":{\"fill_alpha\":0.5,\"fill_color\":\"#fc4f30\",\"hatch_alpha\":0.7,\"hatch_color\":\"#fc4f30\",\"line_alpha\":0.7,\"x\":{\"field\":\"x\"},\"y\":{\"field\":\"y\"}},\"id\":\"69331\",\"type\":\"Patch\"},{\"attributes\":{},\"id\":\"69290\",\"type\":\"Selection\"},{\"attributes\":{\"margin\":[5,5,5,5],\"name\":\"HSpacer157810\",\"sizing_mode\":\"stretch_width\"},\"id\":\"69468\",\"type\":\"Spacer\"},{\"attributes\":{\"coordinates\":null,\"data_source\":{\"id\":\"69289\"},\"glyph\":{\"id\":\"69292\"},\"group\":null,\"hover_glyph\":null,\"muted_glyph\":{\"id\":\"69294\"},\"nonselection_glyph\":{\"id\":\"69293\"},\"selection_glyph\":{\"id\":\"69309\"},\"view\":{\"id\":\"69296\"}},\"id\":\"69295\",\"type\":\"GlyphRenderer\"},{\"attributes\":{\"axis_label\":\"unit_cost\",\"coordinates\":null,\"formatter\":{\"id\":\"69284\"},\"group\":null,\"major_label_policy\":{\"id\":\"69285\"},\"ticker\":{\"id\":\"69263\"}},\"id\":\"69262\",\"type\":\"LinearAxis\"},{\"attributes\":{\"label\":{\"value\":\"under predict\"},\"renderers\":[{\"id\":\"69338\"}]},\"id\":\"69354\",\"type\":\"LegendItem\"},{\"attributes\":{\"children\":[{\"id\":\"69247\"},{\"id\":\"69253\"},{\"id\":\"69468\"}],\"margin\":[0,0,0,0],\"name\":\"Row157805\",\"tags\":[\"embedded\"]},\"id\":\"69246\",\"type\":\"Row\"},{\"attributes\":{\"tools\":[{\"id\":\"69250\"},{\"id\":\"69270\"},{\"id\":\"69271\"},{\"id\":\"69272\"},{\"id\":\"69273\"},{\"id\":\"69274\"}]},\"id\":\"69276\",\"type\":\"Toolbar\"},{\"attributes\":{\"source\":{\"id\":\"69289\"}},\"id\":\"69296\",\"type\":\"CDSView\"},{\"attributes\":{\"fill_alpha\":0.5,\"fill_color\":\"#e5ae38\",\"hatch_alpha\":0.1,\"hatch_color\":\"#e5ae38\",\"line_alpha\":0.7,\"x\":{\"field\":\"x\"},\"y\":{\"field\":\"y\"}},\"id\":\"69336\",\"type\":\"Patch\"},{\"attributes\":{\"fill_alpha\":0.2,\"fill_color\":\"#fc4f30\",\"hatch_alpha\":0.2,\"hatch_color\":\"#fc4f30\",\"line_alpha\":0.2,\"x\":{\"field\":\"x\"},\"y\":{\"field\":\"y\"}},\"id\":\"69315\",\"type\":\"Patch\"},{\"attributes\":{},\"id\":\"69333\",\"type\":\"Selection\"},{\"attributes\":{},\"id\":\"69272\",\"type\":\"WheelZoomTool\"},{\"attributes\":{},\"id\":\"69274\",\"type\":\"ResetTool\"},{\"attributes\":{\"callback\":null,\"renderers\":[{\"id\":\"69295\"},{\"id\":\"69316\"},{\"id\":\"69338\"}],\"tags\":[\"hv_created\"],\"tooltips\":[[\"forecast_flag\",\"@{forecast_flag}\"],[\"median_income\",\"@{median_income}\"],[\"Density\",\"@{median_income_density}\"]]},\"id\":\"69250\",\"type\":\"HoverTool\"},{\"attributes\":{\"fill_alpha\":0.5,\"fill_color\":\"#e5ae38\",\"hatch_alpha\":0.7,\"hatch_color\":\"#e5ae38\",\"line_alpha\":0.7,\"x\":{\"field\":\"x\"},\"y\":{\"field\":\"y\"}},\"id\":\"69355\",\"type\":\"Patch\"},{\"attributes\":{\"overlay\":{\"id\":\"69275\"}},\"id\":\"69273\",\"type\":\"BoxZoomTool\"},{\"attributes\":{},\"id\":\"69263\",\"type\":\"BasicTicker\"},{\"attributes\":{},\"id\":\"69287\",\"type\":\"BasicTickFormatter\"},{\"attributes\":{},\"id\":\"69327\",\"type\":\"UnionRenderers\"},{\"attributes\":{\"fill_alpha\":0.2,\"fill_color\":\"#e5ae38\",\"hatch_alpha\":0.2,\"hatch_color\":\"#e5ae38\",\"line_alpha\":0.2,\"x\":{\"field\":\"x\"},\"y\":{\"field\":\"y\"}},\"id\":\"69337\",\"type\":\"Patch\"},{\"attributes\":{\"coordinates\":null,\"data_source\":{\"id\":\"69310\"},\"glyph\":{\"id\":\"69313\"},\"group\":null,\"hover_glyph\":null,\"muted_glyph\":{\"id\":\"69315\"},\"nonselection_glyph\":{\"id\":\"69314\"},\"selection_glyph\":{\"id\":\"69331\"},\"view\":{\"id\":\"69317\"}},\"id\":\"69316\",\"type\":\"GlyphRenderer\"},{\"attributes\":{\"coordinates\":null,\"data_source\":{\"id\":\"69332\"},\"glyph\":{\"id\":\"69335\"},\"group\":null,\"hover_glyph\":null,\"muted_glyph\":{\"id\":\"69337\"},\"nonselection_glyph\":{\"id\":\"69336\"},\"selection_glyph\":{\"id\":\"69355\"},\"view\":{\"id\":\"69339\"}},\"id\":\"69338\",\"type\":\"GlyphRenderer\"},{\"attributes\":{\"axis\":{\"id\":\"69262\"},\"coordinates\":null,\"grid_line_color\":null,\"group\":null,\"ticker\":null},\"id\":\"69265\",\"type\":\"Grid\"},{\"attributes\":{\"fill_alpha\":0.2,\"fill_color\":\"#30a2da\",\"hatch_alpha\":0.2,\"hatch_color\":\"#30a2da\",\"line_alpha\":0.2,\"x\":{\"field\":\"x\"},\"y\":{\"field\":\"y\"}},\"id\":\"69294\",\"type\":\"Patch\"},{\"attributes\":{\"fill_alpha\":0.5,\"fill_color\":\"#fc4f30\",\"hatch_alpha\":0.1,\"hatch_color\":\"#fc4f30\",\"line_alpha\":0.7,\"x\":{\"field\":\"x\"},\"y\":{\"field\":\"y\"}},\"id\":\"69314\",\"type\":\"Patch\"},{\"attributes\":{\"label\":{\"value\":\"good\"},\"renderers\":[{\"id\":\"69316\"}]},\"id\":\"69330\",\"type\":\"LegendItem\"},{\"attributes\":{},\"id\":\"69304\",\"type\":\"UnionRenderers\"},{\"attributes\":{},\"id\":\"69260\",\"type\":\"LinearScale\"},{\"attributes\":{\"fill_alpha\":0.5,\"fill_color\":\"#e5ae38\",\"hatch_alpha\":0.7,\"hatch_color\":\"#e5ae38\",\"line_alpha\":0.7,\"x\":{\"field\":\"x\"},\"y\":{\"field\":\"y\"}},\"id\":\"69335\",\"type\":\"Patch\"},{\"attributes\":{},\"id\":\"69288\",\"type\":\"AllLabels\"},{\"attributes\":{\"below\":[{\"id\":\"69262\"}],\"center\":[{\"id\":\"69265\"},{\"id\":\"69269\"},{\"id\":\"69307\"}],\"height\":400,\"left\":[{\"id\":\"69266\"}],\"margin\":[5,5,5,5],\"min_border_bottom\":10,\"min_border_left\":10,\"min_border_right\":10,\"min_border_top\":10,\"renderers\":[{\"id\":\"69295\"},{\"id\":\"69316\"},{\"id\":\"69338\"}],\"sizing_mode\":\"fixed\",\"title\":{\"id\":\"69254\"},\"toolbar\":{\"id\":\"69276\"},\"width\":800,\"x_range\":{\"id\":\"69248\"},\"x_scale\":{\"id\":\"69258\"},\"y_range\":{\"id\":\"69249\"},\"y_scale\":{\"id\":\"69260\"}},\"id\":\"69253\",\"subtype\":\"Figure\",\"type\":\"Plot\"},{\"attributes\":{\"data\":{\"x\":{\"__ndarray__\":\"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\",\"dtype\":\"float64\",\"order\":\"little\",\"shape\":[200]},\"y\":{\"__ndarray__\":\"AAAAAAAAAAAAAAAAAAAAAAAAAAAAAAAAAAAAAAAAAAAAAAAAAAAAAAAAAAAAAAAAAAAAAAAAAAAAAAAAAAAAAAAAAAAAAAAAAAAAAAAAAAAAAAAAAAAAAAAAAAAAAAAAAAAAAAAAAAAAAAAAAAAAAAAAAAAAAAAAAAAAAAAAAAAAAAAAAAAAAAAAAAAAAAAAAAAAAAAAAAAAAAAAAAAAAAAAAAAAAAAAAAAAAAAAAAAAAAAAAAAAAAAAAAAAAAAAAAAAAAAAAAAAAAAAAAAAAAAAAAAAAAAAAAAAAAAAAAAAAAAAAAAAAAAAAAAAAAAAAAAAAAAAAAAAAAAAAAAAAAAAAAAAAAAAAAAAAAAAAAAAAAAAAAAAAAAAAAAAAAAAAAAAAAAAAAAAAAAAAAAAAAAAAAAAAAAAAAAAAAAAAAAAAAAAAAAAAAAAAAAAAAAAAAAAAAAAAAAAAAAAAAAAAAAAAAAAAAAAAAAAAAAAAAAAAAAAAAAAAAAAAAAAAAAAAAAAAAAAAAAAAAAAAAAAAAAAAAAAAAAAAAAAAAAAAAAAAAAAAAAAAAAAAAAAAAAAAAAAAAAAAAAAAAAAAAAAAAAAAAAAAAAAAAAAAAAAAAAAAAAAAAAAAAAAAAAAAAAAAAAAAAAAAAAAAAAAAAAAAAAAAAAAAAAAAAAAAAAAAAAAAAAAAAAAAAAAAAAAAAAAAAAAAAAAAAAAAAAAAAAAAAAAAAAAAAAAAAAAAAAAAAAAAAAAAAAAAAAAAAAAAAAAAAAAAAAAAAAAAAAAAAAAAAAAAAAAAAAAAAAAAAAAAAAAAAAAAAAAAAAAAAAAAAAAAAAAAAAAAAAAAAAAAAAAAAAAAAAAAAAAAAAAAAAAAAAAAAAAAAAAAAAAAAAAAAAAAAAAAAAAAAAAAAAAAAAAAAAAAAAAAAAAAAAAAAAAAAAAAAAAAAAAAAAAAAAAAAAAAAAAAAAAAAAAAAAAAAAAAAAAAAAAAAAAAAAAAAAAAAAAAAAAAAAAAAAAAAAAAAAAAAAAAAAAAAAAAAAAAAAAAAAAAAAAAAAAAAAAAAAAAABPJAqdkazRPlBkYU6Reuo+50Qxg/MqAT9r7Ya/dlITPw8sb28G9CI/gwwt21RNMD9KJlcXxs84P14NMQNc7UA/PYeZJucbRT8ZlsYqv7hIP0RHy9iIIkw/8pqjSrsUUD/hPmZepc1SPyPxQ3S2bFY/Bua49gzoWj+9rXMCKBJgP0A8cNzxCWM/jjfNCWFTZj9kGoTfQt1pPxN7U1VCq20/WK92qYcEcT+3BVxpysFzP0CA7vAnPXc/C1CRhphKez8W7NOSd1l/PzfRIQ5RYoE/WJCJZTGfgj+n5egA5XqDP6JxkdsZKYQ/EMCieajDhD/pcsRLnDOFP+t1tLuFTIU/dYFNPyb/hD9zoWzbWHeEP9HPIk9IEIQ/1zDtPhEwhD9TOfcIYSyFPzfhLvU0R4c/L9oVpTa1ij9Yfd5hLpePP20ammHE8JI/PJma//aglj9F3eHXrY2aP51g2/ujVZ4/nmhn1ynVoD+6Do/vQzuiPxfPLmTodaM/PbAiuS21pD/IEgeVbimmPxM/MDRa8ac/JPN3YZkXqj+FZ/FeupysPxxZrQFqgK8/qH4uG/FfsT8A0t8RfSazP8iO2XLDBbU/ahAC3AHutj8xm5VZ3dS4PxaI7rWQt7o/dy1H+yCZvD88vWL7i4K+PwCbgOmUQsA//e4bvi5cwT/nfQdA2ZfCP7LNXD1e+MM/fQ9NQ4R4xT8gbEVxPg3HP8kAzP1Ap8g/epL+FCwzyj/cSs21VJvLP/1+ersFzcw/BcMyi2u+zT861qpF0G/OP1A/f++u5c4/CbIMktEfzz8unnNlfBXPP4BPNJTouc4/vL/RpWkDzj//EP5Jfe3MP5p/vm1Xdcs/eKBPW72XyT+I1+tsVFXHPzmgeKxJusQ/jylJg3bhwT8BDm+GQ9+9Pw7k9lPlFrg/rn0tIz2wsj/jIgfYnMyrP6JSpZqRxqM/JYWBuc3jmj8KQ/74oHeRP8Wxg70Ko4U/GFoLvi9neT8c54HNyvxrP3KfkaiJlFw/FyMXe2i3Sj+CRyfoJ5w2PxjQf8VyKiE/HCjK4zA2Bz8VqsXz98jrPg==\",\"dtype\":\"float64\",\"order\":\"little\",\"shape\":[200]}},\"selected\":{\"id\":\"69311\"},\"selection_policy\":{\"id\":\"69327\"}},\"id\":\"69310\",\"type\":\"ColumnDataSource\"},{\"attributes\":{\"axis\":{\"id\":\"69266\"},\"coordinates\":null,\"dimension\":1,\"grid_line_color\":null,\"group\":null,\"ticker\":null},\"id\":\"69269\",\"type\":\"Grid\"},{\"attributes\":{\"data\":{\"x\":{\"__ndarray__\":\"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\",\"dtype\":\"float64\",\"order\":\"little\",\"shape\":[200]},\"y\":{\"__ndarray__\":\"AAAAAAAAAAAAAAAAAAAAAAAAAAAAAAAAAAAAAAAAAAAAAAAAAAAAAAAAAAAAAAAAAAAAAAAAAAAAAAAAAAAAAAAAAAAAAAAAAAAAAAAAAAAAAAAAAAAAAAAAAAAAAAAAAAAAAAAAAAAAAAAAAAAAAAAAAAAAAAAAAAAAAAAAAAAAAAAAAAAAAAAAAAAAAAAAAAAAAAAAAAAAAAAAAAAAAAAAAAAAAAAAAAAAAAAAAAAAAAAAAAAAAAAAAAAAAAAAAAAAAAAAAAAAAAAAAAAAAAAAAAAAAAAAAAAAAAAAAAAAAAAAAAAAAAAAAAAAAAAAAAAAAAAAAAAAAAAAAAAAAAAAAAAAAAAAAAAAAAAAAAAAAAAAAAAAAAAAAAAAAAAAAAAAAAAAAAAAAAAAAAAAAAAAAAAAAAAAAAAAAAAAAAAAAAAAAAAAAAAAAAAAAAAAAAAAAAAAAAAAAAAAAAAAAAAAAAAAAAAAAAAAAAAAAAAAAAAAAAAAAAAAAAAAAAAAAAAAAAAAAAAAAAAAAAAAAAAAAAAAAAAAAAAAAAAAAAAAAAAAAAAAAAAAAAAAAAAAAAAAAAAAAAAAAAAAAAAAAAAAAAAAAAAAAAAAAAAAAAAAAAAAAAAAAAAAAAAAAAAAAAAAAAAAAAAAAAAAAAAAAAAAAAAAAAAAAAAAAAAAAAAAAAAAAAAAAAAAAAAAAAAAAAAAAAAAAAAAAAAAAAAAAAAAAAAAAAAAAAAAAAAAAAAAAAAAAAAAAAAAAAAAAAAAAAAAAAAAAAAAAAAAAAAAAAAAAAAAAAAAAAAAAAAAAAAAAAAAAAAAAAAAAAAAAAAAAAAAAAAAAAAAAAAAAAAAAAAAAAAAAAAAAAAAAAAAAAAAAAAAAAAAAAAAAAAAAAAAAAAAAAAAAAAAAAAAAAAAAAAAAAAAAAAAAAAAAAAAAAAAAAAAAAAAAAAAAAAAAAAAAAAAAAAAAAAAAAAAAAAAAAAAAAAAAAAAAAAAAAAAAAAAAAAAAAAAAAAAAAAAAAAAAAAAAAAAAAAAAAAAAAAAAAAAAAAAAAAAAAAAAAAAAACPSU+Fwxn+PrsZCRk/vg0/QeEN3V3tGz/DSfVZT/AoPxASePEENDU/w/Aml+kvQT8RwKjFKpxKP2LqBAOQtlM/GfFLXecEXD8PMJHADShjP00cIPngR2k/NmYouCIocD88bkaf5RN0Pz/Jv8eqWng/14ws8d70fD9aPeE3pPKAPyUjEUFjn4M/QEnyqOaUhj8iGh+IDPSJPxbcYZov6o0/UUNCFP5WkT8bwhVbejyUP+H4j6s9v5c/pXkKASbxmz905PEJO2ygP/cUylccN6M/A2fuVctPpj8WnNQ9HampP59eMKSDNa0/bcWbqmN1sD82XRmJg2KyP8LMds/rY7Q/aXkBemV+tj8pQVKUu7e4P/2eSp8GFLs/Yg/ggR2TvT9UmUymhBfAP3BqY+H+bcE/61L0PejEwj9Gdt7fPBPEPwLZBd6BUMU/JesX/TJ2xj+JExwo+IDHP9Qa1JZ1ccg/FkvcRXtMyT+JpNT1VRrKP/Rx4Zoq5co/CacOs5a2yz/tAbJsKZXMP6f6auR3gs0/PMSQyHF6zj/mbSspO3TPP2jV42EqMtA/56tTSrqf0D8B3NWxnf7QPy0Bzpz9TNE/QolEyoGL0T9qxQEorLzRP7XlApWf49E/2bbv5cAC0j8LlOJktRrSP7DQmDghKtI/LTf3lzku0j/yocfx4iPSP3GdyEHVCNI/8wDWgT/c0T/4LEBzoJ7RP/Ur3trqUNE/psJwymHz0D8gjQuIv4TQPygGJMkdAtA/jaz4s4fPzj/J91yWNGXNP93blVVww8s/Teyq3druyT8jRXG7wPLHP2PGCCpi38U/VTnFCejGwz+eNNCVE7rBP6S23p1Yi78/tqeMSI/iuz+ch9H19364Pxz4sQZFXrU/33MhczJ6sj8tloRb85evPxj8ddXinao/gg1U4+ADpj+lliPjuM6hP+eXXG5OEJw/x7nu2Wh2lT/pIgng3MCPP0Fy5n+IpoY/qoUmGZETfz/RKzthHnR0P3+atHiix2k/kbp/yysPXz+OHzmBz9tRP8NVdmAvlEM/slUOiFhxND8uQP/gtk8kPw==\",\"dtype\":\"float64\",\"order\":\"little\",\"shape\":[200]}},\"selected\":{\"id\":\"69333\"},\"selection_policy\":{\"id\":\"69351\"}},\"id\":\"69332\",\"type\":\"ColumnDataSource\"},{\"attributes\":{\"margin\":[5,5,5,5],\"name\":\"HSpacer157809\",\"sizing_mode\":\"stretch_width\"},\"id\":\"69247\",\"type\":\"Spacer\"},{\"attributes\":{},\"id\":\"69284\",\"type\":\"BasicTickFormatter\"},{\"attributes\":{},\"id\":\"69351\",\"type\":\"UnionRenderers\"},{\"attributes\":{},\"id\":\"69267\",\"type\":\"BasicTicker\"},{\"attributes\":{\"end\":0.31271517972888363,\"reset_end\":0.31271517972888363,\"reset_start\":0.0,\"tags\":[[[\"median_income_density\",\"Density\",null]]]},\"id\":\"69249\",\"type\":\"Range1d\"},{\"attributes\":{},\"id\":\"69270\",\"type\":\"SaveTool\"},{\"attributes\":{\"fill_alpha\":0.5,\"fill_color\":\"#30a2da\",\"hatch_alpha\":0.7,\"hatch_color\":\"#30a2da\",\"line_alpha\":0.7,\"x\":{\"field\":\"x\"},\"y\":{\"field\":\"y\"}},\"id\":\"69309\",\"type\":\"Patch\"},{\"attributes\":{},\"id\":\"69258\",\"type\":\"LinearScale\"},{\"attributes\":{\"end\":16.39521169553283,\"reset_end\":16.39521169553283,\"reset_start\":-0.6665116955328302,\"start\":-0.6665116955328302,\"tags\":[[[\"median_income\",\"median_income\",null]]]},\"id\":\"69248\",\"type\":\"Range1d\"},{\"attributes\":{},\"id\":\"69271\",\"type\":\"PanTool\"},{\"attributes\":{\"fill_alpha\":0.5,\"fill_color\":\"#30a2da\",\"hatch_alpha\":0.1,\"hatch_color\":\"#30a2da\",\"line_alpha\":0.7,\"x\":{\"field\":\"x\"},\"y\":{\"field\":\"y\"}},\"id\":\"69293\",\"type\":\"Patch\"},{\"attributes\":{},\"id\":\"69311\",\"type\":\"Selection\"},{\"attributes\":{\"fill_alpha\":0.5,\"fill_color\":\"#fc4f30\",\"hatch_alpha\":0.7,\"hatch_color\":\"#fc4f30\",\"line_alpha\":0.7,\"x\":{\"field\":\"x\"},\"y\":{\"field\":\"y\"}},\"id\":\"69313\",\"type\":\"Patch\"},{\"attributes\":{\"source\":{\"id\":\"69310\"}},\"id\":\"69317\",\"type\":\"CDSView\"}],\"root_ids\":[\"69246\"]},\"title\":\"Bokeh Application\",\"version\":\"2.4.3\"}};\n",
       "    var render_items = [{\"docid\":\"b6670cdf-2e6d-4b45-89fb-5844efb98ca0\",\"root_ids\":[\"69246\"],\"roots\":{\"69246\":\"d24a7602-5f96-4646-86bf-2ac124c04e10\"}}];\n",
       "    root.Bokeh.embed.embed_items_notebook(docs_json, render_items);\n",
       "  }\n",
       "  if (root.Bokeh !== undefined && root.Bokeh.Panel !== undefined) {\n",
       "    embed_document(root);\n",
       "  } else {\n",
       "    var attempts = 0;\n",
       "    var timer = setInterval(function(root) {\n",
       "      if (root.Bokeh !== undefined && root.Bokeh.Panel !== undefined) {\n",
       "        clearInterval(timer);\n",
       "        embed_document(root);\n",
       "      } else if (document.readyState == \"complete\") {\n",
       "        attempts++;\n",
       "        if (attempts > 200) {\n",
       "          clearInterval(timer);\n",
       "          console.log(\"Bokeh: ERROR: Unable to run BokehJS code because BokehJS library is missing\");\n",
       "        }\n",
       "      }\n",
       "    }, 25, root)\n",
       "  }\n",
       "})(window);</script>"
      ],
      "text/plain": [
       ":NdOverlay   [forecast_flag]\n",
       "   :Distribution   [median_income]   (Density)"
      ]
     },
     "execution_count": 37,
     "metadata": {
      "application/vnd.holoviews_exec.v0+json": {
       "id": "69246"
      }
     },
     "output_type": "execute_result"
    }
   ],
   "source": [
    "residual_analysis.hvplot.kde(y=\"median_income\",by=\"forecast_flag\", ## Grouping by Predictions\n",
    "                                width=800, height=400,\n",
    "                                alpha=0.7,\n",
    "                                ylabel=\"density\",\n",
    "                                xlabel=\"unit_cost\",\n",
    "                                title=f'unit cost(density)',legend='top_right')"
   ]
  },
  {
   "cell_type": "markdown",
   "id": "dc3a1251-d235-403c-8dd1-d531d25409b5",
   "metadata": {},
   "source": [
    "# 4.2 Modelling - XGBoost"
   ]
  },
  {
   "cell_type": "markdown",
   "id": "71527ec2-f33d-4b69-8ea3-3f2d366dda4a",
   "metadata": {},
   "source": [
    "## 4.2.1 Model training pipeline\n",
    "\n",
    "Here we focus on creating a collection of pipelines that can be used for tranining respective models.\n",
    "\n",
    "Each model pipeline will essentially be of the form\n",
    "```\n",
    "[\n",
    "('preprocessing', preprocessing_pipeline),\n",
    "('feature_selection', feature_selection_pipeline),\n",
    "('estimator', estimator),\n",
    "]\n",
    "```"
   ]
  },
  {
   "cell_type": "markdown",
   "id": "751215b7-1072-432e-86aa-460378bb48fa",
   "metadata": {},
   "source": [
    "### 4.2.2 Model Pipeline Build"
   ]
  },
  {
   "cell_type": "code",
   "execution_count": 38,
   "id": "e4638812-306d-4237-b0ce-d5b8a54828f3",
   "metadata": {},
   "outputs": [
    {
     "data": {
      "text/html": [
       "<style>#sk-container-id-2 {color: black;background-color: white;}#sk-container-id-2 pre{padding: 0;}#sk-container-id-2 div.sk-toggleable {background-color: white;}#sk-container-id-2 label.sk-toggleable__label {cursor: pointer;display: block;width: 100%;margin-bottom: 0;padding: 0.3em;box-sizing: border-box;text-align: center;}#sk-container-id-2 label.sk-toggleable__label-arrow:before {content: \"▸\";float: left;margin-right: 0.25em;color: #696969;}#sk-container-id-2 label.sk-toggleable__label-arrow:hover:before {color: black;}#sk-container-id-2 div.sk-estimator:hover label.sk-toggleable__label-arrow:before {color: black;}#sk-container-id-2 div.sk-toggleable__content {max-height: 0;max-width: 0;overflow: hidden;text-align: left;background-color: #f0f8ff;}#sk-container-id-2 div.sk-toggleable__content pre {margin: 0.2em;color: black;border-radius: 0.25em;background-color: #f0f8ff;}#sk-container-id-2 input.sk-toggleable__control:checked~div.sk-toggleable__content {max-height: 200px;max-width: 100%;overflow: auto;}#sk-container-id-2 input.sk-toggleable__control:checked~label.sk-toggleable__label-arrow:before {content: \"▾\";}#sk-container-id-2 div.sk-estimator input.sk-toggleable__control:checked~label.sk-toggleable__label {background-color: #d4ebff;}#sk-container-id-2 div.sk-label input.sk-toggleable__control:checked~label.sk-toggleable__label {background-color: #d4ebff;}#sk-container-id-2 input.sk-hidden--visually {border: 0;clip: rect(1px 1px 1px 1px);clip: rect(1px, 1px, 1px, 1px);height: 1px;margin: -1px;overflow: hidden;padding: 0;position: absolute;width: 1px;}#sk-container-id-2 div.sk-estimator {font-family: monospace;background-color: #f0f8ff;border: 1px dotted black;border-radius: 0.25em;box-sizing: border-box;margin-bottom: 0.5em;}#sk-container-id-2 div.sk-estimator:hover {background-color: #d4ebff;}#sk-container-id-2 div.sk-parallel-item::after {content: \"\";width: 100%;border-bottom: 1px solid gray;flex-grow: 1;}#sk-container-id-2 div.sk-label:hover label.sk-toggleable__label {background-color: #d4ebff;}#sk-container-id-2 div.sk-serial::before {content: \"\";position: absolute;border-left: 1px solid gray;box-sizing: border-box;top: 0;bottom: 0;left: 50%;z-index: 0;}#sk-container-id-2 div.sk-serial {display: flex;flex-direction: column;align-items: center;background-color: white;padding-right: 0.2em;padding-left: 0.2em;position: relative;}#sk-container-id-2 div.sk-item {position: relative;z-index: 1;}#sk-container-id-2 div.sk-parallel {display: flex;align-items: stretch;justify-content: center;background-color: white;position: relative;}#sk-container-id-2 div.sk-item::before, #sk-container-id-2 div.sk-parallel-item::before {content: \"\";position: absolute;border-left: 1px solid gray;box-sizing: border-box;top: 0;bottom: 0;left: 50%;z-index: -1;}#sk-container-id-2 div.sk-parallel-item {display: flex;flex-direction: column;z-index: 1;position: relative;background-color: white;}#sk-container-id-2 div.sk-parallel-item:first-child::after {align-self: flex-end;width: 50%;}#sk-container-id-2 div.sk-parallel-item:last-child::after {align-self: flex-start;width: 50%;}#sk-container-id-2 div.sk-parallel-item:only-child::after {width: 0;}#sk-container-id-2 div.sk-dashed-wrapped {border: 1px dashed gray;margin: 0 0.4em 0.5em 0.4em;box-sizing: border-box;padding-bottom: 0.4em;background-color: white;}#sk-container-id-2 div.sk-label label {font-family: monospace;font-weight: bold;display: inline-block;line-height: 1.2em;}#sk-container-id-2 div.sk-label-container {text-align: center;}#sk-container-id-2 div.sk-container {/* jupyter's `normalize.less` sets `[hidden] { display: none; }` but bootstrap.min.css set `[hidden] { display: none !important; }` so we also need the `!important` here to be able to override the default hidden behavior on the sphinx rendered scikit-learn.org. See: https://github.com/scikit-learn/scikit-learn/issues/21755 */display: inline-block !important;position: relative;}#sk-container-id-2 div.sk-text-repr-fallback {display: none;}</style><div id=\"sk-container-id-2\" class=\"sk-top-container\"><div class=\"sk-text-repr-fallback\"><pre>Pipeline(steps=[(&#x27;XGBoost&#x27;,\n",
       "                 XGBRegressor(base_score=0.5, booster=&#x27;gbtree&#x27;,\n",
       "                              colsample_bylevel=1, colsample_bynode=1,\n",
       "                              colsample_bytree=1, enable_categorical=False,\n",
       "                              gamma=0, gpu_id=-1, importance_type=None,\n",
       "                              interaction_constraints=&#x27;&#x27;,\n",
       "                              learning_rate=0.300000012, max_delta_step=0,\n",
       "                              max_depth=6, min_child_weight=1, missing=nan,\n",
       "                              monotone_constraints=&#x27;()&#x27;, n_estimators=100,\n",
       "                              n_jobs=8, num_parallel_tree=1, predictor=&#x27;auto&#x27;,\n",
       "                              random_state=0, reg_alpha=0, reg_lambda=1,\n",
       "                              scale_pos_weight=1, subsample=1,\n",
       "                              tree_method=&#x27;exact&#x27;, validate_parameters=1,\n",
       "                              verbosity=None))])</pre><b>In a Jupyter environment, please rerun this cell to show the HTML representation or trust the notebook. <br />On GitHub, the HTML representation is unable to render, please try loading this page with nbviewer.org.</b></div><div class=\"sk-container\" hidden><div class=\"sk-item sk-dashed-wrapped\"><div class=\"sk-label-container\"><div class=\"sk-label sk-toggleable\"><input class=\"sk-toggleable__control sk-hidden--visually\" id=\"sk-estimator-id-4\" type=\"checkbox\" ><label for=\"sk-estimator-id-4\" class=\"sk-toggleable__label sk-toggleable__label-arrow\">Pipeline</label><div class=\"sk-toggleable__content\"><pre>Pipeline(steps=[(&#x27;XGBoost&#x27;,\n",
       "                 XGBRegressor(base_score=0.5, booster=&#x27;gbtree&#x27;,\n",
       "                              colsample_bylevel=1, colsample_bynode=1,\n",
       "                              colsample_bytree=1, enable_categorical=False,\n",
       "                              gamma=0, gpu_id=-1, importance_type=None,\n",
       "                              interaction_constraints=&#x27;&#x27;,\n",
       "                              learning_rate=0.300000012, max_delta_step=0,\n",
       "                              max_depth=6, min_child_weight=1, missing=nan,\n",
       "                              monotone_constraints=&#x27;()&#x27;, n_estimators=100,\n",
       "                              n_jobs=8, num_parallel_tree=1, predictor=&#x27;auto&#x27;,\n",
       "                              random_state=0, reg_alpha=0, reg_lambda=1,\n",
       "                              scale_pos_weight=1, subsample=1,\n",
       "                              tree_method=&#x27;exact&#x27;, validate_parameters=1,\n",
       "                              verbosity=None))])</pre></div></div></div><div class=\"sk-serial\"><div class=\"sk-item\"><div class=\"sk-estimator sk-toggleable\"><input class=\"sk-toggleable__control sk-hidden--visually\" id=\"sk-estimator-id-5\" type=\"checkbox\" ><label for=\"sk-estimator-id-5\" class=\"sk-toggleable__label sk-toggleable__label-arrow\">XGBRegressor</label><div class=\"sk-toggleable__content\"><pre>XGBRegressor(base_score=0.5, booster=&#x27;gbtree&#x27;, colsample_bylevel=1,\n",
       "             colsample_bynode=1, colsample_bytree=1, enable_categorical=False,\n",
       "             gamma=0, gpu_id=-1, importance_type=None,\n",
       "             interaction_constraints=&#x27;&#x27;, learning_rate=0.300000012,\n",
       "             max_delta_step=0, max_depth=6, min_child_weight=1, missing=nan,\n",
       "             monotone_constraints=&#x27;()&#x27;, n_estimators=100, n_jobs=8,\n",
       "             num_parallel_tree=1, predictor=&#x27;auto&#x27;, random_state=0, reg_alpha=0,\n",
       "             reg_lambda=1, scale_pos_weight=1, subsample=1, tree_method=&#x27;exact&#x27;,\n",
       "             validate_parameters=1, verbosity=None)</pre></div></div></div></div></div></div></div>"
      ],
      "text/plain": [
       "Pipeline(steps=[('XGBoost',\n",
       "                 XGBRegressor(base_score=0.5, booster='gbtree',\n",
       "                              colsample_bylevel=1, colsample_bynode=1,\n",
       "                              colsample_bytree=1, enable_categorical=False,\n",
       "                              gamma=0, gpu_id=-1, importance_type=None,\n",
       "                              interaction_constraints='',\n",
       "                              learning_rate=0.300000012, max_delta_step=0,\n",
       "                              max_depth=6, min_child_weight=1, missing=nan,\n",
       "                              monotone_constraints='()', n_estimators=100,\n",
       "                              n_jobs=8, num_parallel_tree=1, predictor='auto',\n",
       "                              random_state=0, reg_alpha=0, reg_lambda=1,\n",
       "                              scale_pos_weight=1, subsample=1,\n",
       "                              tree_method='exact', validate_parameters=1,\n",
       "                              verbosity=None))])"
      ]
     },
     "execution_count": 38,
     "metadata": {},
     "output_type": "execute_result"
    }
   ],
   "source": [
    "# let's find features for some decent defaults\n",
    "estimator = XGBRegressor()\n",
    "xgb_training_pipe_init = Pipeline([\n",
    "    ('XGBoost', XGBRegressor())\n",
    "])\n",
    "xgb_training_pipe_init.fit(train_X, train_y)"
   ]
  },
  {
   "attachments": {},
   "cell_type": "markdown",
   "id": "3d3cfb44-339b-43c7-9ebc-f995941adff3",
   "metadata": {},
   "source": [
    "### 4.2.3 Model Tuning"
   ]
  },
  {
   "cell_type": "code",
   "execution_count": 39,
   "id": "cc3bf5d5-9452-4ded-bf98-3313fc2d59f3",
   "metadata": {},
   "outputs": [
    {
     "data": {
      "text/plain": [
       "<AxesSubplot:>"
      ]
     },
     "execution_count": 39,
     "metadata": {},
     "output_type": "execute_result"
    },
    {
     "data": {
      "image/png": "[encoded data removed]",
      "text/plain": [
       "<Figure size 640x480 with 1 Axes>"
      ]
     },
     "metadata": {},
     "output_type": "display_data"
    }
   ],
   "source": [
    "# Understanding the Feature Importance\n",
    "%matplotlib inline\n",
    "imp = pd.DataFrame({'importance': xgb_training_pipe_init['XGBoost'].feature_importances_})\n",
    "imp.index = train_X.columns\n",
    "imp.sort_values('importance',inplace=True)\n",
    "imp.plot(kind='barh')"
   ]
  },
  {
   "attachments": {},
   "cell_type": "markdown",
   "id": "57db1f02-0e70-4477-8221-1eee92bb7d8d",
   "metadata": {},
   "source": [
    "##### Pipeline build based on new importance features"
   ]
  },
  {
   "cell_type": "code",
   "execution_count": 40,
   "id": "03a55431-87dd-4bbe-8008-7682a9a37df5",
   "metadata": {},
   "outputs": [],
   "source": [
    "# let's find features for some decent defaults\n",
    "imp_features = list(test_X.columns)\n",
    "\n",
    "estimator = XGBRegressor()\n",
    "xgb_training_pipe2 = Pipeline([\n",
    "    ('', FunctionTransformer(_custom_data_transform, kw_args={'cols2keep':imp_features})),\n",
    "    ('XGBoost', XGBRegressor())\n",
    "])"
   ]
  },
  {
   "attachments": {},
   "cell_type": "markdown",
   "id": "316391c0-10b3-405c-b3fe-ec8824848290",
   "metadata": {},
   "source": [
    "#### Grid Search of the Estimator"
   ]
  },
  {
   "cell_type": "code",
   "execution_count": 41,
   "id": "b87cefdb-5433-46e3-8d0f-5ac3419708fd",
   "metadata": {
    "editable": true,
    "slideshow": {
     "slide_type": ""
    },
    "tags": []
   },
   "outputs": [
    {
     "name": "stdout",
     "output_type": "stream",
     "text": [
      "Fitting 2 folds for each of 1 candidates, totalling 2 fits\n"
     ]
    },
    {
     "name": "stderr",
     "output_type": "stream",
     "text": [
      "/home/naveen/miniconda3/envs/tamle_mod5-dev/lib/python3.10/site-packages/xgboost/compat.py:36: FutureWarning: pandas.Int64Index is deprecated and will be removed from pandas in a future version. Use pandas.Index with the appropriate dtype instead.\n",
      "  from pandas import MultiIndex, Int64Index\n",
      "/home/naveen/miniconda3/envs/tamle_mod5-dev/lib/python3.10/site-packages/xgboost/compat.py:36: FutureWarning: pandas.Int64Index is deprecated and will be removed from pandas in a future version. Use pandas.Index with the appropriate dtype instead.\n",
      "  from pandas import MultiIndex, Int64Index\n",
      "/home/naveen/miniconda3/envs/tamle_mod5-dev/lib/python3.10/site-packages/xgboost/data.py:262: FutureWarning: pandas.Int64Index is deprecated and will be removed from pandas in a future version. Use pandas.Index with the appropriate dtype instead.\n",
      "  elif isinstance(data.columns, (pd.Int64Index, pd.RangeIndex)):\n",
      "/home/naveen/miniconda3/envs/tamle_mod5-dev/lib/python3.10/site-packages/xgboost/data.py:262: FutureWarning: pandas.Int64Index is deprecated and will be removed from pandas in a future version. Use pandas.Index with the appropriate dtype instead.\n",
      "  elif isinstance(data.columns, (pd.Int64Index, pd.RangeIndex)):\n"
     ]
    },
    {
     "name": "stdout",
     "output_type": "stream",
     "text": [
      "0.8207505235596952\n",
      "{'gamma': 0.03, 'learning_rate': 0.1, 'max_depth': 3, 'min_child_weight': 6, 'n_estimators': 500}\n",
      "CPU times: user 20.4 s, sys: 516 ms, total: 20.9 s\n",
      "Wall time: 5min 4s\n"
     ]
    }
   ],
   "source": [
    "%%time\n",
    "parameters = {\n",
    "   'gamma':[0.03],\n",
    "   'min_child_weight':[6],\n",
    "   'learning_rate':[0.1],\n",
    "   'max_depth':[3],\n",
    "   'n_estimators':[500], \n",
    "}\n",
    "est = XGBRegressor()\n",
    "xgb_grid = GridSearchCV(est,\n",
    "                        parameters,\n",
    "                        cv = 2,\n",
    "                        n_jobs = 4,\n",
    "                        verbose=True)\n",
    "\n",
    "xgb_grid.fit(train_X, train_y)\n",
    "\n",
    "print(xgb_grid.best_score_)\n",
    "print(xgb_grid.best_params_)"
   ]
  },
  {
   "attachments": {},
   "cell_type": "markdown",
   "id": "4a77e08d-6e6e-46f6-8412-afcb8a87bb39",
   "metadata": {},
   "source": [
    "#### Pipeline Build using the best estimator"
   ]
  },
  {
   "cell_type": "code",
   "execution_count": null,
   "id": "0fb239b3-be44-414e-b7b7-d1ca96c60843",
   "metadata": {},
   "outputs": [],
   "source": []
  },
  {
   "cell_type": "code",
   "execution_count": 42,
   "id": "dcbaaabe-e5a8-470b-8a10-cebf1e042558",
   "metadata": {},
   "outputs": [
    {
     "data": {
      "text/html": [
       "<style>#sk-container-id-3 {color: black;background-color: white;}#sk-container-id-3 pre{padding: 0;}#sk-container-id-3 div.sk-toggleable {background-color: white;}#sk-container-id-3 label.sk-toggleable__label {cursor: pointer;display: block;width: 100%;margin-bottom: 0;padding: 0.3em;box-sizing: border-box;text-align: center;}#sk-container-id-3 label.sk-toggleable__label-arrow:before {content: \"▸\";float: left;margin-right: 0.25em;color: #696969;}#sk-container-id-3 label.sk-toggleable__label-arrow:hover:before {color: black;}#sk-container-id-3 div.sk-estimator:hover label.sk-toggleable__label-arrow:before {color: black;}#sk-container-id-3 div.sk-toggleable__content {max-height: 0;max-width: 0;overflow: hidden;text-align: left;background-color: #f0f8ff;}#sk-container-id-3 div.sk-toggleable__content pre {margin: 0.2em;color: black;border-radius: 0.25em;background-color: #f0f8ff;}#sk-container-id-3 input.sk-toggleable__control:checked~div.sk-toggleable__content {max-height: 200px;max-width: 100%;overflow: auto;}#sk-container-id-3 input.sk-toggleable__control:checked~label.sk-toggleable__label-arrow:before {content: \"▾\";}#sk-container-id-3 div.sk-estimator input.sk-toggleable__control:checked~label.sk-toggleable__label {background-color: #d4ebff;}#sk-container-id-3 div.sk-label input.sk-toggleable__control:checked~label.sk-toggleable__label {background-color: #d4ebff;}#sk-container-id-3 input.sk-hidden--visually {border: 0;clip: rect(1px 1px 1px 1px);clip: rect(1px, 1px, 1px, 1px);height: 1px;margin: -1px;overflow: hidden;padding: 0;position: absolute;width: 1px;}#sk-container-id-3 div.sk-estimator {font-family: monospace;background-color: #f0f8ff;border: 1px dotted black;border-radius: 0.25em;box-sizing: border-box;margin-bottom: 0.5em;}#sk-container-id-3 div.sk-estimator:hover {background-color: #d4ebff;}#sk-container-id-3 div.sk-parallel-item::after {content: \"\";width: 100%;border-bottom: 1px solid gray;flex-grow: 1;}#sk-container-id-3 div.sk-label:hover label.sk-toggleable__label {background-color: #d4ebff;}#sk-container-id-3 div.sk-serial::before {content: \"\";position: absolute;border-left: 1px solid gray;box-sizing: border-box;top: 0;bottom: 0;left: 50%;z-index: 0;}#sk-container-id-3 div.sk-serial {display: flex;flex-direction: column;align-items: center;background-color: white;padding-right: 0.2em;padding-left: 0.2em;position: relative;}#sk-container-id-3 div.sk-item {position: relative;z-index: 1;}#sk-container-id-3 div.sk-parallel {display: flex;align-items: stretch;justify-content: center;background-color: white;position: relative;}#sk-container-id-3 div.sk-item::before, #sk-container-id-3 div.sk-parallel-item::before {content: \"\";position: absolute;border-left: 1px solid gray;box-sizing: border-box;top: 0;bottom: 0;left: 50%;z-index: -1;}#sk-container-id-3 div.sk-parallel-item {display: flex;flex-direction: column;z-index: 1;position: relative;background-color: white;}#sk-container-id-3 div.sk-parallel-item:first-child::after {align-self: flex-end;width: 50%;}#sk-container-id-3 div.sk-parallel-item:last-child::after {align-self: flex-start;width: 50%;}#sk-container-id-3 div.sk-parallel-item:only-child::after {width: 0;}#sk-container-id-3 div.sk-dashed-wrapped {border: 1px dashed gray;margin: 0 0.4em 0.5em 0.4em;box-sizing: border-box;padding-bottom: 0.4em;background-color: white;}#sk-container-id-3 div.sk-label label {font-family: monospace;font-weight: bold;display: inline-block;line-height: 1.2em;}#sk-container-id-3 div.sk-label-container {text-align: center;}#sk-container-id-3 div.sk-container {/* jupyter's `normalize.less` sets `[hidden] { display: none; }` but bootstrap.min.css set `[hidden] { display: none !important; }` so we also need the `!important` here to be able to override the default hidden behavior on the sphinx rendered scikit-learn.org. See: https://github.com/scikit-learn/scikit-learn/issues/21755 */display: inline-block !important;position: relative;}#sk-container-id-3 div.sk-text-repr-fallback {display: none;}</style><div id=\"sk-container-id-3\" class=\"sk-top-container\"><div class=\"sk-text-repr-fallback\"><pre>Pipeline(steps=[(&#x27;&#x27;,\n",
       "                 FunctionTransformer(func=&lt;function _custom_data_transform at 0x7f2c286413f0&gt;,\n",
       "                                     kw_args={&#x27;cols2keep&#x27;: [&#x27;ocean_proximity_1&#x27;,\n",
       "                                                            &#x27;ocean_proximity_2&#x27;,\n",
       "                                                            &#x27;ocean_proximity_3&#x27;,\n",
       "                                                            &#x27;ocean_proximity_4&#x27;,\n",
       "                                                            &#x27;ocean_proximity_5&#x27;,\n",
       "                                                            &#x27;longitude&#x27;,\n",
       "                                                            &#x27;latitude&#x27;,\n",
       "                                                            &#x27;housing_median_age&#x27;,\n",
       "                                                            &#x27;total_rooms&#x27;,\n",
       "                                                            &#x27;population&#x27;,\n",
       "                                                            &#x27;households&#x27;,\n",
       "                                                            &#x27;median_income&#x27;,\n",
       "                                                            &#x27;income_cat&#x27;,\n",
       "                                                            &#x27;rooms_per_household&#x27;...\n",
       "                              gamma=0.03, gpu_id=-1, importance_type=None,\n",
       "                              interaction_constraints=&#x27;&#x27;, learning_rate=0.1,\n",
       "                              max_delta_step=0, max_depth=3, min_child_weight=6,\n",
       "                              missing=nan, monotone_constraints=&#x27;()&#x27;,\n",
       "                              n_estimators=500, n_jobs=8, num_parallel_tree=1,\n",
       "                              predictor=&#x27;auto&#x27;, random_state=0, reg_alpha=0,\n",
       "                              reg_lambda=1, scale_pos_weight=1, subsample=1,\n",
       "                              tree_method=&#x27;exact&#x27;, validate_parameters=1,\n",
       "                              verbosity=None))])</pre><b>In a Jupyter environment, please rerun this cell to show the HTML representation or trust the notebook. <br />On GitHub, the HTML representation is unable to render, please try loading this page with nbviewer.org.</b></div><div class=\"sk-container\" hidden><div class=\"sk-item sk-dashed-wrapped\"><div class=\"sk-label-container\"><div class=\"sk-label sk-toggleable\"><input class=\"sk-toggleable__control sk-hidden--visually\" id=\"sk-estimator-id-6\" type=\"checkbox\" ><label for=\"sk-estimator-id-6\" class=\"sk-toggleable__label sk-toggleable__label-arrow\">Pipeline</label><div class=\"sk-toggleable__content\"><pre>Pipeline(steps=[(&#x27;&#x27;,\n",
       "                 FunctionTransformer(func=&lt;function _custom_data_transform at 0x7f2c286413f0&gt;,\n",
       "                                     kw_args={&#x27;cols2keep&#x27;: [&#x27;ocean_proximity_1&#x27;,\n",
       "                                                            &#x27;ocean_proximity_2&#x27;,\n",
       "                                                            &#x27;ocean_proximity_3&#x27;,\n",
       "                                                            &#x27;ocean_proximity_4&#x27;,\n",
       "                                                            &#x27;ocean_proximity_5&#x27;,\n",
       "                                                            &#x27;longitude&#x27;,\n",
       "                                                            &#x27;latitude&#x27;,\n",
       "                                                            &#x27;housing_median_age&#x27;,\n",
       "                                                            &#x27;total_rooms&#x27;,\n",
       "                                                            &#x27;population&#x27;,\n",
       "                                                            &#x27;households&#x27;,\n",
       "                                                            &#x27;median_income&#x27;,\n",
       "                                                            &#x27;income_cat&#x27;,\n",
       "                                                            &#x27;rooms_per_household&#x27;...\n",
       "                              gamma=0.03, gpu_id=-1, importance_type=None,\n",
       "                              interaction_constraints=&#x27;&#x27;, learning_rate=0.1,\n",
       "                              max_delta_step=0, max_depth=3, min_child_weight=6,\n",
       "                              missing=nan, monotone_constraints=&#x27;()&#x27;,\n",
       "                              n_estimators=500, n_jobs=8, num_parallel_tree=1,\n",
       "                              predictor=&#x27;auto&#x27;, random_state=0, reg_alpha=0,\n",
       "                              reg_lambda=1, scale_pos_weight=1, subsample=1,\n",
       "                              tree_method=&#x27;exact&#x27;, validate_parameters=1,\n",
       "                              verbosity=None))])</pre></div></div></div><div class=\"sk-serial\"><div class=\"sk-item\"><div class=\"sk-estimator sk-toggleable\"><input class=\"sk-toggleable__control sk-hidden--visually\" id=\"sk-estimator-id-7\" type=\"checkbox\" ><label for=\"sk-estimator-id-7\" class=\"sk-toggleable__label sk-toggleable__label-arrow\">FunctionTransformer</label><div class=\"sk-toggleable__content\"><pre>FunctionTransformer(func=&lt;function _custom_data_transform at 0x7f2c286413f0&gt;,\n",
       "                    kw_args={&#x27;cols2keep&#x27;: [&#x27;ocean_proximity_1&#x27;,\n",
       "                                           &#x27;ocean_proximity_2&#x27;,\n",
       "                                           &#x27;ocean_proximity_3&#x27;,\n",
       "                                           &#x27;ocean_proximity_4&#x27;,\n",
       "                                           &#x27;ocean_proximity_5&#x27;, &#x27;longitude&#x27;,\n",
       "                                           &#x27;latitude&#x27;, &#x27;housing_median_age&#x27;,\n",
       "                                           &#x27;total_rooms&#x27;, &#x27;population&#x27;,\n",
       "                                           &#x27;households&#x27;, &#x27;median_income&#x27;,\n",
       "                                           &#x27;income_cat&#x27;, &#x27;rooms_per_household&#x27;,\n",
       "                                           &#x27;bedrooms_per_room&#x27;,\n",
       "                                           &#x27;population_per_household&#x27;]})</pre></div></div></div><div class=\"sk-item\"><div class=\"sk-estimator sk-toggleable\"><input class=\"sk-toggleable__control sk-hidden--visually\" id=\"sk-estimator-id-8\" type=\"checkbox\" ><label for=\"sk-estimator-id-8\" class=\"sk-toggleable__label sk-toggleable__label-arrow\">XGBRegressor</label><div class=\"sk-toggleable__content\"><pre>XGBRegressor(base_score=0.5, booster=&#x27;gbtree&#x27;, colsample_bylevel=1,\n",
       "             colsample_bynode=1, colsample_bytree=1, enable_categorical=False,\n",
       "             gamma=0.03, gpu_id=-1, importance_type=None,\n",
       "             interaction_constraints=&#x27;&#x27;, learning_rate=0.1, max_delta_step=0,\n",
       "             max_depth=3, min_child_weight=6, missing=nan,\n",
       "             monotone_constraints=&#x27;()&#x27;, n_estimators=500, n_jobs=8,\n",
       "             num_parallel_tree=1, predictor=&#x27;auto&#x27;, random_state=0, reg_alpha=0,\n",
       "             reg_lambda=1, scale_pos_weight=1, subsample=1, tree_method=&#x27;exact&#x27;,\n",
       "             validate_parameters=1, verbosity=None)</pre></div></div></div></div></div></div></div>"
      ],
      "text/plain": [
       "Pipeline(steps=[('',\n",
       "                 FunctionTransformer(func=<function _custom_data_transform at 0x7f2c286413f0>,\n",
       "                                     kw_args={'cols2keep': ['ocean_proximity_1',\n",
       "                                                            'ocean_proximity_2',\n",
       "                                                            'ocean_proximity_3',\n",
       "                                                            'ocean_proximity_4',\n",
       "                                                            'ocean_proximity_5',\n",
       "                                                            'longitude',\n",
       "                                                            'latitude',\n",
       "                                                            'housing_median_age',\n",
       "                                                            'total_rooms',\n",
       "                                                            'population',\n",
       "                                                            'households',\n",
       "                                                            'median_income',\n",
       "                                                            'income_cat',\n",
       "                                                            'rooms_per_household'...\n",
       "                              gamma=0.03, gpu_id=-1, importance_type=None,\n",
       "                              interaction_constraints='', learning_rate=0.1,\n",
       "                              max_delta_step=0, max_depth=3, min_child_weight=6,\n",
       "                              missing=nan, monotone_constraints='()',\n",
       "                              n_estimators=500, n_jobs=8, num_parallel_tree=1,\n",
       "                              predictor='auto', random_state=0, reg_alpha=0,\n",
       "                              reg_lambda=1, scale_pos_weight=1, subsample=1,\n",
       "                              tree_method='exact', validate_parameters=1,\n",
       "                              verbosity=None))])"
      ]
     },
     "execution_count": 42,
     "metadata": {},
     "output_type": "execute_result"
    }
   ],
   "source": [
    "xgb_pipeline_final = Pipeline([\n",
    "    ('', FunctionTransformer(_custom_data_transform, kw_args={'cols2keep':imp_features})),\n",
    "    ('XGBoost', xgb_grid.best_estimator_)\n",
    "])\n",
    "xgb_pipeline_final.fit(train_X, train_y)"
   ]
  },
  {
   "cell_type": "code",
   "execution_count": 43,
   "id": "b224f0d2-a4c9-4934-9c27-3b3b8bde868f",
   "metadata": {},
   "outputs": [],
   "source": [
    "reg_tree_report = RegressionReport(model=xgb_pipeline_final, x_train=train_X, y_train=train_y, x_test= test_X, y_test= test_y)\n",
    "reg_tree_report.get_report(include_shap=False, file_path='reports/regression_tree_model_report')"
   ]
  },
  {
   "cell_type": "code",
   "execution_count": 44,
   "id": "1e43fe3b-c6bd-42ce-8d8e-3fc5b1ca8e80",
   "metadata": {
    "editable": true,
    "slideshow": {
     "slide_type": ""
    },
    "tags": []
   },
   "outputs": [
    {
     "data": {
      "text/plain": [
       "{'memory': None,\n",
       " 'steps': [('',\n",
       "   FunctionTransformer(func=<function _custom_data_transform at 0x7f2c286413f0>,\n",
       "                       kw_args={'cols2keep': ['ocean_proximity_1',\n",
       "                                              'ocean_proximity_2',\n",
       "                                              'ocean_proximity_3',\n",
       "                                              'ocean_proximity_4',\n",
       "                                              'ocean_proximity_5', 'longitude',\n",
       "                                              'latitude', 'housing_median_age',\n",
       "                                              'total_rooms', 'population',\n",
       "                                              'households', 'median_income',\n",
       "                                              'income_cat', 'rooms_per_household',\n",
       "                                              'bedrooms_per_room',\n",
       "                                              'population_per_household']})),\n",
       "  ('XGBoost',\n",
       "   XGBRegressor(base_score=0.5, booster='gbtree', colsample_bylevel=1,\n",
       "                colsample_bynode=1, colsample_bytree=1, enable_categorical=False,\n",
       "                gamma=0.03, gpu_id=-1, importance_type=None,\n",
       "                interaction_constraints='', learning_rate=0.1, max_delta_step=0,\n",
       "                max_depth=3, min_child_weight=6, missing=nan,\n",
       "                monotone_constraints='()', n_estimators=500, n_jobs=8,\n",
       "                num_parallel_tree=1, predictor='auto', random_state=0, reg_alpha=0,\n",
       "                reg_lambda=1, scale_pos_weight=1, subsample=1, tree_method='exact',\n",
       "                validate_parameters=1, verbosity=None))],\n",
       " 'verbose': False,\n",
       " '': FunctionTransformer(func=<function _custom_data_transform at 0x7f2c286413f0>,\n",
       "                     kw_args={'cols2keep': ['ocean_proximity_1',\n",
       "                                            'ocean_proximity_2',\n",
       "                                            'ocean_proximity_3',\n",
       "                                            'ocean_proximity_4',\n",
       "                                            'ocean_proximity_5', 'longitude',\n",
       "                                            'latitude', 'housing_median_age',\n",
       "                                            'total_rooms', 'population',\n",
       "                                            'households', 'median_income',\n",
       "                                            'income_cat', 'rooms_per_household',\n",
       "                                            'bedrooms_per_room',\n",
       "                                            'population_per_household']}),\n",
       " 'XGBoost': XGBRegressor(base_score=0.5, booster='gbtree', colsample_bylevel=1,\n",
       "              colsample_bynode=1, colsample_bytree=1, enable_categorical=False,\n",
       "              gamma=0.03, gpu_id=-1, importance_type=None,\n",
       "              interaction_constraints='', learning_rate=0.1, max_delta_step=0,\n",
       "              max_depth=3, min_child_weight=6, missing=nan,\n",
       "              monotone_constraints='()', n_estimators=500, n_jobs=8,\n",
       "              num_parallel_tree=1, predictor='auto', random_state=0, reg_alpha=0,\n",
       "              reg_lambda=1, scale_pos_weight=1, subsample=1, tree_method='exact',\n",
       "              validate_parameters=1, verbosity=None),\n",
       " '__accept_sparse': False,\n",
       " '__check_inverse': True,\n",
       " '__feature_names_out': None,\n",
       " '__func': <function __main__._custom_data_transform(df, cols2keep=None)>,\n",
       " '__inv_kw_args': None,\n",
       " '__inverse_func': None,\n",
       " '__kw_args': {'cols2keep': ['ocean_proximity_1',\n",
       "   'ocean_proximity_2',\n",
       "   'ocean_proximity_3',\n",
       "   'ocean_proximity_4',\n",
       "   'ocean_proximity_5',\n",
       "   'longitude',\n",
       "   'latitude',\n",
       "   'housing_median_age',\n",
       "   'total_rooms',\n",
       "   'population',\n",
       "   'households',\n",
       "   'median_income',\n",
       "   'income_cat',\n",
       "   'rooms_per_household',\n",
       "   'bedrooms_per_room',\n",
       "   'population_per_household']},\n",
       " '__validate': False,\n",
       " 'XGBoost__objective': 'reg:squarederror',\n",
       " 'XGBoost__base_score': 0.5,\n",
       " 'XGBoost__booster': 'gbtree',\n",
       " 'XGBoost__colsample_bylevel': 1,\n",
       " 'XGBoost__colsample_bynode': 1,\n",
       " 'XGBoost__colsample_bytree': 1,\n",
       " 'XGBoost__enable_categorical': False,\n",
       " 'XGBoost__gamma': 0.03,\n",
       " 'XGBoost__gpu_id': -1,\n",
       " 'XGBoost__importance_type': None,\n",
       " 'XGBoost__interaction_constraints': '',\n",
       " 'XGBoost__learning_rate': 0.1,\n",
       " 'XGBoost__max_delta_step': 0,\n",
       " 'XGBoost__max_depth': 3,\n",
       " 'XGBoost__min_child_weight': 6,\n",
       " 'XGBoost__missing': nan,\n",
       " 'XGBoost__monotone_constraints': '()',\n",
       " 'XGBoost__n_estimators': 500,\n",
       " 'XGBoost__n_jobs': 8,\n",
       " 'XGBoost__num_parallel_tree': 1,\n",
       " 'XGBoost__predictor': 'auto',\n",
       " 'XGBoost__random_state': 0,\n",
       " 'XGBoost__reg_alpha': 0,\n",
       " 'XGBoost__reg_lambda': 1,\n",
       " 'XGBoost__scale_pos_weight': 1,\n",
       " 'XGBoost__subsample': 1,\n",
       " 'XGBoost__tree_method': 'exact',\n",
       " 'XGBoost__validate_parameters': 1,\n",
       " 'XGBoost__verbosity': None}"
      ]
     },
     "execution_count": 44,
     "metadata": {},
     "output_type": "execute_result"
    }
   ],
   "source": [
    "xgb_pipeline_final.get_params(deep = True)"
   ]
  },
  {
   "attachments": {},
   "cell_type": "markdown",
   "id": "fdb4822f-d21e-49f5-aac4-58d65f9d6c5a",
   "metadata": {},
   "source": [
    "The Regression report containing the feature importances are available [here](https://drive.google.com/file/d/1JBfL3uxPcxBfl0amweXBFmLr7CSHFBUO/view?usp=sharing)"
   ]
  },
  {
   "attachments": {},
   "cell_type": "markdown",
   "id": "4e9fb76e-c87a-4441-bdf3-6e4ff613c7b6",
   "metadata": {},
   "source": [
    "# 5 Model Comparison"
   ]
  },
  {
   "attachments": {},
   "cell_type": "markdown",
   "id": "694caca9-1114-4e6a-848f-91d45b2d15b5",
   "metadata": {},
   "source": [
    "Now, a comparison report of the  linear (vs) tree -based model  approach can be generated as follows.\n",
    "\n",
    "This code will not be part of the production code."
   ]
  },
  {
   "cell_type": "code",
   "execution_count": 48,
   "id": "098d6a14-f29d-48aa-87a8-4a3c07567c67",
   "metadata": {},
   "outputs": [
    {
     "ename": "ValueError",
     "evalue": "Shape of passed values is (16512, 1), indices imply (16512, 9)",
     "output_type": "error",
     "traceback": [
      "\u001b[0;31m---------------------------------------------------------------------------\u001b[0m",
      "\u001b[0;31mValueError\u001b[0m                                Traceback (most recent call last)",
      "Input \u001b[0;32mIn [48]\u001b[0m, in \u001b[0;36m<cell line: 3>\u001b[0;34m()\u001b[0m\n\u001b[1;32m      1\u001b[0m model_pipelines \u001b[38;5;241m=\u001b[39m [reg_ppln, xgb_pipeline_final]\n\u001b[1;32m      2\u001b[0m model_comparison_report \u001b[38;5;241m=\u001b[39m RegressionComparison(models\u001b[38;5;241m=\u001b[39mmodel_pipelines,x\u001b[38;5;241m=\u001b[39mtrain_X, y\u001b[38;5;241m=\u001b[39mtrain_y)\n\u001b[0;32m----> 3\u001b[0m metrics \u001b[38;5;241m=\u001b[39m \u001b[43mmodel_comparison_report\u001b[49m\u001b[38;5;241;43m.\u001b[39;49m\u001b[43mget_report\u001b[49m\u001b[43m(\u001b[49m\u001b[43mfile_path\u001b[49m\u001b[38;5;241;43m=\u001b[39;49m\u001b[38;5;124;43m'\u001b[39;49m\u001b[38;5;124;43mreports/regression_comparison\u001b[39;49m\u001b[38;5;124;43m'\u001b[39;49m\u001b[43m)\u001b[49m\n",
      "File \u001b[0;32m~/module5/regression-py/src/ta_lib/_vendor/tigerml/model_eval/comparison.py:523\u001b[0m, in \u001b[0;36mRegressionComparison.get_report\u001b[0;34m(self, file_path, format, **kwargs)\u001b[0m\n\u001b[1;32m    520\u001b[0m \u001b[38;5;28;01mif\u001b[39;00m \u001b[38;5;129;01mnot\u001b[39;00m file_path:\n\u001b[1;32m    521\u001b[0m     file_path \u001b[38;5;241m=\u001b[39m \u001b[38;5;124mf\u001b[39m\u001b[38;5;124m'\u001b[39m\u001b[38;5;124mregression_comparison_report_at_\u001b[39m\u001b[38;5;132;01m{\u001b[39;00mdatetime\u001b[38;5;241m.\u001b[39mnow()\u001b[38;5;241m.\u001b[39mstrftime(\u001b[38;5;124m\"\u001b[39m\u001b[38;5;124m%\u001b[39m\u001b[38;5;124mY-\u001b[39m\u001b[38;5;124m%\u001b[39m\u001b[38;5;124mm-\u001b[39m\u001b[38;5;132;01m%d\u001b[39;00m\u001b[38;5;124m_\u001b[39m\u001b[38;5;124m%\u001b[39m\u001b[38;5;124mH-\u001b[39m\u001b[38;5;124m%\u001b[39m\u001b[38;5;124mM-\u001b[39m\u001b[38;5;124m%\u001b[39m\u001b[38;5;124mS\u001b[39m\u001b[38;5;124m\"\u001b[39m)\u001b[38;5;132;01m}\u001b[39;00m\u001b[38;5;124m'\u001b[39m\n\u001b[0;32m--> 523\u001b[0m \u001b[38;5;28;43msuper\u001b[39;49m\u001b[43m(\u001b[49m\u001b[43m)\u001b[49m\u001b[38;5;241;43m.\u001b[39;49m\u001b[43m_get_report\u001b[49m\u001b[43m(\u001b[49m\u001b[43mfile_path\u001b[49m\u001b[38;5;241;43m=\u001b[39;49m\u001b[43mfile_path\u001b[49m\u001b[43m,\u001b[49m\u001b[43m \u001b[49m\u001b[38;5;28;43mformat\u001b[39;49m\u001b[38;5;241;43m=\u001b[39;49m\u001b[38;5;28;43mformat\u001b[39;49m\u001b[43m,\u001b[49m\u001b[43m \u001b[49m\u001b[38;5;241;43m*\u001b[39;49m\u001b[38;5;241;43m*\u001b[39;49m\u001b[43mkwargs\u001b[49m\u001b[43m)\u001b[49m\n",
      "File \u001b[0;32m~/module5/regression-py/src/ta_lib/_vendor/tigerml/model_eval/comparison.py:248\u001b[0m, in \u001b[0;36mMultiModelReport._get_report\u001b[0;34m(self, file_path, cutoff_value, format, **kwargs)\u001b[0m\n\u001b[1;32m    246\u001b[0m \u001b[38;5;28;01mif\u001b[39;00m \u001b[38;5;28mself\u001b[39m\u001b[38;5;241m.\u001b[39mmulti_class:\n\u001b[1;32m    247\u001b[0m     interpret_dict \u001b[38;5;241m=\u001b[39m {}\n\u001b[0;32m--> 248\u001b[0m     interpret_dict[\u001b[38;5;124m\"\u001b[39m\u001b[38;5;124mfeature_importances\u001b[39m\u001b[38;5;124m\"\u001b[39m] \u001b[38;5;241m=\u001b[39m \u001b[38;5;28;43mself\u001b[39;49m\u001b[38;5;241;43m.\u001b[39;49m\u001b[43mshap_summary_plots\u001b[49m\u001b[43m(\u001b[49m\u001b[43m)\u001b[49m\n\u001b[1;32m    249\u001b[0m     \u001b[38;5;28mself\u001b[39m\u001b[38;5;241m.\u001b[39melement_tree[\u001b[38;5;124m\"\u001b[39m\u001b[38;5;124minterpretation\u001b[39m\u001b[38;5;124m\"\u001b[39m] \u001b[38;5;241m=\u001b[39m interpret_dict\n\u001b[1;32m    250\u001b[0m \u001b[38;5;28;01melse\u001b[39;00m:\n",
      "File \u001b[0;32m~/module5/regression-py/src/ta_lib/_vendor/tigerml/model_eval/comparison.py:209\u001b[0m, in \u001b[0;36mMultiModelReport.shap_summary_plots\u001b[0;34m(self)\u001b[0m\n\u001b[1;32m    207\u001b[0m     model \u001b[38;5;241m=\u001b[39m \u001b[38;5;28mself\u001b[39m\u001b[38;5;241m.\u001b[39mreporters[model_name]\u001b[38;5;241m.\u001b[39mmodel\n\u001b[1;32m    208\u001b[0m     X \u001b[38;5;241m=\u001b[39m \u001b[38;5;28mself\u001b[39m\u001b[38;5;241m.\u001b[39mreporters[model_name]\u001b[38;5;241m.\u001b[39mx_train\n\u001b[0;32m--> 209\u001b[0m     shap_fe \u001b[38;5;241m=\u001b[39m \u001b[43mget_shap_summary_plot\u001b[49m\u001b[43m(\u001b[49m\u001b[43mmodel\u001b[49m\u001b[43m,\u001b[49m\u001b[43m \u001b[49m\u001b[43mX\u001b[49m\u001b[43m,\u001b[49m\u001b[43m \u001b[49m\u001b[43mnative_plot\u001b[49m\u001b[38;5;241;43m=\u001b[39;49m\u001b[38;5;28;43;01mFalse\u001b[39;49;00m\u001b[43m)\u001b[49m\n\u001b[1;32m    210\u001b[0m     shap_summ_plots[model_name] \u001b[38;5;241m=\u001b[39m [shap_fe]\n\u001b[1;32m    211\u001b[0m \u001b[38;5;28;01mreturn\u001b[39;00m shap_summ_plots\n",
      "File \u001b[0;32m~/module5/regression-py/src/ta_lib/_vendor/tigerml/model_eval/plotters/interpretation.py:355\u001b[0m, in \u001b[0;36mget_shap_summary_plot\u001b[0;34m(model, X, model_type, native_plot, feature_names, class_names)\u001b[0m\n\u001b[1;32m    353\u001b[0m shap_values_matrix \u001b[38;5;241m=\u001b[39m np\u001b[38;5;241m.\u001b[39marray(shap_values)\n\u001b[1;32m    354\u001b[0m mean_abs_shap_values \u001b[38;5;241m=\u001b[39m np\u001b[38;5;241m.\u001b[39mmean(np\u001b[38;5;241m.\u001b[39mabs(shap_values_matrix), axis\u001b[38;5;241m=\u001b[39m\u001b[38;5;241m1\u001b[39m)\n\u001b[0;32m--> 355\u001b[0m plot_df \u001b[38;5;241m=\u001b[39m \u001b[43mpd\u001b[49m\u001b[38;5;241;43m.\u001b[39;49m\u001b[43mDataFrame\u001b[49m\u001b[43m(\u001b[49m\n\u001b[1;32m    356\u001b[0m \u001b[43m    \u001b[49m\u001b[43mmean_abs_shap_values\u001b[49m\u001b[43m,\u001b[49m\u001b[43m \u001b[49m\u001b[43mindex\u001b[49m\u001b[38;5;241;43m=\u001b[39;49m\u001b[43mclass_names\u001b[49m\u001b[43m,\u001b[49m\u001b[43m \u001b[49m\u001b[43mcolumns\u001b[49m\u001b[38;5;241;43m=\u001b[39;49m\u001b[43mfeature_names\u001b[49m\n\u001b[1;32m    357\u001b[0m \u001b[43m\u001b[49m\u001b[43m)\u001b[49m\n\u001b[1;32m    358\u001b[0m plot_df \u001b[38;5;241m=\u001b[39m plot_df\u001b[38;5;241m.\u001b[39mT\n\u001b[1;32m    359\u001b[0m plot_df[\u001b[38;5;124m\"\u001b[39m\u001b[38;5;124m_row_sum\u001b[39m\u001b[38;5;124m\"\u001b[39m] \u001b[38;5;241m=\u001b[39m plot_df\u001b[38;5;241m.\u001b[39msum(axis\u001b[38;5;241m=\u001b[39m\u001b[38;5;241m1\u001b[39m)\n",
      "File \u001b[0;32m~/miniconda3/envs/tamle_mod5-dev/lib/python3.10/site-packages/pandas/core/frame.py:694\u001b[0m, in \u001b[0;36mDataFrame.__init__\u001b[0;34m(self, data, index, columns, dtype, copy)\u001b[0m\n\u001b[1;32m    684\u001b[0m         mgr \u001b[38;5;241m=\u001b[39m dict_to_mgr(\n\u001b[1;32m    685\u001b[0m             \u001b[38;5;66;03m# error: Item \"ndarray\" of \"Union[ndarray, Series, Index]\" has no\u001b[39;00m\n\u001b[1;32m    686\u001b[0m             \u001b[38;5;66;03m# attribute \"name\"\u001b[39;00m\n\u001b[0;32m   (...)\u001b[0m\n\u001b[1;32m    691\u001b[0m             typ\u001b[38;5;241m=\u001b[39mmanager,\n\u001b[1;32m    692\u001b[0m         )\n\u001b[1;32m    693\u001b[0m     \u001b[38;5;28;01melse\u001b[39;00m:\n\u001b[0;32m--> 694\u001b[0m         mgr \u001b[38;5;241m=\u001b[39m \u001b[43mndarray_to_mgr\u001b[49m\u001b[43m(\u001b[49m\n\u001b[1;32m    695\u001b[0m \u001b[43m            \u001b[49m\u001b[43mdata\u001b[49m\u001b[43m,\u001b[49m\n\u001b[1;32m    696\u001b[0m \u001b[43m            \u001b[49m\u001b[43mindex\u001b[49m\u001b[43m,\u001b[49m\n\u001b[1;32m    697\u001b[0m \u001b[43m            \u001b[49m\u001b[43mcolumns\u001b[49m\u001b[43m,\u001b[49m\n\u001b[1;32m    698\u001b[0m \u001b[43m            \u001b[49m\u001b[43mdtype\u001b[49m\u001b[38;5;241;43m=\u001b[39;49m\u001b[43mdtype\u001b[49m\u001b[43m,\u001b[49m\n\u001b[1;32m    699\u001b[0m \u001b[43m            \u001b[49m\u001b[43mcopy\u001b[49m\u001b[38;5;241;43m=\u001b[39;49m\u001b[43mcopy\u001b[49m\u001b[43m,\u001b[49m\n\u001b[1;32m    700\u001b[0m \u001b[43m            \u001b[49m\u001b[43mtyp\u001b[49m\u001b[38;5;241;43m=\u001b[39;49m\u001b[43mmanager\u001b[49m\u001b[43m,\u001b[49m\n\u001b[1;32m    701\u001b[0m \u001b[43m        \u001b[49m\u001b[43m)\u001b[49m\n\u001b[1;32m    703\u001b[0m \u001b[38;5;66;03m# For data is list-like, or Iterable (will consume into list)\u001b[39;00m\n\u001b[1;32m    704\u001b[0m \u001b[38;5;28;01melif\u001b[39;00m is_list_like(data):\n",
      "File \u001b[0;32m~/miniconda3/envs/tamle_mod5-dev/lib/python3.10/site-packages/pandas/core/internals/construction.py:351\u001b[0m, in \u001b[0;36mndarray_to_mgr\u001b[0;34m(values, index, columns, dtype, copy, typ)\u001b[0m\n\u001b[1;32m    346\u001b[0m \u001b[38;5;66;03m# _prep_ndarray ensures that values.ndim == 2 at this point\u001b[39;00m\n\u001b[1;32m    347\u001b[0m index, columns \u001b[38;5;241m=\u001b[39m _get_axes(\n\u001b[1;32m    348\u001b[0m     values\u001b[38;5;241m.\u001b[39mshape[\u001b[38;5;241m0\u001b[39m], values\u001b[38;5;241m.\u001b[39mshape[\u001b[38;5;241m1\u001b[39m], index\u001b[38;5;241m=\u001b[39mindex, columns\u001b[38;5;241m=\u001b[39mcolumns\n\u001b[1;32m    349\u001b[0m )\n\u001b[0;32m--> 351\u001b[0m \u001b[43m_check_values_indices_shape_match\u001b[49m\u001b[43m(\u001b[49m\u001b[43mvalues\u001b[49m\u001b[43m,\u001b[49m\u001b[43m \u001b[49m\u001b[43mindex\u001b[49m\u001b[43m,\u001b[49m\u001b[43m \u001b[49m\u001b[43mcolumns\u001b[49m\u001b[43m)\u001b[49m\n\u001b[1;32m    353\u001b[0m \u001b[38;5;28;01mif\u001b[39;00m typ \u001b[38;5;241m==\u001b[39m \u001b[38;5;124m\"\u001b[39m\u001b[38;5;124marray\u001b[39m\u001b[38;5;124m\"\u001b[39m:\n\u001b[1;32m    355\u001b[0m     \u001b[38;5;28;01mif\u001b[39;00m \u001b[38;5;28missubclass\u001b[39m(values\u001b[38;5;241m.\u001b[39mdtype\u001b[38;5;241m.\u001b[39mtype, \u001b[38;5;28mstr\u001b[39m):\n",
      "File \u001b[0;32m~/miniconda3/envs/tamle_mod5-dev/lib/python3.10/site-packages/pandas/core/internals/construction.py:422\u001b[0m, in \u001b[0;36m_check_values_indices_shape_match\u001b[0;34m(values, index, columns)\u001b[0m\n\u001b[1;32m    420\u001b[0m passed \u001b[38;5;241m=\u001b[39m values\u001b[38;5;241m.\u001b[39mshape\n\u001b[1;32m    421\u001b[0m implied \u001b[38;5;241m=\u001b[39m (\u001b[38;5;28mlen\u001b[39m(index), \u001b[38;5;28mlen\u001b[39m(columns))\n\u001b[0;32m--> 422\u001b[0m \u001b[38;5;28;01mraise\u001b[39;00m \u001b[38;5;167;01mValueError\u001b[39;00m(\u001b[38;5;124mf\u001b[39m\u001b[38;5;124m\"\u001b[39m\u001b[38;5;124mShape of passed values is \u001b[39m\u001b[38;5;132;01m{\u001b[39;00mpassed\u001b[38;5;132;01m}\u001b[39;00m\u001b[38;5;124m, indices imply \u001b[39m\u001b[38;5;132;01m{\u001b[39;00mimplied\u001b[38;5;132;01m}\u001b[39;00m\u001b[38;5;124m\"\u001b[39m)\n",
      "\u001b[0;31mValueError\u001b[0m: Shape of passed values is (16512, 1), indices imply (16512, 9)"
     ]
    }
   ],
   "source": [
    "model_pipelines = [reg_ppln, xgb_pipeline_final]\n",
    "model_comparison_report = RegressionComparison(models=model_pipelines,x=train_X, y=train_y)\n",
    "metrics = model_comparison_report.get_report(file_path='reports/regression_comparison')"
   ]
  },
  {
   "cell_type": "code",
   "execution_count": 49,
   "id": "fbebcda1-4da6-48a5-8319-9e062119b482",
   "metadata": {},
   "outputs": [
    {
     "data": {
      "text/html": [
       "<div>\n",
       "<style scoped>\n",
       "    .dataframe tbody tr th:only-of-type {\n",
       "        vertical-align: middle;\n",
       "    }\n",
       "\n",
       "    .dataframe tbody tr th {\n",
       "        vertical-align: top;\n",
       "    }\n",
       "\n",
       "    .dataframe thead th {\n",
       "        text-align: right;\n",
       "    }\n",
       "</style>\n",
       "<table border=\"1\" class=\"dataframe\">\n",
       "  <thead>\n",
       "    <tr style=\"text-align: right;\">\n",
       "      <th>metric</th>\n",
       "      <th>MAPE</th>\n",
       "      <th>WMAPE</th>\n",
       "      <th>MAE</th>\n",
       "      <th>RMSE</th>\n",
       "      <th>R^2</th>\n",
       "    </tr>\n",
       "  </thead>\n",
       "  <tbody>\n",
       "    <tr>\n",
       "      <th>, Linear Regression</th>\n",
       "      <td>0.2837</td>\n",
       "      <td>0.2367</td>\n",
       "      <td>48918.5625</td>\n",
       "      <td>68047.3475</td>\n",
       "      <td>0.6527</td>\n",
       "    </tr>\n",
       "    <tr>\n",
       "      <th>, XGBoost</th>\n",
       "      <td>0.1577</td>\n",
       "      <td>0.1373</td>\n",
       "      <td>28387.0298</td>\n",
       "      <td>41520.2702</td>\n",
       "      <td>0.8707</td>\n",
       "    </tr>\n",
       "  </tbody>\n",
       "</table>\n",
       "</div>"
      ],
      "text/plain": [
       "metric                 MAPE   WMAPE         MAE        RMSE     R^2\n",
       ", Linear Regression  0.2837  0.2367  48918.5625  68047.3475  0.6527\n",
       ", XGBoost            0.1577  0.1373  28387.0298  41520.2702  0.8707"
      ]
     },
     "execution_count": 49,
     "metadata": {},
     "output_type": "execute_result"
    }
   ],
   "source": [
    "model_comparison_report.performance_metrics"
   ]
  },
  {
   "attachments": {},
   "cell_type": "markdown",
   "id": "eb2c2c14-0b1d-49f8-83d4-0c300b61ac38",
   "metadata": {
    "editable": true,
    "slideshow": {
     "slide_type": ""
    },
    "tags": []
   },
   "source": [
    "A report comparing the performance, metrics between Linear model and Tree model are available [here](https://drive.google.com/file/d/1LDibiFap9K4DKME-Y0S0mtI_05lTdaJF/view?usp=sharing)"
   ]
  },
  {
   "attachments": {},
   "cell_type": "markdown",
   "id": "85217c63-2f0c-44ab-9fcf-c1d30bbe71f0",
   "metadata": {},
   "source": [
    "**Dev NOTES**\n",
    "<details>\n",
    "\n",
    "the above metrics are absolute nos and not %ges"
   ]
  },
  {
   "attachments": {},
   "cell_type": "markdown",
   "id": "96a445f6-e428-4cfb-b639-2083ff3b84e4",
   "metadata": {
    "editable": true,
    "slideshow": {
     "slide_type": ""
    },
    "tags": []
   },
   "source": [
    "In this example we are choosing LM model for pipelining. General criteria for choosing production models is:\n",
    "\n",
    "- Parametric models (aka whitebox models) such as Linear Regression are easier to explain to non-technical audience.\n",
    "- Generally these are accepted fast and adoption is quicker.\n",
    "- If the downstream calls for optimization using these models parametric models are easier to implement.\n",
    "- When accuracy is primary goal without explainability, the above two takes a backseat"
   ]
  },
  {
   "cell_type": "code",
   "execution_count": 53,
   "id": "445699d3-9f88-4bf9-8ff8-84bfa0fae749",
   "metadata": {},
   "outputs": [
    {
     "ename": "NameError",
     "evalue": "name 'housing_df' is not defined",
     "output_type": "error",
     "traceback": [
      "\u001b[0;31m---------------------------------------------------------------------------\u001b[0m",
      "\u001b[0;31mNameError\u001b[0m                                 Traceback (most recent call last)",
      "Input \u001b[0;32mIn [53]\u001b[0m, in \u001b[0;36m<cell line: 1>\u001b[0;34m()\u001b[0m\n\u001b[0;32m----> 1\u001b[0m \u001b[43mhousing_df\u001b[49m\u001b[38;5;241m.\u001b[39mcolumns\n",
      "\u001b[0;31mNameError\u001b[0m: name 'housing_df' is not defined"
     ]
    }
   ],
   "source": []
  },
  {
   "cell_type": "code",
   "execution_count": null,
   "id": "b8b201a3-ed21-4b32-a08e-ee81798674e5",
   "metadata": {},
   "outputs": [],
   "source": []
  }
 ],
 "metadata": {
  "kernelspec": {
   "display_name": "Python 3 (ipykernel)",
   "language": "python",
   "name": "python3"
  },
  "language_info": {
   "codemirror_mode": {
    "name": "ipython",
    "version": 3
   },
   "file_extension": ".py",
   "mimetype": "text/x-python",
   "name": "python",
   "nbconvert_exporter": "python",
   "pygments_lexer": "ipython3",
   "version": "3.10.14"
  }
 },
 "nbformat": 4,
 "nbformat_minor": 5
}
